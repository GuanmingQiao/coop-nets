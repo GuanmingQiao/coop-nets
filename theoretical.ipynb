{
 "cells": [
  {
   "cell_type": "code",
   "execution_count": 42,
   "metadata": {
    "collapsed": true
   },
   "outputs": [],
   "source": [
    "import color_instances as ci\n",
    "from tokenizers import basic_unigram_tokenizer\n",
    "from colorutils import hsv_to_hsl, hsl_to_hsv\n",
    "from vectorizers import BucketsVectorizer"
   ]
  },
  {
   "cell_type": "code",
   "execution_count": 2,
   "metadata": {
    "collapsed": true
   },
   "outputs": [],
   "source": [
    "pairs = [\n",
    "    (hsv_to_hsl(i.alt_inputs[i.input]), i.output.lower())\n",
    "    for i in ci.filtered()\n",
    "    if len(basic_unigram_tokenizer(i.output)) == 1\n",
    "]"
   ]
  },
  {
   "cell_type": "code",
   "execution_count": 3,
   "metadata": {
    "collapsed": true
   },
   "outputs": [],
   "source": [
    "from collections import Counter\n",
    "counts = Counter([p[1] for p in pairs])\n",
    "pairs = [p for p in pairs if counts[p[1]] > 1]"
   ]
  },
  {
   "cell_type": "code",
   "execution_count": 4,
   "metadata": {},
   "outputs": [
    {
     "data": {
      "text/plain": [
       "[((249.0, 25.0, 50.0), 'purple'),\n",
       " ((87.0, 65.99999999999999, 50.0), 'lime'),\n",
       " ((215.0, 13.0, 50.0), 'grey'),\n",
       " ((229.0, 31.0, 50.0), 'purple'),\n",
       " ((209.0, 44.0, 50.0), 'blue'),\n",
       " ((264.0, 1.0, 50.0), 'brown'),\n",
       " ((25.0, 17.0, 50.0), 'brown'),\n",
       " ((350.0, 88.0, 50.0), 'red'),\n",
       " ((14.0, 70.00000000000001, 50.0), 'orange'),\n",
       " ((336.0, 6.0, 50.0), 'grey')]"
      ]
     },
     "execution_count": 4,
     "metadata": {},
     "output_type": "execute_result"
    }
   ],
   "source": [
    "pairs[:10]"
   ]
  },
  {
   "cell_type": "code",
   "execution_count": 5,
   "metadata": {
    "collapsed": true
   },
   "outputs": [],
   "source": [
    "vec = BucketsVectorizer((16, 8, 8), hsv=True)"
   ]
  },
  {
   "cell_type": "code",
   "execution_count": 6,
   "metadata": {
    "collapsed": true
   },
   "outputs": [],
   "source": [
    "buckets = vec.vectorize_all([p[0] for p in pairs], hsv=True).tolist()"
   ]
  },
  {
   "cell_type": "code",
   "execution_count": 7,
   "metadata": {},
   "outputs": [
    {
     "data": {
      "text/plain": [
       "128"
      ]
     },
     "execution_count": 7,
     "metadata": {},
     "output_type": "execute_result"
    }
   ],
   "source": [
    "len(set(buckets))"
   ]
  },
  {
   "cell_type": "code",
   "execution_count": 8,
   "metadata": {
    "collapsed": true
   },
   "outputs": [],
   "source": [
    "utterances = [p[1] for p in pairs]"
   ]
  },
  {
   "cell_type": "code",
   "execution_count": 9,
   "metadata": {
    "collapsed": true
   },
   "outputs": [],
   "source": [
    "import numpy as np\n",
    "import cPickle as pickle"
   ]
  },
  {
   "cell_type": "code",
   "execution_count": 10,
   "metadata": {
    "collapsed": true
   },
   "outputs": [],
   "source": [
    "bucket_to_index = {b: i for i, b in enumerate(sorted(set(buckets)))}\n",
    "utt_to_index = {u: i for i, u in enumerate(sorted(set(utterances)))}"
   ]
  },
  {
   "cell_type": "code",
   "execution_count": 46,
   "metadata": {},
   "outputs": [],
   "source": [
    "import html_report\n",
    "color_map = {\n",
    "    i: html_report.web_color(hsl_to_hsv(vec.unvectorize(b, hsv=True)))[1:].upper()\n",
    "    for b, i in bucket_to_index.items()\n",
    "}"
   ]
  },
  {
   "cell_type": "code",
   "execution_count": 45,
   "metadata": {},
   "outputs": [
    {
     "data": {
      "text/html": [
       "\n",
       "<table>\n",
       "<tr><td bgcolor=\"#746967\">0: 746967</td><td bgcolor=\"#81615A\">1: 81615A</td><td bgcolor=\"#90584B\">2: 90584B</td><td bgcolor=\"#9D503E\">3: 9D503E</td><td bgcolor=\"#AB4730\">4: AB4730</td><td bgcolor=\"#BA3D22\">5: BA3D22</td><td bgcolor=\"#C73514\">6: C73514</td><td bgcolor=\"#D52C06\">7: D52C06</td></tr>\n",
       "<tr><td bgcolor=\"#746E67\">8: 746E67</td><td bgcolor=\"#81705A\">9: 81705A</td><td bgcolor=\"#90714B\">10: 90714B</td><td bgcolor=\"#9D723E\">11: 9D723E</td><td bgcolor=\"#AB7430\">12: AB7430</td><td bgcolor=\"#BA7522\">13: BA7522</td><td bgcolor=\"#C77614\">14: C77614</td><td bgcolor=\"#D57806\">15: D57806</td></tr>\n",
       "<tr><td bgcolor=\"#747367\">16: 747367</td><td bgcolor=\"#817F5A\">17: 817F5A</td><td bgcolor=\"#908B4B\">18: 908B4B</td><td bgcolor=\"#9D973E\">19: 9D973E</td><td bgcolor=\"#ABA330\">20: ABA330</td><td bgcolor=\"#BAAF22\">21: BAAF22</td><td bgcolor=\"#C7BB14\">22: C7BB14</td><td bgcolor=\"#D5C706\">23: D5C706</td></tr>\n",
       "<tr><td bgcolor=\"#707467\">24: 707467</td><td bgcolor=\"#76815A\">25: 76815A</td><td bgcolor=\"#7B904B\">26: 7B904B</td><td bgcolor=\"#819D3E\">27: 819D3E</td><td bgcolor=\"#86AB30\">28: 86AB30</td><td bgcolor=\"#8CBA22\">29: 8CBA22</td><td bgcolor=\"#91C714\">30: 91C714</td><td bgcolor=\"#97D506\">31: 97D506</td></tr>\n",
       "<tr><td bgcolor=\"#6B7467\">32: 6B7467</td><td bgcolor=\"#66815A\">33: 66815A</td><td bgcolor=\"#61904B\">34: 61904B</td><td bgcolor=\"#5C9D3E\">35: 5C9D3E</td><td bgcolor=\"#57AB30\">36: 57AB30</td><td bgcolor=\"#52BA22\">37: 52BA22</td><td bgcolor=\"#4DC714\">38: 4DC714</td><td bgcolor=\"#48D506\">39: 48D506</td></tr>\n",
       "<tr><td bgcolor=\"#677468\">40: 677468</td><td bgcolor=\"#5A815C\">41: 5A815C</td><td bgcolor=\"#4B904F\">42: 4B904F</td><td bgcolor=\"#3E9D43\">43: 3E9D43</td><td bgcolor=\"#30AB36\">44: 30AB36</td><td bgcolor=\"#22BA29\">45: 22BA29</td><td bgcolor=\"#14C71D\">46: 14C71D</td><td bgcolor=\"#06D510\">47: 06D510</td></tr>\n",
       "<tr><td bgcolor=\"#67746D\">48: 67746D</td><td bgcolor=\"#5A816B\">49: 5A816B</td><td bgcolor=\"#4B9069\">50: 4B9069</td><td bgcolor=\"#3E9D67\">51: 3E9D67</td><td bgcolor=\"#30AB65\">52: 30AB65</td><td bgcolor=\"#22BA63\">53: 22BA63</td><td bgcolor=\"#14C762\">54: 14C762</td><td bgcolor=\"#06D560\">55: 06D560</td></tr>\n",
       "<tr><td bgcolor=\"#677472\">56: 677472</td><td bgcolor=\"#5A8179\">57: 5A8179</td><td bgcolor=\"#4B9082\">58: 4B9082</td><td bgcolor=\"#3E9D8A\">59: 3E9D8A</td><td bgcolor=\"#30AB93\">60: 30AB93</td><td bgcolor=\"#22BA9B\">61: 22BA9B</td><td bgcolor=\"#14C7A3\">62: 14C7A3</td><td bgcolor=\"#06D5AC\">63: 06D5AC</td></tr>\n",
       "<tr><td bgcolor=\"#677274\">64: 677274</td><td bgcolor=\"#5A7A81\">65: 5A7A81</td><td bgcolor=\"#4B8390\">66: 4B8390</td><td bgcolor=\"#3E8C9D\">67: 3E8C9D</td><td bgcolor=\"#3095AB\">68: 3095AB</td><td bgcolor=\"#229EBA\">69: 229EBA</td><td bgcolor=\"#14A6C7\">70: 14A6C7</td><td bgcolor=\"#06AFD5\">71: 06AFD5</td></tr>\n",
       "<tr><td bgcolor=\"#676D74\">72: 676D74</td><td bgcolor=\"#5A6B81\">73: 5A6B81</td><td bgcolor=\"#4B6990\">74: 4B6990</td><td bgcolor=\"#3E679D\">75: 3E679D</td><td bgcolor=\"#3065AB\">76: 3065AB</td><td bgcolor=\"#2263BA\">77: 2263BA</td><td bgcolor=\"#1462C7\">78: 1462C7</td><td bgcolor=\"#0660D5\">79: 0660D5</td></tr>\n",
       "<tr><td bgcolor=\"#676874\">80: 676874</td><td bgcolor=\"#5A5C81\">81: 5A5C81</td><td bgcolor=\"#4B5090\">82: 4B5090</td><td bgcolor=\"#3E459D\">83: 3E459D</td><td bgcolor=\"#3038AB\">84: 3038AB</td><td bgcolor=\"#222CBA\">85: 222CBA</td><td bgcolor=\"#1420C7\">86: 1420C7</td><td bgcolor=\"#0614D5\">87: 0614D5</td></tr>\n",
       "<tr><td bgcolor=\"#6B6774\">88: 6B6774</td><td bgcolor=\"#665A81\">89: 665A81</td><td bgcolor=\"#614B90\">90: 614B90</td><td bgcolor=\"#5C3E9D\">91: 5C3E9D</td><td bgcolor=\"#5730AB\">92: 5730AB</td><td bgcolor=\"#5222BA\">93: 5222BA</td><td bgcolor=\"#4D14C7\">94: 4D14C7</td><td bgcolor=\"#4806D5\">95: 4806D5</td></tr>\n",
       "<tr><td bgcolor=\"#706774\">96: 706774</td><td bgcolor=\"#755A81\">97: 755A81</td><td bgcolor=\"#7A4B90\">98: 7A4B90</td><td bgcolor=\"#7F3E9D\">99: 7F3E9D</td><td bgcolor=\"#8430AB\">100: 8430AB</td><td bgcolor=\"#8922BA\">101: 8922BA</td><td bgcolor=\"#8E14C7\">102: 8E14C7</td><td bgcolor=\"#9406D5\">103: 9406D5</td></tr>\n",
       "<tr><td bgcolor=\"#746773\">104: 746773</td><td bgcolor=\"#815A7F\">105: 815A7F</td><td bgcolor=\"#904B8B\">106: 904B8B</td><td bgcolor=\"#9D3E97\">107: 9D3E97</td><td bgcolor=\"#AB30A3\">108: AB30A3</td><td bgcolor=\"#BA22AF\">109: BA22AF</td><td bgcolor=\"#C714BB\">110: C714BB</td><td bgcolor=\"#D506C7\">111: D506C7</td></tr>\n",
       "<tr><td bgcolor=\"#74676E\">112: 74676E</td><td bgcolor=\"#815A70\">113: 815A70</td><td bgcolor=\"#904B72\">114: 904B72</td><td bgcolor=\"#9D3E74\">115: 9D3E74</td><td bgcolor=\"#AB3076\">116: AB3076</td><td bgcolor=\"#BA2278\">117: BA2278</td><td bgcolor=\"#C71479\">118: C71479</td><td bgcolor=\"#D5067B\">119: D5067B</td></tr>\n",
       "<tr><td bgcolor=\"#746769\">120: 746769</td><td bgcolor=\"#815A61\">121: 815A61</td><td bgcolor=\"#904B58\">122: 904B58</td><td bgcolor=\"#9D3E50\">123: 9D3E50</td><td bgcolor=\"#AB3047\">124: AB3047</td><td bgcolor=\"#BA223D\">125: BA223D</td><td bgcolor=\"#C71435\">126: C71435</td><td bgcolor=\"#D5062C\">127: D5062C</td></tr>\n",
       "</table>\n"
      ],
      "text/plain": [
       "<IPython.core.display.HTML object>"
      ]
     },
     "execution_count": 45,
     "metadata": {},
     "output_type": "execute_result"
    }
   ],
   "source": [
    "from IPython.display import HTML\n",
    "HTML('''\n",
    "<table>\n",
    "{}\n",
    "</table>\n",
    "'''.format(\n",
    "    '\\n'.join(\n",
    "        '<tr>{}</tr>'.format(\n",
    "            ''.join(\n",
    "                '<td bgcolor=\"#{hexcode}\">{text}</td>'.format(\n",
    "                    hexcode=color_map[8 * i + j],\n",
    "                    text='{}: {}'.format(8 * i + j, color_map[8 * i + j]),\n",
    "                )\n",
    "                for j in range(8)\n",
    "            )\n",
    "        )\n",
    "        for i in range(16)\n",
    "    )\n",
    "))"
   ]
  },
  {
   "cell_type": "code",
   "execution_count": 11,
   "metadata": {
    "collapsed": true
   },
   "outputs": [],
   "source": [
    "matrix = np.zeros((len(utt_to_index), len(bucket_to_index)), dtype=np.int)"
   ]
  },
  {
   "cell_type": "code",
   "execution_count": 12,
   "metadata": {
    "collapsed": true
   },
   "outputs": [],
   "source": [
    "for bucket, utt in zip(buckets, utterances):\n",
    "    matrix[utt_to_index[utt], bucket_to_index[bucket]] += 1"
   ]
  },
  {
   "cell_type": "code",
   "execution_count": 13,
   "metadata": {},
   "outputs": [
    {
     "data": {
      "text/plain": [
       "(261, 128)"
      ]
     },
     "execution_count": 13,
     "metadata": {},
     "output_type": "execute_result"
    }
   ],
   "source": [
    "matrix.shape"
   ]
  },
  {
   "cell_type": "code",
   "execution_count": 14,
   "metadata": {
    "collapsed": true
   },
   "outputs": [],
   "source": [
    "with open('color_matrix.pkl', 'wb') as outfile:\n",
    "    pickle.dump((utt_to_index, matrix), outfile)"
   ]
  },
  {
   "cell_type": "code",
   "execution_count": 47,
   "metadata": {
    "collapsed": true
   },
   "outputs": [],
   "source": [
    "with open('color_index_to_hexcode.pkl', 'wb') as outfile:\n",
    "    pickle.dump(color_map, outfile)"
   ]
  },
  {
   "cell_type": "code",
   "execution_count": 15,
   "metadata": {},
   "outputs": [
    {
     "data": {
      "text/plain": [
       "261"
      ]
     },
     "execution_count": 15,
     "metadata": {},
     "output_type": "execute_result"
    }
   ],
   "source": [
    "len(utt_to_index)"
   ]
  },
  {
   "cell_type": "code",
   "execution_count": 16,
   "metadata": {},
   "outputs": [
    {
     "data": {
      "text/plain": [
       "{'again': 0,\n",
       " 'apples': 1,\n",
       " 'aqua': 2,\n",
       " 'aquaish': 3,\n",
       " 'aquamarine': 4,\n",
       " 'army': 5,\n",
       " 'avocado': 6,\n",
       " 'banana': 7,\n",
       " 'barney': 8,\n",
       " 'barnie': 9,\n",
       " 'battleship': 10,\n",
       " 'beige': 11,\n",
       " 'blandest': 12,\n",
       " 'bllue': 13,\n",
       " 'blood': 14,\n",
       " 'blu': 15,\n",
       " 'blue': 16,\n",
       " 'blue-gray': 17,\n",
       " 'blue-green': 18,\n",
       " 'blue-grey': 19,\n",
       " 'blue-purple': 20,\n",
       " 'blueest': 21,\n",
       " 'blueish': 22,\n",
       " 'blueist': 23,\n",
       " 'bluer': 24,\n",
       " 'bluest': 25,\n",
       " 'bluish': 26,\n",
       " 'blye': 27,\n",
       " 'blyue': 28,\n",
       " 'boring': 29,\n",
       " 'boy': 30,\n",
       " 'brick': 31,\n",
       " 'brighest': 32,\n",
       " 'bright': 33,\n",
       " 'brighter': 34,\n",
       " 'brightest': 35,\n",
       " 'brn': 36,\n",
       " 'brown': 37,\n",
       " 'brown-gray': 38,\n",
       " 'brown-ish': 39,\n",
       " 'brownest': 40,\n",
       " 'brownish': 41,\n",
       " 'brwon': 42,\n",
       " 'bubblegum': 43,\n",
       " 'bue': 44,\n",
       " 'caca': 45,\n",
       " 'camo': 46,\n",
       " 'canvas': 47,\n",
       " 'cement': 48,\n",
       " 'clay': 49,\n",
       " 'cobalt': 50,\n",
       " 'coffee': 51,\n",
       " 'concrete': 52,\n",
       " 'copper': 53,\n",
       " 'coral': 54,\n",
       " 'cyan': 55,\n",
       " 'dark': 56,\n",
       " 'darker': 57,\n",
       " 'darkest': 58,\n",
       " 'dirt': 59,\n",
       " 'dolphin': 60,\n",
       " 'drab': 61,\n",
       " 'drabbest': 62,\n",
       " 'dreary': 63,\n",
       " 'dull': 64,\n",
       " 'dullest': 65,\n",
       " 'dusty': 66,\n",
       " 'eggplant': 67,\n",
       " 'fluorescent': 68,\n",
       " 'forest': 69,\n",
       " 'frog': 70,\n",
       " 'frogs': 71,\n",
       " 'fuschia': 72,\n",
       " 'fuscia': 73,\n",
       " 'fushia': 74,\n",
       " 'girl': 75,\n",
       " 'girly': 76,\n",
       " 'gold': 77,\n",
       " 'golden': 78,\n",
       " 'goldish': 79,\n",
       " 'grape': 80,\n",
       " 'grapes': 81,\n",
       " 'grass': 82,\n",
       " 'gray': 83,\n",
       " 'gray-blue': 84,\n",
       " 'gray-brown': 85,\n",
       " 'gray-green': 86,\n",
       " 'grayest': 87,\n",
       " 'grayish': 88,\n",
       " 'greeb': 89,\n",
       " 'greeeen': 90,\n",
       " 'greeen': 91,\n",
       " 'green': 92,\n",
       " 'green-gray': 93,\n",
       " 'green-ish': 94,\n",
       " 'green-yellow': 95,\n",
       " 'greenblue': 96,\n",
       " 'greener': 97,\n",
       " 'greenest': 98,\n",
       " 'greenish': 99,\n",
       " 'greenist': 100,\n",
       " 'gren': 101,\n",
       " 'grey': 102,\n",
       " 'grey-blue': 103,\n",
       " 'grey-green': 104,\n",
       " 'grey-purple': 105,\n",
       " 'greyblue': 106,\n",
       " 'greyest': 107,\n",
       " 'greyish': 108,\n",
       " 'greyist': 109,\n",
       " 'grn': 110,\n",
       " 'ground': 111,\n",
       " 'grreen': 112,\n",
       " 'gry': 113,\n",
       " 'hash': 114,\n",
       " 'hot': 115,\n",
       " 'irange': 116,\n",
       " 'kaki': 117,\n",
       " 'kermit': 118,\n",
       " 'khaki': 119,\n",
       " 'lakers': 120,\n",
       " 'lavendar': 121,\n",
       " 'lavender': 122,\n",
       " 'lavenderish': 123,\n",
       " 'lemon': 124,\n",
       " 'light': 125,\n",
       " 'lighter': 126,\n",
       " 'lightest': 127,\n",
       " 'lilac': 128,\n",
       " 'lilacs': 129,\n",
       " 'lime': 130,\n",
       " 'magenta': 131,\n",
       " 'maroon': 132,\n",
       " 'mauve': 133,\n",
       " 'medium': 134,\n",
       " 'middle': 135,\n",
       " 'mint': 136,\n",
       " 'mortar': 137,\n",
       " 'moss': 138,\n",
       " 'mossy': 139,\n",
       " 'mud': 140,\n",
       " 'mustard': 141,\n",
       " 'muted': 142,\n",
       " 'navy': 143,\n",
       " 'neon': 144,\n",
       " 'neutral': 145,\n",
       " 'ocean': 146,\n",
       " 'oj': 147,\n",
       " 'olive': 148,\n",
       " 'olive-ish': 149,\n",
       " 'oragne': 150,\n",
       " 'orang': 151,\n",
       " 'orange': 152,\n",
       " 'orange-ish': 153,\n",
       " 'orangeish': 154,\n",
       " 'orangey': 155,\n",
       " 'orangish': 156,\n",
       " 'orangy': 157,\n",
       " 'org': 158,\n",
       " 'ornage': 159,\n",
       " 'overcast': 160,\n",
       " 'p': 161,\n",
       " 'pea': 162,\n",
       " 'peach': 163,\n",
       " 'peas': 164,\n",
       " 'periwinkle': 165,\n",
       " 'pin': 166,\n",
       " 'pink': 167,\n",
       " 'pink-purple': 168,\n",
       " 'pinkest': 169,\n",
       " 'pinkish': 170,\n",
       " 'pinkl': 171,\n",
       " 'pinky': 172,\n",
       " 'pirple': 173,\n",
       " 'piss': 174,\n",
       " 'plum': 175,\n",
       " 'pnk': 176,\n",
       " 'poop': 177,\n",
       " 'ppurple': 178,\n",
       " 'prince': 179,\n",
       " 'prpl': 180,\n",
       " 'pruple': 181,\n",
       " 'puke': 182,\n",
       " 'pumpkin': 183,\n",
       " 'puple': 184,\n",
       " 'purp': 185,\n",
       " 'purpe': 186,\n",
       " 'purpil': 187,\n",
       " 'purpkle': 188,\n",
       " 'purpl': 189,\n",
       " 'purple': 190,\n",
       " 'purple-gray': 191,\n",
       " 'purple-ish': 192,\n",
       " 'purple-pink': 193,\n",
       " 'purpleish': 194,\n",
       " 'purplest': 195,\n",
       " 'purplish': 196,\n",
       " 'purplr': 197,\n",
       " 'purpple': 198,\n",
       " 'red': 199,\n",
       " 'red-brown': 200,\n",
       " 'red-orange': 201,\n",
       " 'redder': 202,\n",
       " 'reddest': 203,\n",
       " 'reddish': 204,\n",
       " 'reddish-pink': 205,\n",
       " 'redest': 206,\n",
       " 'redish': 207,\n",
       " 'rose': 208,\n",
       " 'rouge': 209,\n",
       " 'royal': 210,\n",
       " 'royalty': 211,\n",
       " 'rust': 212,\n",
       " 'sage': 213,\n",
       " 'salmon': 214,\n",
       " 'same': 215,\n",
       " 'sand': 216,\n",
       " 'sea': 217,\n",
       " 'sea-green': 218,\n",
       " 'seafoam': 219,\n",
       " 'seagreen': 220,\n",
       " 'silver': 221,\n",
       " 'skies': 222,\n",
       " 'sky': 223,\n",
       " 'slate': 224,\n",
       " 'squash': 225,\n",
       " 'stop': 226,\n",
       " 'stormy': 227,\n",
       " 'sun': 228,\n",
       " 'sunshine': 229,\n",
       " 'tan': 230,\n",
       " 'tan-ish': 231,\n",
       " 'tanish': 232,\n",
       " 'tannish': 233,\n",
       " 'taupe': 234,\n",
       " 'teal': 235,\n",
       " 'tealish': 236,\n",
       " 'tourqoise': 237,\n",
       " 'turqoise': 238,\n",
       " 'turqouise': 239,\n",
       " 'turquise': 240,\n",
       " 'turquoise': 241,\n",
       " 'turquose': 242,\n",
       " 'vibrant': 243,\n",
       " 'violet': 244,\n",
       " 'vomit': 245,\n",
       " 'water': 246,\n",
       " 'wine': 247,\n",
       " 'wood': 248,\n",
       " 'yel': 249,\n",
       " 'yell': 250,\n",
       " 'yeller': 251,\n",
       " 'yello': 252,\n",
       " 'yellow': 253,\n",
       " \"yellow'ish\": 254,\n",
       " 'yellow-brown': 255,\n",
       " 'yellow-green': 256,\n",
       " 'yellowest': 257,\n",
       " 'yellowish': 258,\n",
       " 'yellowy': 259,\n",
       " 'yelow': 260}"
      ]
     },
     "execution_count": 16,
     "metadata": {},
     "output_type": "execute_result"
    }
   ],
   "source": [
    "utt_to_index"
   ]
  },
  {
   "cell_type": "code",
   "execution_count": 17,
   "metadata": {},
   "outputs": [
    {
     "data": {
      "text/plain": [
       "array([[0, 0, 0, 0, 0, 0, 0, 0, 0, 0, 0, 0, 0, 0, 0, 0, 0, 0, 0, 0, 0, 0,\n",
       "        0, 0, 0, 0, 0, 1, 0, 0],\n",
       "       [0, 0, 0, 0, 0, 1, 0, 0, 0, 0, 0, 0, 0, 0, 0, 0, 0, 0, 0, 0, 0, 0,\n",
       "        0, 0, 0, 0, 0, 0, 0, 0],\n",
       "       [0, 0, 0, 0, 0, 0, 0, 0, 0, 0, 0, 0, 0, 0, 0, 0, 0, 0, 0, 0, 0, 0,\n",
       "        0, 0, 0, 0, 0, 0, 0, 0],\n",
       "       [0, 0, 0, 0, 0, 0, 0, 0, 0, 0, 0, 0, 0, 0, 0, 0, 0, 0, 0, 0, 0, 0,\n",
       "        0, 0, 0, 0, 0, 0, 0, 0],\n",
       "       [0, 0, 0, 0, 0, 0, 0, 0, 0, 0, 0, 0, 0, 0, 0, 0, 0, 0, 0, 0, 0, 0,\n",
       "        0, 0, 0, 0, 0, 0, 0, 0],\n",
       "       [0, 0, 0, 0, 0, 0, 0, 0, 1, 0, 0, 0, 0, 0, 0, 0, 0, 0, 0, 0, 0, 0,\n",
       "        0, 0, 0, 1, 2, 0, 0, 0],\n",
       "       [0, 0, 0, 0, 0, 0, 0, 0, 0, 0, 0, 0, 0, 0, 0, 0, 0, 0, 0, 0, 0, 1,\n",
       "        0, 0, 0, 0, 0, 0, 0, 2],\n",
       "       [0, 0, 0, 0, 0, 0, 0, 0, 0, 0, 0, 0, 0, 0, 0, 0, 0, 0, 0, 1, 1, 3,\n",
       "        0, 0, 0, 0, 0, 0, 0, 0],\n",
       "       [1, 0, 0, 0, 0, 0, 0, 0, 0, 0, 0, 0, 0, 0, 0, 0, 0, 0, 0, 0, 0, 0,\n",
       "        0, 0, 0, 0, 0, 0, 0, 0],\n",
       "       [0, 0, 0, 0, 0, 0, 0, 0, 0, 0, 0, 0, 0, 0, 0, 0, 0, 0, 0, 0, 0, 0,\n",
       "        0, 0, 0, 0, 0, 0, 0, 0],\n",
       "       [0, 0, 0, 0, 0, 0, 0, 0, 1, 0, 0, 0, 0, 0, 0, 0, 1, 0, 0, 0, 0, 0,\n",
       "        0, 0, 0, 0, 0, 0, 0, 0],\n",
       "       [2, 0, 2, 0, 0, 0, 0, 0, 0, 1, 8, 1, 0, 0, 0, 0, 2, 4, 1, 1, 1, 0,\n",
       "        0, 0, 0, 2, 2, 0, 1, 0],\n",
       "       [0, 0, 0, 0, 0, 0, 0, 0, 1, 0, 0, 1, 0, 0, 0, 0, 0, 0, 0, 0, 0, 0,\n",
       "        0, 0, 0, 0, 0, 0, 0, 0],\n",
       "       [0, 0, 0, 0, 0, 0, 0, 0, 0, 0, 0, 0, 0, 0, 0, 0, 0, 0, 0, 0, 0, 0,\n",
       "        0, 0, 0, 0, 0, 0, 0, 0],\n",
       "       [0, 0, 0, 0, 1, 0, 0, 0, 0, 0, 0, 0, 0, 0, 0, 0, 0, 0, 0, 0, 0, 0,\n",
       "        0, 0, 0, 0, 0, 0, 0, 0],\n",
       "       [0, 0, 0, 0, 0, 0, 0, 0, 0, 0, 0, 0, 0, 0, 0, 0, 0, 0, 0, 0, 0, 0,\n",
       "        0, 0, 0, 0, 0, 0, 0, 0],\n",
       "       [0, 1, 0, 0, 0, 0, 0, 0, 0, 0, 0, 0, 0, 0, 1, 0, 0, 0, 0, 0, 0, 0,\n",
       "        0, 0, 0, 0, 0, 0, 0, 0],\n",
       "       [0, 0, 0, 0, 0, 0, 0, 0, 0, 0, 0, 0, 0, 0, 0, 0, 0, 0, 0, 0, 0, 0,\n",
       "        0, 0, 0, 0, 0, 0, 0, 0],\n",
       "       [0, 0, 0, 0, 0, 0, 0, 0, 0, 0, 0, 0, 0, 0, 0, 0, 0, 0, 0, 0, 0, 0,\n",
       "        0, 0, 0, 0, 0, 0, 0, 0],\n",
       "       [0, 0, 0, 0, 0, 0, 0, 0, 0, 0, 0, 0, 0, 0, 0, 0, 0, 0, 0, 0, 0, 0,\n",
       "        0, 0, 0, 0, 0, 0, 0, 0],\n",
       "       [0, 0, 0, 0, 0, 0, 0, 0, 0, 0, 0, 0, 0, 0, 0, 0, 0, 0, 0, 0, 0, 0,\n",
       "        0, 0, 0, 0, 0, 0, 0, 0],\n",
       "       [0, 0, 0, 0, 0, 0, 0, 0, 0, 0, 0, 0, 0, 0, 0, 0, 0, 0, 0, 0, 0, 0,\n",
       "        0, 0, 0, 0, 0, 0, 0, 0],\n",
       "       [0, 0, 0, 0, 0, 0, 0, 0, 0, 0, 0, 0, 0, 0, 0, 0, 0, 0, 0, 0, 0, 0,\n",
       "        0, 0, 0, 0, 0, 0, 0, 0],\n",
       "       [0, 0, 0, 0, 0, 0, 0, 0, 0, 0, 0, 0, 0, 0, 0, 0, 0, 0, 0, 0, 0, 0,\n",
       "        0, 0, 0, 0, 0, 0, 0, 0],\n",
       "       [0, 0, 0, 0, 0, 0, 0, 0, 0, 0, 0, 0, 0, 0, 0, 0, 0, 0, 0, 0, 0, 0,\n",
       "        0, 0, 0, 0, 0, 0, 0, 0],\n",
       "       [0, 0, 0, 0, 0, 0, 0, 0, 0, 0, 0, 0, 0, 0, 0, 0, 0, 0, 0, 0, 0, 0,\n",
       "        0, 0, 0, 0, 0, 0, 0, 0],\n",
       "       [0, 0, 0, 0, 0, 0, 0, 0, 0, 0, 0, 0, 0, 0, 0, 0, 0, 0, 0, 0, 0, 0,\n",
       "        0, 0, 0, 0, 0, 0, 0, 0],\n",
       "       [0, 0, 0, 0, 0, 0, 0, 0, 0, 0, 0, 0, 0, 0, 0, 0, 0, 0, 0, 0, 0, 0,\n",
       "        0, 0, 0, 0, 0, 0, 0, 0],\n",
       "       [0, 0, 0, 0, 0, 0, 0, 0, 0, 0, 0, 0, 0, 0, 0, 0, 0, 0, 0, 0, 0, 0,\n",
       "        0, 0, 0, 0, 0, 0, 0, 0],\n",
       "       [0, 0, 0, 0, 0, 0, 0, 0, 0, 0, 0, 0, 0, 0, 0, 0, 1, 0, 0, 0, 0, 0,\n",
       "        0, 0, 0, 0, 0, 0, 0, 0]])"
      ]
     },
     "execution_count": 17,
     "metadata": {},
     "output_type": "execute_result"
    }
   ],
   "source": [
    "matrix[:30, :30]"
   ]
  },
  {
   "cell_type": "code",
   "execution_count": 18,
   "metadata": {},
   "outputs": [
    {
     "data": {
      "text/plain": [
       "[80,\n",
       " 86,\n",
       " 87,\n",
       " 92,\n",
       " 93,\n",
       " 95,\n",
       " 99,\n",
       " 101,\n",
       " 103,\n",
       " 104,\n",
       " 104,\n",
       " 105,\n",
       " 105,\n",
       " 106,\n",
       " 108,\n",
       " 108,\n",
       " 109,\n",
       " 109,\n",
       " 109,\n",
       " 111,\n",
       " 114,\n",
       " 115,\n",
       " 115,\n",
       " 116,\n",
       " 116,\n",
       " 118,\n",
       " 119,\n",
       " 119,\n",
       " 119,\n",
       " 119,\n",
       " 120,\n",
       " 120,\n",
       " 121,\n",
       " 121,\n",
       " 122,\n",
       " 123,\n",
       " 123,\n",
       " 124,\n",
       " 124,\n",
       " 125,\n",
       " 125,\n",
       " 125,\n",
       " 126,\n",
       " 127,\n",
       " 128,\n",
       " 128,\n",
       " 129,\n",
       " 129,\n",
       " 130,\n",
       " 131,\n",
       " 133,\n",
       " 135,\n",
       " 136,\n",
       " 138,\n",
       " 139,\n",
       " 139,\n",
       " 139,\n",
       " 140,\n",
       " 140,\n",
       " 140,\n",
       " 141,\n",
       " 141,\n",
       " 141,\n",
       " 141,\n",
       " 141,\n",
       " 142,\n",
       " 142,\n",
       " 142,\n",
       " 142,\n",
       " 143,\n",
       " 144,\n",
       " 144,\n",
       " 145,\n",
       " 145,\n",
       " 146,\n",
       " 146,\n",
       " 147,\n",
       " 147,\n",
       " 147,\n",
       " 148,\n",
       " 149,\n",
       " 149,\n",
       " 149,\n",
       " 149,\n",
       " 149,\n",
       " 150,\n",
       " 150,\n",
       " 153,\n",
       " 154,\n",
       " 155,\n",
       " 155,\n",
       " 155,\n",
       " 155,\n",
       " 156,\n",
       " 157,\n",
       " 158,\n",
       " 158,\n",
       " 160,\n",
       " 160,\n",
       " 161,\n",
       " 161,\n",
       " 162,\n",
       " 162,\n",
       " 163,\n",
       " 164,\n",
       " 164,\n",
       " 164,\n",
       " 164,\n",
       " 167,\n",
       " 168,\n",
       " 168,\n",
       " 168,\n",
       " 169,\n",
       " 171,\n",
       " 172,\n",
       " 172,\n",
       " 173,\n",
       " 174,\n",
       " 174,\n",
       " 174,\n",
       " 175,\n",
       " 177,\n",
       " 183,\n",
       " 187,\n",
       " 187,\n",
       " 189,\n",
       " 210,\n",
       " 235]"
      ]
     },
     "execution_count": 18,
     "metadata": {},
     "output_type": "execute_result"
    }
   ],
   "source": [
    "sorted(matrix.sum(axis=0).tolist())"
   ]
  },
  {
   "cell_type": "code",
   "execution_count": 19,
   "metadata": {},
   "outputs": [
    {
     "data": {
      "text/plain": [
       "array([[2, 0, 1],\n",
       "       [0, 1, 2]])"
      ]
     },
     "execution_count": 19,
     "metadata": {},
     "output_type": "execute_result"
    }
   ],
   "source": [
    "np.argsort([[2, 2, 1], [0, 1, 1]], axis=1)"
   ]
  }
 ],
 "metadata": {
  "kernelspec": {
   "display_name": "Python 2",
   "language": "python",
   "name": "python2"
  },
  "language_info": {
   "codemirror_mode": {
    "name": "ipython",
    "version": 2
   },
   "file_extension": ".py",
   "mimetype": "text/x-python",
   "name": "python",
   "nbconvert_exporter": "python",
   "pygments_lexer": "ipython2",
   "version": "2.7.12"
  }
 },
 "nbformat": 4,
 "nbformat_minor": 2
}

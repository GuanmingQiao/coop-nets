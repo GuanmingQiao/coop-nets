{
 "cells": [
  {
   "cell_type": "code",
   "execution_count": 5,
   "metadata": {
    "collapsed": true
   },
   "outputs": [],
   "source": [
    "from collections import defaultdict, Counter\n",
    "import csv"
   ]
  },
  {
   "cell_type": "code",
   "execution_count": 4,
   "metadata": {
    "collapsed": false
   },
   "outputs": [],
   "source": [
    "senders = defaultdict(list)\n",
    "with open('hawkins_data/colorReferenceMessage2.csv', 'r') as infile:\n",
    "    for row in csv.DictReader(infile):\n",
    "        round_list = senders[(row['gameid'], row['roundNum'])]\n",
    "        if row['sender'] == 'speaker':\n",
    "            round_list.append('S')\n",
    "        elif row['sender'] == 'listener':\n",
    "            round_list.append('L')\n",
    "        else:\n",
    "            round_list.append('?')"
   ]
  },
  {
   "cell_type": "code",
   "execution_count": 16,
   "metadata": {
    "collapsed": true
   },
   "outputs": [],
   "source": [
    "def print_counter(c):\n",
    "    mc = c.most_common()\n",
    "    mc.sort(key=lambda (v, n): (-n, len(v), v))\n",
    "    for v, n in mc:\n",
    "        print('%10s %s' % (n, v))"
   ]
  },
  {
   "cell_type": "code",
   "execution_count": 17,
   "metadata": {
    "collapsed": false
   },
   "outputs": [
    {
     "name": "stdout",
     "output_type": "stream",
     "text": [
      "     43307 S\n",
      "      2273 SS\n",
      "      1083 SLS\n",
      "       652 LS\n",
      "       511 SL\n",
      "       303 SSS\n",
      "       275 LSS\n",
      "       241 SSL\n",
      "       174 SSLS\n",
      "       115 SLSS\n",
      "        88 SLLS\n",
      "        66 LSLS\n",
      "        61 SLSLS\n",
      "        52 LLS\n",
      "        49 SLSL\n",
      "        44 SSSS\n",
      "        42 SSSL\n",
      "        35 SSSLS\n",
      "        33 LSSS\n",
      "        27 LSSLS\n",
      "        24 L\n",
      "        21 LSSL\n",
      "        21 SSLSS\n",
      "        18 LSL\n",
      "        16 SLL\n",
      "        16 LLSS\n",
      "        14 SLSSS\n",
      "        13 SLSSL\n",
      "        12 SSLL\n",
      "        12 SLLSS\n",
      "        12 SSLLS\n",
      "        12 SSLSLS\n",
      "        11 SSSSS\n",
      "        10 LSSSLS\n",
      "         9 SSSLSS\n",
      "         8 LLSLS\n",
      "         8 LSSSL\n",
      "         8 SLLLS\n",
      "         8 SSLSL\n",
      "         8 LSLSLS\n",
      "         8 SLSLSS\n",
      "         7 SSSSL\n",
      "         7 SLSSLS\n",
      "         7 SLSSSS\n",
      "         6 SLLSL\n",
      "         6 SLLSSL\n",
      "         6 SSLLSS\n",
      "         6 SSSSLS\n",
      "         5 LSSSS\n",
      "         5 LSSLSS\n",
      "         5 SLLLLS\n",
      "         5 SLSLLS\n",
      "         5 SLSLSL\n",
      "         4 LL\n",
      "         4 LSLL\n",
      "         4 LSLSSS\n",
      "         4 SLLSLS\n",
      "         4 SSLLSL\n",
      "         4 SSSLLS\n",
      "         4 LSLSLSS\n",
      "         4 SLSLSSS\n",
      "         4 SLSSLLS\n",
      "         4 SSSSLSS\n",
      "         3 LLLS\n",
      "         3 LSLSL\n",
      "         3 SSLSSS\n",
      "         3 SSSSSS\n",
      "         3 SLSSLSS\n",
      "         3 SSLSLSS\n",
      "         3 SSLSSLS\n",
      "         2 LSLSS\n",
      "         2 LSSLL\n",
      "         2 SLSLL\n",
      "         2 SSSLL\n",
      "         2 LSSLLS\n",
      "         2 SSLSSL\n",
      "         2 SSSSSL\n",
      "         2 LLSLSLS\n",
      "         2 LLSLSSS\n",
      "         2 SLLSLLS\n",
      "         2 SLLSSLS\n",
      "         2 SLSLSLS\n",
      "         2 SSSLSLS\n",
      "         2 SSSSSLS\n",
      "         1 LLSL\n",
      "         1 SLLL\n",
      "         1 LLSLL\n",
      "         1 LLSSS\n",
      "         1 LLSLLS\n",
      "         1 LLSLSS\n",
      "         1 LLSSLS\n",
      "         1 LSLSSL\n",
      "         1 LSSLSL\n",
      "         1 LSSSSL\n",
      "         1 SLLSSS\n",
      "         1 SLSLLL\n",
      "         1 SSLSLL\n",
      "         1 SSSLLL\n",
      "         1 SSSLSL\n",
      "         1 LLSSLSS\n",
      "         1 LLSSSLS\n",
      "         1 LSSLLSL\n",
      "         1 LSSLSLS\n",
      "         1 LSSLSSS\n",
      "         1 LSSSLSS\n",
      "         1 LSSSSLS\n",
      "         1 LSSSSSS\n",
      "         1 SLLLSSL\n",
      "         1 SLLSLSL\n",
      "         1 SLLSLSS\n",
      "         1 SLLSSSL\n",
      "         1 SLSLLLS\n",
      "         1 SLSLLSS\n",
      "         1 SLSLSSL\n",
      "         1 SLSSLSL\n",
      "         1 SLSSSLL\n",
      "         1 SSLLSLS\n",
      "         1 SSLLSSL\n",
      "         1 SSLSLLS\n",
      "         1 SSLSLSL\n",
      "         1 SSLSSSL\n",
      "         1 SSLSSSS\n",
      "         1 SSSSLLS\n",
      "         1 LLSSLLSS\n",
      "         1 LSSLSLSS\n",
      "         1 LSSLSSLS\n",
      "         1 LSSSSLSS\n",
      "         1 SLLLSSLS\n",
      "         1 SLLSLSLS\n",
      "         1 SLSLSLLS\n",
      "         1 SLSLSLSS\n",
      "         1 SLSLSSSS\n",
      "         1 SLSSLLSL\n",
      "         1 SLSSLSLS\n",
      "         1 SLSSSLLS\n",
      "         1 SLSSSLSL\n",
      "         1 SLSSSLSS\n",
      "         1 SLSSSSLS\n",
      "         1 SSLLSSSL\n",
      "         1 SSLSLLSS\n",
      "         1 SSLSLSLS\n",
      "         1 SSLSSLLS\n",
      "         1 SSLSSLSS\n",
      "         1 SSLSSSSS\n",
      "         1 SSSLSLSS\n",
      "         1 SSSSLSLS\n",
      "         1 SSSSSSSL\n",
      "         1 LLLSLSLSS\n",
      "         1 LSLLSLSLS\n",
      "         1 LSLSSLSLS\n",
      "         1 LSSLSSSLS\n",
      "         1 LSSSLSLSL\n",
      "         1 LSSSLSSSS\n",
      "         1 SLLSLSLSL\n",
      "         1 SLSLLSLSS\n",
      "         1 SLSLLSSLS\n",
      "         1 SLSSLSLLS\n",
      "         1 SSLSLSSSL\n",
      "         1 SSSLSLSSS\n",
      "         1 SSSSLSLSS\n",
      "         1 SSSSSLSSL\n",
      "         1 LSLSLLSLSS\n",
      "         1 LSLSLSSLLS\n",
      "         1 LSSLSLSLSS\n",
      "         1 SLLSSLSSLS\n",
      "         1 SLSLLSLLSS\n",
      "         1 SLSSLSSSLS\n",
      "         1 SSLSLLLSLS\n",
      "         1 SSSLLSLLSL\n",
      "         1 LSLSLSLSSLS\n",
      "         1 SLSSSLSSSLS\n",
      "         1 SSLSLSSSSSL\n",
      "         1 LSLLLSLLSLSS\n",
      "         1 LSSLLSLLSSSS\n",
      "         1 LSSLSSLSSSLLL\n",
      "         1 SLSLLSLLLSLSL\n",
      "         1 SLSLSSSSLLSSS\n",
      "         1 SSLSLLSSSSLSS\n",
      "         1 SLLLSLSSLSSLSS\n",
      "         1 SSSLSLSLLSLLSS\n",
      "         1 LSLLSLSSLSLSSLS\n",
      "         1 LSSLLSLSLSLSLSSSLSL\n",
      "         1 LSSSLSLLSSSLLSLSLSLSLSSLLSS\n"
     ]
    }
   ],
   "source": [
    "overall_stats = Counter(''.join(v) for v in senders.values())\n",
    "print_counter(overall_stats)"
   ]
  },
  {
   "cell_type": "code",
   "execution_count": 18,
   "metadata": {
    "collapsed": true
   },
   "outputs": [],
   "source": [
    "by_game = defaultdict(list)\n",
    "for game, round_num in sorted(senders.keys()):\n",
    "    by_game[game].append(''.join(senders[(game, round_num)]))"
   ]
  },
  {
   "cell_type": "code",
   "execution_count": 22,
   "metadata": {
    "collapsed": true
   },
   "outputs": [],
   "source": [
    "import re\n",
    "\n",
    "def has_dialogue(p):\n",
    "    return re.search('S.*L.*S', p) is not None"
   ]
  },
  {
   "cell_type": "code",
   "execution_count": 26,
   "metadata": {
    "collapsed": false
   },
   "outputs": [
    {
     "name": "stdout",
     "output_type": "stream",
     "text": [
      "577/1058 (0.5454)\n",
      "2059/49958 (0.0412)\n"
     ]
    }
   ],
   "source": [
    "total_games = 0\n",
    "games_with_dialogue = 0\n",
    "total_rounds = 0\n",
    "rounds_with_dialogue = 0\n",
    "\n",
    "for game, patterns in by_game.iteritems():\n",
    "    total_games += 1\n",
    "    if any(has_dialogue(p) for p in patterns):\n",
    "        games_with_dialogue += 1\n",
    "        \n",
    "    for p in patterns:\n",
    "        total_rounds += 1\n",
    "        if has_dialogue(p):\n",
    "            rounds_with_dialogue += 1\n",
    "\n",
    "print('%s/%s (%.4f)' % (games_with_dialogue, total_games,\n",
    "                        games_with_dialogue * 1.0 / total_games))\n",
    "print('%s/%s (%.4f)' % (rounds_with_dialogue, total_rounds,\n",
    "                        rounds_with_dialogue * 1.0 / total_rounds))"
   ]
  },
  {
   "cell_type": "code",
   "execution_count": null,
   "metadata": {
    "collapsed": true
   },
   "outputs": [],
   "source": []
  }
 ],
 "metadata": {
  "kernelspec": {
   "display_name": "Python 2",
   "language": "python",
   "name": "python2"
  },
  "language_info": {
   "codemirror_mode": {
    "name": "ipython",
    "version": 2
   },
   "file_extension": ".py",
   "mimetype": "text/x-python",
   "name": "python",
   "nbconvert_exporter": "python",
   "pygments_lexer": "ipython2",
   "version": "2.7.12"
  }
 },
 "nbformat": 4,
 "nbformat_minor": 1
}

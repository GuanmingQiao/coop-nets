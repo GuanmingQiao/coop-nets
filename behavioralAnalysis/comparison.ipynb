{
 "cells": [
  {
   "cell_type": "code",
   "execution_count": 1,
   "metadata": {
    "collapsed": true
   },
   "outputs": [],
   "source": [
    "import matplotlib.pyplot as plt\n",
    "import numpy as np\n",
    "import pandas as pd\n",
    "import os\n",
    "import kenlm\n",
    "lm = kenlm.LanguageModel('kenlm.arpa')\n",
    "%matplotlib inline"
   ]
  },
  {
   "cell_type": "markdown",
   "metadata": {},
   "source": [
    "Load data\n",
    "---------"
   ]
  },
  {
   "cell_type": "code",
   "execution_count": 2,
   "metadata": {
    "collapsed": false
   },
   "outputs": [
    {
     "data": {
      "text/html": [
       "<div>\n",
       "<table border=\"1\" class=\"dataframe\">\n",
       "  <thead>\n",
       "    <tr style=\"text-align: right;\">\n",
       "      <th></th>\n",
       "      <th>gameid</th>\n",
       "      <th>time</th>\n",
       "      <th>roundNum</th>\n",
       "      <th>sender</th>\n",
       "      <th>contents</th>\n",
       "      <th>lemmas</th>\n",
       "      <th>numSuper</th>\n",
       "      <th>numComp</th>\n",
       "    </tr>\n",
       "  </thead>\n",
       "  <tbody>\n",
       "    <tr>\n",
       "      <th>0</th>\n",
       "      <td>1124-1</td>\n",
       "      <td>1459877203862</td>\n",
       "      <td>1</td>\n",
       "      <td>speaker</td>\n",
       "      <td>The darker blue one</td>\n",
       "      <td>[(u'The', u'DT'), (u'darker', u'JJR'), (u'blue...</td>\n",
       "      <td>0</td>\n",
       "      <td>1</td>\n",
       "    </tr>\n",
       "    <tr>\n",
       "      <th>1</th>\n",
       "      <td>1124-1</td>\n",
       "      <td>1459877214034</td>\n",
       "      <td>2</td>\n",
       "      <td>speaker</td>\n",
       "      <td>purple</td>\n",
       "      <td>[(u'purple', u'JJ')]</td>\n",
       "      <td>0</td>\n",
       "      <td>0</td>\n",
       "    </tr>\n",
       "    <tr>\n",
       "      <th>2</th>\n",
       "      <td>1124-1</td>\n",
       "      <td>1459877223719</td>\n",
       "      <td>3</td>\n",
       "      <td>speaker</td>\n",
       "      <td>Medium pink</td>\n",
       "      <td>[(u'Medium', u'NN'), (u'pink', u'NN')]</td>\n",
       "      <td>0</td>\n",
       "      <td>0</td>\n",
       "    </tr>\n",
       "    <tr>\n",
       "      <th>3</th>\n",
       "      <td>1124-1</td>\n",
       "      <td>1459877227433</td>\n",
       "      <td>3</td>\n",
       "      <td>speaker</td>\n",
       "      <td>the medium dark one</td>\n",
       "      <td>[(u'the', u'DT'), (u'medium', u'NN'), (u'dark'...</td>\n",
       "      <td>0</td>\n",
       "      <td>0</td>\n",
       "    </tr>\n",
       "    <tr>\n",
       "      <th>4</th>\n",
       "      <td>1124-1</td>\n",
       "      <td>1459877240480</td>\n",
       "      <td>4</td>\n",
       "      <td>speaker</td>\n",
       "      <td>lime</td>\n",
       "      <td>[(u'lime', u'NN')]</td>\n",
       "      <td>0</td>\n",
       "      <td>0</td>\n",
       "    </tr>\n",
       "  </tbody>\n",
       "</table>\n",
       "</div>"
      ],
      "text/plain": [
       "   gameid           time  roundNum   sender             contents  \\\n",
       "0  1124-1  1459877203862         1  speaker  The darker blue one   \n",
       "1  1124-1  1459877214034         2  speaker               purple   \n",
       "2  1124-1  1459877223719         3  speaker          Medium pink   \n",
       "3  1124-1  1459877227433         3  speaker  the medium dark one   \n",
       "4  1124-1  1459877240480         4  speaker                 lime   \n",
       "\n",
       "                                              lemmas  numSuper  numComp  \n",
       "0  [(u'The', u'DT'), (u'darker', u'JJR'), (u'blue...         0        1  \n",
       "1                               [(u'purple', u'JJ')]         0        0  \n",
       "2             [(u'Medium', u'NN'), (u'pink', u'NN')]         0        0  \n",
       "3  [(u'the', u'DT'), (u'medium', u'NN'), (u'dark'...         0        0  \n",
       "4                                 [(u'lime', u'NN')]         0        0  "
      ]
     },
     "execution_count": 2,
     "metadata": {},
     "output_type": "execute_result"
    }
   ],
   "source": [
    "tags = pd.read_csv('taggedColorMsgs.csv', escapechar='\\\\')\n",
    "tags.head()"
   ]
  },
  {
   "cell_type": "code",
   "execution_count": 3,
   "metadata": {
    "collapsed": true
   },
   "outputs": [],
   "source": [
    "def join_with_tilde(s):\n",
    "    return ' ~ '.join(s)\n",
    "\n",
    "def join_lemmas_lists(r):\n",
    "    result = []\n",
    "    for row in r:\n",
    "        result.extend(eval(row))\n",
    "    return repr(result)\n",
    "\n",
    "def join_with_tagged(output, tags):\n",
    "    return (pd.merge(output, tags, on=['gameid', 'roundNum'])\n",
    "              .query(\"sender == 'speaker'\")[['gameid', 'roundNum', 'condition', 'outcome',\n",
    "                                             'contents', 'lemmas', 'numSuper', 'numComp']]\n",
    "              .groupby(['gameid', 'roundNum'])\n",
    "              .agg({'condition': 'first', 'outcome': 'first',\n",
    "                    'contents': join_with_tilde,\n",
    "                    'lemmas': join_lemmas_lists,\n",
    "                    'numSuper': 'sum', 'numComp': 'sum'})\n",
    "              .reset_index())"
   ]
  },
  {
   "cell_type": "code",
   "execution_count": 4,
   "metadata": {
    "collapsed": false
   },
   "outputs": [
    {
     "data": {
      "text/html": [
       "<div>\n",
       "<table border=\"1\" class=\"dataframe\">\n",
       "  <thead>\n",
       "    <tr style=\"text-align: right;\">\n",
       "      <th></th>\n",
       "      <th>gameid</th>\n",
       "      <th>roundNum</th>\n",
       "      <th>numSuper</th>\n",
       "      <th>lemmas</th>\n",
       "      <th>condition</th>\n",
       "      <th>numComp</th>\n",
       "      <th>outcome</th>\n",
       "      <th>contents</th>\n",
       "    </tr>\n",
       "  </thead>\n",
       "  <tbody>\n",
       "    <tr>\n",
       "      <th>0</th>\n",
       "      <td>0429-9</td>\n",
       "      <td>1</td>\n",
       "      <td>0</td>\n",
       "      <td>[(u'the', u'DT'), (u'target', u'NN'), (u'a', u...</td>\n",
       "      <td>further</td>\n",
       "      <td>1</td>\n",
       "      <td>False</td>\n",
       "      <td>the target a brighter color ~ it is different ...</td>\n",
       "    </tr>\n",
       "    <tr>\n",
       "      <th>1</th>\n",
       "      <td>0429-9</td>\n",
       "      <td>2</td>\n",
       "      <td>0</td>\n",
       "      <td>[(u'this', u'DT'), (u'color', u'NN'), (u'is', ...</td>\n",
       "      <td>equal</td>\n",
       "      <td>0</td>\n",
       "      <td>False</td>\n",
       "      <td>this color is often used in reference to someo...</td>\n",
       "    </tr>\n",
       "    <tr>\n",
       "      <th>2</th>\n",
       "      <td>0429-9</td>\n",
       "      <td>3</td>\n",
       "      <td>0</td>\n",
       "      <td>[(u'this', u'DT'), (u'color', u'NN'), (u'is', ...</td>\n",
       "      <td>closer</td>\n",
       "      <td>0</td>\n",
       "      <td>False</td>\n",
       "      <td>this color is often used in reference to someo...</td>\n",
       "    </tr>\n",
       "    <tr>\n",
       "      <th>3</th>\n",
       "      <td>0429-9</td>\n",
       "      <td>4</td>\n",
       "      <td>0</td>\n",
       "      <td>[(u'this', u'DT'), (u'is', u'VBZ'), (u'not', u...</td>\n",
       "      <td>further</td>\n",
       "      <td>0</td>\n",
       "      <td>False</td>\n",
       "      <td>this is not purple or gray</td>\n",
       "    </tr>\n",
       "    <tr>\n",
       "      <th>4</th>\n",
       "      <td>0429-9</td>\n",
       "      <td>5</td>\n",
       "      <td>0</td>\n",
       "      <td>[(u'the', u'DT'), (u'color', u'NN'), (u'of', u...</td>\n",
       "      <td>equal</td>\n",
       "      <td>0</td>\n",
       "      <td>False</td>\n",
       "      <td>the color of whales</td>\n",
       "    </tr>\n",
       "  </tbody>\n",
       "</table>\n",
       "</div>"
      ],
      "text/plain": [
       "   gameid  roundNum  numSuper  \\\n",
       "0  0429-9         1         0   \n",
       "1  0429-9         2         0   \n",
       "2  0429-9         3         0   \n",
       "3  0429-9         4         0   \n",
       "4  0429-9         5         0   \n",
       "\n",
       "                                              lemmas condition  numComp  \\\n",
       "0  [(u'the', u'DT'), (u'target', u'NN'), (u'a', u...   further        1   \n",
       "1  [(u'this', u'DT'), (u'color', u'NN'), (u'is', ...     equal        0   \n",
       "2  [(u'this', u'DT'), (u'color', u'NN'), (u'is', ...    closer        0   \n",
       "3  [(u'this', u'DT'), (u'is', u'VBZ'), (u'not', u...   further        0   \n",
       "4  [(u'the', u'DT'), (u'color', u'NN'), (u'of', u...     equal        0   \n",
       "\n",
       "  outcome                                           contents  \n",
       "0   False  the target a brighter color ~ it is different ...  \n",
       "1   False  this color is often used in reference to someo...  \n",
       "2   False  this color is often used in reference to someo...  \n",
       "3   False                        this is not purple or gray   \n",
       "4   False                                the color of whales  "
      ]
     },
     "execution_count": 4,
     "metadata": {},
     "output_type": "execute_result"
    }
   ],
   "source": [
    "l0 = join_with_tagged(pd.read_csv('modelOutput/listener_gaussian_tuned_clickedObj.csv', escapechar='\\\\'), tags)\n",
    "l0.head()"
   ]
  },
  {
   "cell_type": "code",
   "execution_count": 5,
   "metadata": {
    "collapsed": false,
    "scrolled": true
   },
   "outputs": [
    {
     "data": {
      "text/html": [
       "<div>\n",
       "<table border=\"1\" class=\"dataframe\">\n",
       "  <thead>\n",
       "    <tr style=\"text-align: right;\">\n",
       "      <th></th>\n",
       "      <th>gameid</th>\n",
       "      <th>roundNum</th>\n",
       "      <th>numSuper</th>\n",
       "      <th>lemmas</th>\n",
       "      <th>condition</th>\n",
       "      <th>numComp</th>\n",
       "      <th>outcome</th>\n",
       "      <th>contents</th>\n",
       "    </tr>\n",
       "  </thead>\n",
       "  <tbody>\n",
       "    <tr>\n",
       "      <th>0</th>\n",
       "      <td>0429-9</td>\n",
       "      <td>1</td>\n",
       "      <td>0</td>\n",
       "      <td>[(u'the', u'DT'), (u'target', u'NN'), (u'a', u...</td>\n",
       "      <td>further</td>\n",
       "      <td>1</td>\n",
       "      <td>False</td>\n",
       "      <td>the target a brighter color ~ it is different ...</td>\n",
       "    </tr>\n",
       "    <tr>\n",
       "      <th>1</th>\n",
       "      <td>0429-9</td>\n",
       "      <td>2</td>\n",
       "      <td>0</td>\n",
       "      <td>[(u'this', u'DT'), (u'color', u'NN'), (u'is', ...</td>\n",
       "      <td>equal</td>\n",
       "      <td>0</td>\n",
       "      <td>False</td>\n",
       "      <td>this color is often used in reference to someo...</td>\n",
       "    </tr>\n",
       "    <tr>\n",
       "      <th>2</th>\n",
       "      <td>0429-9</td>\n",
       "      <td>3</td>\n",
       "      <td>0</td>\n",
       "      <td>[(u'this', u'DT'), (u'color', u'NN'), (u'is', ...</td>\n",
       "      <td>closer</td>\n",
       "      <td>0</td>\n",
       "      <td>False</td>\n",
       "      <td>this color is often used in reference to someo...</td>\n",
       "    </tr>\n",
       "    <tr>\n",
       "      <th>3</th>\n",
       "      <td>0429-9</td>\n",
       "      <td>4</td>\n",
       "      <td>0</td>\n",
       "      <td>[(u'this', u'DT'), (u'is', u'VBZ'), (u'not', u...</td>\n",
       "      <td>further</td>\n",
       "      <td>0</td>\n",
       "      <td>False</td>\n",
       "      <td>this is not purple or gray</td>\n",
       "    </tr>\n",
       "    <tr>\n",
       "      <th>4</th>\n",
       "      <td>0429-9</td>\n",
       "      <td>5</td>\n",
       "      <td>0</td>\n",
       "      <td>[(u'the', u'DT'), (u'color', u'NN'), (u'of', u...</td>\n",
       "      <td>equal</td>\n",
       "      <td>0</td>\n",
       "      <td>False</td>\n",
       "      <td>the color of whales</td>\n",
       "    </tr>\n",
       "  </tbody>\n",
       "</table>\n",
       "</div>"
      ],
      "text/plain": [
       "   gameid  roundNum  numSuper  \\\n",
       "0  0429-9         1         0   \n",
       "1  0429-9         2         0   \n",
       "2  0429-9         3         0   \n",
       "3  0429-9         4         0   \n",
       "4  0429-9         5         0   \n",
       "\n",
       "                                              lemmas condition  numComp  \\\n",
       "0  [(u'the', u'DT'), (u'target', u'NN'), (u'a', u...   further        1   \n",
       "1  [(u'this', u'DT'), (u'color', u'NN'), (u'is', ...     equal        0   \n",
       "2  [(u'this', u'DT'), (u'color', u'NN'), (u'is', ...    closer        0   \n",
       "3  [(u'this', u'DT'), (u'is', u'VBZ'), (u'not', u...   further        0   \n",
       "4  [(u'the', u'DT'), (u'color', u'NN'), (u'of', u...     equal        0   \n",
       "\n",
       "  outcome                                           contents  \n",
       "0   False  the target a brighter color ~ it is different ...  \n",
       "1   False  this color is often used in reference to someo...  \n",
       "2   False  this color is often used in reference to someo...  \n",
       "3   False                        this is not purple or gray   \n",
       "4   False                                the color of whales  "
      ]
     },
     "execution_count": 5,
     "metadata": {},
     "output_type": "execute_result"
    }
   ],
   "source": [
    "l2 = join_with_tagged(pd.read_csv('modelOutput/listener_lsl_blend_tuned_clickedObj.csv', escapechar='\\\\'), tags)\n",
    "l2.head()"
   ]
  },
  {
   "cell_type": "code",
   "execution_count": 6,
   "metadata": {
    "collapsed": false
   },
   "outputs": [
    {
     "data": {
      "text/html": [
       "<div>\n",
       "<table border=\"1\" class=\"dataframe\">\n",
       "  <thead>\n",
       "    <tr style=\"text-align: right;\">\n",
       "      <th></th>\n",
       "      <th>gameid</th>\n",
       "      <th>time</th>\n",
       "      <th>roundNum</th>\n",
       "      <th>sender</th>\n",
       "      <th>contents</th>\n",
       "    </tr>\n",
       "  </thead>\n",
       "  <tbody>\n",
       "    <tr>\n",
       "      <th>0</th>\n",
       "      <td>1124-1</td>\n",
       "      <td>1459877203862</td>\n",
       "      <td>1</td>\n",
       "      <td>speaker</td>\n",
       "      <td>The darker blue one</td>\n",
       "    </tr>\n",
       "    <tr>\n",
       "      <th>1</th>\n",
       "      <td>1124-1</td>\n",
       "      <td>1459877214034</td>\n",
       "      <td>2</td>\n",
       "      <td>speaker</td>\n",
       "      <td>purple</td>\n",
       "    </tr>\n",
       "    <tr>\n",
       "      <th>2</th>\n",
       "      <td>1124-1</td>\n",
       "      <td>1459877223719</td>\n",
       "      <td>3</td>\n",
       "      <td>speaker</td>\n",
       "      <td>Medium pink</td>\n",
       "    </tr>\n",
       "    <tr>\n",
       "      <th>3</th>\n",
       "      <td>1124-1</td>\n",
       "      <td>1459877227433</td>\n",
       "      <td>3</td>\n",
       "      <td>speaker</td>\n",
       "      <td>the medium dark one</td>\n",
       "    </tr>\n",
       "    <tr>\n",
       "      <th>4</th>\n",
       "      <td>1124-1</td>\n",
       "      <td>1459877240480</td>\n",
       "      <td>4</td>\n",
       "      <td>speaker</td>\n",
       "      <td>lime</td>\n",
       "    </tr>\n",
       "  </tbody>\n",
       "</table>\n",
       "</div>"
      ],
      "text/plain": [
       "   gameid           time  roundNum   sender             contents\n",
       "0  1124-1  1459877203862         1  speaker  The darker blue one\n",
       "1  1124-1  1459877214034         2  speaker               purple\n",
       "2  1124-1  1459877223719         3  speaker          Medium pink\n",
       "3  1124-1  1459877227433         3  speaker  the medium dark one\n",
       "4  1124-1  1459877240480         4  speaker                 lime"
      ]
     },
     "execution_count": 6,
     "metadata": {},
     "output_type": "execute_result"
    }
   ],
   "source": [
    "u = pd.read_csv('humanOutput/colorReferenceMessage.csv', escapechar='\\\\')\n",
    "u.head()"
   ]
  },
  {
   "cell_type": "code",
   "execution_count": 7,
   "metadata": {
    "collapsed": false
   },
   "outputs": [
    {
     "data": {
      "text/html": [
       "<div>\n",
       "<table border=\"1\" class=\"dataframe\">\n",
       "  <thead>\n",
       "    <tr style=\"text-align: right;\">\n",
       "      <th></th>\n",
       "      <th>gameid</th>\n",
       "      <th>roundNum</th>\n",
       "      <th>numSuper</th>\n",
       "      <th>lemmas</th>\n",
       "      <th>condition</th>\n",
       "      <th>numComp</th>\n",
       "      <th>outcome</th>\n",
       "      <th>contents</th>\n",
       "    </tr>\n",
       "  </thead>\n",
       "  <tbody>\n",
       "    <tr>\n",
       "      <th>0</th>\n",
       "      <td>0429-9</td>\n",
       "      <td>1</td>\n",
       "      <td>0</td>\n",
       "      <td>[(u'the', u'DT'), (u'target', u'NN'), (u'a', u...</td>\n",
       "      <td>further</td>\n",
       "      <td>1</td>\n",
       "      <td>True</td>\n",
       "      <td>the target a brighter color ~ it is different ...</td>\n",
       "    </tr>\n",
       "    <tr>\n",
       "      <th>1</th>\n",
       "      <td>0429-9</td>\n",
       "      <td>2</td>\n",
       "      <td>0</td>\n",
       "      <td>[(u'this', u'DT'), (u'color', u'NN'), (u'is', ...</td>\n",
       "      <td>equal</td>\n",
       "      <td>0</td>\n",
       "      <td>True</td>\n",
       "      <td>this color is often used in reference to someo...</td>\n",
       "    </tr>\n",
       "    <tr>\n",
       "      <th>2</th>\n",
       "      <td>0429-9</td>\n",
       "      <td>3</td>\n",
       "      <td>0</td>\n",
       "      <td>[(u'this', u'DT'), (u'color', u'NN'), (u'is', ...</td>\n",
       "      <td>closer</td>\n",
       "      <td>0</td>\n",
       "      <td>True</td>\n",
       "      <td>this color is often used in reference to someo...</td>\n",
       "    </tr>\n",
       "    <tr>\n",
       "      <th>3</th>\n",
       "      <td>0429-9</td>\n",
       "      <td>4</td>\n",
       "      <td>0</td>\n",
       "      <td>[(u'this', u'DT'), (u'is', u'VBZ'), (u'not', u...</td>\n",
       "      <td>further</td>\n",
       "      <td>0</td>\n",
       "      <td>True</td>\n",
       "      <td>this is not purple or gray</td>\n",
       "    </tr>\n",
       "    <tr>\n",
       "      <th>4</th>\n",
       "      <td>0429-9</td>\n",
       "      <td>5</td>\n",
       "      <td>0</td>\n",
       "      <td>[(u'the', u'DT'), (u'color', u'NN'), (u'of', u...</td>\n",
       "      <td>equal</td>\n",
       "      <td>0</td>\n",
       "      <td>True</td>\n",
       "      <td>the color of whales</td>\n",
       "    </tr>\n",
       "  </tbody>\n",
       "</table>\n",
       "</div>"
      ],
      "text/plain": [
       "   gameid  roundNum  numSuper  \\\n",
       "0  0429-9         1         0   \n",
       "1  0429-9         2         0   \n",
       "2  0429-9         3         0   \n",
       "3  0429-9         4         0   \n",
       "4  0429-9         5         0   \n",
       "\n",
       "                                              lemmas condition  numComp  \\\n",
       "0  [(u'the', u'DT'), (u'target', u'NN'), (u'a', u...   further        1   \n",
       "1  [(u'this', u'DT'), (u'color', u'NN'), (u'is', ...     equal        0   \n",
       "2  [(u'this', u'DT'), (u'color', u'NN'), (u'is', ...    closer        0   \n",
       "3  [(u'this', u'DT'), (u'is', u'VBZ'), (u'not', u...   further        0   \n",
       "4  [(u'the', u'DT'), (u'color', u'NN'), (u'of', u...     equal        0   \n",
       "\n",
       "  outcome                                           contents  \n",
       "0    True  the target a brighter color ~ it is different ...  \n",
       "1    True  this color is often used in reference to someo...  \n",
       "2    True  this color is often used in reference to someo...  \n",
       "3    True                        this is not purple or gray   \n",
       "4    True                                the color of whales  "
      ]
     },
     "execution_count": 7,
     "metadata": {},
     "output_type": "execute_result"
    }
   ],
   "source": [
    "h = join_with_tagged(pd.read_csv('humanOutput/colorReferenceClicks.csv', escapechar='\\\\'), tags)\n",
    "h.head()"
   ]
  },
  {
   "cell_type": "markdown",
   "metadata": {},
   "source": [
    "Overall accuracy values\n",
    "-----------------------"
   ]
  },
  {
   "cell_type": "code",
   "execution_count": 8,
   "metadata": {
    "collapsed": false
   },
   "outputs": [
    {
     "data": {
      "text/plain": [
       "87.480945121951223"
      ]
     },
     "execution_count": 8,
     "metadata": {},
     "output_type": "execute_result"
    }
   ],
   "source": [
    "sum(h['outcome']) * 100.0 / len(h)"
   ]
  },
  {
   "cell_type": "code",
   "execution_count": 9,
   "metadata": {
    "collapsed": false
   },
   "outputs": [
    {
     "data": {
      "text/plain": [
       "68.953687821612348"
      ]
     },
     "execution_count": 9,
     "metadata": {},
     "output_type": "execute_result"
    }
   ],
   "source": [
    "sum(l0['outcome']) * 100.0 / len(l0)"
   ]
  },
  {
   "cell_type": "code",
   "execution_count": 10,
   "metadata": {
    "collapsed": false
   },
   "outputs": [
    {
     "data": {
      "text/plain": [
       "69.411092052601489"
      ]
     },
     "execution_count": 10,
     "metadata": {},
     "output_type": "execute_result"
    }
   ],
   "source": [
    "sum(l2['outcome']) * 100.0 / len(l2)"
   ]
  },
  {
   "cell_type": "markdown",
   "metadata": {},
   "source": [
    "Accuracy by condition\n",
    "---"
   ]
  },
  {
   "cell_type": "code",
   "execution_count": 11,
   "metadata": {
    "collapsed": false
   },
   "outputs": [],
   "source": [
    "def accuracy_by_condition(output):\n",
    "    conditions = [output.query(\"condition == '{}'\".format(cname))\n",
    "                  for cname in ('equal', 'further', 'closer')]\n",
    "    return [sum(c['outcome']) * 100.0 / len(c)\n",
    "            for c in conditions]"
   ]
  },
  {
   "cell_type": "code",
   "execution_count": 12,
   "metadata": {
    "collapsed": false
   },
   "outputs": [
    {
     "data": {
      "image/png": "[encoded data removed]",
      "text/plain": [
       "<matplotlib.figure.Figure at 0x7fae03ed97d0>"
      ]
     },
     "metadata": {},
     "output_type": "display_data"
    }
   ],
   "source": [
    "for model in [h, l2, l0]:\n",
    "    plt.plot(np.arange(3) - 1, accuracy_by_condition(model))\n",
    "plt.legend(['human', 'L2', 'L0'])\n",
    "plt.xticks([-1, 0, 1], ['equal', 'further', 'closer'])\n",
    "plt.xlabel('Condition')\n",
    "plt.ylabel('Accuracy')\n",
    "plt.savefig(os.path.expanduser('~/allListenerAccuracy.eps'), format='eps', bbox_inches='tight')\n",
    "plt.show()"
   ]
  },
  {
   "cell_type": "markdown",
   "metadata": {},
   "source": [
    "Distribution of POS tags\n",
    "---"
   ]
  },
  {
   "cell_type": "code",
   "execution_count": 13,
   "metadata": {
    "collapsed": false
   },
   "outputs": [
    {
     "data": {
      "text/html": [
       "<div>\n",
       "<table border=\"1\" class=\"dataframe\">\n",
       "  <thead>\n",
       "    <tr style=\"text-align: right;\">\n",
       "      <th></th>\n",
       "      <th>counts</th>\n",
       "      <th>tags</th>\n",
       "    </tr>\n",
       "  </thead>\n",
       "  <tbody>\n",
       "    <tr>\n",
       "      <th>0</th>\n",
       "      <td>6016</td>\n",
       "      <td>JJ</td>\n",
       "    </tr>\n",
       "    <tr>\n",
       "      <th>1</th>\n",
       "      <td>4498</td>\n",
       "      <td>NN</td>\n",
       "    </tr>\n",
       "    <tr>\n",
       "      <th>2</th>\n",
       "      <td>2277</td>\n",
       "      <td>DT</td>\n",
       "    </tr>\n",
       "    <tr>\n",
       "      <th>3</th>\n",
       "      <td>1151</td>\n",
       "      <td>IN</td>\n",
       "    </tr>\n",
       "    <tr>\n",
       "      <th>4</th>\n",
       "      <td>1104</td>\n",
       "      <td>RB</td>\n",
       "    </tr>\n",
       "    <tr>\n",
       "      <th>5</th>\n",
       "      <td>839</td>\n",
       "      <td>CD</td>\n",
       "    </tr>\n",
       "    <tr>\n",
       "      <th>6</th>\n",
       "      <td>832</td>\n",
       "      <td>FW</td>\n",
       "    </tr>\n",
       "    <tr>\n",
       "      <th>7</th>\n",
       "      <td>832</td>\n",
       "      <td>.</td>\n",
       "    </tr>\n",
       "    <tr>\n",
       "      <th>8</th>\n",
       "      <td>655</td>\n",
       "      <td>VBZ</td>\n",
       "    </tr>\n",
       "    <tr>\n",
       "      <th>9</th>\n",
       "      <td>593</td>\n",
       "      <td>PRP</td>\n",
       "    </tr>\n",
       "    <tr>\n",
       "      <th>10</th>\n",
       "      <td>549</td>\n",
       "      <td>JJS</td>\n",
       "    </tr>\n",
       "    <tr>\n",
       "      <th>11</th>\n",
       "      <td>538</td>\n",
       "      <td>,</td>\n",
       "    </tr>\n",
       "    <tr>\n",
       "      <th>12</th>\n",
       "      <td>528</td>\n",
       "      <td>JJR</td>\n",
       "    </tr>\n",
       "    <tr>\n",
       "      <th>13</th>\n",
       "      <td>495</td>\n",
       "      <td>CC</td>\n",
       "    </tr>\n",
       "    <tr>\n",
       "      <th>14</th>\n",
       "      <td>433</td>\n",
       "      <td>NNP</td>\n",
       "    </tr>\n",
       "    <tr>\n",
       "      <th>15</th>\n",
       "      <td>394</td>\n",
       "      <td>NNS</td>\n",
       "    </tr>\n",
       "    <tr>\n",
       "      <th>16</th>\n",
       "      <td>374</td>\n",
       "      <td>VB</td>\n",
       "    </tr>\n",
       "    <tr>\n",
       "      <th>17</th>\n",
       "      <td>309</td>\n",
       "      <td>VBP</td>\n",
       "    </tr>\n",
       "    <tr>\n",
       "      <th>18</th>\n",
       "      <td>213</td>\n",
       "      <td>RBR</td>\n",
       "    </tr>\n",
       "    <tr>\n",
       "      <th>19</th>\n",
       "      <td>205</td>\n",
       "      <td>TO</td>\n",
       "    </tr>\n",
       "    <tr>\n",
       "      <th>20</th>\n",
       "      <td>139</td>\n",
       "      <td>WDT</td>\n",
       "    </tr>\n",
       "    <tr>\n",
       "      <th>21</th>\n",
       "      <td>135</td>\n",
       "      <td>RBS</td>\n",
       "    </tr>\n",
       "    <tr>\n",
       "      <th>22</th>\n",
       "      <td>118</td>\n",
       "      <td>VBN</td>\n",
       "    </tr>\n",
       "    <tr>\n",
       "      <th>23</th>\n",
       "      <td>117</td>\n",
       "      <td>PRP$</td>\n",
       "    </tr>\n",
       "    <tr>\n",
       "      <th>24</th>\n",
       "      <td>116</td>\n",
       "      <td>VBD</td>\n",
       "    </tr>\n",
       "    <tr>\n",
       "      <th>25</th>\n",
       "      <td>108</td>\n",
       "      <td>VBG</td>\n",
       "    </tr>\n",
       "    <tr>\n",
       "      <th>26</th>\n",
       "      <td>106</td>\n",
       "      <td>:</td>\n",
       "    </tr>\n",
       "    <tr>\n",
       "      <th>27</th>\n",
       "      <td>84</td>\n",
       "      <td>MD</td>\n",
       "    </tr>\n",
       "    <tr>\n",
       "      <th>28</th>\n",
       "      <td>83</td>\n",
       "      <td>UH</td>\n",
       "    </tr>\n",
       "    <tr>\n",
       "      <th>29</th>\n",
       "      <td>77</td>\n",
       "      <td>-RRB-</td>\n",
       "    </tr>\n",
       "    <tr>\n",
       "      <th>30</th>\n",
       "      <td>46</td>\n",
       "      <td>-LRB-</td>\n",
       "    </tr>\n",
       "    <tr>\n",
       "      <th>31</th>\n",
       "      <td>30</td>\n",
       "      <td>RP</td>\n",
       "    </tr>\n",
       "    <tr>\n",
       "      <th>32</th>\n",
       "      <td>22</td>\n",
       "      <td>EX</td>\n",
       "    </tr>\n",
       "    <tr>\n",
       "      <th>33</th>\n",
       "      <td>19</td>\n",
       "      <td>WRB</td>\n",
       "    </tr>\n",
       "    <tr>\n",
       "      <th>34</th>\n",
       "      <td>19</td>\n",
       "      <td>LS</td>\n",
       "    </tr>\n",
       "    <tr>\n",
       "      <th>35</th>\n",
       "      <td>18</td>\n",
       "      <td>WP</td>\n",
       "    </tr>\n",
       "    <tr>\n",
       "      <th>36</th>\n",
       "      <td>18</td>\n",
       "      <td>SYM</td>\n",
       "    </tr>\n",
       "    <tr>\n",
       "      <th>37</th>\n",
       "      <td>15</td>\n",
       "      <td>POS</td>\n",
       "    </tr>\n",
       "    <tr>\n",
       "      <th>38</th>\n",
       "      <td>12</td>\n",
       "      <td>''</td>\n",
       "    </tr>\n",
       "    <tr>\n",
       "      <th>39</th>\n",
       "      <td>11</td>\n",
       "      <td>``</td>\n",
       "    </tr>\n",
       "    <tr>\n",
       "      <th>40</th>\n",
       "      <td>9</td>\n",
       "      <td>NNPS</td>\n",
       "    </tr>\n",
       "    <tr>\n",
       "      <th>41</th>\n",
       "      <td>1</td>\n",
       "      <td>#</td>\n",
       "    </tr>\n",
       "    <tr>\n",
       "      <th>42</th>\n",
       "      <td>1</td>\n",
       "      <td>PDT</td>\n",
       "    </tr>\n",
       "  </tbody>\n",
       "</table>\n",
       "</div>"
      ],
      "text/plain": [
       "    counts   tags\n",
       "0     6016     JJ\n",
       "1     4498     NN\n",
       "2     2277     DT\n",
       "3     1151     IN\n",
       "4     1104     RB\n",
       "5      839     CD\n",
       "6      832     FW\n",
       "7      832      .\n",
       "8      655    VBZ\n",
       "9      593    PRP\n",
       "10     549    JJS\n",
       "11     538      ,\n",
       "12     528    JJR\n",
       "13     495     CC\n",
       "14     433    NNP\n",
       "15     394    NNS\n",
       "16     374     VB\n",
       "17     309    VBP\n",
       "18     213    RBR\n",
       "19     205     TO\n",
       "20     139    WDT\n",
       "21     135    RBS\n",
       "22     118    VBN\n",
       "23     117   PRP$\n",
       "24     116    VBD\n",
       "25     108    VBG\n",
       "26     106      :\n",
       "27      84     MD\n",
       "28      83     UH\n",
       "29      77  -RRB-\n",
       "30      46  -LRB-\n",
       "31      30     RP\n",
       "32      22     EX\n",
       "33      19    WRB\n",
       "34      19     LS\n",
       "35      18     WP\n",
       "36      18    SYM\n",
       "37      15    POS\n",
       "38      12     ''\n",
       "39      11     ``\n",
       "40       9   NNPS\n",
       "41       1      #\n",
       "42       1    PDT"
      ]
     },
     "execution_count": 13,
     "metadata": {},
     "output_type": "execute_result"
    }
   ],
   "source": [
    "from collections import Counter\n",
    "tag_dist = Counter([pos for sent in tags['lemmas'] for word, pos in eval(sent)])\n",
    "tag_vals, counts = zip(*tag_dist.most_common())\n",
    "pd.DataFrame({'tags': tag_vals, 'counts': counts})"
   ]
  },
  {
   "cell_type": "markdown",
   "metadata": {},
   "source": [
    "Distribution of words\n",
    "---"
   ]
  },
  {
   "cell_type": "code",
   "execution_count": 14,
   "metadata": {
    "collapsed": false
   },
   "outputs": [
    {
     "data": {
      "text/html": [
       "<div>\n",
       "<table border=\"1\" class=\"dataframe\">\n",
       "  <thead>\n",
       "    <tr style=\"text-align: right;\">\n",
       "      <th></th>\n",
       "      <th>counts</th>\n",
       "      <th>tags</th>\n",
       "    </tr>\n",
       "  </thead>\n",
       "  <tbody>\n",
       "    <tr>\n",
       "      <th>0</th>\n",
       "      <td>1656</td>\n",
       "      <td>(the, DT)</td>\n",
       "    </tr>\n",
       "    <tr>\n",
       "      <th>1</th>\n",
       "      <td>1012</td>\n",
       "      <td>(green, JJ)</td>\n",
       "    </tr>\n",
       "    <tr>\n",
       "      <th>2</th>\n",
       "      <td>772</td>\n",
       "      <td>(~, FW)</td>\n",
       "    </tr>\n",
       "    <tr>\n",
       "      <th>3</th>\n",
       "      <td>744</td>\n",
       "      <td>(purple, JJ)</td>\n",
       "    </tr>\n",
       "    <tr>\n",
       "      <th>4</th>\n",
       "      <td>606</td>\n",
       "      <td>(not, RB)</td>\n",
       "    </tr>\n",
       "    <tr>\n",
       "      <th>5</th>\n",
       "      <td>584</td>\n",
       "      <td>(blue, JJ)</td>\n",
       "    </tr>\n",
       "    <tr>\n",
       "      <th>6</th>\n",
       "      <td>538</td>\n",
       "      <td>(,, ,)</td>\n",
       "    </tr>\n",
       "    <tr>\n",
       "      <th>7</th>\n",
       "      <td>513</td>\n",
       "      <td>(., .)</td>\n",
       "    </tr>\n",
       "    <tr>\n",
       "      <th>8</th>\n",
       "      <td>506</td>\n",
       "      <td>(one, CD)</td>\n",
       "    </tr>\n",
       "    <tr>\n",
       "      <th>9</th>\n",
       "      <td>447</td>\n",
       "      <td>(color, NN)</td>\n",
       "    </tr>\n",
       "    <tr>\n",
       "      <th>10</th>\n",
       "      <td>434</td>\n",
       "      <td>(of, IN)</td>\n",
       "    </tr>\n",
       "    <tr>\n",
       "      <th>11</th>\n",
       "      <td>432</td>\n",
       "      <td>(bright, JJ)</td>\n",
       "    </tr>\n",
       "    <tr>\n",
       "      <th>12</th>\n",
       "      <td>404</td>\n",
       "      <td>(is, VBZ)</td>\n",
       "    </tr>\n",
       "    <tr>\n",
       "      <th>13</th>\n",
       "      <td>362</td>\n",
       "      <td>(pink, NN)</td>\n",
       "    </tr>\n",
       "    <tr>\n",
       "      <th>14</th>\n",
       "      <td>307</td>\n",
       "      <td>(grey, JJ)</td>\n",
       "    </tr>\n",
       "    <tr>\n",
       "      <th>15</th>\n",
       "      <td>284</td>\n",
       "      <td>(~, NN)</td>\n",
       "    </tr>\n",
       "    <tr>\n",
       "      <th>16</th>\n",
       "      <td>277</td>\n",
       "      <td>(a, DT)</td>\n",
       "    </tr>\n",
       "    <tr>\n",
       "      <th>17</th>\n",
       "      <td>267</td>\n",
       "      <td>(gray, JJ)</td>\n",
       "    </tr>\n",
       "    <tr>\n",
       "      <th>18</th>\n",
       "      <td>237</td>\n",
       "      <td>(it, PRP)</td>\n",
       "    </tr>\n",
       "    <tr>\n",
       "      <th>19</th>\n",
       "      <td>225</td>\n",
       "      <td>(or, CC)</td>\n",
       "    </tr>\n",
       "    <tr>\n",
       "      <th>20</th>\n",
       "      <td>220</td>\n",
       "      <td>(darker, JJR)</td>\n",
       "    </tr>\n",
       "    <tr>\n",
       "      <th>21</th>\n",
       "      <td>213</td>\n",
       "      <td>(?, .)</td>\n",
       "    </tr>\n",
       "    <tr>\n",
       "      <th>22</th>\n",
       "      <td>204</td>\n",
       "      <td>(to, TO)</td>\n",
       "    </tr>\n",
       "    <tr>\n",
       "      <th>23</th>\n",
       "      <td>202</td>\n",
       "      <td>(yellow, JJ)</td>\n",
       "    </tr>\n",
       "    <tr>\n",
       "      <th>24</th>\n",
       "      <td>200</td>\n",
       "      <td>(blue, NN)</td>\n",
       "    </tr>\n",
       "    <tr>\n",
       "      <th>25</th>\n",
       "      <td>174</td>\n",
       "      <td>(brightest, JJS)</td>\n",
       "    </tr>\n",
       "    <tr>\n",
       "      <th>26</th>\n",
       "      <td>168</td>\n",
       "      <td>(brown, JJ)</td>\n",
       "    </tr>\n",
       "    <tr>\n",
       "      <th>27</th>\n",
       "      <td>160</td>\n",
       "      <td>(and, CC)</td>\n",
       "    </tr>\n",
       "    <tr>\n",
       "      <th>28</th>\n",
       "      <td>152</td>\n",
       "      <td>(this, DT)</td>\n",
       "    </tr>\n",
       "    <tr>\n",
       "      <th>29</th>\n",
       "      <td>151</td>\n",
       "      <td>(more, RBR)</td>\n",
       "    </tr>\n",
       "    <tr>\n",
       "      <th>...</th>\n",
       "      <td>...</td>\n",
       "      <td>...</td>\n",
       "    </tr>\n",
       "    <tr>\n",
       "      <th>2021</th>\n",
       "      <td>1</td>\n",
       "      <td>(commonly, RB)</td>\n",
       "    </tr>\n",
       "    <tr>\n",
       "      <th>2022</th>\n",
       "      <td>1</td>\n",
       "      <td>(knew, VBD)</td>\n",
       "    </tr>\n",
       "    <tr>\n",
       "      <th>2023</th>\n",
       "      <td>1</td>\n",
       "      <td>(nweird, NN)</td>\n",
       "    </tr>\n",
       "    <tr>\n",
       "      <th>2024</th>\n",
       "      <td>1</td>\n",
       "      <td>(forgetting, VBG)</td>\n",
       "    </tr>\n",
       "    <tr>\n",
       "      <th>2025</th>\n",
       "      <td>1</td>\n",
       "      <td>(bit, RB)</td>\n",
       "    </tr>\n",
       "    <tr>\n",
       "      <th>2026</th>\n",
       "      <td>1</td>\n",
       "      <td>(sunflower, NN)</td>\n",
       "    </tr>\n",
       "    <tr>\n",
       "      <th>2027</th>\n",
       "      <td>1</td>\n",
       "      <td>(whereas, IN)</td>\n",
       "    </tr>\n",
       "    <tr>\n",
       "      <th>2028</th>\n",
       "      <td>1</td>\n",
       "      <td>(gentle, JJ)</td>\n",
       "    </tr>\n",
       "    <tr>\n",
       "      <th>2029</th>\n",
       "      <td>1</td>\n",
       "      <td>(eally, RB)</td>\n",
       "    </tr>\n",
       "    <tr>\n",
       "      <th>2030</th>\n",
       "      <td>1</td>\n",
       "      <td>(toward, IN)</td>\n",
       "    </tr>\n",
       "    <tr>\n",
       "      <th>2031</th>\n",
       "      <td>1</td>\n",
       "      <td>(specify, VB)</td>\n",
       "    </tr>\n",
       "    <tr>\n",
       "      <th>2032</th>\n",
       "      <td>1</td>\n",
       "      <td>(redder, JJR)</td>\n",
       "    </tr>\n",
       "    <tr>\n",
       "      <th>2033</th>\n",
       "      <td>1</td>\n",
       "      <td>(tats, NNS)</td>\n",
       "    </tr>\n",
       "    <tr>\n",
       "      <th>2034</th>\n",
       "      <td>1</td>\n",
       "      <td>(youre, NN)</td>\n",
       "    </tr>\n",
       "    <tr>\n",
       "      <th>2035</th>\n",
       "      <td>1</td>\n",
       "      <td>(yellowist, NN)</td>\n",
       "    </tr>\n",
       "    <tr>\n",
       "      <th>2036</th>\n",
       "      <td>1</td>\n",
       "      <td>(works, VBZ)</td>\n",
       "    </tr>\n",
       "    <tr>\n",
       "      <th>2037</th>\n",
       "      <td>1</td>\n",
       "      <td>(heathered, JJ)</td>\n",
       "    </tr>\n",
       "    <tr>\n",
       "      <th>2038</th>\n",
       "      <td>1</td>\n",
       "      <td>(brightest, NNP)</td>\n",
       "    </tr>\n",
       "    <tr>\n",
       "      <th>2039</th>\n",
       "      <td>1</td>\n",
       "      <td>(pinky-orange, JJ)</td>\n",
       "    </tr>\n",
       "    <tr>\n",
       "      <th>2040</th>\n",
       "      <td>1</td>\n",
       "      <td>(oraange, NN)</td>\n",
       "    </tr>\n",
       "    <tr>\n",
       "      <th>2041</th>\n",
       "      <td>1</td>\n",
       "      <td>(ye, PRP)</td>\n",
       "    </tr>\n",
       "    <tr>\n",
       "      <th>2042</th>\n",
       "      <td>1</td>\n",
       "      <td>(idiot, NN)</td>\n",
       "    </tr>\n",
       "    <tr>\n",
       "      <th>2043</th>\n",
       "      <td>1</td>\n",
       "      <td>(ticket, NN)</td>\n",
       "    </tr>\n",
       "    <tr>\n",
       "      <th>2044</th>\n",
       "      <td>1</td>\n",
       "      <td>(ta, NN)</td>\n",
       "    </tr>\n",
       "    <tr>\n",
       "      <th>2045</th>\n",
       "      <td>1</td>\n",
       "      <td>(wait, VB)</td>\n",
       "    </tr>\n",
       "    <tr>\n",
       "      <th>2046</th>\n",
       "      <td>1</td>\n",
       "      <td>(greeb, NN)</td>\n",
       "    </tr>\n",
       "    <tr>\n",
       "      <th>2047</th>\n",
       "      <td>1</td>\n",
       "      <td>(running, VBG)</td>\n",
       "    </tr>\n",
       "    <tr>\n",
       "      <th>2048</th>\n",
       "      <td>1</td>\n",
       "      <td>(pinky, NN)</td>\n",
       "    </tr>\n",
       "    <tr>\n",
       "      <th>2049</th>\n",
       "      <td>1</td>\n",
       "      <td>(slate/grey, NN)</td>\n",
       "    </tr>\n",
       "    <tr>\n",
       "      <th>2050</th>\n",
       "      <td>1</td>\n",
       "      <td>(descriptive, JJ)</td>\n",
       "    </tr>\n",
       "  </tbody>\n",
       "</table>\n",
       "<p>2051 rows × 2 columns</p>\n",
       "</div>"
      ],
      "text/plain": [
       "      counts                tags\n",
       "0       1656           (the, DT)\n",
       "1       1012         (green, JJ)\n",
       "2        772             (~, FW)\n",
       "3        744        (purple, JJ)\n",
       "4        606           (not, RB)\n",
       "5        584          (blue, JJ)\n",
       "6        538              (,, ,)\n",
       "7        513              (., .)\n",
       "8        506           (one, CD)\n",
       "9        447         (color, NN)\n",
       "10       434            (of, IN)\n",
       "11       432        (bright, JJ)\n",
       "12       404           (is, VBZ)\n",
       "13       362          (pink, NN)\n",
       "14       307          (grey, JJ)\n",
       "15       284             (~, NN)\n",
       "16       277             (a, DT)\n",
       "17       267          (gray, JJ)\n",
       "18       237           (it, PRP)\n",
       "19       225            (or, CC)\n",
       "20       220       (darker, JJR)\n",
       "21       213              (?, .)\n",
       "22       204            (to, TO)\n",
       "23       202        (yellow, JJ)\n",
       "24       200          (blue, NN)\n",
       "25       174    (brightest, JJS)\n",
       "26       168         (brown, JJ)\n",
       "27       160           (and, CC)\n",
       "28       152          (this, DT)\n",
       "29       151         (more, RBR)\n",
       "...      ...                 ...\n",
       "2021       1      (commonly, RB)\n",
       "2022       1         (knew, VBD)\n",
       "2023       1        (nweird, NN)\n",
       "2024       1   (forgetting, VBG)\n",
       "2025       1           (bit, RB)\n",
       "2026       1     (sunflower, NN)\n",
       "2027       1       (whereas, IN)\n",
       "2028       1        (gentle, JJ)\n",
       "2029       1         (eally, RB)\n",
       "2030       1        (toward, IN)\n",
       "2031       1       (specify, VB)\n",
       "2032       1       (redder, JJR)\n",
       "2033       1         (tats, NNS)\n",
       "2034       1         (youre, NN)\n",
       "2035       1     (yellowist, NN)\n",
       "2036       1        (works, VBZ)\n",
       "2037       1     (heathered, JJ)\n",
       "2038       1    (brightest, NNP)\n",
       "2039       1  (pinky-orange, JJ)\n",
       "2040       1       (oraange, NN)\n",
       "2041       1           (ye, PRP)\n",
       "2042       1         (idiot, NN)\n",
       "2043       1        (ticket, NN)\n",
       "2044       1            (ta, NN)\n",
       "2045       1          (wait, VB)\n",
       "2046       1         (greeb, NN)\n",
       "2047       1      (running, VBG)\n",
       "2048       1         (pinky, NN)\n",
       "2049       1    (slate/grey, NN)\n",
       "2050       1   (descriptive, JJ)\n",
       "\n",
       "[2051 rows x 2 columns]"
      ]
     },
     "execution_count": 14,
     "metadata": {},
     "output_type": "execute_result"
    }
   ],
   "source": [
    "from collections import Counter\n",
    "tag_dist = Counter([(word.lower(), pos) for sent in tags['lemmas'] for word, pos in eval(sent)])\n",
    "tag_vals, counts = zip(*tag_dist.most_common())\n",
    "pd.DataFrame({'tags': tag_vals, 'counts': counts})"
   ]
  },
  {
   "cell_type": "markdown",
   "metadata": {},
   "source": [
    "Distribution of adverbs\n",
    "---"
   ]
  },
  {
   "cell_type": "code",
   "execution_count": 15,
   "metadata": {
    "collapsed": false
   },
   "outputs": [
    {
     "data": {
      "text/html": [
       "<div>\n",
       "<table border=\"1\" class=\"dataframe\">\n",
       "  <thead>\n",
       "    <tr style=\"text-align: right;\">\n",
       "      <th></th>\n",
       "      <th>counts</th>\n",
       "      <th>tags</th>\n",
       "    </tr>\n",
       "  </thead>\n",
       "  <tbody>\n",
       "    <tr>\n",
       "      <th>0</th>\n",
       "      <td>606</td>\n",
       "      <td>not</td>\n",
       "    </tr>\n",
       "    <tr>\n",
       "      <th>1</th>\n",
       "      <td>50</td>\n",
       "      <td>again</td>\n",
       "    </tr>\n",
       "    <tr>\n",
       "      <th>2</th>\n",
       "      <td>37</td>\n",
       "      <td>n't</td>\n",
       "    </tr>\n",
       "    <tr>\n",
       "      <th>3</th>\n",
       "      <td>34</td>\n",
       "      <td>yes</td>\n",
       "    </tr>\n",
       "    <tr>\n",
       "      <th>4</th>\n",
       "      <td>28</td>\n",
       "      <td>very</td>\n",
       "    </tr>\n",
       "    <tr>\n",
       "      <th>5</th>\n",
       "      <td>27</td>\n",
       "      <td>here</td>\n",
       "    </tr>\n",
       "    <tr>\n",
       "      <th>6</th>\n",
       "      <td>25</td>\n",
       "      <td>slightly</td>\n",
       "    </tr>\n",
       "    <tr>\n",
       "      <th>7</th>\n",
       "      <td>20</td>\n",
       "      <td>just</td>\n",
       "    </tr>\n",
       "    <tr>\n",
       "      <th>8</th>\n",
       "      <td>20</td>\n",
       "      <td>really</td>\n",
       "    </tr>\n",
       "    <tr>\n",
       "      <th>9</th>\n",
       "      <td>20</td>\n",
       "      <td>so</td>\n",
       "    </tr>\n",
       "    <tr>\n",
       "      <th>10</th>\n",
       "      <td>19</td>\n",
       "      <td>almost</td>\n",
       "    </tr>\n",
       "    <tr>\n",
       "      <th>11</th>\n",
       "      <td>15</td>\n",
       "      <td>too</td>\n",
       "    </tr>\n",
       "    <tr>\n",
       "      <th>12</th>\n",
       "      <td>13</td>\n",
       "      <td>then</td>\n",
       "    </tr>\n",
       "    <tr>\n",
       "      <th>13</th>\n",
       "      <td>10</td>\n",
       "      <td>maybe</td>\n",
       "    </tr>\n",
       "    <tr>\n",
       "      <th>14</th>\n",
       "      <td>10</td>\n",
       "      <td>well</td>\n",
       "    </tr>\n",
       "    <tr>\n",
       "      <th>15</th>\n",
       "      <td>9</td>\n",
       "      <td>sorry</td>\n",
       "    </tr>\n",
       "    <tr>\n",
       "      <th>16</th>\n",
       "      <td>9</td>\n",
       "      <td>close</td>\n",
       "    </tr>\n",
       "    <tr>\n",
       "      <th>17</th>\n",
       "      <td>8</td>\n",
       "      <td>right</td>\n",
       "    </tr>\n",
       "    <tr>\n",
       "      <th>18</th>\n",
       "      <td>8</td>\n",
       "      <td>hard</td>\n",
       "    </tr>\n",
       "    <tr>\n",
       "      <th>19</th>\n",
       "      <td>7</td>\n",
       "      <td>~</td>\n",
       "    </tr>\n",
       "    <tr>\n",
       "      <th>20</th>\n",
       "      <td>7</td>\n",
       "      <td>also</td>\n",
       "    </tr>\n",
       "    <tr>\n",
       "      <th>21</th>\n",
       "      <td>5</td>\n",
       "      <td>only</td>\n",
       "    </tr>\n",
       "    <tr>\n",
       "      <th>22</th>\n",
       "      <td>5</td>\n",
       "      <td>now</td>\n",
       "    </tr>\n",
       "    <tr>\n",
       "      <th>23</th>\n",
       "      <td>5</td>\n",
       "      <td>quite</td>\n",
       "    </tr>\n",
       "    <tr>\n",
       "      <th>24</th>\n",
       "      <td>5</td>\n",
       "      <td>far</td>\n",
       "    </tr>\n",
       "    <tr>\n",
       "      <th>25</th>\n",
       "      <td>4</td>\n",
       "      <td>pretty</td>\n",
       "    </tr>\n",
       "    <tr>\n",
       "      <th>26</th>\n",
       "      <td>4</td>\n",
       "      <td>probably</td>\n",
       "    </tr>\n",
       "    <tr>\n",
       "      <th>27</th>\n",
       "      <td>4</td>\n",
       "      <td>exactly</td>\n",
       "    </tr>\n",
       "    <tr>\n",
       "      <th>28</th>\n",
       "      <td>3</td>\n",
       "      <td>actually</td>\n",
       "    </tr>\n",
       "    <tr>\n",
       "      <th>29</th>\n",
       "      <td>3</td>\n",
       "      <td>differently</td>\n",
       "    </tr>\n",
       "    <tr>\n",
       "      <th>...</th>\n",
       "      <td>...</td>\n",
       "      <td>...</td>\n",
       "    </tr>\n",
       "    <tr>\n",
       "      <th>70</th>\n",
       "      <td>1</td>\n",
       "      <td>little</td>\n",
       "    </tr>\n",
       "    <tr>\n",
       "      <th>71</th>\n",
       "      <td>1</td>\n",
       "      <td>long</td>\n",
       "    </tr>\n",
       "    <tr>\n",
       "      <th>72</th>\n",
       "      <td>1</td>\n",
       "      <td>hummm</td>\n",
       "    </tr>\n",
       "    <tr>\n",
       "      <th>73</th>\n",
       "      <td>1</td>\n",
       "      <td>ahhh</td>\n",
       "    </tr>\n",
       "    <tr>\n",
       "      <th>74</th>\n",
       "      <td>1</td>\n",
       "      <td>eally</td>\n",
       "    </tr>\n",
       "    <tr>\n",
       "      <th>75</th>\n",
       "      <td>1</td>\n",
       "      <td>plain</td>\n",
       "    </tr>\n",
       "    <tr>\n",
       "      <th>76</th>\n",
       "      <td>1</td>\n",
       "      <td>loud</td>\n",
       "    </tr>\n",
       "    <tr>\n",
       "      <th>77</th>\n",
       "      <td>1</td>\n",
       "      <td>up</td>\n",
       "    </tr>\n",
       "    <tr>\n",
       "      <th>78</th>\n",
       "      <td>1</td>\n",
       "      <td>um</td>\n",
       "    </tr>\n",
       "    <tr>\n",
       "      <th>79</th>\n",
       "      <td>1</td>\n",
       "      <td>uh</td>\n",
       "    </tr>\n",
       "    <tr>\n",
       "      <th>80</th>\n",
       "      <td>1</td>\n",
       "      <td>damned</td>\n",
       "    </tr>\n",
       "    <tr>\n",
       "      <th>81</th>\n",
       "      <td>1</td>\n",
       "      <td>theres</td>\n",
       "    </tr>\n",
       "    <tr>\n",
       "      <th>82</th>\n",
       "      <td>1</td>\n",
       "      <td>deep</td>\n",
       "    </tr>\n",
       "    <tr>\n",
       "      <th>83</th>\n",
       "      <td>1</td>\n",
       "      <td>randomly</td>\n",
       "    </tr>\n",
       "    <tr>\n",
       "      <th>84</th>\n",
       "      <td>1</td>\n",
       "      <td>im</td>\n",
       "    </tr>\n",
       "    <tr>\n",
       "      <th>85</th>\n",
       "      <td>1</td>\n",
       "      <td>alike</td>\n",
       "    </tr>\n",
       "    <tr>\n",
       "      <th>86</th>\n",
       "      <td>1</td>\n",
       "      <td>clearly</td>\n",
       "    </tr>\n",
       "    <tr>\n",
       "      <th>87</th>\n",
       "      <td>1</td>\n",
       "      <td>mostly</td>\n",
       "    </tr>\n",
       "    <tr>\n",
       "      <th>88</th>\n",
       "      <td>1</td>\n",
       "      <td>rather</td>\n",
       "    </tr>\n",
       "    <tr>\n",
       "      <th>89</th>\n",
       "      <td>1</td>\n",
       "      <td>nah</td>\n",
       "    </tr>\n",
       "    <tr>\n",
       "      <th>90</th>\n",
       "      <td>1</td>\n",
       "      <td>whew</td>\n",
       "    </tr>\n",
       "    <tr>\n",
       "      <th>91</th>\n",
       "      <td>1</td>\n",
       "      <td>eww</td>\n",
       "    </tr>\n",
       "    <tr>\n",
       "      <th>92</th>\n",
       "      <td>1</td>\n",
       "      <td>extremely</td>\n",
       "    </tr>\n",
       "    <tr>\n",
       "      <th>93</th>\n",
       "      <td>1</td>\n",
       "      <td>ago</td>\n",
       "    </tr>\n",
       "    <tr>\n",
       "      <th>94</th>\n",
       "      <td>1</td>\n",
       "      <td>forever</td>\n",
       "    </tr>\n",
       "    <tr>\n",
       "      <th>95</th>\n",
       "      <td>1</td>\n",
       "      <td>sometimes</td>\n",
       "    </tr>\n",
       "    <tr>\n",
       "      <th>96</th>\n",
       "      <td>1</td>\n",
       "      <td>perhaps</td>\n",
       "    </tr>\n",
       "    <tr>\n",
       "      <th>97</th>\n",
       "      <td>1</td>\n",
       "      <td>once</td>\n",
       "    </tr>\n",
       "    <tr>\n",
       "      <th>98</th>\n",
       "      <td>1</td>\n",
       "      <td>typically</td>\n",
       "    </tr>\n",
       "    <tr>\n",
       "      <th>99</th>\n",
       "      <td>1</td>\n",
       "      <td>left</td>\n",
       "    </tr>\n",
       "  </tbody>\n",
       "</table>\n",
       "<p>100 rows × 2 columns</p>\n",
       "</div>"
      ],
      "text/plain": [
       "    counts         tags\n",
       "0      606          not\n",
       "1       50        again\n",
       "2       37          n't\n",
       "3       34          yes\n",
       "4       28         very\n",
       "5       27         here\n",
       "6       25     slightly\n",
       "7       20         just\n",
       "8       20       really\n",
       "9       20           so\n",
       "10      19       almost\n",
       "11      15          too\n",
       "12      13         then\n",
       "13      10        maybe\n",
       "14      10         well\n",
       "15       9        sorry\n",
       "16       9        close\n",
       "17       8        right\n",
       "18       8         hard\n",
       "19       7            ~\n",
       "20       7         also\n",
       "21       5         only\n",
       "22       5          now\n",
       "23       5        quite\n",
       "24       5          far\n",
       "25       4       pretty\n",
       "26       4     probably\n",
       "27       4      exactly\n",
       "28       3     actually\n",
       "29       3  differently\n",
       "..     ...          ...\n",
       "70       1       little\n",
       "71       1         long\n",
       "72       1        hummm\n",
       "73       1         ahhh\n",
       "74       1        eally\n",
       "75       1        plain\n",
       "76       1         loud\n",
       "77       1           up\n",
       "78       1           um\n",
       "79       1           uh\n",
       "80       1       damned\n",
       "81       1       theres\n",
       "82       1         deep\n",
       "83       1     randomly\n",
       "84       1           im\n",
       "85       1        alike\n",
       "86       1      clearly\n",
       "87       1       mostly\n",
       "88       1       rather\n",
       "89       1          nah\n",
       "90       1         whew\n",
       "91       1          eww\n",
       "92       1    extremely\n",
       "93       1          ago\n",
       "94       1      forever\n",
       "95       1    sometimes\n",
       "96       1      perhaps\n",
       "97       1         once\n",
       "98       1    typically\n",
       "99       1         left\n",
       "\n",
       "[100 rows x 2 columns]"
      ]
     },
     "execution_count": 15,
     "metadata": {},
     "output_type": "execute_result"
    }
   ],
   "source": [
    "from collections import Counter\n",
    "tag_dist = Counter([word.lower() for sent in tags['lemmas'] for word, pos in eval(sent) if pos == 'RB'])\n",
    "tag_vals, counts = zip(*tag_dist.most_common())\n",
    "pd.DataFrame({'tags': tag_vals, 'counts': counts})"
   ]
  },
  {
   "cell_type": "markdown",
   "metadata": {},
   "source": [
    "Accuracy by various features\n",
    "---"
   ]
  },
  {
   "cell_type": "code",
   "execution_count": 16,
   "metadata": {
    "collapsed": true
   },
   "outputs": [],
   "source": [
    "def accuracy_by_feature(output, func):\n",
    "    output['feature_val'] = [func(sent) for sent in output['lemmas']]\n",
    "    group_nums = sorted(set(output['feature_val']))\n",
    "    groups = [output.query(\"feature_val == {}\".format(repr(num)))\n",
    "              for num in group_nums]\n",
    "    accs = np.array([sum(g['outcome']) * 100.0 / len(g) for g in groups])\n",
    "    errs = np.array([3000.0 / len(g) for g in groups])\n",
    "    lower_errs = np.minimum(accs, errs)\n",
    "    upper_errs = np.minimum(100.0 - accs, errs)\n",
    "    return group_nums, accs, [lower_errs, upper_errs]\n",
    "\n",
    "def plot_accuracy_by_feature(func, outputs, keys, colors, save=None):\n",
    "    width = 0.2\n",
    "    all_nums = set()\n",
    "    for i, (output, color) in enumerate(zip(outputs, colors)):\n",
    "        nums, accs, errs = accuracy_by_feature(output, func)\n",
    "        plt.bar(np.array(nums) + i * width, accs, width, color=color, yerr=errs, ecolor='k')\n",
    "        plt.ylim([0, 100])\n",
    "        all_nums.update(nums)\n",
    "    all_nums = sorted(all_nums)\n",
    "    plt.xticks(np.array(all_nums) + len(outputs) * 0.5 * width, [str(n) for n in all_nums])\n",
    "    plt.legend(keys, loc='lower left')\n",
    "    if save is not None:\n",
    "        plt.savefig(os.path.expanduser(save), format='eps', bbox_inches='tight')"
   ]
  },
  {
   "cell_type": "code",
   "execution_count": 17,
   "metadata": {
    "collapsed": true
   },
   "outputs": [],
   "source": [
    "def num_negations(sent):\n",
    "    return sum([w.lower() in ('not', \"n't\") for w, _ in eval(sent)])\n",
    "\n",
    "def ind_negations(sent):\n",
    "    return int(sum([w.lower() in ('not', \"n't\") for w, _ in eval(sent)]) > 0)"
   ]
  },
  {
   "cell_type": "code",
   "execution_count": 18,
   "metadata": {
    "collapsed": false
   },
   "outputs": [
    {
     "data": {
      "image/png": "[encoded data removed]",
      "text/plain": [
       "<matplotlib.figure.Figure at 0x7fae3985a2d0>"
      ]
     },
     "metadata": {},
     "output_type": "display_data"
    }
   ],
   "source": [
    "plot_accuracy_by_feature(num_negations, [h, l2, l0], ['h', 'l2', 'l0'], ['b', 'g', 'r'])"
   ]
  },
  {
   "cell_type": "code",
   "execution_count": 19,
   "metadata": {
    "collapsed": false
   },
   "outputs": [
    {
     "data": {
      "image/png": "[encoded data removed]",
      "text/plain": [
       "<matplotlib.figure.Figure at 0x7fae03c4cc50>"
      ]
     },
     "metadata": {},
     "output_type": "display_data"
    }
   ],
   "source": [
    "plot_accuracy_by_feature(ind_negations, [h, l2, l0], ['h', 'l2', 'l0'], ['b', 'g', 'r'])"
   ]
  },
  {
   "cell_type": "code",
   "execution_count": 20,
   "metadata": {
    "collapsed": false
   },
   "outputs": [
    {
     "data": {
      "image/png": "[encoded data removed]",
      "text/plain": [
       "<matplotlib.figure.Figure at 0x7fae01cc2190>"
      ]
     },
     "metadata": {},
     "output_type": "display_data"
    }
   ],
   "source": [
    "def num_nouns(sent):\n",
    "    return sum([p in (\"NN\", \"NNS\") for w, p in eval(sent)])\n",
    "\n",
    "plot_accuracy_by_feature(num_nouns, [h, l2, l0], ['h', 'l2', 'l0'], ['b', 'g', 'r'])"
   ]
  },
  {
   "cell_type": "code",
   "execution_count": 21,
   "metadata": {
    "collapsed": false
   },
   "outputs": [
    {
     "data": {
      "image/png": "[encoded data removed]",
      "text/plain": [
       "<matplotlib.figure.Figure at 0x7fae03c2c090>"
      ]
     },
     "metadata": {},
     "output_type": "display_data"
    }
   ],
   "source": [
    "def ind_noun(sent):\n",
    "    return int(sum([p in (\"NN\", \"NNS\") for w, p in eval(sent)]) > 0)\n",
    "\n",
    "plot_accuracy_by_feature(ind_noun, [h, l2, l0], ['h', 'l2', 'l0'], ['b', 'g', 'r'])"
   ]
  },
  {
   "cell_type": "code",
   "execution_count": 22,
   "metadata": {
    "collapsed": false
   },
   "outputs": [
    {
     "data": {
      "image/png": "[encoded data removed]",
      "text/plain": [
       "<matplotlib.figure.Figure at 0x7fae01dab890>"
      ]
     },
     "metadata": {},
     "output_type": "display_data"
    }
   ],
   "source": [
    "def ind_dt(sent):\n",
    "    return int(sum([p == 'DT' for w, p in eval(sent)]) > 0)\n",
    "\n",
    "plot_accuracy_by_feature(ind_dt, [h, l2, l0], ['h', 'l2', 'l0'], ['b', 'g', 'r'])"
   ]
  },
  {
   "cell_type": "code",
   "execution_count": 23,
   "metadata": {
    "collapsed": false
   },
   "outputs": [
    {
     "data": {
      "image/png": "[encoded data removed]",
      "text/plain": [
       "<matplotlib.figure.Figure at 0x7fae01d98150>"
      ]
     },
     "metadata": {},
     "output_type": "display_data"
    }
   ],
   "source": [
    "def ind_superlative(sent):\n",
    "    return int(sum([p == \"JJS\" for w, p in eval(sent)]) > 0)\n",
    "\n",
    "plot_accuracy_by_feature(ind_superlative, [h, l2, l0], ['h', 'l2', 'l0'], ['b', 'g', 'r'])"
   ]
  },
  {
   "cell_type": "code",
   "execution_count": 24,
   "metadata": {
    "collapsed": false
   },
   "outputs": [
    {
     "data": {
      "image/png": "[encoded data removed]",
      "text/plain": [
       "<matplotlib.figure.Figure at 0x7fae019877d0>"
      ]
     },
     "metadata": {},
     "output_type": "display_data"
    }
   ],
   "source": [
    "def ind_comparative(sent):\n",
    "    return int(sum([p == \"JJR\" for w, p in eval(sent)]) > 0)\n",
    "\n",
    "plot_accuracy_by_feature(ind_comparative, [h, l2, l0], ['h', 'l2', 'l0'], ['b', 'g', 'r'])"
   ]
  },
  {
   "cell_type": "code",
   "execution_count": 25,
   "metadata": {
    "collapsed": false
   },
   "outputs": [
    {
     "data": {
      "image/png": "[encoded data removed]",
      "text/plain": [
       "<matplotlib.figure.Figure at 0x7fae0197b050>"
      ]
     },
     "metadata": {},
     "output_type": "display_data"
    }
   ],
   "source": [
    "def length_bucket(sent):\n",
    "    return int(len(eval(sent)) > 6)\n",
    "\n",
    "plot_accuracy_by_feature(length_bucket, [h, l2, l0], ['human', 'L2', 'L0'], ['b', 'g', 'r'], save='~/byLength.eps')"
   ]
  },
  {
   "cell_type": "code",
   "execution_count": 26,
   "metadata": {
    "collapsed": false
   },
   "outputs": [
    {
     "data": {
      "image/png": "[encoded data removed]",
      "text/plain": [
       "<matplotlib.figure.Figure at 0x7fae01e53190>"
      ]
     },
     "metadata": {},
     "output_type": "display_data"
    }
   ],
   "source": [
    "def length_cross_negations(sent):\n",
    "    return 2 * length_bucket(sent) + ind_negations(sent)\n",
    "\n",
    "plot_accuracy_by_feature(length_cross_negations, [h, l2, l0], ['h', 'l2', 'l0'], ['b', 'g', 'r'])"
   ]
  },
  {
   "cell_type": "code",
   "execution_count": 27,
   "metadata": {
    "collapsed": false
   },
   "outputs": [
    {
     "data": {
      "image/png": "[encoded data removed]",
      "text/plain": [
       "<matplotlib.figure.Figure at 0x7fae03fb6750>"
      ]
     },
     "metadata": {},
     "output_type": "display_data"
    }
   ],
   "source": [
    "def length_cross_comparative(sent):\n",
    "    return 2 * length_bucket(sent) + ind_comparative(sent)\n",
    "\n",
    "plot_accuracy_by_feature(length_cross_comparative, [h, l2, l0], ['h', 'l2', 'l0'], ['b', 'g', 'r'])"
   ]
  },
  {
   "cell_type": "code",
   "execution_count": 28,
   "metadata": {
    "collapsed": false
   },
   "outputs": [
    {
     "data": {
      "image/png": "[encoded data removed]",
      "text/plain": [
       "<matplotlib.figure.Figure at 0x7fae01a4f150>"
      ]
     },
     "metadata": {},
     "output_type": "display_data"
    }
   ],
   "source": [
    "def length_cross_noun(sent):\n",
    "    return 2 * length_bucket(sent) + ind_noun(sent)\n",
    "\n",
    "plot_accuracy_by_feature(length_cross_noun, [h, l2, l0], ['h', 'l2', 'l0'], ['b', 'g', 'r'])"
   ]
  },
  {
   "cell_type": "code",
   "execution_count": 29,
   "metadata": {
    "collapsed": false
   },
   "outputs": [
    {
     "data": {
      "image/png": "[encoded data removed]",
      "text/plain": [
       "<matplotlib.figure.Figure at 0x7fae01c59110>"
      ]
     },
     "metadata": {},
     "output_type": "display_data"
    }
   ],
   "source": [
    "def length_cross_dt(sent):\n",
    "    return 2 * length_bucket(sent) + ind_dt(sent)\n",
    "\n",
    "plot_accuracy_by_feature(length_cross_dt, [h, l2, l0], ['h', 'l2', 'l0'], ['b', 'g', 'r'])"
   ]
  },
  {
   "cell_type": "markdown",
   "metadata": {
    "collapsed": true
   },
   "source": [
    "When do the two models differ?\n",
    "---"
   ]
  },
  {
   "cell_type": "code",
   "execution_count": 30,
   "metadata": {
    "collapsed": false
   },
   "outputs": [
    {
     "data": {
      "text/plain": [
       "(41, 33)"
      ]
     },
     "execution_count": 30,
     "metadata": {},
     "output_type": "execute_result"
    }
   ],
   "source": [
    "def drop_irrelevant(df):\n",
    "    return df.drop(['numComp', 'numSuper', 'feature_val'], 1)\n",
    "\n",
    "improved = (pd.merge(drop_irrelevant(l0), drop_irrelevant(l2), on=['gameid', 'roundNum'], suffixes=['_l0', '_l2'])\n",
    "              .drop(['contents_l2', 'lemmas_l2', 'condition_l2'], 1)\n",
    "              .query('outcome_l2 > outcome_l0'))\n",
    "declined = (pd.merge(drop_irrelevant(l0), drop_irrelevant(l2), on=['gameid', 'roundNum'], suffixes=['_l0', '_l2'])\n",
    "              .drop(['contents_l2', 'lemmas_l2', 'condition_l2'], 1)\n",
    "              .query('outcome_l2 < outcome_l0'))\n",
    "len(improved), len(declined)"
   ]
  },
  {
   "cell_type": "code",
   "execution_count": 31,
   "metadata": {
    "collapsed": false
   },
   "outputs": [
    {
     "data": {
      "text/html": [
       "<div>\n",
       "<table border=\"1\" class=\"dataframe\">\n",
       "  <thead>\n",
       "    <tr style=\"text-align: right;\">\n",
       "      <th></th>\n",
       "      <th>tag</th>\n",
       "      <th>relRate</th>\n",
       "    </tr>\n",
       "  </thead>\n",
       "  <tbody>\n",
       "    <tr>\n",
       "      <th>7</th>\n",
       "      <td>DT</td>\n",
       "      <td>-0.054503</td>\n",
       "    </tr>\n",
       "    <tr>\n",
       "      <th>8</th>\n",
       "      <td>FW</td>\n",
       "      <td>-0.022140</td>\n",
       "    </tr>\n",
       "    <tr>\n",
       "      <th>9</th>\n",
       "      <td>IN</td>\n",
       "      <td>-0.018980</td>\n",
       "    </tr>\n",
       "    <tr>\n",
       "      <th>11</th>\n",
       "      <td>JJR</td>\n",
       "      <td>-0.016261</td>\n",
       "    </tr>\n",
       "    <tr>\n",
       "      <th>5</th>\n",
       "      <td>CC</td>\n",
       "      <td>-0.011476</td>\n",
       "    </tr>\n",
       "    <tr>\n",
       "      <th>25</th>\n",
       "      <td>TO</td>\n",
       "      <td>-0.011070</td>\n",
       "    </tr>\n",
       "    <tr>\n",
       "      <th>27</th>\n",
       "      <td>VB</td>\n",
       "      <td>-0.007786</td>\n",
       "    </tr>\n",
       "    <tr>\n",
       "      <th>4</th>\n",
       "      <td>:</td>\n",
       "      <td>-0.007380</td>\n",
       "    </tr>\n",
       "    <tr>\n",
       "      <th>31</th>\n",
       "      <td>VBZ</td>\n",
       "      <td>-0.007098</td>\n",
       "    </tr>\n",
       "    <tr>\n",
       "      <th>3</th>\n",
       "      <td>.</td>\n",
       "      <td>-0.007098</td>\n",
       "    </tr>\n",
       "    <tr>\n",
       "      <th>0</th>\n",
       "      <td>,</td>\n",
       "      <td>-0.006692</td>\n",
       "    </tr>\n",
       "    <tr>\n",
       "      <th>15</th>\n",
       "      <td>NNP</td>\n",
       "      <td>-0.004502</td>\n",
       "    </tr>\n",
       "    <tr>\n",
       "      <th>28</th>\n",
       "      <td>VBD</td>\n",
       "      <td>-0.003690</td>\n",
       "    </tr>\n",
       "    <tr>\n",
       "      <th>24</th>\n",
       "      <td>SYM</td>\n",
       "      <td>-0.003690</td>\n",
       "    </tr>\n",
       "    <tr>\n",
       "      <th>16</th>\n",
       "      <td>NNPS</td>\n",
       "      <td>-0.003690</td>\n",
       "    </tr>\n",
       "    <tr>\n",
       "      <th>33</th>\n",
       "      <td>WP</td>\n",
       "      <td>-0.003690</td>\n",
       "    </tr>\n",
       "    <tr>\n",
       "      <th>30</th>\n",
       "      <td>VBP</td>\n",
       "      <td>-0.002595</td>\n",
       "    </tr>\n",
       "    <tr>\n",
       "      <th>13</th>\n",
       "      <td>MD</td>\n",
       "      <td>-0.002595</td>\n",
       "    </tr>\n",
       "    <tr>\n",
       "      <th>29</th>\n",
       "      <td>VBN</td>\n",
       "      <td>0.001095</td>\n",
       "    </tr>\n",
       "    <tr>\n",
       "      <th>20</th>\n",
       "      <td>RB</td>\n",
       "      <td>0.001377</td>\n",
       "    </tr>\n",
       "    <tr>\n",
       "      <th>32</th>\n",
       "      <td>WDT</td>\n",
       "      <td>0.002189</td>\n",
       "    </tr>\n",
       "    <tr>\n",
       "      <th>18</th>\n",
       "      <td>PRP</td>\n",
       "      <td>0.003284</td>\n",
       "    </tr>\n",
       "    <tr>\n",
       "      <th>22</th>\n",
       "      <td>RBS</td>\n",
       "      <td>0.004785</td>\n",
       "    </tr>\n",
       "    <tr>\n",
       "      <th>23</th>\n",
       "      <td>RP</td>\n",
       "      <td>0.004785</td>\n",
       "    </tr>\n",
       "    <tr>\n",
       "      <th>2</th>\n",
       "      <td>-RRB-</td>\n",
       "      <td>0.004785</td>\n",
       "    </tr>\n",
       "    <tr>\n",
       "      <th>1</th>\n",
       "      <td>-LRB-</td>\n",
       "      <td>0.004785</td>\n",
       "    </tr>\n",
       "    <tr>\n",
       "      <th>19</th>\n",
       "      <td>PRP$</td>\n",
       "      <td>0.008069</td>\n",
       "    </tr>\n",
       "    <tr>\n",
       "      <th>26</th>\n",
       "      <td>UH</td>\n",
       "      <td>0.009569</td>\n",
       "    </tr>\n",
       "    <tr>\n",
       "      <th>12</th>\n",
       "      <td>JJS</td>\n",
       "      <td>0.013948</td>\n",
       "    </tr>\n",
       "    <tr>\n",
       "      <th>6</th>\n",
       "      <td>CD</td>\n",
       "      <td>0.014230</td>\n",
       "    </tr>\n",
       "    <tr>\n",
       "      <th>21</th>\n",
       "      <td>RBR</td>\n",
       "      <td>0.016543</td>\n",
       "    </tr>\n",
       "    <tr>\n",
       "      <th>17</th>\n",
       "      <td>NNS</td>\n",
       "      <td>0.020922</td>\n",
       "    </tr>\n",
       "    <tr>\n",
       "      <th>10</th>\n",
       "      <td>JJ</td>\n",
       "      <td>0.041473</td>\n",
       "    </tr>\n",
       "    <tr>\n",
       "      <th>14</th>\n",
       "      <td>NN</td>\n",
       "      <td>0.043098</td>\n",
       "    </tr>\n",
       "  </tbody>\n",
       "</table>\n",
       "</div>"
      ],
      "text/plain": [
       "      tag   relRate\n",
       "7      DT -0.054503\n",
       "8      FW -0.022140\n",
       "9      IN -0.018980\n",
       "11    JJR -0.016261\n",
       "5      CC -0.011476\n",
       "25     TO -0.011070\n",
       "27     VB -0.007786\n",
       "4       : -0.007380\n",
       "31    VBZ -0.007098\n",
       "3       . -0.007098\n",
       "0       , -0.006692\n",
       "15    NNP -0.004502\n",
       "28    VBD -0.003690\n",
       "24    SYM -0.003690\n",
       "16   NNPS -0.003690\n",
       "33     WP -0.003690\n",
       "30    VBP -0.002595\n",
       "13     MD -0.002595\n",
       "29    VBN  0.001095\n",
       "20     RB  0.001377\n",
       "32    WDT  0.002189\n",
       "18    PRP  0.003284\n",
       "22    RBS  0.004785\n",
       "23     RP  0.004785\n",
       "2   -RRB-  0.004785\n",
       "1   -LRB-  0.004785\n",
       "19   PRP$  0.008069\n",
       "26     UH  0.009569\n",
       "12    JJS  0.013948\n",
       "6      CD  0.014230\n",
       "21    RBR  0.016543\n",
       "17    NNS  0.020922\n",
       "10     JJ  0.041473\n",
       "14     NN  0.043098"
      ]
     },
     "execution_count": 31,
     "metadata": {},
     "output_type": "execute_result"
    }
   ],
   "source": [
    "def count_tags(output):\n",
    "    all_tags = [p for sent in output['lemmas_l0'] for w, p in eval(sent)]\n",
    "    return pd.Series(all_tags).value_counts() / (1.0 * len(all_tags))\n",
    "\n",
    "pd.DataFrame(list(count_tags(improved).sub(count_tags(declined), fill_value=0.0)\n",
    "                                      .iteritems()),\n",
    "             columns=['tag', 'relRate']).sort_values(by='relRate')"
   ]
  },
  {
   "cell_type": "markdown",
   "metadata": {},
   "source": [
    "WordNet color terms\n",
    "---"
   ]
  },
  {
   "cell_type": "code",
   "execution_count": 32,
   "metadata": {
    "collapsed": false
   },
   "outputs": [],
   "source": [
    "from nltk.corpus import wordnet as wn"
   ]
  },
  {
   "cell_type": "code",
   "execution_count": 33,
   "metadata": {
    "collapsed": false
   },
   "outputs": [],
   "source": [
    "def all_hyponyms(syn):\n",
    "    hypo_syns = syn.closure(lambda s: s.hyponyms())\n",
    "    return [str(lemma.name()).replace('_', ' ')\n",
    "            for s in hypo_syns for lemma in s.lemmas()]\n",
    "\n",
    "wn_color_terms = set(all_hyponyms(wn.synset('color.n.01')))"
   ]
  },
  {
   "cell_type": "code",
   "execution_count": 34,
   "metadata": {
    "collapsed": false
   },
   "outputs": [
    {
     "data": {
      "image/png": "[encoded data removed]",
      "text/plain": [
       "<matplotlib.figure.Figure at 0x7fae019bbd10>"
      ]
     },
     "metadata": {},
     "output_type": "display_data"
    }
   ],
   "source": [
    "def ind_color_term(sent):\n",
    "    space_joined = ' '.join(w for w, p in eval(sent))\n",
    "    return any(c in space_joined for c in wn_color_terms)\n",
    "\n",
    "plot_accuracy_by_feature(ind_color_term, [h, l2, l0], ['h', 'l2', 'l0'], ['b', 'g', 'r'])"
   ]
  },
  {
   "cell_type": "markdown",
   "metadata": {},
   "source": [
    "Length and specificity\n",
    "---"
   ]
  },
  {
   "cell_type": "code",
   "execution_count": 35,
   "metadata": {
    "collapsed": false
   },
   "outputs": [],
   "source": [
    "# http://stackoverflow.com/a/21276920/4481448\n",
    "\n",
    "def rand_jitter(arr):\n",
    "    stdev = .01*(max(arr)-min(arr))\n",
    "    return arr + np.random.randn(len(arr)) * stdev\n",
    "\n",
    "def jitter(x, y, s=20, c='b', marker='o', cmap=None, norm=None, vmin=None, vmax=None, alpha=None, linewidths=None, verts=None, hold=None, **kwargs):\n",
    "    return plt.scatter(rand_jitter(x), rand_jitter(y), s=s, c=c, marker=marker, cmap=cmap, norm=norm, vmin=vmin, vmax=vmax, alpha=alpha, linewidths=linewidths, verts=verts, hold=hold, **kwargs)"
   ]
  },
  {
   "cell_type": "code",
   "execution_count": 36,
   "metadata": {
    "collapsed": true
   },
   "outputs": [],
   "source": [
    "def length_cost(row):\n",
    "    return len(eval(row['lemmas']))\n",
    "\n",
    "def cost_by_condition(cost_fn, output):\n",
    "    conditions = [['equal', 'further', 'closer'].index(row['condition'])\n",
    "                  for index, row in output.iterrows()]\n",
    "    length = [cost_fn(row) for index, row in output.iterrows()]\n",
    "    return np.array(conditions), np.array(length)\n",
    "\n",
    "def plot_cost_by_condition(cost_fn, output):\n",
    "    conditions, length = cost_by_condition(cost_fn, output)\n",
    "    jitter(conditions, length)\n",
    "    plt.xticks(sorted(set(conditions)), ['equal', 'further', 'closer'])\n",
    "    plt.xlabel('Condition')\n",
    "    plt.ylabel('Length')\n",
    "    plt.show()"
   ]
  },
  {
   "cell_type": "code",
   "execution_count": 37,
   "metadata": {
    "collapsed": false
   },
   "outputs": [
    {
     "data": {
      "image/png": "[encoded data removed]",
      "text/plain": [
       "<matplotlib.figure.Figure at 0x7fade2fb7fd0>"
      ]
     },
     "metadata": {},
     "output_type": "display_data"
    }
   ],
   "source": [
    "plot_cost_by_condition(length_cost, h)"
   ]
  },
  {
   "cell_type": "code",
   "execution_count": 60,
   "metadata": {
    "collapsed": false
   },
   "outputs": [],
   "source": [
    "from sklearn.linear_model import LogisticRegression\n",
    "\n",
    "def accuracy_by_cost(cost_fn, output):\n",
    "    length = np.array([cost_fn(row) for index, row in output.iterrows()])\n",
    "    accuracy = output['outcome'].astype(np.int)\n",
    "    return length, accuracy\n",
    "\n",
    "def plot_logistic_reg(length, accuracy):\n",
    "    # TODO\n",
    "    lr = LogisticRegression(C=1., solver='lbfgs')\n",
    "    lr.fit(np.log(np.maximum(1., length[:, np.newaxis])), accuracy)\n",
    "    inputs = np.arange(1., 130., 0.1)\n",
    "    probs = lr.predict_proba(np.log(inputs[:, np.newaxis]))[:, 1]\n",
    "    plt.plot(inputs, probs)\n",
    "\n",
    "def plot_accuracy_by_cost(cost_fn, output, plot_fit_fn):\n",
    "    length, accuracy = accuracy_by_cost(cost_fn, output)\n",
    "    plt.scatter(length, accuracy)\n",
    "    plot_fit_fn(length, accuracy)\n",
    "    plt.xlabel('Length')\n",
    "    plt.ylabel('Accuracy')\n",
    "    plt.show()"
   ]
  },
  {
   "cell_type": "code",
   "execution_count": 61,
   "metadata": {
    "collapsed": false
   },
   "outputs": [
    {
     "data": {
      "image/png": "[encoded data removed]",
      "text/plain": [
       "<matplotlib.figure.Figure at 0x7faddd9b7790>"
      ]
     },
     "metadata": {},
     "output_type": "display_data"
    }
   ],
   "source": [
    "plot_accuracy_by_cost(length_cost, h, plot_logistic_reg)"
   ]
  },
  {
   "cell_type": "code",
   "execution_count": 62,
   "metadata": {
    "collapsed": false
   },
   "outputs": [
    {
     "data": {
      "image/png": "[encoded data removed]",
      "text/plain": [
       "<matplotlib.figure.Figure at 0x7fadde1c4750>"
      ]
     },
     "metadata": {},
     "output_type": "display_data"
    }
   ],
   "source": [
    "def lm_score_cost(row):\n",
    "    words = [w for w, t in eval(row['lemmas'])]\n",
    "    return -lm.score(' '.join(words))\n",
    "\n",
    "plot_accuracy_by_cost(lm_score_cost, h, plot_logistic_reg)"
   ]
  },
  {
   "cell_type": "code",
   "execution_count": 70,
   "metadata": {
    "collapsed": false
   },
   "outputs": [
    {
     "data": {
      "image/png": "[encoded data removed]",
      "text/plain": [
       "<matplotlib.figure.Figure at 0x7fadde2f3590>"
      ]
     },
     "metadata": {},
     "output_type": "display_data"
    }
   ],
   "source": [
    "class LocalRegression(object):\n",
    "    def __init__(self, x, y, alpha=None):\n",
    "        self.x = np.array(x)\n",
    "        self.y = np.array(y)\n",
    "        if alpha is not None:\n",
    "            self.alpha = alpha\n",
    "        else:\n",
    "            self.alpha = self.tune_alpha()\n",
    "\n",
    "    def tune_alpha(self):\n",
    "        # Find the scale to search over\n",
    "        diffs = np.abs(self.x[:, np.newaxis] - self.x[np.newaxis, :])\n",
    "        #diffs[diffs <= 1e-6] = float('inf')\n",
    "        #min_alpha = np.min(diffs)\n",
    "        min_alpha = np.mean(diffs) / 10.\n",
    "        max_alpha = (np.max(self.x) - np.min(self.x)) / 2.\n",
    "        # Search on linearly spaced intervals\n",
    "        search_vals = np.linspace(min_alpha, max_alpha, 10)\n",
    "        # Minimize LOOCV cross-entropy\n",
    "        costs = []\n",
    "        for alpha in search_vals:\n",
    "            c = self.cost(alpha)\n",
    "            if not np.isfinite(c):\n",
    "                c = float('inf')\n",
    "            costs.append(c)\n",
    "            print('%.3e: %.3e' % (alpha, c))\n",
    "        return search_vals[np.argmin(costs)]\n",
    "    \n",
    "    def cost(self, alpha):\n",
    "        n = len(self.x)\n",
    "        z = (self.x[:, np.newaxis] - self.x[np.newaxis, :]) / alpha\n",
    "        weights = np.exp(-z ** 2.0)\n",
    "        # Leave-one-out cross-validation \n",
    "        weights[np.arange(n), np.arange(n)] = 0.\n",
    "        probas = (weights * self.y[np.newaxis, :]).sum(axis=1) / weights.sum(axis=1)\n",
    "        return -(self.y * np.log(probas) + (1. - self.y) * np.log(1. - probas)).sum()\n",
    "\n",
    "    def predict_proba(self, x):\n",
    "        z = (x[:, np.newaxis] - self.x[np.newaxis, :]) / self.alpha\n",
    "        weights = np.exp(-z ** 2.0)\n",
    "        return (weights * self.y[np.newaxis, :]).sum(axis=1) / weights.sum(axis=1)\n",
    "\n",
    "def plot_local(cost, accuracy):\n",
    "    reg = LocalRegression(cost, accuracy, alpha=10.0)\n",
    "    inputs = np.arange(1., 130., 0.1)\n",
    "    probs = reg.predict_proba(inputs)\n",
    "    plt.plot(inputs, probs)\n",
    "\n",
    "plot_accuracy_by_cost(lm_score_cost, h, plot_local)"
   ]
  },
  {
   "cell_type": "code",
   "execution_count": 71,
   "metadata": {
    "collapsed": false
   },
   "outputs": [
    {
     "data": {
      "image/png": "[encoded data removed]",
      "text/plain": [
       "<matplotlib.figure.Figure at 0x7fadde4c1c10>"
      ]
     },
     "metadata": {},
     "output_type": "display_data"
    }
   ],
   "source": [
    "plot_accuracy_by_cost(lm_score_cost, l0, plot_local)"
   ]
  },
  {
   "cell_type": "code",
   "execution_count": 72,
   "metadata": {
    "collapsed": false
   },
   "outputs": [
    {
     "data": {
      "image/png": "[encoded data removed]",
      "text/plain": [
       "<matplotlib.figure.Figure at 0x7fadddd210d0>"
      ]
     },
     "metadata": {},
     "output_type": "display_data"
    }
   ],
   "source": [
    "plot_accuracy_by_cost(lm_score_cost, l2, plot_local)"
   ]
  },
  {
   "cell_type": "code",
   "execution_count": 73,
   "metadata": {
    "collapsed": false
   },
   "outputs": [
    {
     "data": {
      "image/png": "[encoded data removed]",
      "text/plain": [
       "<matplotlib.figure.Figure at 0x7faddd630dd0>"
      ]
     },
     "metadata": {},
     "output_type": "display_data"
    }
   ],
   "source": [
    "def compare_local(cost_fn, output1, output2, plot_fit_fn):\n",
    "    cost, accuracy1 = accuracy_by_cost(cost_fn, output1)\n",
    "    _, accuracy2 = accuracy_by_cost(cost_fn, output2)\n",
    "    plot_fit_fn(cost, accuracy1)\n",
    "    plot_fit_fn(cost, accuracy2)\n",
    "    plt.xlabel('Length')\n",
    "    plt.ylabel('Accuracy')\n",
    "    plt.show()\n",
    "    \n",
    "compare_local(lm_score_cost, l2, l0, plot_local)"
   ]
  },
  {
   "cell_type": "code",
   "execution_count": null,
   "metadata": {
    "collapsed": true
   },
   "outputs": [],
   "source": []
  }
 ],
 "metadata": {
  "kernelspec": {
   "display_name": "Python 2",
   "language": "python",
   "name": "python2"
  },
  "language_info": {
   "codemirror_mode": {
    "name": "ipython",
    "version": 2
   },
   "file_extension": ".py",
   "mimetype": "text/x-python",
   "name": "python",
   "nbconvert_exporter": "python",
   "pygments_lexer": "ipython2",
   "version": "2.7.12"
  }
 },
 "nbformat": 4,
 "nbformat_minor": 0
}

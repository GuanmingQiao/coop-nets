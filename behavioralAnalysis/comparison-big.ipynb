{
 "cells": [
  {
   "cell_type": "code",
   "execution_count": 1,
   "metadata": {
    "collapsed": true
   },
   "outputs": [],
   "source": [
    "import matplotlib.pyplot as plt\n",
    "import numpy as np\n",
    "import pandas as pd\n",
    "import os\n",
    "import kenlm\n",
    "lm = kenlm.LanguageModel('kenlm.arpa')\n",
    "%matplotlib inline"
   ]
  },
  {
   "cell_type": "markdown",
   "metadata": {},
   "source": [
    "Load data\n",
    "---------"
   ]
  },
  {
   "cell_type": "code",
   "execution_count": 2,
   "metadata": {
    "collapsed": false
   },
   "outputs": [
    {
     "data": {
      "text/html": [
       "<div>\n",
       "<table border=\"1\" class=\"dataframe\">\n",
       "  <thead>\n",
       "    <tr style=\"text-align: right;\">\n",
       "      <th></th>\n",
       "      <th>gameid</th>\n",
       "      <th>time</th>\n",
       "      <th>roundNum</th>\n",
       "      <th>sender</th>\n",
       "      <th>contents</th>\n",
       "      <th>source</th>\n",
       "      <th>lemmas</th>\n",
       "      <th>numSuper</th>\n",
       "      <th>numComp</th>\n",
       "    </tr>\n",
       "  </thead>\n",
       "  <tbody>\n",
       "    <tr>\n",
       "      <th>0</th>\n",
       "      <td>1124-1</td>\n",
       "      <td>1459877203862</td>\n",
       "      <td>1</td>\n",
       "      <td>speaker</td>\n",
       "      <td>The darker blue one</td>\n",
       "      <td>human</td>\n",
       "      <td>[(u'The', u'DT'), (u'darker', u'JJR'), (u'blue...</td>\n",
       "      <td>0</td>\n",
       "      <td>1.0</td>\n",
       "    </tr>\n",
       "    <tr>\n",
       "      <th>1</th>\n",
       "      <td>1124-1</td>\n",
       "      <td>1459877214034</td>\n",
       "      <td>2</td>\n",
       "      <td>speaker</td>\n",
       "      <td>purple</td>\n",
       "      <td>human</td>\n",
       "      <td>[(u'purple', u'JJ')]</td>\n",
       "      <td>0</td>\n",
       "      <td>0.0</td>\n",
       "    </tr>\n",
       "    <tr>\n",
       "      <th>2</th>\n",
       "      <td>1124-1</td>\n",
       "      <td>1459877223719</td>\n",
       "      <td>3</td>\n",
       "      <td>speaker</td>\n",
       "      <td>Medium pink</td>\n",
       "      <td>human</td>\n",
       "      <td>[(u'Medium', u'NN'), (u'pink', u'NN')]</td>\n",
       "      <td>0</td>\n",
       "      <td>0.0</td>\n",
       "    </tr>\n",
       "    <tr>\n",
       "      <th>3</th>\n",
       "      <td>1124-1</td>\n",
       "      <td>1459877227433</td>\n",
       "      <td>3</td>\n",
       "      <td>speaker</td>\n",
       "      <td>the medium dark one</td>\n",
       "      <td>human</td>\n",
       "      <td>[(u'the', u'DT'), (u'medium', u'NN'), (u'dark'...</td>\n",
       "      <td>0</td>\n",
       "      <td>0.0</td>\n",
       "    </tr>\n",
       "    <tr>\n",
       "      <th>4</th>\n",
       "      <td>1124-1</td>\n",
       "      <td>1459877240480</td>\n",
       "      <td>4</td>\n",
       "      <td>speaker</td>\n",
       "      <td>lime</td>\n",
       "      <td>human</td>\n",
       "      <td>[(u'lime', u'NN')]</td>\n",
       "      <td>0</td>\n",
       "      <td>0.0</td>\n",
       "    </tr>\n",
       "  </tbody>\n",
       "</table>\n",
       "</div>"
      ],
      "text/plain": [
       "   gameid           time  roundNum   sender             contents source  \\\n",
       "0  1124-1  1459877203862         1  speaker  The darker blue one  human   \n",
       "1  1124-1  1459877214034         2  speaker               purple  human   \n",
       "2  1124-1  1459877223719         3  speaker          Medium pink  human   \n",
       "3  1124-1  1459877227433         3  speaker  the medium dark one  human   \n",
       "4  1124-1  1459877240480         4  speaker                 lime  human   \n",
       "\n",
       "                                              lemmas  numSuper  numComp  \n",
       "0  [(u'The', u'DT'), (u'darker', u'JJR'), (u'blue...         0      1.0  \n",
       "1                               [(u'purple', u'JJ')]         0      0.0  \n",
       "2             [(u'Medium', u'NN'), (u'pink', u'NN')]         0      0.0  \n",
       "3  [(u'the', u'DT'), (u'medium', u'NN'), (u'dark'...         0      0.0  \n",
       "4                                 [(u'lime', u'NN')]         0      0.0  "
      ]
     },
     "execution_count": 2,
     "metadata": {},
     "output_type": "execute_result"
    }
   ],
   "source": [
    "tags = pd.read_csv('taggedColorMsgs2.csv', escapechar='\\\\')\n",
    "tags.head()"
   ]
  },
  {
   "cell_type": "code",
   "execution_count": 3,
   "metadata": {
    "collapsed": true
   },
   "outputs": [],
   "source": [
    "def join_with_tilde(s):\n",
    "    if isinstance(s, list):\n",
    "        return ' ~ '.join(s)\n",
    "    else:\n",
    "        return ''\n",
    "\n",
    "old_eval = eval\n",
    "\n",
    "def shim_eval(s):\n",
    "    val = old_eval(s.replace('\\\\', '\\\\\\\\'))\n",
    "    if isinstance(val, list):\n",
    "        return val\n",
    "    else:\n",
    "        return []\n",
    "    \n",
    "eval = shim_eval\n",
    "\n",
    "\n",
    "def join_lemmas_lists(r):\n",
    "    result = []\n",
    "    for row in r:\n",
    "        val = old_eval(row.replace('\\\\', '\\\\\\\\'))\n",
    "        if isinstance(val, list):\n",
    "            result.extend(val)\n",
    "        else:\n",
    "            import warnings\n",
    "            warnings.warn('not a list: %s' % (val,))\n",
    "    return repr(result)\n",
    "\n",
    "def join_with_tagged(output, tags):\n",
    "    return (pd.merge(output, tags, on=['gameid', 'roundNum'])\n",
    "              .query(\"sender == 'speaker'\")[['gameid', 'roundNum', 'condition', 'outcome',\n",
    "                                             'contents', 'lemmas', 'numSuper', 'numComp']]\n",
    "              .groupby(['gameid', 'roundNum'])\n",
    "              .agg({'condition': 'first', 'outcome': 'first',\n",
    "                    'contents': join_with_tilde,\n",
    "                    'lemmas': join_lemmas_lists,\n",
    "                    'numSuper': 'sum', 'numComp': 'sum'})\n",
    "              .reset_index())"
   ]
  },
  {
   "cell_type": "code",
   "execution_count": 4,
   "metadata": {
    "collapsed": false
   },
   "outputs": [
    {
     "name": "stderr",
     "output_type": "stream",
     "text": [
      "/juicer/u87/u/nlp/packages/anaconda2/lib/python2.7/site-packages/ipykernel/__main__.py:27: UserWarning: not a list: 0\n"
     ]
    },
    {
     "data": {
      "text/html": [
       "<div>\n",
       "<table border=\"1\" class=\"dataframe\">\n",
       "  <thead>\n",
       "    <tr style=\"text-align: right;\">\n",
       "      <th></th>\n",
       "      <th>gameid</th>\n",
       "      <th>roundNum</th>\n",
       "      <th>numSuper</th>\n",
       "      <th>lemmas</th>\n",
       "      <th>condition</th>\n",
       "      <th>numComp</th>\n",
       "      <th>outcome</th>\n",
       "      <th>contents</th>\n",
       "    </tr>\n",
       "  </thead>\n",
       "  <tbody>\n",
       "    <tr>\n",
       "      <th>0</th>\n",
       "      <td>0022-7</td>\n",
       "      <td>1</td>\n",
       "      <td>1</td>\n",
       "      <td>[(u'blue', u'JJ'), (u',', u','), (u'sorry', u'...</td>\n",
       "      <td>closer</td>\n",
       "      <td>0.0</td>\n",
       "      <td>True</td>\n",
       "      <td></td>\n",
       "    </tr>\n",
       "    <tr>\n",
       "      <th>1</th>\n",
       "      <td>0022-7</td>\n",
       "      <td>2</td>\n",
       "      <td>0</td>\n",
       "      <td>[(u'brighter', u'JJR'), (u'blue', u'JJ'), (u'o...</td>\n",
       "      <td>closer</td>\n",
       "      <td>1.0</td>\n",
       "      <td>True</td>\n",
       "      <td></td>\n",
       "    </tr>\n",
       "    <tr>\n",
       "      <th>2</th>\n",
       "      <td>0022-7</td>\n",
       "      <td>3</td>\n",
       "      <td>0</td>\n",
       "      <td>[(u'long', u'RB'), (u'day', u'NN'), (u'here', ...</td>\n",
       "      <td>further</td>\n",
       "      <td>0.0</td>\n",
       "      <td>True</td>\n",
       "      <td></td>\n",
       "    </tr>\n",
       "    <tr>\n",
       "      <th>3</th>\n",
       "      <td>0022-7</td>\n",
       "      <td>4</td>\n",
       "      <td>0</td>\n",
       "      <td>[(u'more', u'JJR'), (u'of', u'IN'), (u'a', u'D...</td>\n",
       "      <td>further</td>\n",
       "      <td>1.0</td>\n",
       "      <td>True</td>\n",
       "      <td></td>\n",
       "    </tr>\n",
       "    <tr>\n",
       "      <th>4</th>\n",
       "      <td>0022-7</td>\n",
       "      <td>5</td>\n",
       "      <td>0</td>\n",
       "      <td>[(u'blue', u'JJ'), (u'blue', u'JJ')]</td>\n",
       "      <td>equal</td>\n",
       "      <td>0.0</td>\n",
       "      <td>True</td>\n",
       "      <td></td>\n",
       "    </tr>\n",
       "  </tbody>\n",
       "</table>\n",
       "</div>"
      ],
      "text/plain": [
       "   gameid  roundNum  numSuper  \\\n",
       "0  0022-7         1         1   \n",
       "1  0022-7         2         0   \n",
       "2  0022-7         3         0   \n",
       "3  0022-7         4         0   \n",
       "4  0022-7         5         0   \n",
       "\n",
       "                                              lemmas condition  numComp  \\\n",
       "0  [(u'blue', u'JJ'), (u',', u','), (u'sorry', u'...    closer      0.0   \n",
       "1  [(u'brighter', u'JJR'), (u'blue', u'JJ'), (u'o...    closer      1.0   \n",
       "2  [(u'long', u'RB'), (u'day', u'NN'), (u'here', ...   further      0.0   \n",
       "3  [(u'more', u'JJR'), (u'of', u'IN'), (u'a', u'D...   further      1.0   \n",
       "4               [(u'blue', u'JJ'), (u'blue', u'JJ')]     equal      0.0   \n",
       "\n",
       "  outcome contents  \n",
       "0    True           \n",
       "1    True           \n",
       "2    True           \n",
       "3    True           \n",
       "4    True           "
      ]
     },
     "execution_count": 4,
     "metadata": {},
     "output_type": "execute_result"
    }
   ],
   "source": [
    "l0 = join_with_tagged(pd.read_csv('modelOutput/listener_big_l0_untuned_clickedObj.csv', escapechar='\\\\'), tags)\n",
    "l0.head()"
   ]
  },
  {
   "cell_type": "code",
   "execution_count": 5,
   "metadata": {
    "collapsed": false,
    "scrolled": true
   },
   "outputs": [
    {
     "name": "stderr",
     "output_type": "stream",
     "text": [
      "/juicer/u87/u/nlp/packages/anaconda2/lib/python2.7/site-packages/ipykernel/__main__.py:27: UserWarning: not a list: 0\n"
     ]
    },
    {
     "data": {
      "text/html": [
       "<div>\n",
       "<table border=\"1\" class=\"dataframe\">\n",
       "  <thead>\n",
       "    <tr style=\"text-align: right;\">\n",
       "      <th></th>\n",
       "      <th>gameid</th>\n",
       "      <th>roundNum</th>\n",
       "      <th>numSuper</th>\n",
       "      <th>lemmas</th>\n",
       "      <th>condition</th>\n",
       "      <th>numComp</th>\n",
       "      <th>outcome</th>\n",
       "      <th>contents</th>\n",
       "    </tr>\n",
       "  </thead>\n",
       "  <tbody>\n",
       "    <tr>\n",
       "      <th>0</th>\n",
       "      <td>0022-7</td>\n",
       "      <td>1</td>\n",
       "      <td>1</td>\n",
       "      <td>[(u'blue', u'JJ'), (u',', u','), (u'sorry', u'...</td>\n",
       "      <td>closer</td>\n",
       "      <td>0.0</td>\n",
       "      <td>True</td>\n",
       "      <td></td>\n",
       "    </tr>\n",
       "    <tr>\n",
       "      <th>1</th>\n",
       "      <td>0022-7</td>\n",
       "      <td>2</td>\n",
       "      <td>0</td>\n",
       "      <td>[(u'brighter', u'JJR'), (u'blue', u'JJ'), (u'o...</td>\n",
       "      <td>closer</td>\n",
       "      <td>1.0</td>\n",
       "      <td>True</td>\n",
       "      <td></td>\n",
       "    </tr>\n",
       "    <tr>\n",
       "      <th>2</th>\n",
       "      <td>0022-7</td>\n",
       "      <td>3</td>\n",
       "      <td>0</td>\n",
       "      <td>[(u'long', u'RB'), (u'day', u'NN'), (u'here', ...</td>\n",
       "      <td>further</td>\n",
       "      <td>0.0</td>\n",
       "      <td>True</td>\n",
       "      <td></td>\n",
       "    </tr>\n",
       "    <tr>\n",
       "      <th>3</th>\n",
       "      <td>0022-7</td>\n",
       "      <td>4</td>\n",
       "      <td>0</td>\n",
       "      <td>[(u'more', u'JJR'), (u'of', u'IN'), (u'a', u'D...</td>\n",
       "      <td>further</td>\n",
       "      <td>1.0</td>\n",
       "      <td>True</td>\n",
       "      <td></td>\n",
       "    </tr>\n",
       "    <tr>\n",
       "      <th>4</th>\n",
       "      <td>0022-7</td>\n",
       "      <td>5</td>\n",
       "      <td>0</td>\n",
       "      <td>[(u'blue', u'JJ'), (u'blue', u'JJ')]</td>\n",
       "      <td>equal</td>\n",
       "      <td>0.0</td>\n",
       "      <td>True</td>\n",
       "      <td></td>\n",
       "    </tr>\n",
       "  </tbody>\n",
       "</table>\n",
       "</div>"
      ],
      "text/plain": [
       "   gameid  roundNum  numSuper  \\\n",
       "0  0022-7         1         1   \n",
       "1  0022-7         2         0   \n",
       "2  0022-7         3         0   \n",
       "3  0022-7         4         0   \n",
       "4  0022-7         5         0   \n",
       "\n",
       "                                              lemmas condition  numComp  \\\n",
       "0  [(u'blue', u'JJ'), (u',', u','), (u'sorry', u'...    closer      0.0   \n",
       "1  [(u'brighter', u'JJR'), (u'blue', u'JJ'), (u'o...    closer      1.0   \n",
       "2  [(u'long', u'RB'), (u'day', u'NN'), (u'here', ...   further      0.0   \n",
       "3  [(u'more', u'JJR'), (u'of', u'IN'), (u'a', u'D...   further      1.0   \n",
       "4               [(u'blue', u'JJ'), (u'blue', u'JJ')]     equal      0.0   \n",
       "\n",
       "  outcome contents  \n",
       "0    True           \n",
       "1    True           \n",
       "2    True           \n",
       "3    True           \n",
       "4    True           "
      ]
     },
     "execution_count": 5,
     "metadata": {},
     "output_type": "execute_result"
    }
   ],
   "source": [
    "l2 = join_with_tagged(pd.read_csv('modelOutput/listener_big_l2_heldout_clickedObj.csv', escapechar='\\\\'), tags)\n",
    "l2.head()"
   ]
  },
  {
   "cell_type": "code",
   "execution_count": 6,
   "metadata": {
    "collapsed": false
   },
   "outputs": [
    {
     "data": {
      "text/html": [
       "<div>\n",
       "<table border=\"1\" class=\"dataframe\">\n",
       "  <thead>\n",
       "    <tr style=\"text-align: right;\">\n",
       "      <th></th>\n",
       "      <th>gameid</th>\n",
       "      <th>time</th>\n",
       "      <th>roundNum</th>\n",
       "      <th>sender</th>\n",
       "      <th>contents</th>\n",
       "    </tr>\n",
       "  </thead>\n",
       "  <tbody>\n",
       "    <tr>\n",
       "      <th>0</th>\n",
       "      <td>1124-1</td>\n",
       "      <td>1459877203862</td>\n",
       "      <td>1</td>\n",
       "      <td>speaker</td>\n",
       "      <td>The darker blue one</td>\n",
       "    </tr>\n",
       "    <tr>\n",
       "      <th>1</th>\n",
       "      <td>1124-1</td>\n",
       "      <td>1459877214034</td>\n",
       "      <td>2</td>\n",
       "      <td>speaker</td>\n",
       "      <td>purple</td>\n",
       "    </tr>\n",
       "    <tr>\n",
       "      <th>2</th>\n",
       "      <td>1124-1</td>\n",
       "      <td>1459877223719</td>\n",
       "      <td>3</td>\n",
       "      <td>speaker</td>\n",
       "      <td>Medium pink</td>\n",
       "    </tr>\n",
       "    <tr>\n",
       "      <th>3</th>\n",
       "      <td>1124-1</td>\n",
       "      <td>1459877227433</td>\n",
       "      <td>3</td>\n",
       "      <td>speaker</td>\n",
       "      <td>the medium dark one</td>\n",
       "    </tr>\n",
       "    <tr>\n",
       "      <th>4</th>\n",
       "      <td>1124-1</td>\n",
       "      <td>1459877240480</td>\n",
       "      <td>4</td>\n",
       "      <td>speaker</td>\n",
       "      <td>lime</td>\n",
       "    </tr>\n",
       "  </tbody>\n",
       "</table>\n",
       "</div>"
      ],
      "text/plain": [
       "   gameid           time  roundNum   sender             contents\n",
       "0  1124-1  1459877203862         1  speaker  The darker blue one\n",
       "1  1124-1  1459877214034         2  speaker               purple\n",
       "2  1124-1  1459877223719         3  speaker          Medium pink\n",
       "3  1124-1  1459877227433         3  speaker  the medium dark one\n",
       "4  1124-1  1459877240480         4  speaker                 lime"
      ]
     },
     "execution_count": 6,
     "metadata": {},
     "output_type": "execute_result"
    }
   ],
   "source": [
    "u = pd.read_csv('humanOutput/colorReferenceMessage2.csv', escapechar='\\\\')\n",
    "u.head()"
   ]
  },
  {
   "cell_type": "code",
   "execution_count": 7,
   "metadata": {
    "collapsed": false
   },
   "outputs": [
    {
     "name": "stderr",
     "output_type": "stream",
     "text": [
      "/juicer/u87/u/nlp/packages/anaconda2/lib/python2.7/site-packages/ipykernel/__main__.py:27: UserWarning: not a list: 0\n"
     ]
    },
    {
     "data": {
      "text/html": [
       "<div>\n",
       "<table border=\"1\" class=\"dataframe\">\n",
       "  <thead>\n",
       "    <tr style=\"text-align: right;\">\n",
       "      <th></th>\n",
       "      <th>gameid</th>\n",
       "      <th>roundNum</th>\n",
       "      <th>numSuper</th>\n",
       "      <th>lemmas</th>\n",
       "      <th>condition</th>\n",
       "      <th>numComp</th>\n",
       "      <th>outcome</th>\n",
       "      <th>contents</th>\n",
       "    </tr>\n",
       "  </thead>\n",
       "  <tbody>\n",
       "    <tr>\n",
       "      <th>0</th>\n",
       "      <td>0002-7</td>\n",
       "      <td>1</td>\n",
       "      <td>0</td>\n",
       "      <td>[(u'purpleish', u'NN')]</td>\n",
       "      <td>closer</td>\n",
       "      <td>0.0</td>\n",
       "      <td>False</td>\n",
       "      <td></td>\n",
       "    </tr>\n",
       "    <tr>\n",
       "      <th>1</th>\n",
       "      <td>0002-7</td>\n",
       "      <td>2</td>\n",
       "      <td>0</td>\n",
       "      <td>[(u'grey', u'JJ')]</td>\n",
       "      <td>further</td>\n",
       "      <td>0.0</td>\n",
       "      <td>True</td>\n",
       "      <td></td>\n",
       "    </tr>\n",
       "    <tr>\n",
       "      <th>2</th>\n",
       "      <td>0002-7</td>\n",
       "      <td>3</td>\n",
       "      <td>0</td>\n",
       "      <td>[(u'not', u'RB'), (u'green', u'JJ'), (u'and', ...</td>\n",
       "      <td>closer</td>\n",
       "      <td>0.0</td>\n",
       "      <td>True</td>\n",
       "      <td></td>\n",
       "    </tr>\n",
       "    <tr>\n",
       "      <th>3</th>\n",
       "      <td>0002-7</td>\n",
       "      <td>4</td>\n",
       "      <td>0</td>\n",
       "      <td>[(u'grey', u'JJ'), (u'with', u'IN'), (u'a', u'...</td>\n",
       "      <td>closer</td>\n",
       "      <td>0.0</td>\n",
       "      <td>False</td>\n",
       "      <td></td>\n",
       "    </tr>\n",
       "    <tr>\n",
       "      <th>4</th>\n",
       "      <td>0002-7</td>\n",
       "      <td>5</td>\n",
       "      <td>0</td>\n",
       "      <td>[(u'darker', u'JJR'), (u'of', u'IN'), (u'the',...</td>\n",
       "      <td>closer</td>\n",
       "      <td>1.0</td>\n",
       "      <td>True</td>\n",
       "      <td></td>\n",
       "    </tr>\n",
       "  </tbody>\n",
       "</table>\n",
       "</div>"
      ],
      "text/plain": [
       "   gameid  roundNum  numSuper  \\\n",
       "0  0002-7         1         0   \n",
       "1  0002-7         2         0   \n",
       "2  0002-7         3         0   \n",
       "3  0002-7         4         0   \n",
       "4  0002-7         5         0   \n",
       "\n",
       "                                              lemmas condition  numComp  \\\n",
       "0                            [(u'purpleish', u'NN')]    closer      0.0   \n",
       "1                                 [(u'grey', u'JJ')]   further      0.0   \n",
       "2  [(u'not', u'RB'), (u'green', u'JJ'), (u'and', ...    closer      0.0   \n",
       "3  [(u'grey', u'JJ'), (u'with', u'IN'), (u'a', u'...    closer      0.0   \n",
       "4  [(u'darker', u'JJR'), (u'of', u'IN'), (u'the',...    closer      1.0   \n",
       "\n",
       "  outcome contents  \n",
       "0   False           \n",
       "1    True           \n",
       "2    True           \n",
       "3   False           \n",
       "4    True           "
      ]
     },
     "execution_count": 7,
     "metadata": {},
     "output_type": "execute_result"
    }
   ],
   "source": [
    "h = join_with_tagged(pd.read_csv('humanOutput/colorReferenceClicks2.csv', escapechar='\\\\'), tags)\n",
    "h.head()"
   ]
  },
  {
   "cell_type": "markdown",
   "metadata": {},
   "source": [
    "Overall accuracy values\n",
    "-----------------------"
   ]
  },
  {
   "cell_type": "code",
   "execution_count": 8,
   "metadata": {
    "collapsed": false
   },
   "outputs": [
    {
     "data": {
      "text/plain": [
       "89.866504854368927"
      ]
     },
     "execution_count": 8,
     "metadata": {},
     "output_type": "execute_result"
    }
   ],
   "source": [
    "sum(h['outcome']) * 100.0 / len(h)"
   ]
  },
  {
   "cell_type": "code",
   "execution_count": 9,
   "metadata": {
    "collapsed": false
   },
   "outputs": [
    {
     "data": {
      "text/plain": [
       "83.258190562067924"
      ]
     },
     "execution_count": 9,
     "metadata": {},
     "output_type": "execute_result"
    }
   ],
   "source": [
    "sum(l0['outcome']) * 100.0 / len(l0)"
   ]
  },
  {
   "cell_type": "code",
   "execution_count": 10,
   "metadata": {
    "collapsed": false
   },
   "outputs": [
    {
     "data": {
      "text/plain": [
       "83.979561166215817"
      ]
     },
     "execution_count": 10,
     "metadata": {},
     "output_type": "execute_result"
    }
   ],
   "source": [
    "sum(l2['outcome']) * 100.0 / len(l2)"
   ]
  },
  {
   "cell_type": "markdown",
   "metadata": {},
   "source": [
    "Accuracy by condition\n",
    "---"
   ]
  },
  {
   "cell_type": "code",
   "execution_count": 11,
   "metadata": {
    "collapsed": false
   },
   "outputs": [],
   "source": [
    "def accuracy_by_condition(output):\n",
    "    conditions = [output.query(\"condition == '{}'\".format(cname))\n",
    "                  for cname in ('equal', 'further', 'closer')]\n",
    "    return [sum(c['outcome']) * 100.0 / len(c)\n",
    "            for c in conditions]"
   ]
  },
  {
   "cell_type": "code",
   "execution_count": 12,
   "metadata": {
    "collapsed": false
   },
   "outputs": [
    {
     "data": {
      "image/png": "[encoded data removed]",
      "text/plain": [
       "<matplotlib.figure.Figure at 0x7f5ea46ab610>"
      ]
     },
     "metadata": {},
     "output_type": "display_data"
    }
   ],
   "source": [
    "for model in [h, l2, l0]:\n",
    "    plt.plot(np.arange(3) - 1, accuracy_by_condition(model))\n",
    "plt.legend(['human', 'L2', 'L0'])\n",
    "plt.xticks([-1, 0, 1], ['equal', 'further', 'closer'])\n",
    "plt.xlabel('Condition')\n",
    "plt.ylabel('Accuracy')\n",
    "plt.savefig(os.path.expanduser('~/allListenerAccuracy.eps'), format='eps', bbox_inches='tight')\n",
    "plt.show()"
   ]
  },
  {
   "cell_type": "markdown",
   "metadata": {},
   "source": [
    "Distribution of POS tags\n",
    "---"
   ]
  },
  {
   "cell_type": "code",
   "execution_count": 13,
   "metadata": {
    "collapsed": false
   },
   "outputs": [
    {
     "data": {
      "text/html": [
       "<div>\n",
       "<table border=\"1\" class=\"dataframe\">\n",
       "  <thead>\n",
       "    <tr style=\"text-align: right;\">\n",
       "      <th></th>\n",
       "      <th>counts</th>\n",
       "      <th>tags</th>\n",
       "    </tr>\n",
       "  </thead>\n",
       "  <tbody>\n",
       "    <tr>\n",
       "      <th>0</th>\n",
       "      <td>81146</td>\n",
       "      <td>JJ</td>\n",
       "    </tr>\n",
       "    <tr>\n",
       "      <th>1</th>\n",
       "      <td>44949</td>\n",
       "      <td>NN</td>\n",
       "    </tr>\n",
       "    <tr>\n",
       "      <th>2</th>\n",
       "      <td>21813</td>\n",
       "      <td>DT</td>\n",
       "    </tr>\n",
       "    <tr>\n",
       "      <th>3</th>\n",
       "      <td>13563</td>\n",
       "      <td>RB</td>\n",
       "    </tr>\n",
       "    <tr>\n",
       "      <th>4</th>\n",
       "      <td>9527</td>\n",
       "      <td>IN</td>\n",
       "    </tr>\n",
       "    <tr>\n",
       "      <th>5</th>\n",
       "      <td>8170</td>\n",
       "      <td>CD</td>\n",
       "    </tr>\n",
       "    <tr>\n",
       "      <th>6</th>\n",
       "      <td>7339</td>\n",
       "      <td>.</td>\n",
       "    </tr>\n",
       "    <tr>\n",
       "      <th>7</th>\n",
       "      <td>6388</td>\n",
       "      <td>,</td>\n",
       "    </tr>\n",
       "    <tr>\n",
       "      <th>8</th>\n",
       "      <td>6148</td>\n",
       "      <td>JJR</td>\n",
       "    </tr>\n",
       "    <tr>\n",
       "      <th>9</th>\n",
       "      <td>5744</td>\n",
       "      <td>VBZ</td>\n",
       "    </tr>\n",
       "    <tr>\n",
       "      <th>10</th>\n",
       "      <td>5734</td>\n",
       "      <td>JJS</td>\n",
       "    </tr>\n",
       "    <tr>\n",
       "      <th>11</th>\n",
       "      <td>4908</td>\n",
       "      <td>PRP</td>\n",
       "    </tr>\n",
       "    <tr>\n",
       "      <th>12</th>\n",
       "      <td>4867</td>\n",
       "      <td>CC</td>\n",
       "    </tr>\n",
       "    <tr>\n",
       "      <th>13</th>\n",
       "      <td>2995</td>\n",
       "      <td>VB</td>\n",
       "    </tr>\n",
       "    <tr>\n",
       "      <th>14</th>\n",
       "      <td>2961</td>\n",
       "      <td>NNS</td>\n",
       "    </tr>\n",
       "    <tr>\n",
       "      <th>15</th>\n",
       "      <td>2503</td>\n",
       "      <td>RBR</td>\n",
       "    </tr>\n",
       "    <tr>\n",
       "      <th>16</th>\n",
       "      <td>2294</td>\n",
       "      <td>VBP</td>\n",
       "    </tr>\n",
       "    <tr>\n",
       "      <th>17</th>\n",
       "      <td>2248</td>\n",
       "      <td>:</td>\n",
       "    </tr>\n",
       "    <tr>\n",
       "      <th>18</th>\n",
       "      <td>1933</td>\n",
       "      <td>NNP</td>\n",
       "    </tr>\n",
       "    <tr>\n",
       "      <th>19</th>\n",
       "      <td>1659</td>\n",
       "      <td>FW</td>\n",
       "    </tr>\n",
       "    <tr>\n",
       "      <th>20</th>\n",
       "      <td>1363</td>\n",
       "      <td>TO</td>\n",
       "    </tr>\n",
       "    <tr>\n",
       "      <th>21</th>\n",
       "      <td>1281</td>\n",
       "      <td>WDT</td>\n",
       "    </tr>\n",
       "    <tr>\n",
       "      <th>22</th>\n",
       "      <td>1237</td>\n",
       "      <td>RBS</td>\n",
       "    </tr>\n",
       "    <tr>\n",
       "      <th>23</th>\n",
       "      <td>1214</td>\n",
       "      <td>VBD</td>\n",
       "    </tr>\n",
       "    <tr>\n",
       "      <th>24</th>\n",
       "      <td>994</td>\n",
       "      <td>VBN</td>\n",
       "    </tr>\n",
       "    <tr>\n",
       "      <th>25</th>\n",
       "      <td>952</td>\n",
       "      <td>PRP$</td>\n",
       "    </tr>\n",
       "    <tr>\n",
       "      <th>26</th>\n",
       "      <td>889</td>\n",
       "      <td>VBG</td>\n",
       "    </tr>\n",
       "    <tr>\n",
       "      <th>27</th>\n",
       "      <td>743</td>\n",
       "      <td>-RRB-</td>\n",
       "    </tr>\n",
       "    <tr>\n",
       "      <th>28</th>\n",
       "      <td>662</td>\n",
       "      <td>UH</td>\n",
       "    </tr>\n",
       "    <tr>\n",
       "      <th>29</th>\n",
       "      <td>501</td>\n",
       "      <td>MD</td>\n",
       "    </tr>\n",
       "    <tr>\n",
       "      <th>30</th>\n",
       "      <td>474</td>\n",
       "      <td>-LRB-</td>\n",
       "    </tr>\n",
       "    <tr>\n",
       "      <th>31</th>\n",
       "      <td>324</td>\n",
       "      <td>LS</td>\n",
       "    </tr>\n",
       "    <tr>\n",
       "      <th>32</th>\n",
       "      <td>231</td>\n",
       "      <td>''</td>\n",
       "    </tr>\n",
       "    <tr>\n",
       "      <th>33</th>\n",
       "      <td>198</td>\n",
       "      <td>EX</td>\n",
       "    </tr>\n",
       "    <tr>\n",
       "      <th>34</th>\n",
       "      <td>146</td>\n",
       "      <td>RP</td>\n",
       "    </tr>\n",
       "    <tr>\n",
       "      <th>35</th>\n",
       "      <td>129</td>\n",
       "      <td>SYM</td>\n",
       "    </tr>\n",
       "    <tr>\n",
       "      <th>36</th>\n",
       "      <td>111</td>\n",
       "      <td>WRB</td>\n",
       "    </tr>\n",
       "    <tr>\n",
       "      <th>37</th>\n",
       "      <td>91</td>\n",
       "      <td>WP</td>\n",
       "    </tr>\n",
       "    <tr>\n",
       "      <th>38</th>\n",
       "      <td>90</td>\n",
       "      <td>``</td>\n",
       "    </tr>\n",
       "    <tr>\n",
       "      <th>39</th>\n",
       "      <td>80</td>\n",
       "      <td>POS</td>\n",
       "    </tr>\n",
       "    <tr>\n",
       "      <th>40</th>\n",
       "      <td>28</td>\n",
       "      <td>NNPS</td>\n",
       "    </tr>\n",
       "    <tr>\n",
       "      <th>41</th>\n",
       "      <td>13</td>\n",
       "      <td>PDT</td>\n",
       "    </tr>\n",
       "    <tr>\n",
       "      <th>42</th>\n",
       "      <td>10</td>\n",
       "      <td>$</td>\n",
       "    </tr>\n",
       "    <tr>\n",
       "      <th>43</th>\n",
       "      <td>2</td>\n",
       "      <td>#</td>\n",
       "    </tr>\n",
       "  </tbody>\n",
       "</table>\n",
       "</div>"
      ],
      "text/plain": [
       "    counts   tags\n",
       "0    81146     JJ\n",
       "1    44949     NN\n",
       "2    21813     DT\n",
       "3    13563     RB\n",
       "4     9527     IN\n",
       "5     8170     CD\n",
       "6     7339      .\n",
       "7     6388      ,\n",
       "8     6148    JJR\n",
       "9     5744    VBZ\n",
       "10    5734    JJS\n",
       "11    4908    PRP\n",
       "12    4867     CC\n",
       "13    2995     VB\n",
       "14    2961    NNS\n",
       "15    2503    RBR\n",
       "16    2294    VBP\n",
       "17    2248      :\n",
       "18    1933    NNP\n",
       "19    1659     FW\n",
       "20    1363     TO\n",
       "21    1281    WDT\n",
       "22    1237    RBS\n",
       "23    1214    VBD\n",
       "24     994    VBN\n",
       "25     952   PRP$\n",
       "26     889    VBG\n",
       "27     743  -RRB-\n",
       "28     662     UH\n",
       "29     501     MD\n",
       "30     474  -LRB-\n",
       "31     324     LS\n",
       "32     231     ''\n",
       "33     198     EX\n",
       "34     146     RP\n",
       "35     129    SYM\n",
       "36     111    WRB\n",
       "37      91     WP\n",
       "38      90     ``\n",
       "39      80    POS\n",
       "40      28   NNPS\n",
       "41      13    PDT\n",
       "42      10      $\n",
       "43       2      #"
      ]
     },
     "execution_count": 13,
     "metadata": {},
     "output_type": "execute_result"
    }
   ],
   "source": [
    "from collections import Counter\n",
    "tag_dist = Counter([pos for sent in tags['lemmas'] for word, pos in shim_eval(sent)])\n",
    "tag_vals, counts = zip(*tag_dist.most_common())\n",
    "pd.DataFrame({'tags': tag_vals, 'counts': counts})"
   ]
  },
  {
   "cell_type": "markdown",
   "metadata": {},
   "source": [
    "Distribution of words\n",
    "---"
   ]
  },
  {
   "cell_type": "code",
   "execution_count": 14,
   "metadata": {
    "collapsed": false
   },
   "outputs": [
    {
     "data": {
      "text/html": [
       "<div>\n",
       "<table border=\"1\" class=\"dataframe\">\n",
       "  <thead>\n",
       "    <tr style=\"text-align: right;\">\n",
       "      <th></th>\n",
       "      <th>counts</th>\n",
       "      <th>tags</th>\n",
       "    </tr>\n",
       "  </thead>\n",
       "  <tbody>\n",
       "    <tr>\n",
       "      <th>0</th>\n",
       "      <td>16466</td>\n",
       "      <td>(the, DT)</td>\n",
       "    </tr>\n",
       "    <tr>\n",
       "      <th>1</th>\n",
       "      <td>15030</td>\n",
       "      <td>(green, JJ)</td>\n",
       "    </tr>\n",
       "    <tr>\n",
       "      <th>2</th>\n",
       "      <td>11349</td>\n",
       "      <td>(purple, JJ)</td>\n",
       "    </tr>\n",
       "    <tr>\n",
       "      <th>3</th>\n",
       "      <td>8999</td>\n",
       "      <td>(not, RB)</td>\n",
       "    </tr>\n",
       "    <tr>\n",
       "      <th>4</th>\n",
       "      <td>8527</td>\n",
       "      <td>(blue, JJ)</td>\n",
       "    </tr>\n",
       "    <tr>\n",
       "      <th>5</th>\n",
       "      <td>6388</td>\n",
       "      <td>(,, ,)</td>\n",
       "    </tr>\n",
       "    <tr>\n",
       "      <th>6</th>\n",
       "      <td>6267</td>\n",
       "      <td>(one, CD)</td>\n",
       "    </tr>\n",
       "    <tr>\n",
       "      <th>7</th>\n",
       "      <td>5411</td>\n",
       "      <td>(grey, JJ)</td>\n",
       "    </tr>\n",
       "    <tr>\n",
       "      <th>8</th>\n",
       "      <td>5393</td>\n",
       "      <td>(bright, JJ)</td>\n",
       "    </tr>\n",
       "    <tr>\n",
       "      <th>9</th>\n",
       "      <td>5083</td>\n",
       "      <td>(pink, NN)</td>\n",
       "    </tr>\n",
       "    <tr>\n",
       "      <th>10</th>\n",
       "      <td>4336</td>\n",
       "      <td>(., .)</td>\n",
       "    </tr>\n",
       "    <tr>\n",
       "      <th>11</th>\n",
       "      <td>3582</td>\n",
       "      <td>(gray, JJ)</td>\n",
       "    </tr>\n",
       "    <tr>\n",
       "      <th>12</th>\n",
       "      <td>3487</td>\n",
       "      <td>(is, VBZ)</td>\n",
       "    </tr>\n",
       "    <tr>\n",
       "      <th>13</th>\n",
       "      <td>3342</td>\n",
       "      <td>(of, IN)</td>\n",
       "    </tr>\n",
       "    <tr>\n",
       "      <th>14</th>\n",
       "      <td>3234</td>\n",
       "      <td>(blue, NN)</td>\n",
       "    </tr>\n",
       "    <tr>\n",
       "      <th>15</th>\n",
       "      <td>2991</td>\n",
       "      <td>(color, NN)</td>\n",
       "    </tr>\n",
       "    <tr>\n",
       "      <th>16</th>\n",
       "      <td>2938</td>\n",
       "      <td>(yellow, JJ)</td>\n",
       "    </tr>\n",
       "    <tr>\n",
       "      <th>17</th>\n",
       "      <td>2396</td>\n",
       "      <td>(brown, JJ)</td>\n",
       "    </tr>\n",
       "    <tr>\n",
       "      <th>18</th>\n",
       "      <td>2357</td>\n",
       "      <td>(it, PRP)</td>\n",
       "    </tr>\n",
       "    <tr>\n",
       "      <th>19</th>\n",
       "      <td>2336</td>\n",
       "      <td>(darker, JJR)</td>\n",
       "    </tr>\n",
       "    <tr>\n",
       "      <th>20</th>\n",
       "      <td>2326</td>\n",
       "      <td>(a, DT)</td>\n",
       "    </tr>\n",
       "    <tr>\n",
       "      <th>21</th>\n",
       "      <td>2104</td>\n",
       "      <td>(red, JJ)</td>\n",
       "    </tr>\n",
       "    <tr>\n",
       "      <th>22</th>\n",
       "      <td>2074</td>\n",
       "      <td>(or, CC)</td>\n",
       "    </tr>\n",
       "    <tr>\n",
       "      <th>23</th>\n",
       "      <td>2038</td>\n",
       "      <td>(?, .)</td>\n",
       "    </tr>\n",
       "    <tr>\n",
       "      <th>24</th>\n",
       "      <td>2004</td>\n",
       "      <td>(dark, JJ)</td>\n",
       "    </tr>\n",
       "    <tr>\n",
       "      <th>25</th>\n",
       "      <td>1993</td>\n",
       "      <td>(~, NN)</td>\n",
       "    </tr>\n",
       "    <tr>\n",
       "      <th>26</th>\n",
       "      <td>1896</td>\n",
       "      <td>(brightest, JJS)</td>\n",
       "    </tr>\n",
       "    <tr>\n",
       "      <th>27</th>\n",
       "      <td>1836</td>\n",
       "      <td>(dull, JJ)</td>\n",
       "    </tr>\n",
       "    <tr>\n",
       "      <th>28</th>\n",
       "      <td>1826</td>\n",
       "      <td>(orange, NN)</td>\n",
       "    </tr>\n",
       "    <tr>\n",
       "      <th>29</th>\n",
       "      <td>1755</td>\n",
       "      <td>(and, CC)</td>\n",
       "    </tr>\n",
       "    <tr>\n",
       "      <th>...</th>\n",
       "      <td>...</td>\n",
       "      <td>...</td>\n",
       "    </tr>\n",
       "    <tr>\n",
       "      <th>6011</th>\n",
       "      <td>1</td>\n",
       "      <td>(olive-dark, JJ)</td>\n",
       "    </tr>\n",
       "    <tr>\n",
       "      <th>6012</th>\n",
       "      <td>1</td>\n",
       "      <td>(nweird, NN)</td>\n",
       "    </tr>\n",
       "    <tr>\n",
       "      <th>6013</th>\n",
       "      <td>1</td>\n",
       "      <td>(bricks, NNS)</td>\n",
       "    </tr>\n",
       "    <tr>\n",
       "      <th>6014</th>\n",
       "      <td>1</td>\n",
       "      <td>(orangey, NNP)</td>\n",
       "    </tr>\n",
       "    <tr>\n",
       "      <th>6015</th>\n",
       "      <td>1</td>\n",
       "      <td>(brownish/washed, VBN)</td>\n",
       "    </tr>\n",
       "    <tr>\n",
       "      <th>6016</th>\n",
       "      <td>1</td>\n",
       "      <td>(seemingly, RB)</td>\n",
       "    </tr>\n",
       "    <tr>\n",
       "      <th>6017</th>\n",
       "      <td>1</td>\n",
       "      <td>(guac, NN)</td>\n",
       "    </tr>\n",
       "    <tr>\n",
       "      <th>6018</th>\n",
       "      <td>1</td>\n",
       "      <td>(ham, NN)</td>\n",
       "    </tr>\n",
       "    <tr>\n",
       "      <th>6019</th>\n",
       "      <td>1</td>\n",
       "      <td>(whereas, IN)</td>\n",
       "    </tr>\n",
       "    <tr>\n",
       "      <th>6020</th>\n",
       "      <td>1</td>\n",
       "      <td>(eally, RB)</td>\n",
       "    </tr>\n",
       "    <tr>\n",
       "      <th>6021</th>\n",
       "      <td>1</td>\n",
       "      <td>(seafoam, NNP)</td>\n",
       "    </tr>\n",
       "    <tr>\n",
       "      <th>6022</th>\n",
       "      <td>1</td>\n",
       "      <td>(whitre, JJ)</td>\n",
       "    </tr>\n",
       "    <tr>\n",
       "      <th>6023</th>\n",
       "      <td>1</td>\n",
       "      <td>(attuned, JJ)</td>\n",
       "    </tr>\n",
       "    <tr>\n",
       "      <th>6024</th>\n",
       "      <td>1</td>\n",
       "      <td>(orange/redd, NN)</td>\n",
       "    </tr>\n",
       "    <tr>\n",
       "      <th>6025</th>\n",
       "      <td>1</td>\n",
       "      <td>(sir, VBP)</td>\n",
       "    </tr>\n",
       "    <tr>\n",
       "      <th>6026</th>\n",
       "      <td>1</td>\n",
       "      <td>(thinkg, NN)</td>\n",
       "    </tr>\n",
       "    <tr>\n",
       "      <th>6027</th>\n",
       "      <td>1</td>\n",
       "      <td>(stones, NNS)</td>\n",
       "    </tr>\n",
       "    <tr>\n",
       "      <th>6028</th>\n",
       "      <td>1</td>\n",
       "      <td>(st, VB)</td>\n",
       "    </tr>\n",
       "    <tr>\n",
       "      <th>6029</th>\n",
       "      <td>1</td>\n",
       "      <td>(pinky-orange, JJ)</td>\n",
       "    </tr>\n",
       "    <tr>\n",
       "      <th>6030</th>\n",
       "      <td>1</td>\n",
       "      <td>(brownie, NN)</td>\n",
       "    </tr>\n",
       "    <tr>\n",
       "      <th>6031</th>\n",
       "      <td>1</td>\n",
       "      <td>(hah, NNP)</td>\n",
       "    </tr>\n",
       "    <tr>\n",
       "      <th>6032</th>\n",
       "      <td>1</td>\n",
       "      <td>(ticket, NN)</td>\n",
       "    </tr>\n",
       "    <tr>\n",
       "      <th>6033</th>\n",
       "      <td>1</td>\n",
       "      <td>(middling, JJ)</td>\n",
       "    </tr>\n",
       "    <tr>\n",
       "      <th>6034</th>\n",
       "      <td>1</td>\n",
       "      <td>(realy, JJ)</td>\n",
       "    </tr>\n",
       "    <tr>\n",
       "      <th>6035</th>\n",
       "      <td>1</td>\n",
       "      <td>(curous, JJ)</td>\n",
       "    </tr>\n",
       "    <tr>\n",
       "      <th>6036</th>\n",
       "      <td>1</td>\n",
       "      <td>(uniform, JJ)</td>\n",
       "    </tr>\n",
       "    <tr>\n",
       "      <th>6037</th>\n",
       "      <td>1</td>\n",
       "      <td>(theone, NN)</td>\n",
       "    </tr>\n",
       "    <tr>\n",
       "      <th>6038</th>\n",
       "      <td>1</td>\n",
       "      <td>(graying, NNP)</td>\n",
       "    </tr>\n",
       "    <tr>\n",
       "      <th>6039</th>\n",
       "      <td>1</td>\n",
       "      <td>(mash, NN)</td>\n",
       "    </tr>\n",
       "    <tr>\n",
       "      <th>6040</th>\n",
       "      <td>1</td>\n",
       "      <td>(yellow/tan, NN)</td>\n",
       "    </tr>\n",
       "  </tbody>\n",
       "</table>\n",
       "<p>6041 rows × 2 columns</p>\n",
       "</div>"
      ],
      "text/plain": [
       "      counts                    tags\n",
       "0      16466               (the, DT)\n",
       "1      15030             (green, JJ)\n",
       "2      11349            (purple, JJ)\n",
       "3       8999               (not, RB)\n",
       "4       8527              (blue, JJ)\n",
       "5       6388                  (,, ,)\n",
       "6       6267               (one, CD)\n",
       "7       5411              (grey, JJ)\n",
       "8       5393            (bright, JJ)\n",
       "9       5083              (pink, NN)\n",
       "10      4336                  (., .)\n",
       "11      3582              (gray, JJ)\n",
       "12      3487               (is, VBZ)\n",
       "13      3342                (of, IN)\n",
       "14      3234              (blue, NN)\n",
       "15      2991             (color, NN)\n",
       "16      2938            (yellow, JJ)\n",
       "17      2396             (brown, JJ)\n",
       "18      2357               (it, PRP)\n",
       "19      2336           (darker, JJR)\n",
       "20      2326                 (a, DT)\n",
       "21      2104               (red, JJ)\n",
       "22      2074                (or, CC)\n",
       "23      2038                  (?, .)\n",
       "24      2004              (dark, JJ)\n",
       "25      1993                 (~, NN)\n",
       "26      1896        (brightest, JJS)\n",
       "27      1836              (dull, JJ)\n",
       "28      1826            (orange, NN)\n",
       "29      1755               (and, CC)\n",
       "...      ...                     ...\n",
       "6011       1        (olive-dark, JJ)\n",
       "6012       1            (nweird, NN)\n",
       "6013       1           (bricks, NNS)\n",
       "6014       1          (orangey, NNP)\n",
       "6015       1  (brownish/washed, VBN)\n",
       "6016       1         (seemingly, RB)\n",
       "6017       1              (guac, NN)\n",
       "6018       1               (ham, NN)\n",
       "6019       1           (whereas, IN)\n",
       "6020       1             (eally, RB)\n",
       "6021       1          (seafoam, NNP)\n",
       "6022       1            (whitre, JJ)\n",
       "6023       1           (attuned, JJ)\n",
       "6024       1       (orange/redd, NN)\n",
       "6025       1              (sir, VBP)\n",
       "6026       1            (thinkg, NN)\n",
       "6027       1           (stones, NNS)\n",
       "6028       1                (st, VB)\n",
       "6029       1      (pinky-orange, JJ)\n",
       "6030       1           (brownie, NN)\n",
       "6031       1              (hah, NNP)\n",
       "6032       1            (ticket, NN)\n",
       "6033       1          (middling, JJ)\n",
       "6034       1             (realy, JJ)\n",
       "6035       1            (curous, JJ)\n",
       "6036       1           (uniform, JJ)\n",
       "6037       1            (theone, NN)\n",
       "6038       1          (graying, NNP)\n",
       "6039       1              (mash, NN)\n",
       "6040       1        (yellow/tan, NN)\n",
       "\n",
       "[6041 rows x 2 columns]"
      ]
     },
     "execution_count": 14,
     "metadata": {},
     "output_type": "execute_result"
    }
   ],
   "source": [
    "from collections import Counter\n",
    "tag_dist = Counter([(word.lower(), pos) for sent in tags['lemmas'] for word, pos in shim_eval(sent)])\n",
    "tag_vals, counts = zip(*tag_dist.most_common())\n",
    "pd.DataFrame({'tags': tag_vals, 'counts': counts})"
   ]
  },
  {
   "cell_type": "markdown",
   "metadata": {},
   "source": [
    "Distribution of adverbs\n",
    "---"
   ]
  },
  {
   "cell_type": "code",
   "execution_count": 15,
   "metadata": {
    "collapsed": false
   },
   "outputs": [
    {
     "data": {
      "text/html": [
       "<div>\n",
       "<table border=\"1\" class=\"dataframe\">\n",
       "  <thead>\n",
       "    <tr style=\"text-align: right;\">\n",
       "      <th></th>\n",
       "      <th>counts</th>\n",
       "      <th>tags</th>\n",
       "    </tr>\n",
       "  </thead>\n",
       "  <tbody>\n",
       "    <tr>\n",
       "      <th>0</th>\n",
       "      <td>8999</td>\n",
       "      <td>not</td>\n",
       "    </tr>\n",
       "    <tr>\n",
       "      <th>1</th>\n",
       "      <td>408</td>\n",
       "      <td>yes</td>\n",
       "    </tr>\n",
       "    <tr>\n",
       "      <th>2</th>\n",
       "      <td>325</td>\n",
       "      <td>almost</td>\n",
       "    </tr>\n",
       "    <tr>\n",
       "      <th>3</th>\n",
       "      <td>315</td>\n",
       "      <td>again</td>\n",
       "    </tr>\n",
       "    <tr>\n",
       "      <th>4</th>\n",
       "      <td>299</td>\n",
       "      <td>slightly</td>\n",
       "    </tr>\n",
       "    <tr>\n",
       "      <th>5</th>\n",
       "      <td>277</td>\n",
       "      <td>n't</td>\n",
       "    </tr>\n",
       "    <tr>\n",
       "      <th>6</th>\n",
       "      <td>223</td>\n",
       "      <td>too</td>\n",
       "    </tr>\n",
       "    <tr>\n",
       "      <th>7</th>\n",
       "      <td>217</td>\n",
       "      <td>so</td>\n",
       "    </tr>\n",
       "    <tr>\n",
       "      <th>8</th>\n",
       "      <td>194</td>\n",
       "      <td>very</td>\n",
       "    </tr>\n",
       "    <tr>\n",
       "      <th>9</th>\n",
       "      <td>155</td>\n",
       "      <td>really</td>\n",
       "    </tr>\n",
       "    <tr>\n",
       "      <th>10</th>\n",
       "      <td>153</td>\n",
       "      <td>just</td>\n",
       "    </tr>\n",
       "    <tr>\n",
       "      <th>11</th>\n",
       "      <td>134</td>\n",
       "      <td>maybe</td>\n",
       "    </tr>\n",
       "    <tr>\n",
       "      <th>12</th>\n",
       "      <td>119</td>\n",
       "      <td>here</td>\n",
       "    </tr>\n",
       "    <tr>\n",
       "      <th>13</th>\n",
       "      <td>114</td>\n",
       "      <td>well</td>\n",
       "    </tr>\n",
       "    <tr>\n",
       "      <th>14</th>\n",
       "      <td>100</td>\n",
       "      <td>then</td>\n",
       "    </tr>\n",
       "    <tr>\n",
       "      <th>15</th>\n",
       "      <td>72</td>\n",
       "      <td>hard</td>\n",
       "    </tr>\n",
       "    <tr>\n",
       "      <th>16</th>\n",
       "      <td>67</td>\n",
       "      <td>close</td>\n",
       "    </tr>\n",
       "    <tr>\n",
       "      <th>17</th>\n",
       "      <td>64</td>\n",
       "      <td>now</td>\n",
       "    </tr>\n",
       "    <tr>\n",
       "      <th>18</th>\n",
       "      <td>62</td>\n",
       "      <td>sorry</td>\n",
       "    </tr>\n",
       "    <tr>\n",
       "      <th>19</th>\n",
       "      <td>53</td>\n",
       "      <td>~</td>\n",
       "    </tr>\n",
       "    <tr>\n",
       "      <th>20</th>\n",
       "      <td>51</td>\n",
       "      <td>right</td>\n",
       "    </tr>\n",
       "    <tr>\n",
       "      <th>21</th>\n",
       "      <td>49</td>\n",
       "      <td>only</td>\n",
       "    </tr>\n",
       "    <tr>\n",
       "      <th>22</th>\n",
       "      <td>44</td>\n",
       "      <td>far</td>\n",
       "    </tr>\n",
       "    <tr>\n",
       "      <th>23</th>\n",
       "      <td>42</td>\n",
       "      <td>also</td>\n",
       "    </tr>\n",
       "    <tr>\n",
       "      <th>24</th>\n",
       "      <td>37</td>\n",
       "      <td>pretty</td>\n",
       "    </tr>\n",
       "    <tr>\n",
       "      <th>25</th>\n",
       "      <td>35</td>\n",
       "      <td>little</td>\n",
       "    </tr>\n",
       "    <tr>\n",
       "      <th>26</th>\n",
       "      <td>30</td>\n",
       "      <td>there</td>\n",
       "    </tr>\n",
       "    <tr>\n",
       "      <th>27</th>\n",
       "      <td>28</td>\n",
       "      <td>quite</td>\n",
       "    </tr>\n",
       "    <tr>\n",
       "      <th>28</th>\n",
       "      <td>24</td>\n",
       "      <td>still</td>\n",
       "    </tr>\n",
       "    <tr>\n",
       "      <th>29</th>\n",
       "      <td>24</td>\n",
       "      <td>as</td>\n",
       "    </tr>\n",
       "    <tr>\n",
       "      <th>...</th>\n",
       "      <td>...</td>\n",
       "      <td>...</td>\n",
       "    </tr>\n",
       "    <tr>\n",
       "      <th>221</th>\n",
       "      <td>1</td>\n",
       "      <td>anytime</td>\n",
       "    </tr>\n",
       "    <tr>\n",
       "      <th>222</th>\n",
       "      <td>1</td>\n",
       "      <td>damned</td>\n",
       "    </tr>\n",
       "    <tr>\n",
       "      <th>223</th>\n",
       "      <td>1</td>\n",
       "      <td>s'all</td>\n",
       "    </tr>\n",
       "    <tr>\n",
       "      <th>224</th>\n",
       "      <td>1</td>\n",
       "      <td>yellowly</td>\n",
       "    </tr>\n",
       "    <tr>\n",
       "      <th>225</th>\n",
       "      <td>1</td>\n",
       "      <td>instead</td>\n",
       "    </tr>\n",
       "    <tr>\n",
       "      <th>226</th>\n",
       "      <td>1</td>\n",
       "      <td>ohh</td>\n",
       "    </tr>\n",
       "    <tr>\n",
       "      <th>227</th>\n",
       "      <td>1</td>\n",
       "      <td>ooops</td>\n",
       "    </tr>\n",
       "    <tr>\n",
       "      <th>228</th>\n",
       "      <td>1</td>\n",
       "      <td>sllightly</td>\n",
       "    </tr>\n",
       "    <tr>\n",
       "      <th>229</th>\n",
       "      <td>1</td>\n",
       "      <td>randomly</td>\n",
       "    </tr>\n",
       "    <tr>\n",
       "      <th>230</th>\n",
       "      <td>1</td>\n",
       "      <td>blah</td>\n",
       "    </tr>\n",
       "    <tr>\n",
       "      <th>231</th>\n",
       "      <td>1</td>\n",
       "      <td>wow</td>\n",
       "    </tr>\n",
       "    <tr>\n",
       "      <th>232</th>\n",
       "      <td>1</td>\n",
       "      <td>dammit</td>\n",
       "    </tr>\n",
       "    <tr>\n",
       "      <th>233</th>\n",
       "      <td>1</td>\n",
       "      <td>traditionally</td>\n",
       "    </tr>\n",
       "    <tr>\n",
       "      <th>234</th>\n",
       "      <td>1</td>\n",
       "      <td>thoroughly</td>\n",
       "    </tr>\n",
       "    <tr>\n",
       "      <th>235</th>\n",
       "      <td>1</td>\n",
       "      <td>id</td>\n",
       "    </tr>\n",
       "    <tr>\n",
       "      <th>236</th>\n",
       "      <td>1</td>\n",
       "      <td>np</td>\n",
       "    </tr>\n",
       "    <tr>\n",
       "      <th>237</th>\n",
       "      <td>1</td>\n",
       "      <td>eww</td>\n",
       "    </tr>\n",
       "    <tr>\n",
       "      <th>238</th>\n",
       "      <td>1</td>\n",
       "      <td>fairly</td>\n",
       "    </tr>\n",
       "    <tr>\n",
       "      <th>239</th>\n",
       "      <td>1</td>\n",
       "      <td>though</td>\n",
       "    </tr>\n",
       "    <tr>\n",
       "      <th>240</th>\n",
       "      <td>1</td>\n",
       "      <td>alittle</td>\n",
       "    </tr>\n",
       "    <tr>\n",
       "      <th>241</th>\n",
       "      <td>1</td>\n",
       "      <td>faintly</td>\n",
       "    </tr>\n",
       "    <tr>\n",
       "      <th>242</th>\n",
       "      <td>1</td>\n",
       "      <td>tanish</td>\n",
       "    </tr>\n",
       "    <tr>\n",
       "      <th>243</th>\n",
       "      <td>1</td>\n",
       "      <td>inbetween</td>\n",
       "    </tr>\n",
       "    <tr>\n",
       "      <th>244</th>\n",
       "      <td>1</td>\n",
       "      <td>seemingly</td>\n",
       "    </tr>\n",
       "    <tr>\n",
       "      <th>245</th>\n",
       "      <td>1</td>\n",
       "      <td>noooooo</td>\n",
       "    </tr>\n",
       "    <tr>\n",
       "      <th>246</th>\n",
       "      <td>1</td>\n",
       "      <td>?!</td>\n",
       "    </tr>\n",
       "    <tr>\n",
       "      <th>247</th>\n",
       "      <td>1</td>\n",
       "      <td>practically</td>\n",
       "    </tr>\n",
       "    <tr>\n",
       "      <th>248</th>\n",
       "      <td>1</td>\n",
       "      <td>comparably</td>\n",
       "    </tr>\n",
       "    <tr>\n",
       "      <th>249</th>\n",
       "      <td>1</td>\n",
       "      <td>oops</td>\n",
       "    </tr>\n",
       "    <tr>\n",
       "      <th>250</th>\n",
       "      <td>1</td>\n",
       "      <td>probly</td>\n",
       "    </tr>\n",
       "  </tbody>\n",
       "</table>\n",
       "<p>251 rows × 2 columns</p>\n",
       "</div>"
      ],
      "text/plain": [
       "     counts           tags\n",
       "0      8999            not\n",
       "1       408            yes\n",
       "2       325         almost\n",
       "3       315          again\n",
       "4       299       slightly\n",
       "5       277            n't\n",
       "6       223            too\n",
       "7       217             so\n",
       "8       194           very\n",
       "9       155         really\n",
       "10      153           just\n",
       "11      134          maybe\n",
       "12      119           here\n",
       "13      114           well\n",
       "14      100           then\n",
       "15       72           hard\n",
       "16       67          close\n",
       "17       64            now\n",
       "18       62          sorry\n",
       "19       53              ~\n",
       "20       51          right\n",
       "21       49           only\n",
       "22       44            far\n",
       "23       42           also\n",
       "24       37         pretty\n",
       "25       35         little\n",
       "26       30          there\n",
       "27       28          quite\n",
       "28       24          still\n",
       "29       24             as\n",
       "..      ...            ...\n",
       "221       1        anytime\n",
       "222       1         damned\n",
       "223       1          s'all\n",
       "224       1       yellowly\n",
       "225       1        instead\n",
       "226       1            ohh\n",
       "227       1          ooops\n",
       "228       1      sllightly\n",
       "229       1       randomly\n",
       "230       1           blah\n",
       "231       1            wow\n",
       "232       1         dammit\n",
       "233       1  traditionally\n",
       "234       1     thoroughly\n",
       "235       1             id\n",
       "236       1             np\n",
       "237       1            eww\n",
       "238       1         fairly\n",
       "239       1         though\n",
       "240       1        alittle\n",
       "241       1        faintly\n",
       "242       1         tanish\n",
       "243       1      inbetween\n",
       "244       1      seemingly\n",
       "245       1        noooooo\n",
       "246       1             ?!\n",
       "247       1    practically\n",
       "248       1     comparably\n",
       "249       1           oops\n",
       "250       1         probly\n",
       "\n",
       "[251 rows x 2 columns]"
      ]
     },
     "execution_count": 15,
     "metadata": {},
     "output_type": "execute_result"
    }
   ],
   "source": [
    "from collections import Counter\n",
    "tag_dist = Counter([word.lower() for sent in tags['lemmas'] for word, pos in shim_eval(sent) if pos == 'RB'])\n",
    "tag_vals, counts = zip(*tag_dist.most_common())\n",
    "pd.DataFrame({'tags': tag_vals, 'counts': counts})"
   ]
  },
  {
   "cell_type": "markdown",
   "metadata": {},
   "source": [
    "Accuracy by various features\n",
    "---"
   ]
  },
  {
   "cell_type": "code",
   "execution_count": 16,
   "metadata": {
    "collapsed": true
   },
   "outputs": [],
   "source": [
    "def accuracy_by_feature(output, func, bounds):\n",
    "    output['feature_val'] = [func(row) for i, row in output.iterrows()]\n",
    "    group_nums = sorted(set(output['feature_val']))\n",
    "    groups = [output.query(\"feature_val == {}\".format(repr(num)))\n",
    "              for num in group_nums]\n",
    "    accs = np.array([sum(g['outcome']) * 100.0 / len(g) for g in groups])\n",
    "    errs = np.array([3000.0 / len(g) for g in groups])\n",
    "    if bounds is None:\n",
    "        lower_errs = errs\n",
    "        upper_errs = errs\n",
    "    else:\n",
    "        lower_errs = np.minimum(accs - bounds[0], errs)\n",
    "        upper_errs = np.minimum(bounds[1] - accs, errs)\n",
    "    return group_nums, accs, [lower_errs, upper_errs]\n",
    "\n",
    "def plot_accuracy_by_feature(func, outputs, keys, colors, save=None, bounds=(50, 100)):\n",
    "    width = 0.2\n",
    "    all_nums = set()\n",
    "    for i, (output, color) in enumerate(zip(outputs, colors)):\n",
    "        nums, accs, errs = accuracy_by_feature(output, func, bounds=bounds)\n",
    "        plt.bar(np.array(nums) + i * width, accs, width, color=color, yerr=errs, ecolor='k')\n",
    "        if bounds is not None:\n",
    "            plt.ylim(bounds)\n",
    "        all_nums.update(nums)\n",
    "    all_nums = sorted(all_nums)\n",
    "    plt.xticks(np.array(all_nums) + len(outputs) * 0.5 * width, [str(n) for n in all_nums])\n",
    "    plt.legend(keys, loc='lower left')\n",
    "    if save is not None:\n",
    "        plt.savefig(os.path.expanduser(save), format='eps', bbox_inches='tight')"
   ]
  },
  {
   "cell_type": "code",
   "execution_count": 17,
   "metadata": {
    "collapsed": true
   },
   "outputs": [],
   "source": [
    "def all(sent):\n",
    "    return 0"
   ]
  },
  {
   "cell_type": "code",
   "execution_count": 18,
   "metadata": {
    "collapsed": true
   },
   "outputs": [],
   "source": [
    "def num_negations(sent):\n",
    "    return sum([w.lower() in ('not', \"n't\") for w, _ in eval(sent)])\n",
    "\n",
    "def ind_negations(sent):\n",
    "    return int(sum([w.lower() in ('not', \"n't\") for w, _ in eval(sent)]) > 0)"
   ]
  },
  {
   "cell_type": "code",
   "execution_count": 19,
   "metadata": {
    "collapsed": false
   },
   "outputs": [
    {
     "data": {
      "image/png": "[encoded data removed]",
      "text/plain": [
       "<matplotlib.figure.Figure at 0x7f5ea46ab4d0>"
      ]
     },
     "metadata": {},
     "output_type": "display_data"
    }
   ],
   "source": [
    "plot_accuracy_by_feature(all, [h, l2, l0], ['h', 'l2', 'l0'], ['b', 'g', 'r'])"
   ]
  },
  {
   "cell_type": "code",
   "execution_count": 20,
   "metadata": {
    "collapsed": false
   },
   "outputs": [
    {
     "ename": "TypeError",
     "evalue": "eval() arg 1 must be a string or code object",
     "output_type": "error",
     "traceback": [
      "\u001b[0;31m---------------------------------------------------------------------------\u001b[0m",
      "\u001b[0;31mTypeError\u001b[0m                                 Traceback (most recent call last)",
      "\u001b[0;32m<ipython-input-20-7e78df527a0d>\u001b[0m in \u001b[0;36m<module>\u001b[0;34m()\u001b[0m\n\u001b[0;32m----> 1\u001b[0;31m \u001b[0mplot_accuracy_by_feature\u001b[0m\u001b[0;34m(\u001b[0m\u001b[0mnum_negations\u001b[0m\u001b[0;34m,\u001b[0m \u001b[0;34m[\u001b[0m\u001b[0mh\u001b[0m\u001b[0;34m,\u001b[0m \u001b[0ml2\u001b[0m\u001b[0;34m,\u001b[0m \u001b[0ml0\u001b[0m\u001b[0;34m]\u001b[0m\u001b[0;34m,\u001b[0m \u001b[0;34m[\u001b[0m\u001b[0;34m'h'\u001b[0m\u001b[0;34m,\u001b[0m \u001b[0;34m'l2'\u001b[0m\u001b[0;34m,\u001b[0m \u001b[0;34m'l0'\u001b[0m\u001b[0;34m]\u001b[0m\u001b[0;34m,\u001b[0m \u001b[0;34m[\u001b[0m\u001b[0;34m'b'\u001b[0m\u001b[0;34m,\u001b[0m \u001b[0;34m'g'\u001b[0m\u001b[0;34m,\u001b[0m \u001b[0;34m'r'\u001b[0m\u001b[0;34m]\u001b[0m\u001b[0;34m)\u001b[0m\u001b[0;34m\u001b[0m\u001b[0m\n\u001b[0m",
      "\u001b[0;32m<ipython-input-16-55b171296d0b>\u001b[0m in \u001b[0;36mplot_accuracy_by_feature\u001b[0;34m(func, outputs, keys, colors, save, bounds)\u001b[0m\n\u001b[1;32m     18\u001b[0m     \u001b[0mall_nums\u001b[0m \u001b[0;34m=\u001b[0m \u001b[0mset\u001b[0m\u001b[0;34m(\u001b[0m\u001b[0;34m)\u001b[0m\u001b[0;34m\u001b[0m\u001b[0m\n\u001b[1;32m     19\u001b[0m     \u001b[0;32mfor\u001b[0m \u001b[0mi\u001b[0m\u001b[0;34m,\u001b[0m \u001b[0;34m(\u001b[0m\u001b[0moutput\u001b[0m\u001b[0;34m,\u001b[0m \u001b[0mcolor\u001b[0m\u001b[0;34m)\u001b[0m \u001b[0;32min\u001b[0m \u001b[0menumerate\u001b[0m\u001b[0;34m(\u001b[0m\u001b[0mzip\u001b[0m\u001b[0;34m(\u001b[0m\u001b[0moutputs\u001b[0m\u001b[0;34m,\u001b[0m \u001b[0mcolors\u001b[0m\u001b[0;34m)\u001b[0m\u001b[0;34m)\u001b[0m\u001b[0;34m:\u001b[0m\u001b[0;34m\u001b[0m\u001b[0m\n\u001b[0;32m---> 20\u001b[0;31m         \u001b[0mnums\u001b[0m\u001b[0;34m,\u001b[0m \u001b[0maccs\u001b[0m\u001b[0;34m,\u001b[0m \u001b[0merrs\u001b[0m \u001b[0;34m=\u001b[0m \u001b[0maccuracy_by_feature\u001b[0m\u001b[0;34m(\u001b[0m\u001b[0moutput\u001b[0m\u001b[0;34m,\u001b[0m \u001b[0mfunc\u001b[0m\u001b[0;34m,\u001b[0m \u001b[0mbounds\u001b[0m\u001b[0;34m=\u001b[0m\u001b[0mbounds\u001b[0m\u001b[0;34m)\u001b[0m\u001b[0;34m\u001b[0m\u001b[0m\n\u001b[0m\u001b[1;32m     21\u001b[0m         \u001b[0mplt\u001b[0m\u001b[0;34m.\u001b[0m\u001b[0mbar\u001b[0m\u001b[0;34m(\u001b[0m\u001b[0mnp\u001b[0m\u001b[0;34m.\u001b[0m\u001b[0marray\u001b[0m\u001b[0;34m(\u001b[0m\u001b[0mnums\u001b[0m\u001b[0;34m)\u001b[0m \u001b[0;34m+\u001b[0m \u001b[0mi\u001b[0m \u001b[0;34m*\u001b[0m \u001b[0mwidth\u001b[0m\u001b[0;34m,\u001b[0m \u001b[0maccs\u001b[0m\u001b[0;34m,\u001b[0m \u001b[0mwidth\u001b[0m\u001b[0;34m,\u001b[0m \u001b[0mcolor\u001b[0m\u001b[0;34m=\u001b[0m\u001b[0mcolor\u001b[0m\u001b[0;34m,\u001b[0m \u001b[0myerr\u001b[0m\u001b[0;34m=\u001b[0m\u001b[0merrs\u001b[0m\u001b[0;34m,\u001b[0m \u001b[0mecolor\u001b[0m\u001b[0;34m=\u001b[0m\u001b[0;34m'k'\u001b[0m\u001b[0;34m)\u001b[0m\u001b[0;34m\u001b[0m\u001b[0m\n\u001b[1;32m     22\u001b[0m         \u001b[0;32mif\u001b[0m \u001b[0mbounds\u001b[0m \u001b[0;32mis\u001b[0m \u001b[0;32mnot\u001b[0m \u001b[0mNone\u001b[0m\u001b[0;34m:\u001b[0m\u001b[0;34m\u001b[0m\u001b[0m\n",
      "\u001b[0;32m<ipython-input-16-55b171296d0b>\u001b[0m in \u001b[0;36maccuracy_by_feature\u001b[0;34m(output, func, bounds)\u001b[0m\n\u001b[1;32m      1\u001b[0m \u001b[0;32mdef\u001b[0m \u001b[0maccuracy_by_feature\u001b[0m\u001b[0;34m(\u001b[0m\u001b[0moutput\u001b[0m\u001b[0;34m,\u001b[0m \u001b[0mfunc\u001b[0m\u001b[0;34m,\u001b[0m \u001b[0mbounds\u001b[0m\u001b[0;34m)\u001b[0m\u001b[0;34m:\u001b[0m\u001b[0;34m\u001b[0m\u001b[0m\n\u001b[0;32m----> 2\u001b[0;31m     \u001b[0moutput\u001b[0m\u001b[0;34m[\u001b[0m\u001b[0;34m'feature_val'\u001b[0m\u001b[0;34m]\u001b[0m \u001b[0;34m=\u001b[0m \u001b[0;34m[\u001b[0m\u001b[0mfunc\u001b[0m\u001b[0;34m(\u001b[0m\u001b[0mrow\u001b[0m\u001b[0;34m)\u001b[0m \u001b[0;32mfor\u001b[0m \u001b[0mi\u001b[0m\u001b[0;34m,\u001b[0m \u001b[0mrow\u001b[0m \u001b[0;32min\u001b[0m \u001b[0moutput\u001b[0m\u001b[0;34m.\u001b[0m\u001b[0miterrows\u001b[0m\u001b[0;34m(\u001b[0m\u001b[0;34m)\u001b[0m\u001b[0;34m]\u001b[0m\u001b[0;34m\u001b[0m\u001b[0m\n\u001b[0m\u001b[1;32m      3\u001b[0m     \u001b[0mgroup_nums\u001b[0m \u001b[0;34m=\u001b[0m \u001b[0msorted\u001b[0m\u001b[0;34m(\u001b[0m\u001b[0mset\u001b[0m\u001b[0;34m(\u001b[0m\u001b[0moutput\u001b[0m\u001b[0;34m[\u001b[0m\u001b[0;34m'feature_val'\u001b[0m\u001b[0;34m]\u001b[0m\u001b[0;34m)\u001b[0m\u001b[0;34m)\u001b[0m\u001b[0;34m\u001b[0m\u001b[0m\n\u001b[1;32m      4\u001b[0m     groups = [output.query(\"feature_val == {}\".format(repr(num)))\n\u001b[1;32m      5\u001b[0m               for num in group_nums]\n",
      "\u001b[0;32m<ipython-input-18-be171fe0276b>\u001b[0m in \u001b[0;36mnum_negations\u001b[0;34m(sent)\u001b[0m\n\u001b[1;32m      1\u001b[0m \u001b[0;32mdef\u001b[0m \u001b[0mnum_negations\u001b[0m\u001b[0;34m(\u001b[0m\u001b[0msent\u001b[0m\u001b[0;34m)\u001b[0m\u001b[0;34m:\u001b[0m\u001b[0;34m\u001b[0m\u001b[0m\n\u001b[0;32m----> 2\u001b[0;31m     \u001b[0;32mreturn\u001b[0m \u001b[0msum\u001b[0m\u001b[0;34m(\u001b[0m\u001b[0;34m[\u001b[0m\u001b[0mw\u001b[0m\u001b[0;34m.\u001b[0m\u001b[0mlower\u001b[0m\u001b[0;34m(\u001b[0m\u001b[0;34m)\u001b[0m \u001b[0;32min\u001b[0m \u001b[0;34m(\u001b[0m\u001b[0;34m'not'\u001b[0m\u001b[0;34m,\u001b[0m \u001b[0;34m\"n't\"\u001b[0m\u001b[0;34m)\u001b[0m \u001b[0;32mfor\u001b[0m \u001b[0mw\u001b[0m\u001b[0;34m,\u001b[0m \u001b[0m_\u001b[0m \u001b[0;32min\u001b[0m \u001b[0meval\u001b[0m\u001b[0;34m(\u001b[0m\u001b[0msent\u001b[0m\u001b[0;34m)\u001b[0m\u001b[0;34m]\u001b[0m\u001b[0;34m)\u001b[0m\u001b[0;34m\u001b[0m\u001b[0m\n\u001b[0m\u001b[1;32m      3\u001b[0m \u001b[0;34m\u001b[0m\u001b[0m\n\u001b[1;32m      4\u001b[0m \u001b[0;32mdef\u001b[0m \u001b[0mind_negations\u001b[0m\u001b[0;34m(\u001b[0m\u001b[0msent\u001b[0m\u001b[0;34m)\u001b[0m\u001b[0;34m:\u001b[0m\u001b[0;34m\u001b[0m\u001b[0m\n\u001b[1;32m      5\u001b[0m     \u001b[0;32mreturn\u001b[0m \u001b[0mint\u001b[0m\u001b[0;34m(\u001b[0m\u001b[0msum\u001b[0m\u001b[0;34m(\u001b[0m\u001b[0;34m[\u001b[0m\u001b[0mw\u001b[0m\u001b[0;34m.\u001b[0m\u001b[0mlower\u001b[0m\u001b[0;34m(\u001b[0m\u001b[0;34m)\u001b[0m \u001b[0;32min\u001b[0m \u001b[0;34m(\u001b[0m\u001b[0;34m'not'\u001b[0m\u001b[0;34m,\u001b[0m \u001b[0;34m\"n't\"\u001b[0m\u001b[0;34m)\u001b[0m \u001b[0;32mfor\u001b[0m \u001b[0mw\u001b[0m\u001b[0;34m,\u001b[0m \u001b[0m_\u001b[0m \u001b[0;32min\u001b[0m \u001b[0meval\u001b[0m\u001b[0;34m(\u001b[0m\u001b[0msent\u001b[0m\u001b[0;34m)\u001b[0m\u001b[0;34m]\u001b[0m\u001b[0;34m)\u001b[0m \u001b[0;34m>\u001b[0m \u001b[0;36m0\u001b[0m\u001b[0;34m)\u001b[0m\u001b[0;34m\u001b[0m\u001b[0m\n",
      "\u001b[0;32m<ipython-input-3-178c4971071b>\u001b[0m in \u001b[0;36mshim_eval\u001b[0;34m(s)\u001b[0m\n\u001b[1;32m      8\u001b[0m \u001b[0;34m\u001b[0m\u001b[0m\n\u001b[1;32m      9\u001b[0m \u001b[0;32mdef\u001b[0m \u001b[0mshim_eval\u001b[0m\u001b[0;34m(\u001b[0m\u001b[0ms\u001b[0m\u001b[0;34m)\u001b[0m\u001b[0;34m:\u001b[0m\u001b[0;34m\u001b[0m\u001b[0m\n\u001b[0;32m---> 10\u001b[0;31m     \u001b[0mval\u001b[0m \u001b[0;34m=\u001b[0m \u001b[0mold_eval\u001b[0m\u001b[0;34m(\u001b[0m\u001b[0ms\u001b[0m\u001b[0;34m.\u001b[0m\u001b[0mreplace\u001b[0m\u001b[0;34m(\u001b[0m\u001b[0;34m'\\\\'\u001b[0m\u001b[0;34m,\u001b[0m \u001b[0;34m'\\\\\\\\'\u001b[0m\u001b[0;34m)\u001b[0m\u001b[0;34m)\u001b[0m\u001b[0;34m\u001b[0m\u001b[0m\n\u001b[0m\u001b[1;32m     11\u001b[0m     \u001b[0;32mif\u001b[0m \u001b[0misinstance\u001b[0m\u001b[0;34m(\u001b[0m\u001b[0mval\u001b[0m\u001b[0;34m,\u001b[0m \u001b[0mlist\u001b[0m\u001b[0;34m)\u001b[0m\u001b[0;34m:\u001b[0m\u001b[0;34m\u001b[0m\u001b[0m\n\u001b[1;32m     12\u001b[0m         \u001b[0;32mreturn\u001b[0m \u001b[0mval\u001b[0m\u001b[0;34m\u001b[0m\u001b[0m\n",
      "\u001b[0;31mTypeError\u001b[0m: eval() arg 1 must be a string or code object"
     ]
    }
   ],
   "source": [
    "plot_accuracy_by_feature(num_negations, [h, l2, l0], ['h', 'l2', 'l0'], ['b', 'g', 'r'])"
   ]
  },
  {
   "cell_type": "code",
   "execution_count": null,
   "metadata": {
    "collapsed": false
   },
   "outputs": [],
   "source": [
    "plot_accuracy_by_feature(ind_negations, [h, l2, l0], ['h', 'l2', 'l0'], ['b', 'g', 'r'])"
   ]
  },
  {
   "cell_type": "code",
   "execution_count": null,
   "metadata": {
    "collapsed": false
   },
   "outputs": [],
   "source": [
    "def num_nouns(sent):\n",
    "    return sum([p in (\"NN\", \"NNS\") for w, p in eval(sent)])\n",
    "\n",
    "plot_accuracy_by_feature(num_nouns, [h, l2, l0], ['h', 'l2', 'l0'], ['b', 'g', 'r'])"
   ]
  },
  {
   "cell_type": "code",
   "execution_count": null,
   "metadata": {
    "collapsed": false
   },
   "outputs": [],
   "source": [
    "def ind_noun(sent):\n",
    "    return int(sum([p in (\"NN\", \"NNS\") for w, p in eval(sent)]) > 0)\n",
    "\n",
    "plot_accuracy_by_feature(ind_noun, [h, l2, l0], ['h', 'l2', 'l0'], ['b', 'g', 'r'])"
   ]
  },
  {
   "cell_type": "code",
   "execution_count": null,
   "metadata": {
    "collapsed": false
   },
   "outputs": [],
   "source": [
    "def ind_dt(sent):\n",
    "    return int(sum([p == 'DT' for w, p in eval(sent)]) > 0)\n",
    "\n",
    "plot_accuracy_by_feature(ind_dt, [h, l2, l0], ['h', 'l2', 'l0'], ['b', 'g', 'r'])"
   ]
  },
  {
   "cell_type": "code",
   "execution_count": null,
   "metadata": {
    "collapsed": false
   },
   "outputs": [],
   "source": [
    "def ind_superlative(sent):\n",
    "    return int(sum([p == \"JJS\" for w, p in eval(sent)]) > 0)\n",
    "\n",
    "plot_accuracy_by_feature(ind_superlative, [h, l2, l0], ['h', 'l2', 'l0'], ['b', 'g', 'r'])"
   ]
  },
  {
   "cell_type": "code",
   "execution_count": null,
   "metadata": {
    "collapsed": false
   },
   "outputs": [],
   "source": [
    "def ind_comparative(sent):\n",
    "    return int(sum([p == \"JJR\" for w, p in eval(sent)]) > 0)\n",
    "\n",
    "plot_accuracy_by_feature(ind_comparative, [h, l2, l0], ['h', 'l2', 'l0'], ['b', 'g', 'r'])"
   ]
  },
  {
   "cell_type": "code",
   "execution_count": null,
   "metadata": {
    "collapsed": false
   },
   "outputs": [],
   "source": [
    "def length_bucket(sent):\n",
    "    return int(len(eval(sent)) > 6)\n",
    "\n",
    "plot_accuracy_by_feature(length_bucket, [h, l2, l0], ['human', 'L2', 'L0'], ['b', 'g', 'r'], save='~/byLength.eps')"
   ]
  },
  {
   "cell_type": "code",
   "execution_count": null,
   "metadata": {
    "collapsed": false
   },
   "outputs": [],
   "source": [
    "def length_cross_negations(sent):\n",
    "    return 2 * length_bucket(sent) + ind_negations(sent)\n",
    "\n",
    "plot_accuracy_by_feature(length_cross_negations, [h, l2, l0], ['h', 'l2', 'l0'], ['b', 'g', 'r'])"
   ]
  },
  {
   "cell_type": "code",
   "execution_count": null,
   "metadata": {
    "collapsed": false
   },
   "outputs": [],
   "source": [
    "def length_cross_comparative(sent):\n",
    "    return 2 * length_bucket(sent) + ind_comparative(sent)\n",
    "\n",
    "plot_accuracy_by_feature(length_cross_comparative, [h, l2, l0], ['h', 'l2', 'l0'], ['b', 'g', 'r'])"
   ]
  },
  {
   "cell_type": "code",
   "execution_count": null,
   "metadata": {
    "collapsed": false
   },
   "outputs": [],
   "source": [
    "def length_cross_noun(sent):\n",
    "    return 2 * length_bucket(sent) + ind_noun(sent)\n",
    "\n",
    "plot_accuracy_by_feature(length_cross_noun, [h, l2, l0], ['h', 'l2', 'l0'], ['b', 'g', 'r'])"
   ]
  },
  {
   "cell_type": "code",
   "execution_count": null,
   "metadata": {
    "collapsed": false
   },
   "outputs": [],
   "source": [
    "def length_cross_dt(sent):\n",
    "    return 2 * length_bucket(sent) + ind_dt(sent)\n",
    "\n",
    "plot_accuracy_by_feature(length_cross_dt, [h, l2, l0], ['h', 'l2', 'l0'], ['b', 'g', 'r'])"
   ]
  },
  {
   "cell_type": "markdown",
   "metadata": {
    "collapsed": true
   },
   "source": [
    "When do the two models differ?\n",
    "---"
   ]
  },
  {
   "cell_type": "code",
   "execution_count": null,
   "metadata": {
    "collapsed": false
   },
   "outputs": [],
   "source": [
    "def drop_irrelevant(df):\n",
    "    return df.drop(['numComp', 'numSuper', 'feature_val'], 1)\n",
    "\n",
    "improved = (pd.merge(drop_irrelevant(l0), drop_irrelevant(l2), on=['gameid', 'roundNum'], suffixes=['_l0', '_l2'])\n",
    "              .drop(['contents_l2', 'lemmas_l2', 'condition_l2'], 1)\n",
    "              .query('outcome_l2 > outcome_l0'))\n",
    "declined = (pd.merge(drop_irrelevant(l0), drop_irrelevant(l2), on=['gameid', 'roundNum'], suffixes=['_l0', '_l2'])\n",
    "              .drop(['contents_l2', 'lemmas_l2', 'condition_l2'], 1)\n",
    "              .query('outcome_l2 < outcome_l0'))\n",
    "len(improved), len(declined)"
   ]
  },
  {
   "cell_type": "code",
   "execution_count": null,
   "metadata": {
    "collapsed": false
   },
   "outputs": [],
   "source": [
    "improved"
   ]
  },
  {
   "cell_type": "code",
   "execution_count": null,
   "metadata": {
    "collapsed": false
   },
   "outputs": [],
   "source": [
    "declined"
   ]
  },
  {
   "cell_type": "code",
   "execution_count": 131,
   "metadata": {
    "collapsed": false
   },
   "outputs": [
    {
     "data": {
      "text/html": [
       "<div>\n",
       "<table border=\"1\" class=\"dataframe\">\n",
       "  <thead>\n",
       "    <tr style=\"text-align: right;\">\n",
       "      <th></th>\n",
       "      <th>tag</th>\n",
       "      <th>relRate</th>\n",
       "    </tr>\n",
       "  </thead>\n",
       "  <tbody>\n",
       "    <tr>\n",
       "      <th>10</th>\n",
       "      <td>FW</td>\n",
       "      <td>-0.009452</td>\n",
       "    </tr>\n",
       "    <tr>\n",
       "      <th>22</th>\n",
       "      <td>PRP</td>\n",
       "      <td>-0.008116</td>\n",
       "    </tr>\n",
       "    <tr>\n",
       "      <th>11</th>\n",
       "      <td>IN</td>\n",
       "      <td>-0.006317</td>\n",
       "    </tr>\n",
       "    <tr>\n",
       "      <th>17</th>\n",
       "      <td>NN</td>\n",
       "      <td>-0.006043</td>\n",
       "    </tr>\n",
       "    <tr>\n",
       "      <th>7</th>\n",
       "      <td>CD</td>\n",
       "      <td>-0.003403</td>\n",
       "    </tr>\n",
       "    <tr>\n",
       "      <th>36</th>\n",
       "      <td>VBZ</td>\n",
       "      <td>-0.002955</td>\n",
       "    </tr>\n",
       "    <tr>\n",
       "      <th>25</th>\n",
       "      <td>RBR</td>\n",
       "      <td>-0.002638</td>\n",
       "    </tr>\n",
       "    <tr>\n",
       "      <th>30</th>\n",
       "      <td>UH</td>\n",
       "      <td>-0.002421</td>\n",
       "    </tr>\n",
       "    <tr>\n",
       "      <th>33</th>\n",
       "      <td>VBG</td>\n",
       "      <td>-0.002159</td>\n",
       "    </tr>\n",
       "    <tr>\n",
       "      <th>23</th>\n",
       "      <td>PRP$</td>\n",
       "      <td>-0.001865</td>\n",
       "    </tr>\n",
       "    <tr>\n",
       "      <th>31</th>\n",
       "      <td>VB</td>\n",
       "      <td>-0.001459</td>\n",
       "    </tr>\n",
       "    <tr>\n",
       "      <th>19</th>\n",
       "      <td>NNS</td>\n",
       "      <td>-0.001428</td>\n",
       "    </tr>\n",
       "    <tr>\n",
       "      <th>37</th>\n",
       "      <td>WDT</td>\n",
       "      <td>-0.001016</td>\n",
       "    </tr>\n",
       "    <tr>\n",
       "      <th>16</th>\n",
       "      <td>MD</td>\n",
       "      <td>-0.000998</td>\n",
       "    </tr>\n",
       "    <tr>\n",
       "      <th>14</th>\n",
       "      <td>JJS</td>\n",
       "      <td>-0.000977</td>\n",
       "    </tr>\n",
       "    <tr>\n",
       "      <th>29</th>\n",
       "      <td>TO</td>\n",
       "      <td>-0.000967</td>\n",
       "    </tr>\n",
       "    <tr>\n",
       "      <th>39</th>\n",
       "      <td>WRB</td>\n",
       "      <td>-0.000948</td>\n",
       "    </tr>\n",
       "    <tr>\n",
       "      <th>28</th>\n",
       "      <td>SYM</td>\n",
       "      <td>-0.000474</td>\n",
       "    </tr>\n",
       "    <tr>\n",
       "      <th>26</th>\n",
       "      <td>RBS</td>\n",
       "      <td>-0.000461</td>\n",
       "    </tr>\n",
       "    <tr>\n",
       "      <th>32</th>\n",
       "      <td>VBD</td>\n",
       "      <td>-0.000443</td>\n",
       "    </tr>\n",
       "    <tr>\n",
       "      <th>34</th>\n",
       "      <td>VBN</td>\n",
       "      <td>-0.000149</td>\n",
       "    </tr>\n",
       "    <tr>\n",
       "      <th>27</th>\n",
       "      <td>RP</td>\n",
       "      <td>-0.000131</td>\n",
       "    </tr>\n",
       "    <tr>\n",
       "      <th>38</th>\n",
       "      <td>WP</td>\n",
       "      <td>-0.000131</td>\n",
       "    </tr>\n",
       "    <tr>\n",
       "      <th>21</th>\n",
       "      <td>POS</td>\n",
       "      <td>0.000081</td>\n",
       "    </tr>\n",
       "    <tr>\n",
       "      <th>15</th>\n",
       "      <td>LS</td>\n",
       "      <td>0.000212</td>\n",
       "    </tr>\n",
       "    <tr>\n",
       "      <th>9</th>\n",
       "      <td>EX</td>\n",
       "      <td>0.000343</td>\n",
       "    </tr>\n",
       "    <tr>\n",
       "      <th>20</th>\n",
       "      <td>PDT</td>\n",
       "      <td>0.000343</td>\n",
       "    </tr>\n",
       "    <tr>\n",
       "      <th>35</th>\n",
       "      <td>VBP</td>\n",
       "      <td>0.000406</td>\n",
       "    </tr>\n",
       "    <tr>\n",
       "      <th>0</th>\n",
       "      <td>''</td>\n",
       "      <td>0.000506</td>\n",
       "    </tr>\n",
       "    <tr>\n",
       "      <th>40</th>\n",
       "      <td>``</td>\n",
       "      <td>0.000555</td>\n",
       "    </tr>\n",
       "    <tr>\n",
       "      <th>2</th>\n",
       "      <td>-LRB-</td>\n",
       "      <td>0.001111</td>\n",
       "    </tr>\n",
       "    <tr>\n",
       "      <th>18</th>\n",
       "      <td>NNP</td>\n",
       "      <td>0.001223</td>\n",
       "    </tr>\n",
       "    <tr>\n",
       "      <th>3</th>\n",
       "      <td>-RRB-</td>\n",
       "      <td>0.001666</td>\n",
       "    </tr>\n",
       "    <tr>\n",
       "      <th>13</th>\n",
       "      <td>JJR</td>\n",
       "      <td>0.001687</td>\n",
       "    </tr>\n",
       "    <tr>\n",
       "      <th>5</th>\n",
       "      <td>:</td>\n",
       "      <td>0.002952</td>\n",
       "    </tr>\n",
       "    <tr>\n",
       "      <th>4</th>\n",
       "      <td>.</td>\n",
       "      <td>0.004495</td>\n",
       "    </tr>\n",
       "    <tr>\n",
       "      <th>24</th>\n",
       "      <td>RB</td>\n",
       "      <td>0.005760</td>\n",
       "    </tr>\n",
       "    <tr>\n",
       "      <th>8</th>\n",
       "      <td>DT</td>\n",
       "      <td>0.006367</td>\n",
       "    </tr>\n",
       "    <tr>\n",
       "      <th>1</th>\n",
       "      <td>,</td>\n",
       "      <td>0.006604</td>\n",
       "    </tr>\n",
       "    <tr>\n",
       "      <th>6</th>\n",
       "      <td>CC</td>\n",
       "      <td>0.007882</td>\n",
       "    </tr>\n",
       "    <tr>\n",
       "      <th>12</th>\n",
       "      <td>JJ</td>\n",
       "      <td>0.012759</td>\n",
       "    </tr>\n",
       "  </tbody>\n",
       "</table>\n",
       "</div>"
      ],
      "text/plain": [
       "      tag   relRate\n",
       "10     FW -0.009452\n",
       "22    PRP -0.008116\n",
       "11     IN -0.006317\n",
       "17     NN -0.006043\n",
       "7      CD -0.003403\n",
       "36    VBZ -0.002955\n",
       "25    RBR -0.002638\n",
       "30     UH -0.002421\n",
       "33    VBG -0.002159\n",
       "23   PRP$ -0.001865\n",
       "31     VB -0.001459\n",
       "19    NNS -0.001428\n",
       "37    WDT -0.001016\n",
       "16     MD -0.000998\n",
       "14    JJS -0.000977\n",
       "29     TO -0.000967\n",
       "39    WRB -0.000948\n",
       "28    SYM -0.000474\n",
       "26    RBS -0.000461\n",
       "32    VBD -0.000443\n",
       "34    VBN -0.000149\n",
       "27     RP -0.000131\n",
       "38     WP -0.000131\n",
       "21    POS  0.000081\n",
       "15     LS  0.000212\n",
       "9      EX  0.000343\n",
       "20    PDT  0.000343\n",
       "35    VBP  0.000406\n",
       "0      ''  0.000506\n",
       "40     ``  0.000555\n",
       "2   -LRB-  0.001111\n",
       "18    NNP  0.001223\n",
       "3   -RRB-  0.001666\n",
       "13    JJR  0.001687\n",
       "5       :  0.002952\n",
       "4       .  0.004495\n",
       "24     RB  0.005760\n",
       "8      DT  0.006367\n",
       "1       ,  0.006604\n",
       "6      CC  0.007882\n",
       "12     JJ  0.012759"
      ]
     },
     "execution_count": 131,
     "metadata": {},
     "output_type": "execute_result"
    }
   ],
   "source": [
    "def count_tags(output):\n",
    "    all_tags = [p for sent in output['lemmas_l0'] for w, p in eval(sent)]\n",
    "    return pd.Series(all_tags).value_counts() / (1.0 * len(all_tags))\n",
    "\n",
    "pd.DataFrame(list(count_tags(improved).sub(count_tags(declined), fill_value=0.0)\n",
    "                                      .iteritems()),\n",
    "             columns=['tag', 'relRate']).sort_values(by='relRate')"
   ]
  },
  {
   "cell_type": "code",
   "execution_count": 175,
   "metadata": {
    "collapsed": false
   },
   "outputs": [
    {
     "data": {
      "image/png": "[encoded data removed]",
      "text/plain": [
       "<matplotlib.figure.Figure at 0x7f29f5930110>"
      ]
     },
     "metadata": {},
     "output_type": "display_data"
    }
   ],
   "source": [
    "def accuracy_by_feature(output, func, bounds):\n",
    "    output['feature_val'] = [func(row) for i, row in output.iterrows()]\n",
    "    group_nums = sorted(set(output['feature_val']))\n",
    "    groups = [output.query(\"feature_val == {}\".format(repr(num)))\n",
    "              for num in group_nums]\n",
    "    accs = np.array([sum(g['outcome']) for g in groups])\n",
    "    errs = np.array([30.0 for g in groups])\n",
    "    if bounds is None:\n",
    "        lower_errs = errs\n",
    "        upper_errs = errs\n",
    "    else:\n",
    "        lower_errs = np.minimum(accs - bounds[0], errs)\n",
    "        upper_errs = np.minimum(bounds[1] - accs, errs)\n",
    "    return group_nums, accs, [lower_errs, upper_errs]\n",
    "\n",
    "def plot_num_examples_by_feature(func, outputs, keys, colors, save=None, bounds=(50, 100)):\n",
    "    width = 0.2\n",
    "    all_nums = set()\n",
    "    for i, (output, color) in enumerate(zip(outputs, colors)):\n",
    "        nums, accs, errs = accuracy_by_feature(output, func, bounds=bounds)\n",
    "        plt.bar(np.array(nums) + i * width, accs, width, color=color, ecolor='k')\n",
    "        if bounds is not None:\n",
    "            plt.ylim(bounds)\n",
    "        all_nums.update(nums)\n",
    "    all_nums = sorted(all_nums)\n",
    "    plt.xticks(np.array(all_nums) + len(outputs) * 0.5 * width, ('equal', 'further', 'closer'))\n",
    "    plt.legend(keys, loc='upper left')\n",
    "    if save is not None:\n",
    "        plt.savefig(os.path.expanduser(save), format='eps', bbox_inches='tight')\n",
    "\n",
    "def ind_condition(row):\n",
    "    return ('equal', 'further', 'closer').index(row['condition_l0'])\n",
    "\n",
    "improved['outcome'] = improved['outcome_l2']\n",
    "declined['outcome'] = declined['outcome_l0']\n",
    "plot_num_examples_by_feature(ind_condition, [improved, declined], ['+', '-'], ['b', 'r'], bounds=(0, 200))"
   ]
  },
  {
   "cell_type": "markdown",
   "metadata": {},
   "source": [
    "WordNet color terms\n",
    "---"
   ]
  },
  {
   "cell_type": "code",
   "execution_count": 132,
   "metadata": {
    "collapsed": false
   },
   "outputs": [],
   "source": [
    "from nltk.corpus import wordnet as wn"
   ]
  },
  {
   "cell_type": "code",
   "execution_count": 133,
   "metadata": {
    "collapsed": false
   },
   "outputs": [],
   "source": [
    "def all_hyponyms(syn):\n",
    "    hypo_syns = syn.closure(lambda s: s.hyponyms())\n",
    "    return [str(lemma.name()).replace('_', ' ')\n",
    "            for s in hypo_syns for lemma in s.lemmas()]\n",
    "\n",
    "wn_color_terms = set(all_hyponyms(wn.synset('color.n.01')))"
   ]
  },
  {
   "cell_type": "code",
   "execution_count": 134,
   "metadata": {
    "collapsed": false
   },
   "outputs": [
    {
     "data": {
      "image/png": "[encoded data removed]",
      "text/plain": [
       "<matplotlib.figure.Figure at 0x7f2a0f979350>"
      ]
     },
     "metadata": {},
     "output_type": "display_data"
    }
   ],
   "source": [
    "def ind_color_term(sent):\n",
    "    space_joined = ' '.join(w for w, p in eval(sent))\n",
    "    return any(c in space_joined for c in wn_color_terms)\n",
    "\n",
    "plot_accuracy_by_feature(ind_color_term, [h, l2, l0], ['h', 'l2', 'l0'], ['b', 'g', 'r'])"
   ]
  },
  {
   "cell_type": "markdown",
   "metadata": {},
   "source": [
    "Length and specificity\n",
    "---"
   ]
  },
  {
   "cell_type": "code",
   "execution_count": 135,
   "metadata": {
    "collapsed": false
   },
   "outputs": [],
   "source": [
    "# http://stackoverflow.com/a/21276920/4481448\n",
    "\n",
    "def rand_jitter(arr):\n",
    "    stdev = .01*(max(arr)-min(arr))\n",
    "    return arr + np.random.randn(len(arr)) * stdev\n",
    "\n",
    "def jitter(x, y, s=20, c='b', marker='o', cmap=None, norm=None, vmin=None, vmax=None, alpha=None, linewidths=None, verts=None, hold=None, **kwargs):\n",
    "    return plt.scatter(rand_jitter(x), rand_jitter(y), s=s, c=c, marker=marker, cmap=cmap, norm=norm, vmin=vmin, vmax=vmax, alpha=alpha, linewidths=linewidths, verts=verts, hold=hold, **kwargs)"
   ]
  },
  {
   "cell_type": "code",
   "execution_count": 136,
   "metadata": {
    "collapsed": true
   },
   "outputs": [],
   "source": [
    "def length_cost(row):\n",
    "    return len(eval(row['lemmas']))\n",
    "\n",
    "def cost_by_condition(cost_fn, output):\n",
    "    conditions = [['equal', 'further', 'closer'].index(row['condition'])\n",
    "                  for index, row in output.iterrows()]\n",
    "    length = [cost_fn(row) for index, row in output.iterrows()]\n",
    "    return np.array(conditions), np.array(length)\n",
    "\n",
    "def plot_cost_by_condition(cost_fn, output):\n",
    "    conditions, length = cost_by_condition(cost_fn, output)\n",
    "    jitter(conditions, length)\n",
    "    plt.xticks(sorted(set(conditions)), ['equal', 'further', 'closer'])\n",
    "    plt.xlabel('Condition')\n",
    "    plt.ylabel('Length')\n",
    "    plt.show()"
   ]
  },
  {
   "cell_type": "code",
   "execution_count": 137,
   "metadata": {
    "collapsed": false
   },
   "outputs": [
    {
     "data": {
      "image/png": "[encoded data removed]",
      "text/plain": [
       "<matplotlib.figure.Figure at 0x7f29f5c87a50>"
      ]
     },
     "metadata": {},
     "output_type": "display_data"
    }
   ],
   "source": [
    "plot_cost_by_condition(length_cost, h)"
   ]
  },
  {
   "cell_type": "code",
   "execution_count": 138,
   "metadata": {
    "collapsed": false
   },
   "outputs": [],
   "source": [
    "from sklearn.linear_model import LogisticRegression\n",
    "\n",
    "def accuracy_by_cost(cost_fn, output):\n",
    "    length = np.array([cost_fn(row) for index, row in output.iterrows()])\n",
    "    accuracy = output['outcome'].astype(np.int)\n",
    "    return length, accuracy\n",
    "\n",
    "def plot_logistic_reg(length, accuracy):\n",
    "    # TODO\n",
    "    lr = LogisticRegression(C=1., solver='lbfgs')\n",
    "    lr.fit(np.log(np.maximum(1., length[:, np.newaxis])), accuracy)\n",
    "    inputs = np.arange(1., 130., 0.1)\n",
    "    probs = lr.predict_proba(np.log(inputs[:, np.newaxis]))[:, 1]\n",
    "    plt.plot(inputs, probs)\n",
    "\n",
    "def plot_accuracy_by_cost(cost_fn, output, plot_fit_fn):\n",
    "    length, accuracy = accuracy_by_cost(cost_fn, output)\n",
    "    plt.scatter(length, accuracy)\n",
    "    plot_fit_fn(length, accuracy)\n",
    "    plt.xlabel('Length')\n",
    "    plt.ylabel('Accuracy')\n",
    "    plt.show()"
   ]
  },
  {
   "cell_type": "code",
   "execution_count": 139,
   "metadata": {
    "collapsed": false
   },
   "outputs": [
    {
     "data": {
      "image/png": "[encoded data removed]",
      "text/plain": [
       "<matplotlib.figure.Figure at 0x7f2a0fe3fed0>"
      ]
     },
     "metadata": {},
     "output_type": "display_data"
    }
   ],
   "source": [
    "plot_accuracy_by_cost(length_cost, h, plot_logistic_reg)"
   ]
  },
  {
   "cell_type": "code",
   "execution_count": 140,
   "metadata": {
    "collapsed": false
   },
   "outputs": [
    {
     "data": {
      "image/png": "[encoded data removed]",
      "text/plain": [
       "<matplotlib.figure.Figure at 0x7f2a0fb9f590>"
      ]
     },
     "metadata": {},
     "output_type": "display_data"
    }
   ],
   "source": [
    "def lm_score_cost(row):\n",
    "    words = [w for w, t in eval(row['lemmas'])]\n",
    "    return -lm.score(' '.join(words))\n",
    "\n",
    "plot_accuracy_by_cost(lm_score_cost, h, plot_logistic_reg)"
   ]
  },
  {
   "cell_type": "code",
   "execution_count": 141,
   "metadata": {
    "collapsed": false
   },
   "outputs": [
    {
     "data": {
      "image/png": "[encoded data removed]",
      "text/plain": [
       "<matplotlib.figure.Figure at 0x7f2a0fb9f450>"
      ]
     },
     "metadata": {},
     "output_type": "display_data"
    }
   ],
   "source": [
    "class LocalRegression(object):\n",
    "    def __init__(self, x, y, alpha=None):\n",
    "        self.x = np.array(x)\n",
    "        self.y = np.array(y)\n",
    "        if alpha is not None:\n",
    "            self.alpha = alpha\n",
    "        else:\n",
    "            self.alpha = self.tune_alpha()\n",
    "\n",
    "    def tune_alpha(self):\n",
    "        # Find the scale to search over\n",
    "        diffs = np.abs(self.x[:, np.newaxis] - self.x[np.newaxis, :])\n",
    "        #diffs[diffs <= 1e-6] = float('inf')\n",
    "        #min_alpha = np.min(diffs)\n",
    "        min_alpha = np.mean(diffs) / 10.\n",
    "        max_alpha = (np.max(self.x) - np.min(self.x)) / 2.\n",
    "        # Search on linearly spaced intervals\n",
    "        search_vals = np.linspace(min_alpha, max_alpha, 10)\n",
    "        # Minimize LOOCV cross-entropy\n",
    "        costs = []\n",
    "        for alpha in search_vals:\n",
    "            c = self.cost(alpha)\n",
    "            if not np.isfinite(c):\n",
    "                c = float('inf')\n",
    "            costs.append(c)\n",
    "            print('%.3e: %.3e' % (alpha, c))\n",
    "        return search_vals[np.argmin(costs)]\n",
    "    \n",
    "    def cost(self, alpha):\n",
    "        n = len(self.x)\n",
    "        z = (self.x[:, np.newaxis] - self.x[np.newaxis, :]) / alpha\n",
    "        weights = np.exp(-z ** 2.0)\n",
    "        # Leave-one-out cross-validation \n",
    "        weights[np.arange(n), np.arange(n)] = 0.\n",
    "        probas = (weights * self.y[np.newaxis, :]).sum(axis=1) / weights.sum(axis=1)\n",
    "        return -(self.y * np.log(probas) + (1. - self.y) * np.log(1. - probas)).sum()\n",
    "\n",
    "    def predict_proba(self, x):\n",
    "        z = (x[:, np.newaxis] - self.x[np.newaxis, :]) / self.alpha\n",
    "        weights = np.exp(-z ** 2.0)\n",
    "        return (weights * self.y[np.newaxis, :]).sum(axis=1) / weights.sum(axis=1)\n",
    "\n",
    "def plot_local(cost, accuracy):\n",
    "    reg = LocalRegression(cost, accuracy, alpha=10.0)\n",
    "    inputs = np.arange(np.min(cost), np.max(cost), 0.1)\n",
    "    probs = reg.predict_proba(inputs)\n",
    "    plt.plot(inputs, probs)\n",
    "\n",
    "plot_accuracy_by_cost(lm_score_cost, h, plot_local)"
   ]
  },
  {
   "cell_type": "code",
   "execution_count": 142,
   "metadata": {
    "collapsed": false
   },
   "outputs": [
    {
     "data": {
      "image/png": "[encoded data removed]",
      "text/plain": [
       "<matplotlib.figure.Figure at 0x7f2a0f829490>"
      ]
     },
     "metadata": {},
     "output_type": "display_data"
    }
   ],
   "source": [
    "plot_accuracy_by_cost(lm_score_cost, l0, plot_local)"
   ]
  },
  {
   "cell_type": "code",
   "execution_count": 143,
   "metadata": {
    "collapsed": false
   },
   "outputs": [
    {
     "data": {
      "image/png": "[encoded data removed]",
      "text/plain": [
       "<matplotlib.figure.Figure at 0x7f2a0fc65e10>"
      ]
     },
     "metadata": {},
     "output_type": "display_data"
    }
   ],
   "source": [
    "plot_accuracy_by_cost(lm_score_cost, l2, plot_local)"
   ]
  },
  {
   "cell_type": "code",
   "execution_count": 144,
   "metadata": {
    "collapsed": false
   },
   "outputs": [
    {
     "data": {
      "image/png": "[encoded data removed]",
      "text/plain": [
       "<matplotlib.figure.Figure at 0x7f29f8a35d90>"
      ]
     },
     "metadata": {},
     "output_type": "display_data"
    }
   ],
   "source": [
    "def compare_local(cost_fn, output1, output2, plot_fit_fn):\n",
    "    cost, accuracy1 = accuracy_by_cost(cost_fn, output1)\n",
    "    _, accuracy2 = accuracy_by_cost(cost_fn, output2)\n",
    "    plot_fit_fn(cost, accuracy1)\n",
    "    plot_fit_fn(cost, accuracy2)\n",
    "    plt.xlabel('Length')\n",
    "    plt.ylabel('Accuracy')\n",
    "    plt.show()\n",
    "    \n",
    "compare_local(lm_score_cost, l2, l0, plot_local)"
   ]
  },
  {
   "cell_type": "markdown",
   "metadata": {
    "collapsed": true
   },
   "source": [
    "Plots of only examples that differ in accuracy\n",
    "---"
   ]
  },
  {
   "cell_type": "code",
   "execution_count": 145,
   "metadata": {
    "collapsed": true
   },
   "outputs": [],
   "source": [
    "l0_diff = l0[l0['outcome'] != l2['outcome']]\n",
    "l2_diff = l2[l0['outcome'] != l2['outcome']]"
   ]
  },
  {
   "cell_type": "code",
   "execution_count": 146,
   "metadata": {
    "collapsed": false
   },
   "outputs": [
    {
     "data": {
      "image/png": "[encoded data removed]",
      "text/plain": [
       "<matplotlib.figure.Figure at 0x7f29f7091750>"
      ]
     },
     "metadata": {},
     "output_type": "display_data"
    }
   ],
   "source": [
    "compare_local(lm_score_cost, l2_diff, l0_diff, plot_local)"
   ]
  },
  {
   "cell_type": "code",
   "execution_count": 147,
   "metadata": {
    "collapsed": false
   },
   "outputs": [
    {
     "data": {
      "image/png": "[encoded data removed]",
      "text/plain": [
       "<matplotlib.figure.Figure at 0x7f2a0fd5e310>"
      ]
     },
     "metadata": {},
     "output_type": "display_data"
    }
   ],
   "source": [
    "plot_accuracy_by_cost(lm_score_cost, l2_diff, plot_local)"
   ]
  },
  {
   "cell_type": "code",
   "execution_count": 148,
   "metadata": {
    "collapsed": true
   },
   "outputs": [],
   "source": [
    "def resid_cost(row):\n",
    "    # TODO: update the coefficients for the new language model\n",
    "    a, b = (1.369379215037215, 1.3627133364900235)\n",
    "    lc = length_cost(row)\n",
    "    expected = a * 1.0 * lc + b\n",
    "    return lm_score_cost(row) - expected"
   ]
  },
  {
   "cell_type": "code",
   "execution_count": 149,
   "metadata": {
    "collapsed": false
   },
   "outputs": [
    {
     "data": {
      "image/png": "[encoded data removed]",
      "text/plain": [
       "<matplotlib.figure.Figure at 0x7f29f54cf390>"
      ]
     },
     "metadata": {},
     "output_type": "display_data"
    }
   ],
   "source": [
    "plot_accuracy_by_cost(resid_cost, l2_diff, plot_local)"
   ]
  },
  {
   "cell_type": "code",
   "execution_count": 150,
   "metadata": {
    "collapsed": false
   },
   "outputs": [
    {
     "name": "stdout",
     "output_type": "stream",
     "text": [
      "(1.5367764492399365, 1.6934459948611931)\n"
     ]
    },
    {
     "data": {
      "image/png": "[encoded data removed]",
      "text/plain": [
       "<matplotlib.figure.Figure at 0x7f29f8e05a10>"
      ]
     },
     "metadata": {},
     "output_type": "display_data"
    }
   ],
   "source": [
    "def plot_lm_scores():\n",
    "    lens = [length_cost(row) for i, row in l2.iterrows()]\n",
    "    scores = [lm_score_cost(row) for i, row in l2.iterrows()]\n",
    "    a, b = np.polyfit(lens, scores, 1)\n",
    "    print((a, b))\n",
    "    plt.scatter(lens, scores)\n",
    "    plt.plot([0., 100.], [b, 100. * a + b])\n",
    "    plt.show()\n",
    "\n",
    "plot_lm_scores()"
   ]
  },
  {
   "cell_type": "code",
   "execution_count": null,
   "metadata": {
    "collapsed": true
   },
   "outputs": [],
   "source": []
  }
 ],
 "metadata": {
  "kernelspec": {
   "display_name": "Python 2",
   "language": "python",
   "name": "python2"
  },
  "language_info": {
   "codemirror_mode": {
    "name": "ipython",
    "version": 2
   },
   "file_extension": ".py",
   "mimetype": "text/x-python",
   "name": "python",
   "nbconvert_exporter": "python",
   "pygments_lexer": "ipython2",
   "version": "2.7.12"
  }
 },
 "nbformat": 4,
 "nbformat_minor": 0
}

{
 "cells": [
  {
   "cell_type": "code",
   "execution_count": 11,
   "metadata": {
    "collapsed": true
   },
   "outputs": [],
   "source": [
    "import matplotlib.pyplot as plt\n",
    "import numpy as np\n",
    "import pandas as pd\n",
    "import os\n",
    "import kenlm\n",
    "lm = kenlm.LanguageModel('kenlm.arpa')\n",
    "%matplotlib inline"
   ]
  },
  {
   "cell_type": "markdown",
   "metadata": {},
   "source": [
    "Load data\n",
    "---------"
   ]
  },
  {
   "cell_type": "code",
   "execution_count": 14,
   "metadata": {
    "collapsed": false
   },
   "outputs": [
    {
     "data": {
      "text/html": [
       "<div>\n",
       "<table border=\"1\" class=\"dataframe\">\n",
       "  <thead>\n",
       "    <tr style=\"text-align: right;\">\n",
       "      <th></th>\n",
       "      <th>gameid</th>\n",
       "      <th>time</th>\n",
       "      <th>roundNum</th>\n",
       "      <th>sender</th>\n",
       "      <th>contents</th>\n",
       "      <th>source</th>\n",
       "      <th>lemmas</th>\n",
       "      <th>numSuper</th>\n",
       "      <th>numComp</th>\n",
       "    </tr>\n",
       "  </thead>\n",
       "  <tbody>\n",
       "    <tr>\n",
       "      <th>0</th>\n",
       "      <td>1124-1</td>\n",
       "      <td>1459877203862</td>\n",
       "      <td>1</td>\n",
       "      <td>speaker</td>\n",
       "      <td>The darker blue one</td>\n",
       "      <td>human</td>\n",
       "      <td>[(u'The', u'DT'), (u'darker', u'JJR'), (u'blue...</td>\n",
       "      <td>0</td>\n",
       "      <td>1</td>\n",
       "    </tr>\n",
       "    <tr>\n",
       "      <th>1</th>\n",
       "      <td>1124-1</td>\n",
       "      <td>1459877214034</td>\n",
       "      <td>2</td>\n",
       "      <td>speaker</td>\n",
       "      <td>purple</td>\n",
       "      <td>human</td>\n",
       "      <td>[(u'purple', u'JJ')]</td>\n",
       "      <td>0</td>\n",
       "      <td>0</td>\n",
       "    </tr>\n",
       "    <tr>\n",
       "      <th>2</th>\n",
       "      <td>1124-1</td>\n",
       "      <td>1459877223719</td>\n",
       "      <td>3</td>\n",
       "      <td>speaker</td>\n",
       "      <td>Medium pink</td>\n",
       "      <td>human</td>\n",
       "      <td>[(u'Medium', u'NN'), (u'pink', u'NN')]</td>\n",
       "      <td>0</td>\n",
       "      <td>0</td>\n",
       "    </tr>\n",
       "    <tr>\n",
       "      <th>3</th>\n",
       "      <td>1124-1</td>\n",
       "      <td>1459877227433</td>\n",
       "      <td>3</td>\n",
       "      <td>speaker</td>\n",
       "      <td>the medium dark one</td>\n",
       "      <td>human</td>\n",
       "      <td>[(u'the', u'DT'), (u'medium', u'NN'), (u'dark'...</td>\n",
       "      <td>0</td>\n",
       "      <td>0</td>\n",
       "    </tr>\n",
       "    <tr>\n",
       "      <th>4</th>\n",
       "      <td>1124-1</td>\n",
       "      <td>1459877240480</td>\n",
       "      <td>4</td>\n",
       "      <td>speaker</td>\n",
       "      <td>lime</td>\n",
       "      <td>human</td>\n",
       "      <td>[(u'lime', u'NN')]</td>\n",
       "      <td>0</td>\n",
       "      <td>0</td>\n",
       "    </tr>\n",
       "  </tbody>\n",
       "</table>\n",
       "</div>"
      ],
      "text/plain": [
       "   gameid           time  roundNum   sender             contents source  \\\n",
       "0  1124-1  1459877203862         1  speaker  The darker blue one  human   \n",
       "1  1124-1  1459877214034         2  speaker               purple  human   \n",
       "2  1124-1  1459877223719         3  speaker          Medium pink  human   \n",
       "3  1124-1  1459877227433         3  speaker  the medium dark one  human   \n",
       "4  1124-1  1459877240480         4  speaker                 lime  human   \n",
       "\n",
       "                                              lemmas  numSuper  numComp  \n",
       "0  [(u'The', u'DT'), (u'darker', u'JJR'), (u'blue...         0        1  \n",
       "1                               [(u'purple', u'JJ')]         0        0  \n",
       "2             [(u'Medium', u'NN'), (u'pink', u'NN')]         0        0  \n",
       "3  [(u'the', u'DT'), (u'medium', u'NN'), (u'dark'...         0        0  \n",
       "4                                 [(u'lime', u'NN')]         0        0  "
      ]
     },
     "execution_count": 14,
     "metadata": {},
     "output_type": "execute_result"
    }
   ],
   "source": [
    "tags = pd.read_csv('taggedColorMsgs2.csv', escapechar='\\\\')\n",
    "tags.head()"
   ]
  },
  {
   "cell_type": "code",
   "execution_count": 15,
   "metadata": {
    "collapsed": true
   },
   "outputs": [],
   "source": [
    "def join_with_tilde(s):\n",
    "    return ' ~ '.join(s)\n",
    "\n",
    "def join_lemmas_lists(r):\n",
    "    result = []\n",
    "    for row in r:\n",
    "        result.extend(eval(row))\n",
    "    return repr(result)\n",
    "\n",
    "def join_with_tagged(output, tags):\n",
    "    return (pd.merge(output, tags, on=['gameid', 'roundNum'])\n",
    "              .query(\"sender == 'speaker'\")[['gameid', 'roundNum', 'condition', 'outcome',\n",
    "                                             'contents', 'lemmas', 'numSuper', 'numComp']]\n",
    "              .groupby(['gameid', 'roundNum'])\n",
    "              .agg({'condition': 'first', 'outcome': 'first',\n",
    "                    'contents': join_with_tilde,\n",
    "                    'lemmas': join_lemmas_lists,\n",
    "                    'numSuper': 'sum', 'numComp': 'sum'})\n",
    "              .reset_index())"
   ]
  },
  {
   "cell_type": "code",
   "execution_count": 16,
   "metadata": {
    "collapsed": false
   },
   "outputs": [
    {
     "data": {
      "text/html": [
       "<div>\n",
       "<table border=\"1\" class=\"dataframe\">\n",
       "  <thead>\n",
       "    <tr style=\"text-align: right;\">\n",
       "      <th></th>\n",
       "      <th>gameid</th>\n",
       "      <th>roundNum</th>\n",
       "      <th>numSuper</th>\n",
       "      <th>lemmas</th>\n",
       "      <th>condition</th>\n",
       "      <th>numComp</th>\n",
       "      <th>outcome</th>\n",
       "      <th>contents</th>\n",
       "    </tr>\n",
       "  </thead>\n",
       "  <tbody>\n",
       "    <tr>\n",
       "      <th>0</th>\n",
       "      <td>0022-7</td>\n",
       "      <td>1</td>\n",
       "      <td>0</td>\n",
       "      <td>[(u'blue', u'JJ'), (u',', u','), (u'sorry', u'...</td>\n",
       "      <td>closer</td>\n",
       "      <td>0</td>\n",
       "      <td>True</td>\n",
       "      <td>blue, sorry ~ blue, sorry ~ dark blue ~ dark blue</td>\n",
       "    </tr>\n",
       "    <tr>\n",
       "      <th>1</th>\n",
       "      <td>0022-7</td>\n",
       "      <td>2</td>\n",
       "      <td>0</td>\n",
       "      <td>[(u'brighter', u'JJR'), (u'blue', u'JJ'), (u'o...</td>\n",
       "      <td>closer</td>\n",
       "      <td>2</td>\n",
       "      <td>True</td>\n",
       "      <td>brighter blue one ~ brighter blue one ~ blue ~...</td>\n",
       "    </tr>\n",
       "    <tr>\n",
       "      <th>2</th>\n",
       "      <td>0022-7</td>\n",
       "      <td>3</td>\n",
       "      <td>2</td>\n",
       "      <td>[(u'long', u'RB'), (u'day', u'NN'), (u'here', ...</td>\n",
       "      <td>further</td>\n",
       "      <td>0</td>\n",
       "      <td>True</td>\n",
       "      <td>long day here too ~ royal blue ~ long day here...</td>\n",
       "    </tr>\n",
       "    <tr>\n",
       "      <th>3</th>\n",
       "      <td>0022-7</td>\n",
       "      <td>4</td>\n",
       "      <td>0</td>\n",
       "      <td>[(u'more', u'JJR'), (u'of', u'IN'), (u'a', u'D...</td>\n",
       "      <td>further</td>\n",
       "      <td>2</td>\n",
       "      <td>False</td>\n",
       "      <td>more of a mustard color, not as orange ~ more ...</td>\n",
       "    </tr>\n",
       "    <tr>\n",
       "      <th>4</th>\n",
       "      <td>0022-7</td>\n",
       "      <td>5</td>\n",
       "      <td>0</td>\n",
       "      <td>[(u'blue', u'JJ'), (u'blue', u'JJ'), (u'blue',...</td>\n",
       "      <td>equal</td>\n",
       "      <td>0</td>\n",
       "      <td>True</td>\n",
       "      <td>blue ~ blue ~ blue ~ blue</td>\n",
       "    </tr>\n",
       "  </tbody>\n",
       "</table>\n",
       "</div>"
      ],
      "text/plain": [
       "   gameid  roundNum  numSuper  \\\n",
       "0  0022-7         1         0   \n",
       "1  0022-7         2         0   \n",
       "2  0022-7         3         2   \n",
       "3  0022-7         4         0   \n",
       "4  0022-7         5         0   \n",
       "\n",
       "                                              lemmas condition  numComp  \\\n",
       "0  [(u'blue', u'JJ'), (u',', u','), (u'sorry', u'...    closer        0   \n",
       "1  [(u'brighter', u'JJR'), (u'blue', u'JJ'), (u'o...    closer        2   \n",
       "2  [(u'long', u'RB'), (u'day', u'NN'), (u'here', ...   further        0   \n",
       "3  [(u'more', u'JJR'), (u'of', u'IN'), (u'a', u'D...   further        2   \n",
       "4  [(u'blue', u'JJ'), (u'blue', u'JJ'), (u'blue',...     equal        0   \n",
       "\n",
       "  outcome                                           contents  \n",
       "0    True  blue, sorry ~ blue, sorry ~ dark blue ~ dark blue  \n",
       "1    True  brighter blue one ~ brighter blue one ~ blue ~...  \n",
       "2    True  long day here too ~ royal blue ~ long day here...  \n",
       "3   False  more of a mustard color, not as orange ~ more ...  \n",
       "4    True                          blue ~ blue ~ blue ~ blue  "
      ]
     },
     "execution_count": 16,
     "metadata": {},
     "output_type": "execute_result"
    }
   ],
   "source": [
    "l0 = join_with_tagged(pd.read_csv('modelOutput/listener_big_l0_untuned_clickedObj.csv', escapechar='\\\\'), tags)\n",
    "l0.head()"
   ]
  },
  {
   "cell_type": "code",
   "execution_count": 17,
   "metadata": {
    "collapsed": false,
    "scrolled": true
   },
   "outputs": [
    {
     "data": {
      "text/html": [
       "<div>\n",
       "<table border=\"1\" class=\"dataframe\">\n",
       "  <thead>\n",
       "    <tr style=\"text-align: right;\">\n",
       "      <th></th>\n",
       "      <th>gameid</th>\n",
       "      <th>roundNum</th>\n",
       "      <th>numSuper</th>\n",
       "      <th>lemmas</th>\n",
       "      <th>condition</th>\n",
       "      <th>numComp</th>\n",
       "      <th>outcome</th>\n",
       "      <th>contents</th>\n",
       "    </tr>\n",
       "  </thead>\n",
       "  <tbody>\n",
       "    <tr>\n",
       "      <th>0</th>\n",
       "      <td>0022-7</td>\n",
       "      <td>1</td>\n",
       "      <td>0</td>\n",
       "      <td>[(u'blue', u'JJ'), (u',', u','), (u'sorry', u'...</td>\n",
       "      <td>closer</td>\n",
       "      <td>0</td>\n",
       "      <td>True</td>\n",
       "      <td>blue, sorry ~ blue, sorry ~ dark blue ~ dark blue</td>\n",
       "    </tr>\n",
       "    <tr>\n",
       "      <th>1</th>\n",
       "      <td>0022-7</td>\n",
       "      <td>2</td>\n",
       "      <td>0</td>\n",
       "      <td>[(u'brighter', u'JJR'), (u'blue', u'JJ'), (u'o...</td>\n",
       "      <td>closer</td>\n",
       "      <td>2</td>\n",
       "      <td>True</td>\n",
       "      <td>brighter blue one ~ brighter blue one ~ blue ~...</td>\n",
       "    </tr>\n",
       "    <tr>\n",
       "      <th>2</th>\n",
       "      <td>0022-7</td>\n",
       "      <td>3</td>\n",
       "      <td>2</td>\n",
       "      <td>[(u'long', u'RB'), (u'day', u'NN'), (u'here', ...</td>\n",
       "      <td>further</td>\n",
       "      <td>0</td>\n",
       "      <td>True</td>\n",
       "      <td>long day here too ~ royal blue ~ long day here...</td>\n",
       "    </tr>\n",
       "    <tr>\n",
       "      <th>3</th>\n",
       "      <td>0022-7</td>\n",
       "      <td>4</td>\n",
       "      <td>0</td>\n",
       "      <td>[(u'more', u'JJR'), (u'of', u'IN'), (u'a', u'D...</td>\n",
       "      <td>further</td>\n",
       "      <td>2</td>\n",
       "      <td>False</td>\n",
       "      <td>more of a mustard color, not as orange ~ more ...</td>\n",
       "    </tr>\n",
       "    <tr>\n",
       "      <th>4</th>\n",
       "      <td>0022-7</td>\n",
       "      <td>5</td>\n",
       "      <td>0</td>\n",
       "      <td>[(u'blue', u'JJ'), (u'blue', u'JJ'), (u'blue',...</td>\n",
       "      <td>equal</td>\n",
       "      <td>0</td>\n",
       "      <td>True</td>\n",
       "      <td>blue ~ blue ~ blue ~ blue</td>\n",
       "    </tr>\n",
       "  </tbody>\n",
       "</table>\n",
       "</div>"
      ],
      "text/plain": [
       "   gameid  roundNum  numSuper  \\\n",
       "0  0022-7         1         0   \n",
       "1  0022-7         2         0   \n",
       "2  0022-7         3         2   \n",
       "3  0022-7         4         0   \n",
       "4  0022-7         5         0   \n",
       "\n",
       "                                              lemmas condition  numComp  \\\n",
       "0  [(u'blue', u'JJ'), (u',', u','), (u'sorry', u'...    closer        0   \n",
       "1  [(u'brighter', u'JJR'), (u'blue', u'JJ'), (u'o...    closer        2   \n",
       "2  [(u'long', u'RB'), (u'day', u'NN'), (u'here', ...   further        0   \n",
       "3  [(u'more', u'JJR'), (u'of', u'IN'), (u'a', u'D...   further        2   \n",
       "4  [(u'blue', u'JJ'), (u'blue', u'JJ'), (u'blue',...     equal        0   \n",
       "\n",
       "  outcome                                           contents  \n",
       "0    True  blue, sorry ~ blue, sorry ~ dark blue ~ dark blue  \n",
       "1    True  brighter blue one ~ brighter blue one ~ blue ~...  \n",
       "2    True  long day here too ~ royal blue ~ long day here...  \n",
       "3   False  more of a mustard color, not as orange ~ more ...  \n",
       "4    True                          blue ~ blue ~ blue ~ blue  "
      ]
     },
     "execution_count": 17,
     "metadata": {},
     "output_type": "execute_result"
    }
   ],
   "source": [
    "l2 = join_with_tagged(pd.read_csv('modelOutput/listener_big_l2_untuned_clickedObj.csv', escapechar='\\\\'), tags)\n",
    "l2.head()"
   ]
  },
  {
   "cell_type": "code",
   "execution_count": 18,
   "metadata": {
    "collapsed": false
   },
   "outputs": [
    {
     "data": {
      "text/html": [
       "<div>\n",
       "<table border=\"1\" class=\"dataframe\">\n",
       "  <thead>\n",
       "    <tr style=\"text-align: right;\">\n",
       "      <th></th>\n",
       "      <th>gameid</th>\n",
       "      <th>time</th>\n",
       "      <th>roundNum</th>\n",
       "      <th>sender</th>\n",
       "      <th>contents</th>\n",
       "    </tr>\n",
       "  </thead>\n",
       "  <tbody>\n",
       "    <tr>\n",
       "      <th>0</th>\n",
       "      <td>1124-1</td>\n",
       "      <td>1459877203862</td>\n",
       "      <td>1</td>\n",
       "      <td>speaker</td>\n",
       "      <td>The darker blue one</td>\n",
       "    </tr>\n",
       "    <tr>\n",
       "      <th>1</th>\n",
       "      <td>1124-1</td>\n",
       "      <td>1459877214034</td>\n",
       "      <td>2</td>\n",
       "      <td>speaker</td>\n",
       "      <td>purple</td>\n",
       "    </tr>\n",
       "    <tr>\n",
       "      <th>2</th>\n",
       "      <td>1124-1</td>\n",
       "      <td>1459877223719</td>\n",
       "      <td>3</td>\n",
       "      <td>speaker</td>\n",
       "      <td>Medium pink</td>\n",
       "    </tr>\n",
       "    <tr>\n",
       "      <th>3</th>\n",
       "      <td>1124-1</td>\n",
       "      <td>1459877227433</td>\n",
       "      <td>3</td>\n",
       "      <td>speaker</td>\n",
       "      <td>the medium dark one</td>\n",
       "    </tr>\n",
       "    <tr>\n",
       "      <th>4</th>\n",
       "      <td>1124-1</td>\n",
       "      <td>1459877240480</td>\n",
       "      <td>4</td>\n",
       "      <td>speaker</td>\n",
       "      <td>lime</td>\n",
       "    </tr>\n",
       "  </tbody>\n",
       "</table>\n",
       "</div>"
      ],
      "text/plain": [
       "   gameid           time  roundNum   sender             contents\n",
       "0  1124-1  1459877203862         1  speaker  The darker blue one\n",
       "1  1124-1  1459877214034         2  speaker               purple\n",
       "2  1124-1  1459877223719         3  speaker          Medium pink\n",
       "3  1124-1  1459877227433         3  speaker  the medium dark one\n",
       "4  1124-1  1459877240480         4  speaker                 lime"
      ]
     },
     "execution_count": 18,
     "metadata": {},
     "output_type": "execute_result"
    }
   ],
   "source": [
    "u = pd.read_csv('humanOutput/colorReferenceMessage2.csv', escapechar='\\\\')\n",
    "u.head()"
   ]
  },
  {
   "cell_type": "code",
   "execution_count": 19,
   "metadata": {
    "collapsed": false
   },
   "outputs": [
    {
     "data": {
      "text/html": [
       "<div>\n",
       "<table border=\"1\" class=\"dataframe\">\n",
       "  <thead>\n",
       "    <tr style=\"text-align: right;\">\n",
       "      <th></th>\n",
       "      <th>gameid</th>\n",
       "      <th>roundNum</th>\n",
       "      <th>numSuper</th>\n",
       "      <th>lemmas</th>\n",
       "      <th>condition</th>\n",
       "      <th>numComp</th>\n",
       "      <th>outcome</th>\n",
       "      <th>contents</th>\n",
       "    </tr>\n",
       "  </thead>\n",
       "  <tbody>\n",
       "    <tr>\n",
       "      <th>0</th>\n",
       "      <td>0002-7</td>\n",
       "      <td>1</td>\n",
       "      <td>0</td>\n",
       "      <td>[(u'purpleish', u'NN')]</td>\n",
       "      <td>closer</td>\n",
       "      <td>0</td>\n",
       "      <td>False</td>\n",
       "      <td>purpleish</td>\n",
       "    </tr>\n",
       "    <tr>\n",
       "      <th>1</th>\n",
       "      <td>0002-7</td>\n",
       "      <td>2</td>\n",
       "      <td>0</td>\n",
       "      <td>[(u'grey', u'JJ')]</td>\n",
       "      <td>further</td>\n",
       "      <td>0</td>\n",
       "      <td>True</td>\n",
       "      <td>grey</td>\n",
       "    </tr>\n",
       "    <tr>\n",
       "      <th>2</th>\n",
       "      <td>0002-7</td>\n",
       "      <td>3</td>\n",
       "      <td>0</td>\n",
       "      <td>[(u'not', u'RB'), (u'green', u'JJ'), (u'and', ...</td>\n",
       "      <td>closer</td>\n",
       "      <td>0</td>\n",
       "      <td>True</td>\n",
       "      <td>not green and not orange ~ pastel green Id say...</td>\n",
       "    </tr>\n",
       "    <tr>\n",
       "      <th>3</th>\n",
       "      <td>0002-7</td>\n",
       "      <td>4</td>\n",
       "      <td>0</td>\n",
       "      <td>[(u'grey', u'JJ'), (u'with', u'IN'), (u'a', u'...</td>\n",
       "      <td>closer</td>\n",
       "      <td>0</td>\n",
       "      <td>False</td>\n",
       "      <td>grey with a red tint</td>\n",
       "    </tr>\n",
       "    <tr>\n",
       "      <th>4</th>\n",
       "      <td>0002-7</td>\n",
       "      <td>5</td>\n",
       "      <td>0</td>\n",
       "      <td>[(u'darker', u'JJR'), (u'of', u'IN'), (u'the',...</td>\n",
       "      <td>closer</td>\n",
       "      <td>1</td>\n",
       "      <td>True</td>\n",
       "      <td>darker of the 2 turqoise</td>\n",
       "    </tr>\n",
       "  </tbody>\n",
       "</table>\n",
       "</div>"
      ],
      "text/plain": [
       "   gameid  roundNum  numSuper  \\\n",
       "0  0002-7         1         0   \n",
       "1  0002-7         2         0   \n",
       "2  0002-7         3         0   \n",
       "3  0002-7         4         0   \n",
       "4  0002-7         5         0   \n",
       "\n",
       "                                              lemmas condition  numComp  \\\n",
       "0                            [(u'purpleish', u'NN')]    closer        0   \n",
       "1                                 [(u'grey', u'JJ')]   further        0   \n",
       "2  [(u'not', u'RB'), (u'green', u'JJ'), (u'and', ...    closer        0   \n",
       "3  [(u'grey', u'JJ'), (u'with', u'IN'), (u'a', u'...    closer        0   \n",
       "4  [(u'darker', u'JJR'), (u'of', u'IN'), (u'the',...    closer        1   \n",
       "\n",
       "  outcome                                           contents  \n",
       "0   False                                          purpleish  \n",
       "1    True                                               grey  \n",
       "2    True  not green and not orange ~ pastel green Id say...  \n",
       "3   False                               grey with a red tint  \n",
       "4    True                           darker of the 2 turqoise  "
      ]
     },
     "execution_count": 19,
     "metadata": {},
     "output_type": "execute_result"
    }
   ],
   "source": [
    "h = join_with_tagged(pd.read_csv('humanOutput/colorReferenceClicks2.csv', escapechar='\\\\'), tags)\n",
    "h.head()"
   ]
  },
  {
   "cell_type": "markdown",
   "metadata": {},
   "source": [
    "Overall accuracy values\n",
    "-----------------------"
   ]
  },
  {
   "cell_type": "code",
   "execution_count": 20,
   "metadata": {
    "collapsed": false
   },
   "outputs": [
    {
     "data": {
      "text/plain": [
       "89.85027959834045"
      ]
     },
     "execution_count": 20,
     "metadata": {},
     "output_type": "execute_result"
    }
   ],
   "source": [
    "sum(h['outcome']) * 100.0 / len(h)"
   ]
  },
  {
   "cell_type": "code",
   "execution_count": 21,
   "metadata": {
    "collapsed": false
   },
   "outputs": [
    {
     "data": {
      "text/plain": [
       "82.747219717463182"
      ]
     },
     "execution_count": 21,
     "metadata": {},
     "output_type": "execute_result"
    }
   ],
   "source": [
    "sum(l0['outcome']) * 100.0 / len(l0)"
   ]
  },
  {
   "cell_type": "code",
   "execution_count": 22,
   "metadata": {
    "collapsed": false
   },
   "outputs": [
    {
     "data": {
      "text/plain": [
       "82.993688007213706"
      ]
     },
     "execution_count": 22,
     "metadata": {},
     "output_type": "execute_result"
    }
   ],
   "source": [
    "sum(l2['outcome']) * 100.0 / len(l2)"
   ]
  },
  {
   "cell_type": "markdown",
   "metadata": {},
   "source": [
    "Accuracy by condition\n",
    "---"
   ]
  },
  {
   "cell_type": "code",
   "execution_count": 23,
   "metadata": {
    "collapsed": false
   },
   "outputs": [],
   "source": [
    "def accuracy_by_condition(output):\n",
    "    conditions = [output.query(\"condition == '{}'\".format(cname))\n",
    "                  for cname in ('equal', 'further', 'closer')]\n",
    "    return [sum(c['outcome']) * 100.0 / len(c)\n",
    "            for c in conditions]"
   ]
  },
  {
   "cell_type": "code",
   "execution_count": 24,
   "metadata": {
    "collapsed": false
   },
   "outputs": [
    {
     "data": {
      "image/png": "[encoded data removed]",
      "text/plain": [
       "<matplotlib.figure.Figure at 0x7f2a0e6d9610>"
      ]
     },
     "metadata": {},
     "output_type": "display_data"
    }
   ],
   "source": [
    "for model in [h, l2, l0]:\n",
    "    plt.plot(np.arange(3) - 1, accuracy_by_condition(model))\n",
    "plt.legend(['human', 'L2', 'L0'])\n",
    "plt.xticks([-1, 0, 1], ['equal', 'further', 'closer'])\n",
    "plt.xlabel('Condition')\n",
    "plt.ylabel('Accuracy')\n",
    "plt.savefig(os.path.expanduser('~/allListenerAccuracy.eps'), format='eps', bbox_inches='tight')\n",
    "plt.show()"
   ]
  },
  {
   "cell_type": "markdown",
   "metadata": {},
   "source": [
    "Distribution of POS tags\n",
    "---"
   ]
  },
  {
   "cell_type": "code",
   "execution_count": 25,
   "metadata": {
    "collapsed": false
   },
   "outputs": [
    {
     "data": {
      "text/html": [
       "<div>\n",
       "<table border=\"1\" class=\"dataframe\">\n",
       "  <thead>\n",
       "    <tr style=\"text-align: right;\">\n",
       "      <th></th>\n",
       "      <th>counts</th>\n",
       "      <th>tags</th>\n",
       "    </tr>\n",
       "  </thead>\n",
       "  <tbody>\n",
       "    <tr>\n",
       "      <th>0</th>\n",
       "      <td>118674</td>\n",
       "      <td>JJ</td>\n",
       "    </tr>\n",
       "    <tr>\n",
       "      <th>1</th>\n",
       "      <td>71283</td>\n",
       "      <td>NN</td>\n",
       "    </tr>\n",
       "    <tr>\n",
       "      <th>2</th>\n",
       "      <td>28212</td>\n",
       "      <td>DT</td>\n",
       "    </tr>\n",
       "    <tr>\n",
       "      <th>3</th>\n",
       "      <td>15431</td>\n",
       "      <td>RB</td>\n",
       "    </tr>\n",
       "    <tr>\n",
       "      <th>4</th>\n",
       "      <td>11206</td>\n",
       "      <td>IN</td>\n",
       "    </tr>\n",
       "    <tr>\n",
       "      <th>5</th>\n",
       "      <td>10829</td>\n",
       "      <td>CD</td>\n",
       "    </tr>\n",
       "    <tr>\n",
       "      <th>6</th>\n",
       "      <td>8853</td>\n",
       "      <td>.</td>\n",
       "    </tr>\n",
       "    <tr>\n",
       "      <th>7</th>\n",
       "      <td>7441</td>\n",
       "      <td>VBZ</td>\n",
       "    </tr>\n",
       "    <tr>\n",
       "      <th>8</th>\n",
       "      <td>7439</td>\n",
       "      <td>,</td>\n",
       "    </tr>\n",
       "    <tr>\n",
       "      <th>9</th>\n",
       "      <td>7101</td>\n",
       "      <td>JJR</td>\n",
       "    </tr>\n",
       "    <tr>\n",
       "      <th>10</th>\n",
       "      <td>6700</td>\n",
       "      <td>JJS</td>\n",
       "    </tr>\n",
       "    <tr>\n",
       "      <th>11</th>\n",
       "      <td>6197</td>\n",
       "      <td>PRP</td>\n",
       "    </tr>\n",
       "    <tr>\n",
       "      <th>12</th>\n",
       "      <td>5741</td>\n",
       "      <td>CC</td>\n",
       "    </tr>\n",
       "    <tr>\n",
       "      <th>13</th>\n",
       "      <td>4582</td>\n",
       "      <td>FW</td>\n",
       "    </tr>\n",
       "    <tr>\n",
       "      <th>14</th>\n",
       "      <td>3535</td>\n",
       "      <td>VB</td>\n",
       "    </tr>\n",
       "    <tr>\n",
       "      <th>15</th>\n",
       "      <td>3422</td>\n",
       "      <td>NNS</td>\n",
       "    </tr>\n",
       "    <tr>\n",
       "      <th>16</th>\n",
       "      <td>3253</td>\n",
       "      <td>RBR</td>\n",
       "    </tr>\n",
       "    <tr>\n",
       "      <th>17</th>\n",
       "      <td>2918</td>\n",
       "      <td>VBP</td>\n",
       "    </tr>\n",
       "    <tr>\n",
       "      <th>18</th>\n",
       "      <td>2610</td>\n",
       "      <td>NNP</td>\n",
       "    </tr>\n",
       "    <tr>\n",
       "      <th>19</th>\n",
       "      <td>2220</td>\n",
       "      <td>:</td>\n",
       "    </tr>\n",
       "    <tr>\n",
       "      <th>20</th>\n",
       "      <td>2139</td>\n",
       "      <td>WDT</td>\n",
       "    </tr>\n",
       "    <tr>\n",
       "      <th>21</th>\n",
       "      <td>1961</td>\n",
       "      <td>RBS</td>\n",
       "    </tr>\n",
       "    <tr>\n",
       "      <th>22</th>\n",
       "      <td>1678</td>\n",
       "      <td>TO</td>\n",
       "    </tr>\n",
       "    <tr>\n",
       "      <th>23</th>\n",
       "      <td>1538</td>\n",
       "      <td>VBD</td>\n",
       "    </tr>\n",
       "    <tr>\n",
       "      <th>24</th>\n",
       "      <td>1137</td>\n",
       "      <td>PRP$</td>\n",
       "    </tr>\n",
       "    <tr>\n",
       "      <th>25</th>\n",
       "      <td>1132</td>\n",
       "      <td>VBG</td>\n",
       "    </tr>\n",
       "    <tr>\n",
       "      <th>26</th>\n",
       "      <td>1129</td>\n",
       "      <td>VBN</td>\n",
       "    </tr>\n",
       "    <tr>\n",
       "      <th>27</th>\n",
       "      <td>901</td>\n",
       "      <td>UH</td>\n",
       "    </tr>\n",
       "    <tr>\n",
       "      <th>28</th>\n",
       "      <td>900</td>\n",
       "      <td>-RRB-</td>\n",
       "    </tr>\n",
       "    <tr>\n",
       "      <th>29</th>\n",
       "      <td>569</td>\n",
       "      <td>-LRB-</td>\n",
       "    </tr>\n",
       "    <tr>\n",
       "      <th>30</th>\n",
       "      <td>556</td>\n",
       "      <td>MD</td>\n",
       "    </tr>\n",
       "    <tr>\n",
       "      <th>31</th>\n",
       "      <td>383</td>\n",
       "      <td>LS</td>\n",
       "    </tr>\n",
       "    <tr>\n",
       "      <th>32</th>\n",
       "      <td>330</td>\n",
       "      <td>''</td>\n",
       "    </tr>\n",
       "    <tr>\n",
       "      <th>33</th>\n",
       "      <td>227</td>\n",
       "      <td>EX</td>\n",
       "    </tr>\n",
       "    <tr>\n",
       "      <th>34</th>\n",
       "      <td>170</td>\n",
       "      <td>RP</td>\n",
       "    </tr>\n",
       "    <tr>\n",
       "      <th>35</th>\n",
       "      <td>146</td>\n",
       "      <td>SYM</td>\n",
       "    </tr>\n",
       "    <tr>\n",
       "      <th>36</th>\n",
       "      <td>134</td>\n",
       "      <td>WRB</td>\n",
       "    </tr>\n",
       "    <tr>\n",
       "      <th>37</th>\n",
       "      <td>129</td>\n",
       "      <td>WP</td>\n",
       "    </tr>\n",
       "    <tr>\n",
       "      <th>38</th>\n",
       "      <td>98</td>\n",
       "      <td>POS</td>\n",
       "    </tr>\n",
       "    <tr>\n",
       "      <th>39</th>\n",
       "      <td>67</td>\n",
       "      <td>``</td>\n",
       "    </tr>\n",
       "    <tr>\n",
       "      <th>40</th>\n",
       "      <td>45</td>\n",
       "      <td>NNPS</td>\n",
       "    </tr>\n",
       "    <tr>\n",
       "      <th>41</th>\n",
       "      <td>17</td>\n",
       "      <td>$</td>\n",
       "    </tr>\n",
       "    <tr>\n",
       "      <th>42</th>\n",
       "      <td>17</td>\n",
       "      <td>PDT</td>\n",
       "    </tr>\n",
       "    <tr>\n",
       "      <th>43</th>\n",
       "      <td>3</td>\n",
       "      <td>#</td>\n",
       "    </tr>\n",
       "  </tbody>\n",
       "</table>\n",
       "</div>"
      ],
      "text/plain": [
       "    counts   tags\n",
       "0   118674     JJ\n",
       "1    71283     NN\n",
       "2    28212     DT\n",
       "3    15431     RB\n",
       "4    11206     IN\n",
       "5    10829     CD\n",
       "6     8853      .\n",
       "7     7441    VBZ\n",
       "8     7439      ,\n",
       "9     7101    JJR\n",
       "10    6700    JJS\n",
       "11    6197    PRP\n",
       "12    5741     CC\n",
       "13    4582     FW\n",
       "14    3535     VB\n",
       "15    3422    NNS\n",
       "16    3253    RBR\n",
       "17    2918    VBP\n",
       "18    2610    NNP\n",
       "19    2220      :\n",
       "20    2139    WDT\n",
       "21    1961    RBS\n",
       "22    1678     TO\n",
       "23    1538    VBD\n",
       "24    1137   PRP$\n",
       "25    1132    VBG\n",
       "26    1129    VBN\n",
       "27     901     UH\n",
       "28     900  -RRB-\n",
       "29     569  -LRB-\n",
       "30     556     MD\n",
       "31     383     LS\n",
       "32     330     ''\n",
       "33     227     EX\n",
       "34     170     RP\n",
       "35     146    SYM\n",
       "36     134    WRB\n",
       "37     129     WP\n",
       "38      98    POS\n",
       "39      67     ``\n",
       "40      45   NNPS\n",
       "41      17      $\n",
       "42      17    PDT\n",
       "43       3      #"
      ]
     },
     "execution_count": 25,
     "metadata": {},
     "output_type": "execute_result"
    }
   ],
   "source": [
    "from collections import Counter\n",
    "tag_dist = Counter([pos for sent in tags['lemmas'] for word, pos in eval(sent)])\n",
    "tag_vals, counts = zip(*tag_dist.most_common())\n",
    "pd.DataFrame({'tags': tag_vals, 'counts': counts})"
   ]
  },
  {
   "cell_type": "markdown",
   "metadata": {},
   "source": [
    "Distribution of words\n",
    "---"
   ]
  },
  {
   "cell_type": "code",
   "execution_count": 26,
   "metadata": {
    "collapsed": false
   },
   "outputs": [
    {
     "data": {
      "text/html": [
       "<div>\n",
       "<table border=\"1\" class=\"dataframe\">\n",
       "  <thead>\n",
       "    <tr style=\"text-align: right;\">\n",
       "      <th></th>\n",
       "      <th>counts</th>\n",
       "      <th>tags</th>\n",
       "    </tr>\n",
       "  </thead>\n",
       "  <tbody>\n",
       "    <tr>\n",
       "      <th>0</th>\n",
       "      <td>24319</td>\n",
       "      <td>(green, JJ)</td>\n",
       "    </tr>\n",
       "    <tr>\n",
       "      <th>1</th>\n",
       "      <td>21407</td>\n",
       "      <td>(the, DT)</td>\n",
       "    </tr>\n",
       "    <tr>\n",
       "      <th>2</th>\n",
       "      <td>18249</td>\n",
       "      <td>(purple, JJ)</td>\n",
       "    </tr>\n",
       "    <tr>\n",
       "      <th>3</th>\n",
       "      <td>16749</td>\n",
       "      <td>(~, NN)</td>\n",
       "    </tr>\n",
       "    <tr>\n",
       "      <th>4</th>\n",
       "      <td>12495</td>\n",
       "      <td>(blue, JJ)</td>\n",
       "    </tr>\n",
       "    <tr>\n",
       "      <th>5</th>\n",
       "      <td>10441</td>\n",
       "      <td>(grey, JJ)</td>\n",
       "    </tr>\n",
       "    <tr>\n",
       "      <th>6</th>\n",
       "      <td>9980</td>\n",
       "      <td>(not, RB)</td>\n",
       "    </tr>\n",
       "    <tr>\n",
       "      <th>7</th>\n",
       "      <td>8659</td>\n",
       "      <td>(one, CD)</td>\n",
       "    </tr>\n",
       "    <tr>\n",
       "      <th>8</th>\n",
       "      <td>7732</td>\n",
       "      <td>(bright, JJ)</td>\n",
       "    </tr>\n",
       "    <tr>\n",
       "      <th>9</th>\n",
       "      <td>7439</td>\n",
       "      <td>(,, ,)</td>\n",
       "    </tr>\n",
       "    <tr>\n",
       "      <th>10</th>\n",
       "      <td>6890</td>\n",
       "      <td>(pink, NN)</td>\n",
       "    </tr>\n",
       "    <tr>\n",
       "      <th>11</th>\n",
       "      <td>6140</td>\n",
       "      <td>(blue, NN)</td>\n",
       "    </tr>\n",
       "    <tr>\n",
       "      <th>12</th>\n",
       "      <td>4796</td>\n",
       "      <td>(., .)</td>\n",
       "    </tr>\n",
       "    <tr>\n",
       "      <th>13</th>\n",
       "      <td>4741</td>\n",
       "      <td>(is, VBZ)</td>\n",
       "    </tr>\n",
       "    <tr>\n",
       "      <th>14</th>\n",
       "      <td>4168</td>\n",
       "      <td>(yellow, JJ)</td>\n",
       "    </tr>\n",
       "    <tr>\n",
       "      <th>15</th>\n",
       "      <td>4031</td>\n",
       "      <td>(~, FW)</td>\n",
       "    </tr>\n",
       "    <tr>\n",
       "      <th>16</th>\n",
       "      <td>3935</td>\n",
       "      <td>(gray, JJ)</td>\n",
       "    </tr>\n",
       "    <tr>\n",
       "      <th>17</th>\n",
       "      <td>3908</td>\n",
       "      <td>(brown, JJ)</td>\n",
       "    </tr>\n",
       "    <tr>\n",
       "      <th>18</th>\n",
       "      <td>3892</td>\n",
       "      <td>(of, IN)</td>\n",
       "    </tr>\n",
       "    <tr>\n",
       "      <th>19</th>\n",
       "      <td>3219</td>\n",
       "      <td>(color, NN)</td>\n",
       "    </tr>\n",
       "    <tr>\n",
       "      <th>20</th>\n",
       "      <td>3079</td>\n",
       "      <td>(a, DT)</td>\n",
       "    </tr>\n",
       "    <tr>\n",
       "      <th>21</th>\n",
       "      <td>2958</td>\n",
       "      <td>(red, JJ)</td>\n",
       "    </tr>\n",
       "    <tr>\n",
       "      <th>22</th>\n",
       "      <td>2806</td>\n",
       "      <td>(it, PRP)</td>\n",
       "    </tr>\n",
       "    <tr>\n",
       "      <th>23</th>\n",
       "      <td>2744</td>\n",
       "      <td>(?, .)</td>\n",
       "    </tr>\n",
       "    <tr>\n",
       "      <th>24</th>\n",
       "      <td>2706</td>\n",
       "      <td>(dark, JJ)</td>\n",
       "    </tr>\n",
       "    <tr>\n",
       "      <th>25</th>\n",
       "      <td>2617</td>\n",
       "      <td>(darker, JJR)</td>\n",
       "    </tr>\n",
       "    <tr>\n",
       "      <th>26</th>\n",
       "      <td>2571</td>\n",
       "      <td>(orange, NN)</td>\n",
       "    </tr>\n",
       "    <tr>\n",
       "      <th>27</th>\n",
       "      <td>2464</td>\n",
       "      <td>(or, CC)</td>\n",
       "    </tr>\n",
       "    <tr>\n",
       "      <th>28</th>\n",
       "      <td>2346</td>\n",
       "      <td>(dull, JJ)</td>\n",
       "    </tr>\n",
       "    <tr>\n",
       "      <th>29</th>\n",
       "      <td>2322</td>\n",
       "      <td>(brightest, JJS)</td>\n",
       "    </tr>\n",
       "    <tr>\n",
       "      <th>...</th>\n",
       "      <td>...</td>\n",
       "      <td>...</td>\n",
       "    </tr>\n",
       "    <tr>\n",
       "      <th>5970</th>\n",
       "      <td>1</td>\n",
       "      <td>(last, NN)</td>\n",
       "    </tr>\n",
       "    <tr>\n",
       "      <th>5971</th>\n",
       "      <td>1</td>\n",
       "      <td>(distinctly, RB)</td>\n",
       "    </tr>\n",
       "    <tr>\n",
       "      <th>5972</th>\n",
       "      <td>1</td>\n",
       "      <td>(tealish, VB)</td>\n",
       "    </tr>\n",
       "    <tr>\n",
       "      <th>5973</th>\n",
       "      <td>1</td>\n",
       "      <td>(peel, VB)</td>\n",
       "    </tr>\n",
       "    <tr>\n",
       "      <th>5974</th>\n",
       "      <td>1</td>\n",
       "      <td>(pages, NNS)</td>\n",
       "    </tr>\n",
       "    <tr>\n",
       "      <th>5975</th>\n",
       "      <td>1</td>\n",
       "      <td>(rassy, NN)</td>\n",
       "    </tr>\n",
       "    <tr>\n",
       "      <th>5976</th>\n",
       "      <td>1</td>\n",
       "      <td>(buzzkil, NN)</td>\n",
       "    </tr>\n",
       "    <tr>\n",
       "      <th>5977</th>\n",
       "      <td>1</td>\n",
       "      <td>(towels, NNS)</td>\n",
       "    </tr>\n",
       "    <tr>\n",
       "      <th>5978</th>\n",
       "      <td>1</td>\n",
       "      <td>(rgeen, NN)</td>\n",
       "    </tr>\n",
       "    <tr>\n",
       "      <th>5979</th>\n",
       "      <td>1</td>\n",
       "      <td>(ot, IN)</td>\n",
       "    </tr>\n",
       "    <tr>\n",
       "      <th>5980</th>\n",
       "      <td>1</td>\n",
       "      <td>(grrrrr, NN)</td>\n",
       "    </tr>\n",
       "    <tr>\n",
       "      <th>5981</th>\n",
       "      <td>1</td>\n",
       "      <td>(known, VBN)</td>\n",
       "    </tr>\n",
       "    <tr>\n",
       "      <th>5982</th>\n",
       "      <td>1</td>\n",
       "      <td>(purpble, NN)</td>\n",
       "    </tr>\n",
       "    <tr>\n",
       "      <th>5983</th>\n",
       "      <td>1</td>\n",
       "      <td>(vibranter, NN)</td>\n",
       "    </tr>\n",
       "    <tr>\n",
       "      <th>5984</th>\n",
       "      <td>1</td>\n",
       "      <td>(nweird, NN)</td>\n",
       "    </tr>\n",
       "    <tr>\n",
       "      <th>5985</th>\n",
       "      <td>1</td>\n",
       "      <td>(bricks, NNS)</td>\n",
       "    </tr>\n",
       "    <tr>\n",
       "      <th>5986</th>\n",
       "      <td>1</td>\n",
       "      <td>(brownish/washed, VBN)</td>\n",
       "    </tr>\n",
       "    <tr>\n",
       "      <th>5987</th>\n",
       "      <td>1</td>\n",
       "      <td>(seemingly, RB)</td>\n",
       "    </tr>\n",
       "    <tr>\n",
       "      <th>5988</th>\n",
       "      <td>1</td>\n",
       "      <td>(ham, NN)</td>\n",
       "    </tr>\n",
       "    <tr>\n",
       "      <th>5989</th>\n",
       "      <td>1</td>\n",
       "      <td>(whereas, IN)</td>\n",
       "    </tr>\n",
       "    <tr>\n",
       "      <th>5990</th>\n",
       "      <td>1</td>\n",
       "      <td>(eally, RB)</td>\n",
       "    </tr>\n",
       "    <tr>\n",
       "      <th>5991</th>\n",
       "      <td>1</td>\n",
       "      <td>(seafoam, NNP)</td>\n",
       "    </tr>\n",
       "    <tr>\n",
       "      <th>5992</th>\n",
       "      <td>1</td>\n",
       "      <td>(whitre, JJ)</td>\n",
       "    </tr>\n",
       "    <tr>\n",
       "      <th>5993</th>\n",
       "      <td>1</td>\n",
       "      <td>(pinky-orange, JJ)</td>\n",
       "    </tr>\n",
       "    <tr>\n",
       "      <th>5994</th>\n",
       "      <td>1</td>\n",
       "      <td>(hah, NNP)</td>\n",
       "    </tr>\n",
       "    <tr>\n",
       "      <th>5995</th>\n",
       "      <td>1</td>\n",
       "      <td>(ticket, NN)</td>\n",
       "    </tr>\n",
       "    <tr>\n",
       "      <th>5996</th>\n",
       "      <td>1</td>\n",
       "      <td>(realy, JJ)</td>\n",
       "    </tr>\n",
       "    <tr>\n",
       "      <th>5997</th>\n",
       "      <td>1</td>\n",
       "      <td>(curous, JJ)</td>\n",
       "    </tr>\n",
       "    <tr>\n",
       "      <th>5998</th>\n",
       "      <td>1</td>\n",
       "      <td>(graying, NNP)</td>\n",
       "    </tr>\n",
       "    <tr>\n",
       "      <th>5999</th>\n",
       "      <td>1</td>\n",
       "      <td>(mash, NN)</td>\n",
       "    </tr>\n",
       "  </tbody>\n",
       "</table>\n",
       "<p>6000 rows × 2 columns</p>\n",
       "</div>"
      ],
      "text/plain": [
       "      counts                    tags\n",
       "0      24319             (green, JJ)\n",
       "1      21407               (the, DT)\n",
       "2      18249            (purple, JJ)\n",
       "3      16749                 (~, NN)\n",
       "4      12495              (blue, JJ)\n",
       "5      10441              (grey, JJ)\n",
       "6       9980               (not, RB)\n",
       "7       8659               (one, CD)\n",
       "8       7732            (bright, JJ)\n",
       "9       7439                  (,, ,)\n",
       "10      6890              (pink, NN)\n",
       "11      6140              (blue, NN)\n",
       "12      4796                  (., .)\n",
       "13      4741               (is, VBZ)\n",
       "14      4168            (yellow, JJ)\n",
       "15      4031                 (~, FW)\n",
       "16      3935              (gray, JJ)\n",
       "17      3908             (brown, JJ)\n",
       "18      3892                (of, IN)\n",
       "19      3219             (color, NN)\n",
       "20      3079                 (a, DT)\n",
       "21      2958               (red, JJ)\n",
       "22      2806               (it, PRP)\n",
       "23      2744                  (?, .)\n",
       "24      2706              (dark, JJ)\n",
       "25      2617           (darker, JJR)\n",
       "26      2571            (orange, NN)\n",
       "27      2464                (or, CC)\n",
       "28      2346              (dull, JJ)\n",
       "29      2322        (brightest, JJS)\n",
       "...      ...                     ...\n",
       "5970       1              (last, NN)\n",
       "5971       1        (distinctly, RB)\n",
       "5972       1           (tealish, VB)\n",
       "5973       1              (peel, VB)\n",
       "5974       1            (pages, NNS)\n",
       "5975       1             (rassy, NN)\n",
       "5976       1           (buzzkil, NN)\n",
       "5977       1           (towels, NNS)\n",
       "5978       1             (rgeen, NN)\n",
       "5979       1                (ot, IN)\n",
       "5980       1            (grrrrr, NN)\n",
       "5981       1            (known, VBN)\n",
       "5982       1           (purpble, NN)\n",
       "5983       1         (vibranter, NN)\n",
       "5984       1            (nweird, NN)\n",
       "5985       1           (bricks, NNS)\n",
       "5986       1  (brownish/washed, VBN)\n",
       "5987       1         (seemingly, RB)\n",
       "5988       1               (ham, NN)\n",
       "5989       1           (whereas, IN)\n",
       "5990       1             (eally, RB)\n",
       "5991       1          (seafoam, NNP)\n",
       "5992       1            (whitre, JJ)\n",
       "5993       1      (pinky-orange, JJ)\n",
       "5994       1              (hah, NNP)\n",
       "5995       1            (ticket, NN)\n",
       "5996       1             (realy, JJ)\n",
       "5997       1            (curous, JJ)\n",
       "5998       1          (graying, NNP)\n",
       "5999       1              (mash, NN)\n",
       "\n",
       "[6000 rows x 2 columns]"
      ]
     },
     "execution_count": 26,
     "metadata": {},
     "output_type": "execute_result"
    }
   ],
   "source": [
    "from collections import Counter\n",
    "tag_dist = Counter([(word.lower(), pos) for sent in tags['lemmas'] for word, pos in eval(sent)])\n",
    "tag_vals, counts = zip(*tag_dist.most_common())\n",
    "pd.DataFrame({'tags': tag_vals, 'counts': counts})"
   ]
  },
  {
   "cell_type": "markdown",
   "metadata": {},
   "source": [
    "Distribution of adverbs\n",
    "---"
   ]
  },
  {
   "cell_type": "code",
   "execution_count": 27,
   "metadata": {
    "collapsed": false
   },
   "outputs": [
    {
     "data": {
      "text/html": [
       "<div>\n",
       "<table border=\"1\" class=\"dataframe\">\n",
       "  <thead>\n",
       "    <tr style=\"text-align: right;\">\n",
       "      <th></th>\n",
       "      <th>counts</th>\n",
       "      <th>tags</th>\n",
       "    </tr>\n",
       "  </thead>\n",
       "  <tbody>\n",
       "    <tr>\n",
       "      <th>0</th>\n",
       "      <td>9980</td>\n",
       "      <td>not</td>\n",
       "    </tr>\n",
       "    <tr>\n",
       "      <th>1</th>\n",
       "      <td>477</td>\n",
       "      <td>yes</td>\n",
       "    </tr>\n",
       "    <tr>\n",
       "      <th>2</th>\n",
       "      <td>375</td>\n",
       "      <td>almost</td>\n",
       "    </tr>\n",
       "    <tr>\n",
       "      <th>3</th>\n",
       "      <td>375</td>\n",
       "      <td>again</td>\n",
       "    </tr>\n",
       "    <tr>\n",
       "      <th>4</th>\n",
       "      <td>369</td>\n",
       "      <td>n't</td>\n",
       "    </tr>\n",
       "    <tr>\n",
       "      <th>5</th>\n",
       "      <td>310</td>\n",
       "      <td>slightly</td>\n",
       "    </tr>\n",
       "    <tr>\n",
       "      <th>6</th>\n",
       "      <td>289</td>\n",
       "      <td>so</td>\n",
       "    </tr>\n",
       "    <tr>\n",
       "      <th>7</th>\n",
       "      <td>280</td>\n",
       "      <td>too</td>\n",
       "    </tr>\n",
       "    <tr>\n",
       "      <th>8</th>\n",
       "      <td>205</td>\n",
       "      <td>very</td>\n",
       "    </tr>\n",
       "    <tr>\n",
       "      <th>9</th>\n",
       "      <td>203</td>\n",
       "      <td>just</td>\n",
       "    </tr>\n",
       "    <tr>\n",
       "      <th>10</th>\n",
       "      <td>167</td>\n",
       "      <td>really</td>\n",
       "    </tr>\n",
       "    <tr>\n",
       "      <th>11</th>\n",
       "      <td>156</td>\n",
       "      <td>maybe</td>\n",
       "    </tr>\n",
       "    <tr>\n",
       "      <th>12</th>\n",
       "      <td>151</td>\n",
       "      <td>well</td>\n",
       "    </tr>\n",
       "    <tr>\n",
       "      <th>13</th>\n",
       "      <td>135</td>\n",
       "      <td>here</td>\n",
       "    </tr>\n",
       "    <tr>\n",
       "      <th>14</th>\n",
       "      <td>117</td>\n",
       "      <td>then</td>\n",
       "    </tr>\n",
       "    <tr>\n",
       "      <th>15</th>\n",
       "      <td>89</td>\n",
       "      <td>now</td>\n",
       "    </tr>\n",
       "    <tr>\n",
       "      <th>16</th>\n",
       "      <td>83</td>\n",
       "      <td>hard</td>\n",
       "    </tr>\n",
       "    <tr>\n",
       "      <th>17</th>\n",
       "      <td>83</td>\n",
       "      <td>little</td>\n",
       "    </tr>\n",
       "    <tr>\n",
       "      <th>18</th>\n",
       "      <td>76</td>\n",
       "      <td>close</td>\n",
       "    </tr>\n",
       "    <tr>\n",
       "      <th>19</th>\n",
       "      <td>72</td>\n",
       "      <td>right</td>\n",
       "    </tr>\n",
       "    <tr>\n",
       "      <th>20</th>\n",
       "      <td>71</td>\n",
       "      <td>sorry</td>\n",
       "    </tr>\n",
       "    <tr>\n",
       "      <th>21</th>\n",
       "      <td>57</td>\n",
       "      <td>only</td>\n",
       "    </tr>\n",
       "    <tr>\n",
       "      <th>22</th>\n",
       "      <td>57</td>\n",
       "      <td>far</td>\n",
       "    </tr>\n",
       "    <tr>\n",
       "      <th>23</th>\n",
       "      <td>53</td>\n",
       "      <td>also</td>\n",
       "    </tr>\n",
       "    <tr>\n",
       "      <th>24</th>\n",
       "      <td>40</td>\n",
       "      <td>pretty</td>\n",
       "    </tr>\n",
       "    <tr>\n",
       "      <th>25</th>\n",
       "      <td>37</td>\n",
       "      <td>there</td>\n",
       "    </tr>\n",
       "    <tr>\n",
       "      <th>26</th>\n",
       "      <td>34</td>\n",
       "      <td>still</td>\n",
       "    </tr>\n",
       "    <tr>\n",
       "      <th>27</th>\n",
       "      <td>29</td>\n",
       "      <td>quite</td>\n",
       "    </tr>\n",
       "    <tr>\n",
       "      <th>28</th>\n",
       "      <td>25</td>\n",
       "      <td>as</td>\n",
       "    </tr>\n",
       "    <tr>\n",
       "      <th>29</th>\n",
       "      <td>25</td>\n",
       "      <td>mostly</td>\n",
       "    </tr>\n",
       "    <tr>\n",
       "      <th>...</th>\n",
       "      <td>...</td>\n",
       "      <td>...</td>\n",
       "    </tr>\n",
       "    <tr>\n",
       "      <th>212</th>\n",
       "      <td>1</td>\n",
       "      <td>otherwise</td>\n",
       "    </tr>\n",
       "    <tr>\n",
       "      <th>213</th>\n",
       "      <td>1</td>\n",
       "      <td>slughtly</td>\n",
       "    </tr>\n",
       "    <tr>\n",
       "      <th>214</th>\n",
       "      <td>1</td>\n",
       "      <td>vibrantly</td>\n",
       "    </tr>\n",
       "    <tr>\n",
       "      <th>215</th>\n",
       "      <td>1</td>\n",
       "      <td>already</td>\n",
       "    </tr>\n",
       "    <tr>\n",
       "      <th>216</th>\n",
       "      <td>1</td>\n",
       "      <td>ive</td>\n",
       "    </tr>\n",
       "    <tr>\n",
       "      <th>217</th>\n",
       "      <td>1</td>\n",
       "      <td>previously</td>\n",
       "    </tr>\n",
       "    <tr>\n",
       "      <th>218</th>\n",
       "      <td>1</td>\n",
       "      <td>remotely</td>\n",
       "    </tr>\n",
       "    <tr>\n",
       "      <th>219</th>\n",
       "      <td>1</td>\n",
       "      <td>technically</td>\n",
       "    </tr>\n",
       "    <tr>\n",
       "      <th>220</th>\n",
       "      <td>1</td>\n",
       "      <td>quickly</td>\n",
       "    </tr>\n",
       "    <tr>\n",
       "      <th>221</th>\n",
       "      <td>1</td>\n",
       "      <td>hummm</td>\n",
       "    </tr>\n",
       "    <tr>\n",
       "      <th>222</th>\n",
       "      <td>1</td>\n",
       "      <td>ehh</td>\n",
       "    </tr>\n",
       "    <tr>\n",
       "      <th>223</th>\n",
       "      <td>1</td>\n",
       "      <td>flat</td>\n",
       "    </tr>\n",
       "    <tr>\n",
       "      <th>224</th>\n",
       "      <td>1</td>\n",
       "      <td>eally</td>\n",
       "    </tr>\n",
       "    <tr>\n",
       "      <th>225</th>\n",
       "      <td>1</td>\n",
       "      <td>everywhere</td>\n",
       "    </tr>\n",
       "    <tr>\n",
       "      <th>226</th>\n",
       "      <td>1</td>\n",
       "      <td>kind</td>\n",
       "    </tr>\n",
       "    <tr>\n",
       "      <th>227</th>\n",
       "      <td>1</td>\n",
       "      <td>loud</td>\n",
       "    </tr>\n",
       "    <tr>\n",
       "      <th>228</th>\n",
       "      <td>1</td>\n",
       "      <td>sometime</td>\n",
       "    </tr>\n",
       "    <tr>\n",
       "      <th>229</th>\n",
       "      <td>1</td>\n",
       "      <td>uh</td>\n",
       "    </tr>\n",
       "    <tr>\n",
       "      <th>230</th>\n",
       "      <td>1</td>\n",
       "      <td>damned</td>\n",
       "    </tr>\n",
       "    <tr>\n",
       "      <th>231</th>\n",
       "      <td>1</td>\n",
       "      <td>s'all</td>\n",
       "    </tr>\n",
       "    <tr>\n",
       "      <th>232</th>\n",
       "      <td>1</td>\n",
       "      <td>randomly</td>\n",
       "    </tr>\n",
       "    <tr>\n",
       "      <th>233</th>\n",
       "      <td>1</td>\n",
       "      <td>blah</td>\n",
       "    </tr>\n",
       "    <tr>\n",
       "      <th>234</th>\n",
       "      <td>1</td>\n",
       "      <td>wow</td>\n",
       "    </tr>\n",
       "    <tr>\n",
       "      <th>235</th>\n",
       "      <td>1</td>\n",
       "      <td>thoroughly</td>\n",
       "    </tr>\n",
       "    <tr>\n",
       "      <th>236</th>\n",
       "      <td>1</td>\n",
       "      <td>eww</td>\n",
       "    </tr>\n",
       "    <tr>\n",
       "      <th>237</th>\n",
       "      <td>1</td>\n",
       "      <td>fairly</td>\n",
       "    </tr>\n",
       "    <tr>\n",
       "      <th>238</th>\n",
       "      <td>1</td>\n",
       "      <td>inbetween</td>\n",
       "    </tr>\n",
       "    <tr>\n",
       "      <th>239</th>\n",
       "      <td>1</td>\n",
       "      <td>seemingly</td>\n",
       "    </tr>\n",
       "    <tr>\n",
       "      <th>240</th>\n",
       "      <td>1</td>\n",
       "      <td>noooooo</td>\n",
       "    </tr>\n",
       "    <tr>\n",
       "      <th>241</th>\n",
       "      <td>1</td>\n",
       "      <td>comparably</td>\n",
       "    </tr>\n",
       "  </tbody>\n",
       "</table>\n",
       "<p>242 rows × 2 columns</p>\n",
       "</div>"
      ],
      "text/plain": [
       "     counts         tags\n",
       "0      9980          not\n",
       "1       477          yes\n",
       "2       375       almost\n",
       "3       375        again\n",
       "4       369          n't\n",
       "5       310     slightly\n",
       "6       289           so\n",
       "7       280          too\n",
       "8       205         very\n",
       "9       203         just\n",
       "10      167       really\n",
       "11      156        maybe\n",
       "12      151         well\n",
       "13      135         here\n",
       "14      117         then\n",
       "15       89          now\n",
       "16       83         hard\n",
       "17       83       little\n",
       "18       76        close\n",
       "19       72        right\n",
       "20       71        sorry\n",
       "21       57         only\n",
       "22       57          far\n",
       "23       53         also\n",
       "24       40       pretty\n",
       "25       37        there\n",
       "26       34        still\n",
       "27       29        quite\n",
       "28       25           as\n",
       "29       25       mostly\n",
       "..      ...          ...\n",
       "212       1    otherwise\n",
       "213       1     slughtly\n",
       "214       1    vibrantly\n",
       "215       1      already\n",
       "216       1          ive\n",
       "217       1   previously\n",
       "218       1     remotely\n",
       "219       1  technically\n",
       "220       1      quickly\n",
       "221       1        hummm\n",
       "222       1          ehh\n",
       "223       1         flat\n",
       "224       1        eally\n",
       "225       1   everywhere\n",
       "226       1         kind\n",
       "227       1         loud\n",
       "228       1     sometime\n",
       "229       1           uh\n",
       "230       1       damned\n",
       "231       1        s'all\n",
       "232       1     randomly\n",
       "233       1         blah\n",
       "234       1          wow\n",
       "235       1   thoroughly\n",
       "236       1          eww\n",
       "237       1       fairly\n",
       "238       1    inbetween\n",
       "239       1    seemingly\n",
       "240       1      noooooo\n",
       "241       1   comparably\n",
       "\n",
       "[242 rows x 2 columns]"
      ]
     },
     "execution_count": 27,
     "metadata": {},
     "output_type": "execute_result"
    }
   ],
   "source": [
    "from collections import Counter\n",
    "tag_dist = Counter([word.lower() for sent in tags['lemmas'] for word, pos in eval(sent) if pos == 'RB'])\n",
    "tag_vals, counts = zip(*tag_dist.most_common())\n",
    "pd.DataFrame({'tags': tag_vals, 'counts': counts})"
   ]
  },
  {
   "cell_type": "markdown",
   "metadata": {},
   "source": [
    "Accuracy by various features\n",
    "---"
   ]
  },
  {
   "cell_type": "code",
   "execution_count": 64,
   "metadata": {
    "collapsed": true
   },
   "outputs": [],
   "source": [
    "def accuracy_by_feature(output, func):\n",
    "    output['feature_val'] = [func(sent) for sent in output['lemmas']]\n",
    "    group_nums = sorted(set(output['feature_val']))\n",
    "    groups = [output.query(\"feature_val == {}\".format(repr(num)))\n",
    "              for num in group_nums]\n",
    "    accs = np.array([sum(g['outcome']) * 100.0 / len(g) for g in groups])\n",
    "    errs = np.array([3000.0 / len(g) for g in groups])\n",
    "    lower_errs = np.minimum(accs, errs)\n",
    "    upper_errs = np.minimum(100.0 - accs, errs)\n",
    "    return group_nums, accs, [lower_errs, upper_errs]\n",
    "\n",
    "def plot_accuracy_by_feature(func, outputs, keys, colors, save=None):\n",
    "    width = 0.2\n",
    "    all_nums = set()\n",
    "    for i, (output, color) in enumerate(zip(outputs, colors)):\n",
    "        nums, accs, errs = accuracy_by_feature(output, func)\n",
    "        plt.bar(np.array(nums) + i * width, accs, width, color=color, yerr=errs, ecolor='k')\n",
    "        plt.ylim([70, 100])\n",
    "        all_nums.update(nums)\n",
    "    all_nums = sorted(all_nums)\n",
    "    plt.xticks(np.array(all_nums) + len(outputs) * 0.5 * width, [str(n) for n in all_nums])\n",
    "    plt.legend(keys, loc='lower left')\n",
    "    if save is not None:\n",
    "        plt.savefig(os.path.expanduser(save), format='eps', bbox_inches='tight')"
   ]
  },
  {
   "cell_type": "code",
   "execution_count": 66,
   "metadata": {
    "collapsed": true
   },
   "outputs": [],
   "source": [
    "def all(sent):\n",
    "    return 0"
   ]
  },
  {
   "cell_type": "code",
   "execution_count": 29,
   "metadata": {
    "collapsed": true
   },
   "outputs": [],
   "source": [
    "def num_negations(sent):\n",
    "    return sum([w.lower() in ('not', \"n't\") for w, _ in eval(sent)])\n",
    "\n",
    "def ind_negations(sent):\n",
    "    return int(sum([w.lower() in ('not', \"n't\") for w, _ in eval(sent)]) > 0)"
   ]
  },
  {
   "cell_type": "code",
   "execution_count": 67,
   "metadata": {
    "collapsed": false
   },
   "outputs": [
    {
     "data": {
      "image/png": "[encoded data removed]",
      "text/plain": [
       "<matplotlib.figure.Figure at 0x7f2a0e6148d0>"
      ]
     },
     "metadata": {},
     "output_type": "display_data"
    }
   ],
   "source": [
    "plot_accuracy_by_feature(all, [h, l2, l0], ['h', 'l2', 'l0'], ['b', 'g', 'r'])"
   ]
  },
  {
   "cell_type": "code",
   "execution_count": 30,
   "metadata": {
    "collapsed": false
   },
   "outputs": [
    {
     "data": {
      "image/png": "[encoded data removed]",
      "text/plain": [
       "<matplotlib.figure.Figure at 0x7f2a2066c9d0>"
      ]
     },
     "metadata": {},
     "output_type": "display_data"
    }
   ],
   "source": [
    "plot_accuracy_by_feature(num_negations, [h, l2, l0], ['h', 'l2', 'l0'], ['b', 'g', 'r'])"
   ]
  },
  {
   "cell_type": "code",
   "execution_count": 31,
   "metadata": {
    "collapsed": false
   },
   "outputs": [
    {
     "data": {
      "image/png": "[encoded data removed]",
      "text/plain": [
       "<matplotlib.figure.Figure at 0x7f2a086b3790>"
      ]
     },
     "metadata": {},
     "output_type": "display_data"
    }
   ],
   "source": [
    "plot_accuracy_by_feature(ind_negations, [h, l2, l0], ['h', 'l2', 'l0'], ['b', 'g', 'r'])"
   ]
  },
  {
   "cell_type": "code",
   "execution_count": 32,
   "metadata": {
    "collapsed": false
   },
   "outputs": [
    {
     "data": {
      "image/png": "[encoded data removed]",
      "text/plain": [
       "<matplotlib.figure.Figure at 0x7f2a0a641dd0>"
      ]
     },
     "metadata": {},
     "output_type": "display_data"
    }
   ],
   "source": [
    "def num_nouns(sent):\n",
    "    return sum([p in (\"NN\", \"NNS\") for w, p in eval(sent)])\n",
    "\n",
    "plot_accuracy_by_feature(num_nouns, [h, l2, l0], ['h', 'l2', 'l0'], ['b', 'g', 'r'])"
   ]
  },
  {
   "cell_type": "code",
   "execution_count": 33,
   "metadata": {
    "collapsed": false
   },
   "outputs": [
    {
     "data": {
      "image/png": "[encoded data removed]",
      "text/plain": [
       "<matplotlib.figure.Figure at 0x7f2a0a641750>"
      ]
     },
     "metadata": {},
     "output_type": "display_data"
    }
   ],
   "source": [
    "def ind_noun(sent):\n",
    "    return int(sum([p in (\"NN\", \"NNS\") for w, p in eval(sent)]) > 0)\n",
    "\n",
    "plot_accuracy_by_feature(ind_noun, [h, l2, l0], ['h', 'l2', 'l0'], ['b', 'g', 'r'])"
   ]
  },
  {
   "cell_type": "code",
   "execution_count": 34,
   "metadata": {
    "collapsed": false
   },
   "outputs": [
    {
     "data": {
      "image/png": "[encoded data removed]",
      "text/plain": [
       "<matplotlib.figure.Figure at 0x7f2a0884de90>"
      ]
     },
     "metadata": {},
     "output_type": "display_data"
    }
   ],
   "source": [
    "def ind_dt(sent):\n",
    "    return int(sum([p == 'DT' for w, p in eval(sent)]) > 0)\n",
    "\n",
    "plot_accuracy_by_feature(ind_dt, [h, l2, l0], ['h', 'l2', 'l0'], ['b', 'g', 'r'])"
   ]
  },
  {
   "cell_type": "code",
   "execution_count": 35,
   "metadata": {
    "collapsed": false
   },
   "outputs": [
    {
     "data": {
      "image/png": "[encoded data removed]",
      "text/plain": [
       "<matplotlib.figure.Figure at 0x7f2a0a3b8f10>"
      ]
     },
     "metadata": {},
     "output_type": "display_data"
    }
   ],
   "source": [
    "def ind_superlative(sent):\n",
    "    return int(sum([p == \"JJS\" for w, p in eval(sent)]) > 0)\n",
    "\n",
    "plot_accuracy_by_feature(ind_superlative, [h, l2, l0], ['h', 'l2', 'l0'], ['b', 'g', 'r'])"
   ]
  },
  {
   "cell_type": "code",
   "execution_count": 36,
   "metadata": {
    "collapsed": false
   },
   "outputs": [
    {
     "data": {
      "image/png": "[encoded data removed]",
      "text/plain": [
       "<matplotlib.figure.Figure at 0x7f2a0eea0b10>"
      ]
     },
     "metadata": {},
     "output_type": "display_data"
    }
   ],
   "source": [
    "def ind_comparative(sent):\n",
    "    return int(sum([p == \"JJR\" for w, p in eval(sent)]) > 0)\n",
    "\n",
    "plot_accuracy_by_feature(ind_comparative, [h, l2, l0], ['h', 'l2', 'l0'], ['b', 'g', 'r'])"
   ]
  },
  {
   "cell_type": "code",
   "execution_count": 65,
   "metadata": {
    "collapsed": false
   },
   "outputs": [
    {
     "data": {
      "image/png": "[encoded data removed]",
      "text/plain": [
       "<matplotlib.figure.Figure at 0x7f2a09e33150>"
      ]
     },
     "metadata": {},
     "output_type": "display_data"
    }
   ],
   "source": [
    "def length_bucket(sent):\n",
    "    return int(len(eval(sent)) > 6)\n",
    "\n",
    "plot_accuracy_by_feature(length_bucket, [h, l2, l0], ['human', 'L2', 'L0'], ['b', 'g', 'r'], save='~/byLength.eps')"
   ]
  },
  {
   "cell_type": "code",
   "execution_count": 38,
   "metadata": {
    "collapsed": false
   },
   "outputs": [
    {
     "data": {
      "image/png": "[encoded data removed]",
      "text/plain": [
       "<matplotlib.figure.Figure at 0x7f2a08a0f6d0>"
      ]
     },
     "metadata": {},
     "output_type": "display_data"
    }
   ],
   "source": [
    "def length_cross_negations(sent):\n",
    "    return 2 * length_bucket(sent) + ind_negations(sent)\n",
    "\n",
    "plot_accuracy_by_feature(length_cross_negations, [h, l2, l0], ['h', 'l2', 'l0'], ['b', 'g', 'r'])"
   ]
  },
  {
   "cell_type": "code",
   "execution_count": 39,
   "metadata": {
    "collapsed": false
   },
   "outputs": [
    {
     "data": {
      "image/png": "[encoded data removed]",
      "text/plain": [
       "<matplotlib.figure.Figure at 0x7f2a08777f90>"
      ]
     },
     "metadata": {},
     "output_type": "display_data"
    }
   ],
   "source": [
    "def length_cross_comparative(sent):\n",
    "    return 2 * length_bucket(sent) + ind_comparative(sent)\n",
    "\n",
    "plot_accuracy_by_feature(length_cross_comparative, [h, l2, l0], ['h', 'l2', 'l0'], ['b', 'g', 'r'])"
   ]
  },
  {
   "cell_type": "code",
   "execution_count": 40,
   "metadata": {
    "collapsed": false
   },
   "outputs": [
    {
     "data": {
      "image/png": "[encoded data removed]",
      "text/plain": [
       "<matplotlib.figure.Figure at 0x7f2a0807df10>"
      ]
     },
     "metadata": {},
     "output_type": "display_data"
    }
   ],
   "source": [
    "def length_cross_noun(sent):\n",
    "    return 2 * length_bucket(sent) + ind_noun(sent)\n",
    "\n",
    "plot_accuracy_by_feature(length_cross_noun, [h, l2, l0], ['h', 'l2', 'l0'], ['b', 'g', 'r'])"
   ]
  },
  {
   "cell_type": "code",
   "execution_count": 41,
   "metadata": {
    "collapsed": false
   },
   "outputs": [
    {
     "data": {
      "image/png": "[encoded data removed]",
      "text/plain": [
       "<matplotlib.figure.Figure at 0x7f2a0ef37e50>"
      ]
     },
     "metadata": {},
     "output_type": "display_data"
    }
   ],
   "source": [
    "def length_cross_dt(sent):\n",
    "    return 2 * length_bucket(sent) + ind_dt(sent)\n",
    "\n",
    "plot_accuracy_by_feature(length_cross_dt, [h, l2, l0], ['h', 'l2', 'l0'], ['b', 'g', 'r'])"
   ]
  },
  {
   "cell_type": "markdown",
   "metadata": {
    "collapsed": true
   },
   "source": [
    "When do the two models differ?\n",
    "---"
   ]
  },
  {
   "cell_type": "code",
   "execution_count": 42,
   "metadata": {
    "collapsed": false
   },
   "outputs": [
    {
     "data": {
      "text/plain": [
       "(217, 176)"
      ]
     },
     "execution_count": 42,
     "metadata": {},
     "output_type": "execute_result"
    }
   ],
   "source": [
    "def drop_irrelevant(df):\n",
    "    return df.drop(['numComp', 'numSuper', 'feature_val'], 1)\n",
    "\n",
    "improved = (pd.merge(drop_irrelevant(l0), drop_irrelevant(l2), on=['gameid', 'roundNum'], suffixes=['_l0', '_l2'])\n",
    "              .drop(['contents_l2', 'lemmas_l2', 'condition_l2'], 1)\n",
    "              .query('outcome_l2 > outcome_l0'))\n",
    "declined = (pd.merge(drop_irrelevant(l0), drop_irrelevant(l2), on=['gameid', 'roundNum'], suffixes=['_l0', '_l2'])\n",
    "              .drop(['contents_l2', 'lemmas_l2', 'condition_l2'], 1)\n",
    "              .query('outcome_l2 < outcome_l0'))\n",
    "len(improved), len(declined)"
   ]
  },
  {
   "cell_type": "code",
   "execution_count": 43,
   "metadata": {
    "collapsed": false
   },
   "outputs": [
    {
     "data": {
      "text/html": [
       "<div>\n",
       "<table border=\"1\" class=\"dataframe\">\n",
       "  <thead>\n",
       "    <tr style=\"text-align: right;\">\n",
       "      <th></th>\n",
       "      <th>tag</th>\n",
       "      <th>relRate</th>\n",
       "    </tr>\n",
       "  </thead>\n",
       "  <tbody>\n",
       "    <tr>\n",
       "      <th>10</th>\n",
       "      <td>FW</td>\n",
       "      <td>-0.041436</td>\n",
       "    </tr>\n",
       "    <tr>\n",
       "      <th>12</th>\n",
       "      <td>JJ</td>\n",
       "      <td>-0.017319</td>\n",
       "    </tr>\n",
       "    <tr>\n",
       "      <th>16</th>\n",
       "      <td>NN</td>\n",
       "      <td>-0.017245</td>\n",
       "    </tr>\n",
       "    <tr>\n",
       "      <th>4</th>\n",
       "      <td>.</td>\n",
       "      <td>-0.013450</td>\n",
       "    </tr>\n",
       "    <tr>\n",
       "      <th>22</th>\n",
       "      <td>RB</td>\n",
       "      <td>-0.004260</td>\n",
       "    </tr>\n",
       "    <tr>\n",
       "      <th>23</th>\n",
       "      <td>RBR</td>\n",
       "      <td>-0.003424</td>\n",
       "    </tr>\n",
       "    <tr>\n",
       "      <th>27</th>\n",
       "      <td>TO</td>\n",
       "      <td>-0.003166</td>\n",
       "    </tr>\n",
       "    <tr>\n",
       "      <th>28</th>\n",
       "      <td>UH</td>\n",
       "      <td>-0.002672</td>\n",
       "    </tr>\n",
       "    <tr>\n",
       "      <th>5</th>\n",
       "      <td>:</td>\n",
       "      <td>-0.002650</td>\n",
       "    </tr>\n",
       "    <tr>\n",
       "      <th>17</th>\n",
       "      <td>NNP</td>\n",
       "      <td>-0.002436</td>\n",
       "    </tr>\n",
       "    <tr>\n",
       "      <th>35</th>\n",
       "      <td>WDT</td>\n",
       "      <td>-0.002380</td>\n",
       "    </tr>\n",
       "    <tr>\n",
       "      <th>33</th>\n",
       "      <td>VBP</td>\n",
       "      <td>-0.002369</td>\n",
       "    </tr>\n",
       "    <tr>\n",
       "      <th>20</th>\n",
       "      <td>PRP</td>\n",
       "      <td>-0.001806</td>\n",
       "    </tr>\n",
       "    <tr>\n",
       "      <th>36</th>\n",
       "      <td>WRB</td>\n",
       "      <td>-0.000921</td>\n",
       "    </tr>\n",
       "    <tr>\n",
       "      <th>24</th>\n",
       "      <td>RBS</td>\n",
       "      <td>-0.000875</td>\n",
       "    </tr>\n",
       "    <tr>\n",
       "      <th>3</th>\n",
       "      <td>-RRB-</td>\n",
       "      <td>-0.000831</td>\n",
       "    </tr>\n",
       "    <tr>\n",
       "      <th>2</th>\n",
       "      <td>-LRB-</td>\n",
       "      <td>-0.000831</td>\n",
       "    </tr>\n",
       "    <tr>\n",
       "      <th>31</th>\n",
       "      <td>VBG</td>\n",
       "      <td>-0.000617</td>\n",
       "    </tr>\n",
       "    <tr>\n",
       "      <th>21</th>\n",
       "      <td>PRP$</td>\n",
       "      <td>-0.000594</td>\n",
       "    </tr>\n",
       "    <tr>\n",
       "      <th>18</th>\n",
       "      <td>NNS</td>\n",
       "      <td>-0.000291</td>\n",
       "    </tr>\n",
       "    <tr>\n",
       "      <th>6</th>\n",
       "      <td>CC</td>\n",
       "      <td>-0.000222</td>\n",
       "    </tr>\n",
       "    <tr>\n",
       "      <th>15</th>\n",
       "      <td>MD</td>\n",
       "      <td>0.000090</td>\n",
       "    </tr>\n",
       "    <tr>\n",
       "      <th>1</th>\n",
       "      <td>,</td>\n",
       "      <td>0.000205</td>\n",
       "    </tr>\n",
       "    <tr>\n",
       "      <th>9</th>\n",
       "      <td>EX</td>\n",
       "      <td>0.000337</td>\n",
       "    </tr>\n",
       "    <tr>\n",
       "      <th>26</th>\n",
       "      <td>SYM</td>\n",
       "      <td>0.000550</td>\n",
       "    </tr>\n",
       "    <tr>\n",
       "      <th>37</th>\n",
       "      <td>``</td>\n",
       "      <td>0.000674</td>\n",
       "    </tr>\n",
       "    <tr>\n",
       "      <th>19</th>\n",
       "      <td>POS</td>\n",
       "      <td>0.000674</td>\n",
       "    </tr>\n",
       "    <tr>\n",
       "      <th>25</th>\n",
       "      <td>RP</td>\n",
       "      <td>0.000674</td>\n",
       "    </tr>\n",
       "    <tr>\n",
       "      <th>29</th>\n",
       "      <td>VB</td>\n",
       "      <td>0.000944</td>\n",
       "    </tr>\n",
       "    <tr>\n",
       "      <th>30</th>\n",
       "      <td>VBD</td>\n",
       "      <td>0.001651</td>\n",
       "    </tr>\n",
       "    <tr>\n",
       "      <th>32</th>\n",
       "      <td>VBN</td>\n",
       "      <td>0.001955</td>\n",
       "    </tr>\n",
       "    <tr>\n",
       "      <th>0</th>\n",
       "      <td>''</td>\n",
       "      <td>0.002022</td>\n",
       "    </tr>\n",
       "    <tr>\n",
       "      <th>13</th>\n",
       "      <td>JJR</td>\n",
       "      <td>0.007471</td>\n",
       "    </tr>\n",
       "    <tr>\n",
       "      <th>34</th>\n",
       "      <td>VBZ</td>\n",
       "      <td>0.009291</td>\n",
       "    </tr>\n",
       "    <tr>\n",
       "      <th>14</th>\n",
       "      <td>JJS</td>\n",
       "      <td>0.010627</td>\n",
       "    </tr>\n",
       "    <tr>\n",
       "      <th>7</th>\n",
       "      <td>CD</td>\n",
       "      <td>0.011269</td>\n",
       "    </tr>\n",
       "    <tr>\n",
       "      <th>11</th>\n",
       "      <td>IN</td>\n",
       "      <td>0.015456</td>\n",
       "    </tr>\n",
       "    <tr>\n",
       "      <th>8</th>\n",
       "      <td>DT</td>\n",
       "      <td>0.055908</td>\n",
       "    </tr>\n",
       "  </tbody>\n",
       "</table>\n",
       "</div>"
      ],
      "text/plain": [
       "      tag   relRate\n",
       "10     FW -0.041436\n",
       "12     JJ -0.017319\n",
       "16     NN -0.017245\n",
       "4       . -0.013450\n",
       "22     RB -0.004260\n",
       "23    RBR -0.003424\n",
       "27     TO -0.003166\n",
       "28     UH -0.002672\n",
       "5       : -0.002650\n",
       "17    NNP -0.002436\n",
       "35    WDT -0.002380\n",
       "33    VBP -0.002369\n",
       "20    PRP -0.001806\n",
       "36    WRB -0.000921\n",
       "24    RBS -0.000875\n",
       "3   -RRB- -0.000831\n",
       "2   -LRB- -0.000831\n",
       "31    VBG -0.000617\n",
       "21   PRP$ -0.000594\n",
       "18    NNS -0.000291\n",
       "6      CC -0.000222\n",
       "15     MD  0.000090\n",
       "1       ,  0.000205\n",
       "9      EX  0.000337\n",
       "26    SYM  0.000550\n",
       "37     ``  0.000674\n",
       "19    POS  0.000674\n",
       "25     RP  0.000674\n",
       "29     VB  0.000944\n",
       "30    VBD  0.001651\n",
       "32    VBN  0.001955\n",
       "0      ''  0.002022\n",
       "13    JJR  0.007471\n",
       "34    VBZ  0.009291\n",
       "14    JJS  0.010627\n",
       "7      CD  0.011269\n",
       "11     IN  0.015456\n",
       "8      DT  0.055908"
      ]
     },
     "execution_count": 43,
     "metadata": {},
     "output_type": "execute_result"
    }
   ],
   "source": [
    "def count_tags(output):\n",
    "    all_tags = [p for sent in output['lemmas_l0'] for w, p in eval(sent)]\n",
    "    return pd.Series(all_tags).value_counts() / (1.0 * len(all_tags))\n",
    "\n",
    "pd.DataFrame(list(count_tags(improved).sub(count_tags(declined), fill_value=0.0)\n",
    "                                      .iteritems()),\n",
    "             columns=['tag', 'relRate']).sort_values(by='relRate')"
   ]
  },
  {
   "cell_type": "markdown",
   "metadata": {},
   "source": [
    "WordNet color terms\n",
    "---"
   ]
  },
  {
   "cell_type": "code",
   "execution_count": 44,
   "metadata": {
    "collapsed": false
   },
   "outputs": [],
   "source": [
    "from nltk.corpus import wordnet as wn"
   ]
  },
  {
   "cell_type": "code",
   "execution_count": 45,
   "metadata": {
    "collapsed": false
   },
   "outputs": [],
   "source": [
    "def all_hyponyms(syn):\n",
    "    hypo_syns = syn.closure(lambda s: s.hyponyms())\n",
    "    return [str(lemma.name()).replace('_', ' ')\n",
    "            for s in hypo_syns for lemma in s.lemmas()]\n",
    "\n",
    "wn_color_terms = set(all_hyponyms(wn.synset('color.n.01')))"
   ]
  },
  {
   "cell_type": "code",
   "execution_count": 46,
   "metadata": {
    "collapsed": false
   },
   "outputs": [
    {
     "data": {
      "image/png": "[encoded data removed]",
      "text/plain": [
       "<matplotlib.figure.Figure at 0x7f2a07a24d10>"
      ]
     },
     "metadata": {},
     "output_type": "display_data"
    }
   ],
   "source": [
    "def ind_color_term(sent):\n",
    "    space_joined = ' '.join(w for w, p in eval(sent))\n",
    "    return any(c in space_joined for c in wn_color_terms)\n",
    "\n",
    "plot_accuracy_by_feature(ind_color_term, [h, l2, l0], ['h', 'l2', 'l0'], ['b', 'g', 'r'])"
   ]
  },
  {
   "cell_type": "markdown",
   "metadata": {},
   "source": [
    "Length and specificity\n",
    "---"
   ]
  },
  {
   "cell_type": "code",
   "execution_count": 47,
   "metadata": {
    "collapsed": false
   },
   "outputs": [],
   "source": [
    "# http://stackoverflow.com/a/21276920/4481448\n",
    "\n",
    "def rand_jitter(arr):\n",
    "    stdev = .01*(max(arr)-min(arr))\n",
    "    return arr + np.random.randn(len(arr)) * stdev\n",
    "\n",
    "def jitter(x, y, s=20, c='b', marker='o', cmap=None, norm=None, vmin=None, vmax=None, alpha=None, linewidths=None, verts=None, hold=None, **kwargs):\n",
    "    return plt.scatter(rand_jitter(x), rand_jitter(y), s=s, c=c, marker=marker, cmap=cmap, norm=norm, vmin=vmin, vmax=vmax, alpha=alpha, linewidths=linewidths, verts=verts, hold=hold, **kwargs)"
   ]
  },
  {
   "cell_type": "code",
   "execution_count": 48,
   "metadata": {
    "collapsed": true
   },
   "outputs": [],
   "source": [
    "def length_cost(row):\n",
    "    return len(eval(row['lemmas']))\n",
    "\n",
    "def cost_by_condition(cost_fn, output):\n",
    "    conditions = [['equal', 'further', 'closer'].index(row['condition'])\n",
    "                  for index, row in output.iterrows()]\n",
    "    length = [cost_fn(row) for index, row in output.iterrows()]\n",
    "    return np.array(conditions), np.array(length)\n",
    "\n",
    "def plot_cost_by_condition(cost_fn, output):\n",
    "    conditions, length = cost_by_condition(cost_fn, output)\n",
    "    jitter(conditions, length)\n",
    "    plt.xticks(sorted(set(conditions)), ['equal', 'further', 'closer'])\n",
    "    plt.xlabel('Condition')\n",
    "    plt.ylabel('Length')\n",
    "    plt.show()"
   ]
  },
  {
   "cell_type": "code",
   "execution_count": 49,
   "metadata": {
    "collapsed": false
   },
   "outputs": [
    {
     "data": {
      "image/png": "[encoded data removed]",
      "text/plain": [
       "<matplotlib.figure.Figure at 0x7f2a07a24250>"
      ]
     },
     "metadata": {},
     "output_type": "display_data"
    }
   ],
   "source": [
    "plot_cost_by_condition(length_cost, h)"
   ]
  },
  {
   "cell_type": "code",
   "execution_count": 50,
   "metadata": {
    "collapsed": false
   },
   "outputs": [],
   "source": [
    "from sklearn.linear_model import LogisticRegression\n",
    "\n",
    "def accuracy_by_cost(cost_fn, output):\n",
    "    length = np.array([cost_fn(row) for index, row in output.iterrows()])\n",
    "    accuracy = output['outcome'].astype(np.int)\n",
    "    return length, accuracy\n",
    "\n",
    "def plot_logistic_reg(length, accuracy):\n",
    "    # TODO\n",
    "    lr = LogisticRegression(C=1., solver='lbfgs')\n",
    "    lr.fit(np.log(np.maximum(1., length[:, np.newaxis])), accuracy)\n",
    "    inputs = np.arange(1., 130., 0.1)\n",
    "    probs = lr.predict_proba(np.log(inputs[:, np.newaxis]))[:, 1]\n",
    "    plt.plot(inputs, probs)\n",
    "\n",
    "def plot_accuracy_by_cost(cost_fn, output, plot_fit_fn):\n",
    "    length, accuracy = accuracy_by_cost(cost_fn, output)\n",
    "    plt.scatter(length, accuracy)\n",
    "    plot_fit_fn(length, accuracy)\n",
    "    plt.xlabel('Length')\n",
    "    plt.ylabel('Accuracy')\n",
    "    plt.show()"
   ]
  },
  {
   "cell_type": "code",
   "execution_count": 51,
   "metadata": {
    "collapsed": false
   },
   "outputs": [
    {
     "data": {
      "image/png": "[encoded data removed]",
      "text/plain": [
       "<matplotlib.figure.Figure at 0x7f2a08dcffd0>"
      ]
     },
     "metadata": {},
     "output_type": "display_data"
    }
   ],
   "source": [
    "plot_accuracy_by_cost(length_cost, h, plot_logistic_reg)"
   ]
  },
  {
   "cell_type": "code",
   "execution_count": 52,
   "metadata": {
    "collapsed": false
   },
   "outputs": [
    {
     "data": {
      "image/png": "[encoded data removed]",
      "text/plain": [
       "<matplotlib.figure.Figure at 0x7f29f8cefc50>"
      ]
     },
     "metadata": {},
     "output_type": "display_data"
    }
   ],
   "source": [
    "def lm_score_cost(row):\n",
    "    words = [w for w, t in eval(row['lemmas'])]\n",
    "    return -lm.score(' '.join(words))\n",
    "\n",
    "plot_accuracy_by_cost(lm_score_cost, h, plot_logistic_reg)"
   ]
  },
  {
   "cell_type": "code",
   "execution_count": 53,
   "metadata": {
    "collapsed": false
   },
   "outputs": [
    {
     "data": {
      "image/png": "[encoded data removed]",
      "text/plain": [
       "<matplotlib.figure.Figure at 0x7f29f8ec2f90>"
      ]
     },
     "metadata": {},
     "output_type": "display_data"
    }
   ],
   "source": [
    "class LocalRegression(object):\n",
    "    def __init__(self, x, y, alpha=None):\n",
    "        self.x = np.array(x)\n",
    "        self.y = np.array(y)\n",
    "        if alpha is not None:\n",
    "            self.alpha = alpha\n",
    "        else:\n",
    "            self.alpha = self.tune_alpha()\n",
    "\n",
    "    def tune_alpha(self):\n",
    "        # Find the scale to search over\n",
    "        diffs = np.abs(self.x[:, np.newaxis] - self.x[np.newaxis, :])\n",
    "        #diffs[diffs <= 1e-6] = float('inf')\n",
    "        #min_alpha = np.min(diffs)\n",
    "        min_alpha = np.mean(diffs) / 10.\n",
    "        max_alpha = (np.max(self.x) - np.min(self.x)) / 2.\n",
    "        # Search on linearly spaced intervals\n",
    "        search_vals = np.linspace(min_alpha, max_alpha, 10)\n",
    "        # Minimize LOOCV cross-entropy\n",
    "        costs = []\n",
    "        for alpha in search_vals:\n",
    "            c = self.cost(alpha)\n",
    "            if not np.isfinite(c):\n",
    "                c = float('inf')\n",
    "            costs.append(c)\n",
    "            print('%.3e: %.3e' % (alpha, c))\n",
    "        return search_vals[np.argmin(costs)]\n",
    "    \n",
    "    def cost(self, alpha):\n",
    "        n = len(self.x)\n",
    "        z = (self.x[:, np.newaxis] - self.x[np.newaxis, :]) / alpha\n",
    "        weights = np.exp(-z ** 2.0)\n",
    "        # Leave-one-out cross-validation \n",
    "        weights[np.arange(n), np.arange(n)] = 0.\n",
    "        probas = (weights * self.y[np.newaxis, :]).sum(axis=1) / weights.sum(axis=1)\n",
    "        return -(self.y * np.log(probas) + (1. - self.y) * np.log(1. - probas)).sum()\n",
    "\n",
    "    def predict_proba(self, x):\n",
    "        z = (x[:, np.newaxis] - self.x[np.newaxis, :]) / self.alpha\n",
    "        weights = np.exp(-z ** 2.0)\n",
    "        return (weights * self.y[np.newaxis, :]).sum(axis=1) / weights.sum(axis=1)\n",
    "\n",
    "def plot_local(cost, accuracy):\n",
    "    reg = LocalRegression(cost, accuracy, alpha=10.0)\n",
    "    inputs = np.arange(np.min(cost), np.max(cost), 0.1)\n",
    "    probs = reg.predict_proba(inputs)\n",
    "    plt.plot(inputs, probs)\n",
    "\n",
    "plot_accuracy_by_cost(lm_score_cost, h, plot_local)"
   ]
  },
  {
   "cell_type": "code",
   "execution_count": 54,
   "metadata": {
    "collapsed": false
   },
   "outputs": [
    {
     "data": {
      "image/png": "[encoded data removed]",
      "text/plain": [
       "<matplotlib.figure.Figure at 0x7f29f8c9c710>"
      ]
     },
     "metadata": {},
     "output_type": "display_data"
    }
   ],
   "source": [
    "plot_accuracy_by_cost(lm_score_cost, l0, plot_local)"
   ]
  },
  {
   "cell_type": "code",
   "execution_count": 55,
   "metadata": {
    "collapsed": false
   },
   "outputs": [
    {
     "data": {
      "image/png": "[encoded data removed]",
      "text/plain": [
       "<matplotlib.figure.Figure at 0x7f29f8d4c390>"
      ]
     },
     "metadata": {},
     "output_type": "display_data"
    }
   ],
   "source": [
    "plot_accuracy_by_cost(lm_score_cost, l2, plot_local)"
   ]
  },
  {
   "cell_type": "code",
   "execution_count": 56,
   "metadata": {
    "collapsed": false
   },
   "outputs": [
    {
     "data": {
      "image/png": "[encoded data removed]",
      "text/plain": [
       "<matplotlib.figure.Figure at 0x7f29f8b53450>"
      ]
     },
     "metadata": {},
     "output_type": "display_data"
    }
   ],
   "source": [
    "def compare_local(cost_fn, output1, output2, plot_fit_fn):\n",
    "    cost, accuracy1 = accuracy_by_cost(cost_fn, output1)\n",
    "    _, accuracy2 = accuracy_by_cost(cost_fn, output2)\n",
    "    plot_fit_fn(cost, accuracy1)\n",
    "    plot_fit_fn(cost, accuracy2)\n",
    "    plt.xlabel('Length')\n",
    "    plt.ylabel('Accuracy')\n",
    "    plt.show()\n",
    "    \n",
    "compare_local(lm_score_cost, l2, l0, plot_local)"
   ]
  },
  {
   "cell_type": "markdown",
   "metadata": {
    "collapsed": true
   },
   "source": [
    "Plots of only examples that differ in accuracy\n",
    "---"
   ]
  },
  {
   "cell_type": "code",
   "execution_count": 57,
   "metadata": {
    "collapsed": true
   },
   "outputs": [],
   "source": [
    "l0_diff = l0[l0['outcome'] != l2['outcome']]\n",
    "l2_diff = l2[l0['outcome'] != l2['outcome']]"
   ]
  },
  {
   "cell_type": "code",
   "execution_count": 58,
   "metadata": {
    "collapsed": false
   },
   "outputs": [
    {
     "data": {
      "image/png": "[encoded data removed]",
      "text/plain": [
       "<matplotlib.figure.Figure at 0x7f29f8ad0850>"
      ]
     },
     "metadata": {},
     "output_type": "display_data"
    }
   ],
   "source": [
    "compare_local(lm_score_cost, l2_diff, l0_diff, plot_local)"
   ]
  },
  {
   "cell_type": "code",
   "execution_count": 59,
   "metadata": {
    "collapsed": false
   },
   "outputs": [
    {
     "data": {
      "image/png": "[encoded data removed]",
      "text/plain": [
       "<matplotlib.figure.Figure at 0x7f29f8e05190>"
      ]
     },
     "metadata": {},
     "output_type": "display_data"
    }
   ],
   "source": [
    "plot_accuracy_by_cost(lm_score_cost, l2_diff, plot_local)"
   ]
  },
  {
   "cell_type": "code",
   "execution_count": 60,
   "metadata": {
    "collapsed": true
   },
   "outputs": [],
   "source": [
    "def resid_cost(row):\n",
    "    # TODO: update the coefficients for the new language model\n",
    "    a, b = (1.369379215037215, 1.3627133364900235)\n",
    "    lc = length_cost(row)\n",
    "    expected = a * 1.0 * lc + b\n",
    "    return lm_score_cost(row) - expected"
   ]
  },
  {
   "cell_type": "code",
   "execution_count": 61,
   "metadata": {
    "collapsed": false
   },
   "outputs": [
    {
     "data": {
      "image/png": "[encoded data removed]",
      "text/plain": [
       "<matplotlib.figure.Figure at 0x7f2a0e3cf890>"
      ]
     },
     "metadata": {},
     "output_type": "display_data"
    }
   ],
   "source": [
    "plot_accuracy_by_cost(resid_cost, l2_diff, plot_local)"
   ]
  },
  {
   "cell_type": "code",
   "execution_count": 63,
   "metadata": {
    "collapsed": false
   },
   "outputs": [
    {
     "name": "stdout",
     "output_type": "stream",
     "text": [
      "(1.283276416327952, 4.6545637089982765)\n"
     ]
    },
    {
     "data": {
      "image/png": "[encoded data removed]",
      "text/plain": [
       "<matplotlib.figure.Figure at 0x7f29f8e65a10>"
      ]
     },
     "metadata": {},
     "output_type": "display_data"
    }
   ],
   "source": [
    "def plot_lm_scores():\n",
    "    lens = [length_cost(row) for i, row in l2.iterrows()]\n",
    "    scores = [lm_score_cost(row) for i, row in l2.iterrows()]\n",
    "    a, b = np.polyfit(lens, scores, 1)\n",
    "    print((a, b))\n",
    "    plt.scatter(lens, scores)\n",
    "    plt.plot([0., 100.], [b, 100. * a + b])\n",
    "    plt.show()\n",
    "\n",
    "plot_lm_scores()"
   ]
  },
  {
   "cell_type": "code",
   "execution_count": null,
   "metadata": {
    "collapsed": true
   },
   "outputs": [],
   "source": []
  }
 ],
 "metadata": {
  "kernelspec": {
   "display_name": "Python 2",
   "language": "python",
   "name": "python2"
  },
  "language_info": {
   "codemirror_mode": {
    "name": "ipython",
    "version": 2
   },
   "file_extension": ".py",
   "mimetype": "text/x-python",
   "name": "python",
   "nbconvert_exporter": "python",
   "pygments_lexer": "ipython2",
   "version": "2.7.12"
  }
 },
 "nbformat": 4,
 "nbformat_minor": 0
}

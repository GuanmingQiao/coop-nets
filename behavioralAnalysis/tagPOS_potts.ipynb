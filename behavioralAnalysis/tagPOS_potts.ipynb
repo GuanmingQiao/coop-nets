{
 "cells": [
  {
   "cell_type": "markdown",
   "metadata": {},
   "source": [
    "# POS-tagging for comparative/superlative identification"
   ]
  },
  {
   "cell_type": "code",
   "execution_count": 27,
   "metadata": {
    "collapsed": false
   },
   "outputs": [],
   "source": [
    "import os\n",
    "import pandas as pd\n",
    "import nltk as nltk\n",
    "from pycorenlp import StanfordCoreNLP"
   ]
  },
  {
   "cell_type": "markdown",
   "metadata": {},
   "source": [
    "## Start the Stanford CoreNLP server\n",
    "\n",
    "Before running this notebook, [get CoreNLP](http://nlp.stanford.edu/software/stanford-corenlp-full-2015-12-09.zip), go into its directory, and run\n",
    "\n",
    "`java -mx4g -cp \"*\" edu.stanford.nlp.pipeline.StanfordCoreNLPServer 9000`\n",
    "\n",
    "If you're using port 9000 for something else, change that value and then change `PORT` in the next cell."
   ]
  },
  {
   "cell_type": "code",
   "execution_count": 49,
   "metadata": {
    "collapsed": true
   },
   "outputs": [],
   "source": [
    "PORT = 9000\n",
    "\n",
    "NLP = StanfordCoreNLP('http://localhost:{}'.format(PORT))"
   ]
  },
  {
   "cell_type": "markdown",
   "metadata": {},
   "source": [
    "## Convenience function for POS tagging"
   ]
  },
  {
   "cell_type": "code",
   "execution_count": 74,
   "metadata": {
    "collapsed": false
   },
   "outputs": [],
   "source": [
    "def stanford_pos(text):\n",
    "    \"\"\"\n",
    "    Parameters\n",
    "    ----------\n",
    "    text : str\n",
    "       CoreNLP handles all tokenizing, at the sentence and word level.\n",
    "       \n",
    "    Returns\n",
    "    -------\n",
    "    list of tuples (str, str)\n",
    "       The first member of each pair is the word, the second its POS tag.          \n",
    "    \"\"\"\n",
    "    ann = nlp.annotate(\n",
    "        text, \n",
    "        properties={'annotators': 'pos', \n",
    "                    'outputFormat': 'json'})\n",
    "    lemmas = []\n",
    "    for sentence in ann['sentences']:\n",
    "        for token in sentence['tokens']:\n",
    "            lemmas.append((token['word'], token['pos']))\n",
    "    return lemmas"
   ]
  },
  {
   "cell_type": "markdown",
   "metadata": {},
   "source": [
    "## Comparative/Superlative identifiers"
   ]
  },
  {
   "cell_type": "code",
   "execution_count": 77,
   "metadata": {
    "collapsed": false
   },
   "outputs": [],
   "source": [
    "from nltk.stem.wordnet import WordNetLemmatizer\n",
    "\n",
    "LEMMATIZER = WordNetLemmatizer()\n",
    "\n",
    "def is_comp_sup(word, pos, tags, check_lemmatizer=False):\n",
    "    \"\"\"\n",
    "    Parameters\n",
    "    ----------\n",
    "    word, pos : str, str\n",
    "        The lemma.\n",
    "    \n",
    "    tags : iterable of str\n",
    "        The tags considered positive evidence for comp/sup morphology.\n",
    "       \n",
    "       \n",
    "    check_lemmatizer : bool\n",
    "        If True, then if the `pos` is in `tags`, we also check that\n",
    "        `word` is different from the lemmatized version of word\n",
    "        according to WordNet, treating it as an adjective. This \n",
    "        could be used to achieve greater precision, perhaps at the\n",
    "        expense of recall.\n",
    "       \n",
    "    Returns\n",
    "    -------\n",
    "    bool       \n",
    "    \"\"\"\n",
    "    if pos not in tags:\n",
    "        return False\n",
    "    if check_lemmatizer and LEMMATIZER.lemmatize(word, 'a') == word:\n",
    "        return False\n",
    "    return True\n",
    "\n",
    "def is_superlative(word, pos, check_lemmatizer=False):\n",
    "    return is_comp_sup(\n",
    "        word, pos, {'JJS', 'RBS'}, check_lemmatizer=check_lemmatizer)\n",
    "\n",
    "def is_comparative(word, pos):\n",
    "    return is_comp_sup(\n",
    "        word, pos, {'JJR', 'RBR'}, check_lemmatizer=check_lemmatizer)"
   ]
  },
  {
   "cell_type": "markdown",
   "metadata": {},
   "source": [
    "## Data analysis"
   ]
  },
  {
   "cell_type": "code",
   "execution_count": 65,
   "metadata": {
    "collapsed": false
   },
   "outputs": [],
   "source": [
    "d = pd.read_csv('humanOutput/colorReferenceMessage.csv', escapechar='\\\\')"
   ]
  },
  {
   "cell_type": "markdown",
   "metadata": {},
   "source": [
    "### Tag the data"
   ]
  },
  {
   "cell_type": "code",
   "execution_count": 76,
   "metadata": {
    "collapsed": false
   },
   "outputs": [],
   "source": [
    "# A lemma is a (word, pos) tag pair.\n",
    "d['lemmas'] = [stanford_pos(text) for text in d['contents']]"
   ]
  },
  {
   "cell_type": "markdown",
   "metadata": {},
   "source": [
    "## Identify comparatives and superlatives\n",
    "\n",
    "These steps put a 1 in the position of comparatives/superlatives, and a 0 in all other places, to maintain alignment with the original texts."
   ]
  },
  {
   "cell_type": "code",
   "execution_count": 78,
   "metadata": {
    "collapsed": false
   },
   "outputs": [],
   "source": [
    "d['superlatives'] = [[1 if is_superlative(*lem) else 0 for lem in lemmas]\n",
    "                     for lemmas in d['lemmas']]"
   ]
  },
  {
   "cell_type": "code",
   "execution_count": 79,
   "metadata": {
    "collapsed": true
   },
   "outputs": [],
   "source": [
    "d['comparatives'] = [[1 if is_comparative(*lem) else 0 for lem in lemmas]\n",
    "                     for lemmas in d['lemmas']]"
   ]
  },
  {
   "cell_type": "markdown",
   "metadata": {},
   "source": [
    "Count superlatives & comparatives"
   ]
  },
  {
   "cell_type": "code",
   "execution_count": 81,
   "metadata": {
    "collapsed": false
   },
   "outputs": [],
   "source": [
    "d['numSuper'] = [sum(counts) for counts in d['superlatives']]\n",
    "\n",
    "d['numComp'] = [sum(counts) for counts in d['comparatives']]"
   ]
  },
  {
   "cell_type": "markdown",
   "metadata": {},
   "source": [
    "## Inspection"
   ]
  },
  {
   "cell_type": "markdown",
   "metadata": {},
   "source": [
    "Run the cell below to allow for non-scrolling display:"
   ]
  },
  {
   "cell_type": "code",
   "execution_count": 84,
   "metadata": {
    "collapsed": false
   },
   "outputs": [
    {
     "data": {
      "application/javascript": [
       "IPython.OutputArea.auto_scroll_threshold = 9999;"
      ],
      "text/plain": [
       "<IPython.core.display.Javascript object>"
      ]
     },
     "metadata": {},
     "output_type": "display_data"
    }
   ],
   "source": [
    "%%javascript\n",
    "IPython.OutputArea.auto_scroll_threshold = 9999;"
   ]
  },
  {
   "cell_type": "code",
   "execution_count": 87,
   "metadata": {
    "collapsed": false
   },
   "outputs": [
    {
     "data": {
      "text/html": [
       "<div>\n",
       "<table border=\"1\" class=\"dataframe\">\n",
       "  <thead>\n",
       "    <tr style=\"text-align: right;\">\n",
       "      <th></th>\n",
       "      <th>gameid</th>\n",
       "      <th>time</th>\n",
       "      <th>roundNum</th>\n",
       "      <th>sender</th>\n",
       "      <th>contents</th>\n",
       "      <th>lemmas</th>\n",
       "      <th>superlatives</th>\n",
       "      <th>comparatives</th>\n",
       "      <th>numSuper</th>\n",
       "      <th>numComp</th>\n",
       "    </tr>\n",
       "  </thead>\n",
       "  <tbody>\n",
       "    <tr>\n",
       "      <th>48</th>\n",
       "      <td>1124-1</td>\n",
       "      <td>1459877758186</td>\n",
       "      <td>42</td>\n",
       "      <td>speaker</td>\n",
       "      <td>lightest shade of teal/blue/green</td>\n",
       "      <td>[(lightest, JJS), (shade, NN), (of, IN), (teal...</td>\n",
       "      <td>[1, 0, 0, 0]</td>\n",
       "      <td>[0, 0, 0, 0]</td>\n",
       "      <td>1</td>\n",
       "      <td>0</td>\n",
       "    </tr>\n",
       "    <tr>\n",
       "      <th>75</th>\n",
       "      <td>8235-6</td>\n",
       "      <td>1459877492779</td>\n",
       "      <td>18</td>\n",
       "      <td>speaker</td>\n",
       "      <td>brightest green</td>\n",
       "      <td>[(brightest, JJS), (green, JJ)]</td>\n",
       "      <td>[1, 0]</td>\n",
       "      <td>[0, 0]</td>\n",
       "      <td>1</td>\n",
       "      <td>0</td>\n",
       "    </tr>\n",
       "    <tr>\n",
       "      <th>76</th>\n",
       "      <td>8235-6</td>\n",
       "      <td>1459877512927</td>\n",
       "      <td>19</td>\n",
       "      <td>speaker</td>\n",
       "      <td>brightest green</td>\n",
       "      <td>[(brightest, JJS), (green, JJ)]</td>\n",
       "      <td>[1, 0]</td>\n",
       "      <td>[0, 0]</td>\n",
       "      <td>1</td>\n",
       "      <td>0</td>\n",
       "    </tr>\n",
       "    <tr>\n",
       "      <th>81</th>\n",
       "      <td>8235-6</td>\n",
       "      <td>1459877610659</td>\n",
       "      <td>23</td>\n",
       "      <td>speaker</td>\n",
       "      <td>darkest green</td>\n",
       "      <td>[(darkest, JJS), (green, JJ)]</td>\n",
       "      <td>[1, 0]</td>\n",
       "      <td>[0, 0]</td>\n",
       "      <td>1</td>\n",
       "      <td>0</td>\n",
       "    </tr>\n",
       "    <tr>\n",
       "      <th>82</th>\n",
       "      <td>8235-6</td>\n",
       "      <td>1459877625200</td>\n",
       "      <td>24</td>\n",
       "      <td>speaker</td>\n",
       "      <td>brightest pink</td>\n",
       "      <td>[(brightest, JJS), (pink, NN)]</td>\n",
       "      <td>[1, 0]</td>\n",
       "      <td>[0, 0]</td>\n",
       "      <td>1</td>\n",
       "      <td>0</td>\n",
       "    </tr>\n",
       "  </tbody>\n",
       "</table>\n",
       "</div>"
      ],
      "text/plain": [
       "    gameid           time  roundNum   sender  \\\n",
       "48  1124-1  1459877758186        42  speaker   \n",
       "75  8235-6  1459877492779        18  speaker   \n",
       "76  8235-6  1459877512927        19  speaker   \n",
       "81  8235-6  1459877610659        23  speaker   \n",
       "82  8235-6  1459877625200        24  speaker   \n",
       "\n",
       "                             contents  \\\n",
       "48  lightest shade of teal/blue/green   \n",
       "75                    brightest green   \n",
       "76                    brightest green   \n",
       "81                      darkest green   \n",
       "82                     brightest pink   \n",
       "\n",
       "                                               lemmas  superlatives  \\\n",
       "48  [(lightest, JJS), (shade, NN), (of, IN), (teal...  [1, 0, 0, 0]   \n",
       "75                    [(brightest, JJS), (green, JJ)]        [1, 0]   \n",
       "76                    [(brightest, JJS), (green, JJ)]        [1, 0]   \n",
       "81                      [(darkest, JJS), (green, JJ)]        [1, 0]   \n",
       "82                     [(brightest, JJS), (pink, NN)]        [1, 0]   \n",
       "\n",
       "    comparatives  numSuper  numComp  \n",
       "48  [0, 0, 0, 0]         1        0  \n",
       "75        [0, 0]         1        0  \n",
       "76        [0, 0]         1        0  \n",
       "81        [0, 0]         1        0  \n",
       "82        [0, 0]         1        0  "
      ]
     },
     "execution_count": 87,
     "metadata": {},
     "output_type": "execute_result"
    }
   ],
   "source": [
    "d.query('numSuper > 0').head()"
   ]
  },
  {
   "cell_type": "code",
   "execution_count": 88,
   "metadata": {
    "collapsed": false
   },
   "outputs": [
    {
     "data": {
      "text/html": [
       "<div>\n",
       "<table border=\"1\" class=\"dataframe\">\n",
       "  <thead>\n",
       "    <tr style=\"text-align: right;\">\n",
       "      <th></th>\n",
       "      <th>gameid</th>\n",
       "      <th>time</th>\n",
       "      <th>roundNum</th>\n",
       "      <th>sender</th>\n",
       "      <th>contents</th>\n",
       "      <th>lemmas</th>\n",
       "      <th>superlatives</th>\n",
       "      <th>comparatives</th>\n",
       "      <th>numSuper</th>\n",
       "      <th>numComp</th>\n",
       "    </tr>\n",
       "  </thead>\n",
       "  <tbody>\n",
       "    <tr>\n",
       "      <th>0</th>\n",
       "      <td>1124-1</td>\n",
       "      <td>1459877203862</td>\n",
       "      <td>1</td>\n",
       "      <td>speaker</td>\n",
       "      <td>The darker blue one</td>\n",
       "      <td>[(The, DT), (darker, JJR), (blue, JJ), (one, NN)]</td>\n",
       "      <td>[0, 0, 0, 0]</td>\n",
       "      <td>[0, 1, 0, 0]</td>\n",
       "      <td>0</td>\n",
       "      <td>1</td>\n",
       "    </tr>\n",
       "    <tr>\n",
       "      <th>13</th>\n",
       "      <td>1124-1</td>\n",
       "      <td>1459877360202</td>\n",
       "      <td>13</td>\n",
       "      <td>speaker</td>\n",
       "      <td>One of the brown ones, the lighter shaded one</td>\n",
       "      <td>[(One, CD), (of, IN), (the, DT), (brown, JJ), ...</td>\n",
       "      <td>[0, 0, 0, 0, 0, 0, 0, 0, 0, 0]</td>\n",
       "      <td>[0, 0, 0, 0, 0, 0, 0, 1, 0, 0]</td>\n",
       "      <td>0</td>\n",
       "      <td>1</td>\n",
       "    </tr>\n",
       "    <tr>\n",
       "      <th>31</th>\n",
       "      <td>1124-1</td>\n",
       "      <td>1459877544164</td>\n",
       "      <td>26</td>\n",
       "      <td>speaker</td>\n",
       "      <td>darker red</td>\n",
       "      <td>[(darker, JJR), (red, NN)]</td>\n",
       "      <td>[0, 0]</td>\n",
       "      <td>[1, 0]</td>\n",
       "      <td>0</td>\n",
       "      <td>1</td>\n",
       "    </tr>\n",
       "    <tr>\n",
       "      <th>33</th>\n",
       "      <td>1124-1</td>\n",
       "      <td>1459877564218</td>\n",
       "      <td>28</td>\n",
       "      <td>speaker</td>\n",
       "      <td>purple, darker one</td>\n",
       "      <td>[(purple, JJ), (,, ,), (darker, JJR), (one, CD)]</td>\n",
       "      <td>[0, 0, 0, 0]</td>\n",
       "      <td>[0, 0, 1, 0]</td>\n",
       "      <td>0</td>\n",
       "      <td>1</td>\n",
       "    </tr>\n",
       "    <tr>\n",
       "      <th>38</th>\n",
       "      <td>1124-1</td>\n",
       "      <td>1459877621758</td>\n",
       "      <td>33</td>\n",
       "      <td>speaker</td>\n",
       "      <td>brown. not the yellow one or classic brown one...</td>\n",
       "      <td>[(brown, JJ), (., .), (not, RB), (the, DT), (y...</td>\n",
       "      <td>[0, 0, 0, 0, 0, 0, 0, 0, 0, 0, 0, 0, 0, 0]</td>\n",
       "      <td>[0, 0, 0, 0, 0, 0, 0, 0, 0, 0, 0, 0, 1, 0]</td>\n",
       "      <td>0</td>\n",
       "      <td>1</td>\n",
       "    </tr>\n",
       "  </tbody>\n",
       "</table>\n",
       "</div>"
      ],
      "text/plain": [
       "    gameid           time  roundNum   sender  \\\n",
       "0   1124-1  1459877203862         1  speaker   \n",
       "13  1124-1  1459877360202        13  speaker   \n",
       "31  1124-1  1459877544164        26  speaker   \n",
       "33  1124-1  1459877564218        28  speaker   \n",
       "38  1124-1  1459877621758        33  speaker   \n",
       "\n",
       "                                             contents  \\\n",
       "0                                 The darker blue one   \n",
       "13      One of the brown ones, the lighter shaded one   \n",
       "31                                         darker red   \n",
       "33                                 purple, darker one   \n",
       "38  brown. not the yellow one or classic brown one...   \n",
       "\n",
       "                                               lemmas  \\\n",
       "0   [(The, DT), (darker, JJR), (blue, JJ), (one, NN)]   \n",
       "13  [(One, CD), (of, IN), (the, DT), (brown, JJ), ...   \n",
       "31                         [(darker, JJR), (red, NN)]   \n",
       "33   [(purple, JJ), (,, ,), (darker, JJR), (one, CD)]   \n",
       "38  [(brown, JJ), (., .), (not, RB), (the, DT), (y...   \n",
       "\n",
       "                                  superlatives  \\\n",
       "0                                 [0, 0, 0, 0]   \n",
       "13              [0, 0, 0, 0, 0, 0, 0, 0, 0, 0]   \n",
       "31                                      [0, 0]   \n",
       "33                                [0, 0, 0, 0]   \n",
       "38  [0, 0, 0, 0, 0, 0, 0, 0, 0, 0, 0, 0, 0, 0]   \n",
       "\n",
       "                                  comparatives  numSuper  numComp  \n",
       "0                                 [0, 1, 0, 0]         0        1  \n",
       "13              [0, 0, 0, 0, 0, 0, 0, 1, 0, 0]         0        1  \n",
       "31                                      [1, 0]         0        1  \n",
       "33                                [0, 0, 1, 0]         0        1  \n",
       "38  [0, 0, 0, 0, 0, 0, 0, 0, 0, 0, 0, 0, 1, 0]         0        1  "
      ]
     },
     "execution_count": 88,
     "metadata": {},
     "output_type": "execute_result"
    }
   ],
   "source": [
    "d.query('numComp > 0').head()"
   ]
  },
  {
   "cell_type": "code",
   "execution_count": null,
   "metadata": {
    "collapsed": true
   },
   "outputs": [],
   "source": []
  }
 ],
 "metadata": {
  "anaconda-cloud": {},
  "kernelspec": {
   "display_name": "Python [Root]",
   "language": "python",
   "name": "Python [Root]"
  },
  "language_info": {
   "codemirror_mode": {
    "name": "ipython",
    "version": 3
   },
   "file_extension": ".py",
   "mimetype": "text/x-python",
   "name": "python",
   "nbconvert_exporter": "python",
   "pygments_lexer": "ipython3",
   "version": "3.5.2"
  }
 },
 "nbformat": 4,
 "nbformat_minor": 0
}

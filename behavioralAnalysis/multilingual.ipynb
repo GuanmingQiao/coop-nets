{
 "cells": [
  {
   "cell_type": "code",
   "execution_count": 1,
   "metadata": {},
   "outputs": [
    {
     "data": {
      "text/plain": [
       "'/afs/cs.stanford.edu/u/wmonroe4/projects/pragmatics/coop-nets'"
      ]
     },
     "execution_count": 1,
     "metadata": {},
     "output_type": "execute_result"
    }
   ],
   "source": [
    "import os\n",
    "os.path.realpath('..')"
   ]
  },
  {
   "cell_type": "code",
   "execution_count": 2,
   "metadata": {
    "collapsed": true
   },
   "outputs": [],
   "source": [
    "os.chdir(os.path.realpath('..'))"
   ]
  },
  {
   "cell_type": "code",
   "execution_count": 3,
   "metadata": {},
   "outputs": [
    {
     "name": "stdout",
     "output_type": "stream",
     "text": [
      "ms0\n",
      "ml0\n",
      "bs0\n",
      "bl0\n"
     ]
    }
   ],
   "source": [
    "import cPickle as pickle\n",
    "\n",
    "print('ms0')\n",
    "with open('runs/chinese_s0_simp/quickpickle.p', 'rb') as infile:\n",
    "    ms0 = pickle.load(infile)\n",
    "print('ml0')\n",
    "with open('runs/chinese_l0_tuned/quickpickle.p', 'rb') as infile:\n",
    "    ml0 = pickle.load(infile)\n",
    "print('bs0')\n",
    "with open('runs/biling_s0_bit_halftuned/quickpickle.p', 'rb') as infile:\n",
    "    bs0 = pickle.load(infile)\n",
    "print('bl0')\n",
    "with open('runs/biling_l0_halftuned/quickpickle.p', 'rb') as infile:\n",
    "    bl0 = pickle.load(infile)"
   ]
  },
  {
   "cell_type": "code",
   "execution_count": 4,
   "metadata": {
    "collapsed": true
   },
   "outputs": [],
   "source": [
    "import color_instances as ci"
   ]
  },
  {
   "cell_type": "code",
   "execution_count": 5,
   "metadata": {
    "collapsed": true
   },
   "outputs": [],
   "source": [
    "zh_dev = ci.chinese_dev()"
   ]
  },
  {
   "cell_type": "code",
   "execution_count": 6,
   "metadata": {},
   "outputs": [
    {
     "data": {
      "text/plain": [
       "{'alt_inputs': [(133.0, 94.17989417989418, 94.5),\n",
       "  (130.0, 60.13986013986014, 71.5),\n",
       "  (142.0, 57.142857142857146, 70.0)],\n",
       " 'alt_outputs': None,\n",
       " 'annotated_input': None,\n",
       " 'annotated_output': None,\n",
       " 'input': 2,\n",
       " 'output': u'\\u9c9c\\u7eff',\n",
       " 'source': ('2000-b41d3571-82d1-4967-a9c8-1873e5f11ec5', '45', 'closer')}"
      ]
     },
     "execution_count": 6,
     "metadata": {},
     "output_type": "execute_result"
    }
   ],
   "source": [
    "zh_dev[0].__dict__"
   ]
  },
  {
   "cell_type": "code",
   "execution_count": 7,
   "metadata": {
    "collapsed": true
   },
   "outputs": [],
   "source": [
    "from tokenizers import chinese_tokenizer as tokenize"
   ]
  },
  {
   "cell_type": "code",
   "execution_count": 8,
   "metadata": {},
   "outputs": [
    {
     "data": {
      "text/plain": [
       "'#0ef13f'"
      ]
     },
     "execution_count": 8,
     "metadata": {},
     "output_type": "execute_result"
    }
   ],
   "source": [
    "from html_report import web_color\n",
    "web_color((133.0, 94.17989417989418, 94.5))"
   ]
  },
  {
   "cell_type": "code",
   "execution_count": 9,
   "metadata": {
    "collapsed": true
   },
   "outputs": [],
   "source": [
    "from IPython.core.display import display, HTML"
   ]
  },
  {
   "cell_type": "markdown",
   "metadata": {},
   "source": [
    "# def show(insts):\n",
    "    rows = []\n",
    "    for inst in insts:\n",
    "        triples = [\n",
    "            (u'<b>{}</b>' if i == inst.input else u'{}').format(tuple(int(e) for e in inst.alt_inputs[i]))\n",
    "            for i in range(len(inst.alt_inputs))\n",
    "        ]\n",
    "        colors = [\n",
    "            u'<td bgcolor=\"{hex}\"><font color=\"{font}\">{triple}</font></td>'.format(\n",
    "                hex=web_color(c),\n",
    "                font=(u'white' if c[2] < 50.0 else u'black'),\n",
    "                triple=t,\n",
    "            )\n",
    "            for c, t in zip(inst.alt_inputs, triples)\n",
    "        ]\n",
    "        utt = u'<td>{}</td>'.format(inst.output)\n",
    "        rows.append(u'<tr>{}</tr>'.format(u''.join([utt] + colors)))\n",
    "    html = u'<table>{}</table>'.format(''.join(rows))\n",
    "    display(HTML(html))\n",
    "\n",
    "import random\n",
    "show(random.sample(zh_dev, 100))"
   ]
  },
  {
   "cell_type": "code",
   "execution_count": 11,
   "metadata": {},
   "outputs": [
    {
     "name": "stderr",
     "output_type": "stream",
     "text": [
      "Building prefix dict from the default dictionary ...\n",
      "Loading model from cache /tmp/jieba.cache\n",
      "Loading model cost 0.348 seconds.\n",
      "Prefix dict has been built succesfully.\n"
     ]
    }
   ],
   "source": [
    "from collections import Counter\n",
    "c = Counter(t for inst in zh_dev for t in tokenize(inst.output))"
   ]
  },
  {
   "cell_type": "code",
   "execution_count": 12,
   "metadata": {},
   "outputs": [
    {
     "name": "stdout",
     "output_type": "stream",
     "text": [
      "  421  \n",
      "  279 的\n",
      "  179 ~\n",
      "  175 紫色\n",
      "  158 绿色\n",
      "  150 灰色\n",
      "  130 蓝色\n",
      "   79 颜色\n",
      "   65 黄色\n",
      "   61 ：\n",
      "   60 蓝\n",
      "   54 灰\n",
      "   50 他\n",
      "   49 绿\n",
      "   49 如下\n",
      "   44 红色\n",
      "   43 不是\n",
      "   43 红\n",
      "   41 ，\n",
      "   40 最\n",
      "   37 最亮\n",
      "   36 点击\n",
      "   30 紫\n",
      "   30 发现\n",
      "   28 找到\n",
      "   27 粉\n",
      "   26 棕色\n",
      "   25 浅蓝\n",
      "   21 接近\n",
      "   21 色\n",
      "   21 比较\n",
      "   21 不\n",
      "   21 橙色\n",
      "   20 请\n",
      "   20 粉红\n",
      "   20 亮\n",
      "   18 黄\n",
      "   18 草地\n",
      "   17 浅\n",
      "   17 青\n",
      "   17 浅绿色\n",
      "   15 更\n",
      "   15 深绿色\n",
      "   15 有点\n",
      "   15 暗\n",
      "   15 深\n",
      "   15 浅紫色\n",
      "   14 天空\n",
      "   13 混合\n",
      "   13 带\n",
      "   12 叶子\n",
      "   12 中\n",
      "   12 深蓝\n",
      "   12 你\n",
      "   11 是\n",
      "   11 最深\n",
      "   11 粉红色\n",
      "   11 那个\n",
      "   11 明亮\n",
      "   10 这个\n",
      "   10 兰花\n",
      "   10 我\n",
      "   10 ...\n",
      "   10 黯淡\n",
      "   10 海\n",
      "    9 一点点\n",
      "    9 也\n",
      "    9 偏黄\n",
      "    9 ？\n",
      "    9 有\n",
      "    9 较\n",
      "    8 深灰色\n",
      "    8 最浅\n",
      "    8 鲜艳\n",
      "    8 牵牛花\n",
      "    8 最暗\n",
      "    8 两个\n",
      "    8 土黄\n",
      "    8 橙子\n",
      "    8 中等\n",
      "    8 绛红色\n",
      "    8 暗淡\n",
      "    8 但\n",
      "    8 这种\n",
      "    8 你好\n",
      "    7 黄绿色\n",
      "    7 。\n",
      "    7 和\n",
      "    7 蓝灰色\n",
      "    7 葡萄\n",
      "    6 深紫色\n",
      "    6 之间\n",
      "    6 带点\n",
      "    6 或\n",
      "    6 大妈\n",
      "    6 迷彩\n",
      "    6 湖水\n",
      "    6 阴天\n",
      "    6 青色\n",
      "    6 水泥\n"
     ]
    }
   ],
   "source": [
    "for k, v in c.most_common(100):\n",
    "    print(u'{:5d} {}'.format(v, k))"
   ]
  },
  {
   "cell_type": "code",
   "execution_count": 13,
   "metadata": {
    "collapsed": true
   },
   "outputs": [],
   "source": [
    "utts = [tokenize(inst.output) for inst in zh_dev]\n",
    "basic_colors = [\n",
    "    u'紫色',\n",
    "    u'紫',\n",
    "    u'绿色',\n",
    "    u'绿',\n",
    "    u'灰色',\n",
    "    u'灰',\n",
    "    u'蓝色',\n",
    "    u'蓝',\n",
    "    u'黄色',\n",
    "    u'黄',\n",
    "    u'红色',\n",
    "    u'红',\n",
    "]\n",
    "premod = Counter(u[0] for u in utts if len(u) == 2 and u[1] in basic_colors)\n",
    "postmod = Counter(u[1] for u in utts if len(u) == 2 and u[0] in basic_colors)"
   ]
  },
  {
   "cell_type": "code",
   "execution_count": 14,
   "metadata": {},
   "outputs": [
    {
     "name": "stdout",
     "output_type": "stream",
     "text": [
      "   10 中\n",
      "    7 点击\n",
      "    5 灰\n",
      "    4 石灰\n",
      "    3 粉\n",
      "    3 亮\n",
      "    3 偏\n",
      "    2 学员\n",
      "    1 亮亮的\n",
      "    1 暗\n",
      "    1  \n",
      "    1 红\n",
      "    1 黑暗\n",
      "    1 带\n",
      "    1 皮肤\n",
      "    1 纯\n",
      "    1 荧光\n",
      "    1 浅\n",
      "    1 黄\n",
      "    1 非蓝非\n"
     ]
    }
   ],
   "source": [
    "for k, v in premod.most_common(20):\n",
    "    print(u'{:5d} {}'.format(v, k))"
   ]
  },
  {
   "cell_type": "code",
   "execution_count": 15,
   "metadata": {},
   "outputs": [
    {
     "name": "stdout",
     "output_type": "stream",
     "text": [
      "    4 紫色\n",
      "    1 灰色\n",
      "    1  \n",
      "    1 蓝色\n",
      "    1 紫\n",
      "    1 偏蓝\n",
      "    1 黄色\n",
      "    1 ?\n"
     ]
    }
   ],
   "source": [
    "for k, v in postmod.most_common(20):\n",
    "    print(u'{:5d} {}'.format(v, k))"
   ]
  },
  {
   "cell_type": "code",
   "execution_count": 16,
   "metadata": {},
   "outputs": [
    {
     "name": "stdout",
     "output_type": "stream",
     "text": [
      "Predicting\n",
      "Predict batch 0 of 1 (~0% done, ETA unknown on Thu Oct 12 14:10:37 2017)\n",
      "Scoring\n",
      "([u'绿色'], [-1.2218227088451385])\n"
     ]
    }
   ],
   "source": [
    "from stanza.research.instance import Instance as I\n",
    "\n",
    "colors = [\n",
    "    (0.0, 0.0, 0.0),\n",
    "    (60.0, 100.0, 100.0),\n",
    "    (120.0, 100.0, 100.0),\n",
    "]\n",
    "target = 2\n",
    "utt = u'zh:绿色'\n",
    "print repr(bs0.predict_and_score([I(alt_inputs=colors, input=target, output=utt)])).decode('unicode-escape')"
   ]
  },
  {
   "cell_type": "code",
   "execution_count": 17,
   "metadata": {},
   "outputs": [
    {
     "name": "stdout",
     "output_type": "stream",
     "text": [
      "Predicting\n",
      "Scoring\n"
     ]
    }
   ],
   "source": [
    "import numpy as np\n",
    "insts = []\n",
    "for hue in np.arange(60.0, 120.0):\n",
    "    colors = [\n",
    "        (0.0, 0.0, 0.0),\n",
    "        (hue, 100.0, 100.0),\n",
    "        (120.0, 100.0, 100.0),\n",
    "    ]\n",
    "    insts.append(I(alt_inputs=colors, input=1, output=u'zh:黄色'))\n",
    "preds, scores = bs0.predict_and_score(insts)"
   ]
  },
  {
   "cell_type": "code",
   "execution_count": 18,
   "metadata": {},
   "outputs": [
    {
     "name": "stdout",
     "output_type": "stream",
     "text": [
      "60 黄色\n",
      "61 黄色\n",
      "62 黄色\n",
      "63 黄色\n",
      "64 黄色\n",
      "65 黄色\n",
      "66 黄色\n",
      "67 黄色\n",
      "68 黄色\n",
      "69 黄色\n",
      "70 黄色\n",
      "71 黄色\n",
      "72 黄色\n",
      "73 黄色\n",
      "74 黄色\n",
      "75 黄色\n",
      "76 黄色\n",
      "77 黄色\n",
      "78 黄色\n",
      "79 黄色\n",
      "80 黄色\n",
      "81 黄色\n",
      "82 黄色\n",
      "83 黄色\n",
      "84 黄色\n",
      "85 亮 绿色\n",
      "86 亮 绿色\n",
      "87 亮 绿色\n",
      "88 亮 绿色\n",
      "89 亮 绿色\n",
      "90 亮 绿色\n",
      "91 亮 绿色\n",
      "92 亮 绿色\n",
      "93 亮 绿色\n",
      "94 亮 绿色\n",
      "95 亮 绿色\n",
      "96 绿色   ~   是\n",
      "97 绿色   ~   是\n",
      "98 绿色   ~   是\n",
      "99 绿色   ~   是\n",
      "100 绿色   ~   是\n",
      "101 绿色   ~   是\n",
      "102 绿色   ~   是\n",
      "103 绿色   ~   是\n",
      "104 绿色   ~   是\n",
      "105 绿色   ~   是\n",
      "106 绿色   ~   是\n",
      "107 绿色\n",
      "108 绿色\n",
      "109 绿色\n",
      "110 绿色\n",
      "111 绿色\n",
      "112 绿色\n",
      "113 绿色\n",
      "114 绿色\n",
      "115 绿色\n",
      "116 绿色\n",
      "117 绿色\n",
      "118 绿色\n",
      "119 绿色\n"
     ]
    }
   ],
   "source": [
    "for i, p in enumerate(preds):\n",
    "    print 60 + i, p"
   ]
  },
  {
   "cell_type": "code",
   "execution_count": 19,
   "metadata": {},
   "outputs": [
    {
     "data": {
      "text/plain": [
       "[-0.696934106759727,\n",
       " -0.7089239172637463,\n",
       " -0.7228315118700266,\n",
       " -0.7387384995818138,\n",
       " -0.7567652883008122,\n",
       " -0.7770796706900001,\n",
       " -0.7999030267819762,\n",
       " -0.8255198607221246,\n",
       " -0.8542888900265098,\n",
       " -0.8866624133661389,\n",
       " -0.923204249702394,\n",
       " -0.964623948559165,\n",
       " -1.011817554011941,\n",
       " -1.065914560109377,\n",
       " -1.128322727046907,\n",
       " -1.2007450619712472,\n",
       " -1.2851301711052656,\n",
       " -1.3834932390600443,\n",
       " -1.4975442681461573,\n",
       " -1.6281432388350368,\n",
       " -1.7747079012915492,\n",
       " -1.9348770659416914,\n",
       " -2.1046924581751227,\n",
       " -2.27932252548635,\n",
       " -2.454013492912054,\n",
       " -2.624846733175218,\n",
       " -2.789104384370148,\n",
       " -2.9452355187386274,\n",
       " -3.0926353838294744,\n",
       " -3.231340354308486,\n",
       " -3.3617709036916494,\n",
       " -3.484532417729497,\n",
       " -3.6002923380583525,\n",
       " -3.7096912413835526,\n",
       " -3.813307488337159,\n",
       " -3.9116392880678177,\n",
       " -4.00509587302804,\n",
       " -4.094008173793554,\n",
       " -4.178631434217095,\n",
       " -4.25916750356555,\n",
       " -4.335761617869139,\n",
       " -4.4085355289280415,\n",
       " -4.47757475450635,\n",
       " -4.5429569482803345,\n",
       " -4.604749681428075,\n",
       " -4.6630225498229265,\n",
       " -4.717845683917403,\n",
       " -4.769303871318698,\n",
       " -4.817482847720385,\n",
       " -4.8624872993677855,\n",
       " -4.904425362125039,\n",
       " -4.94342078641057,\n",
       " -4.979600120335817,\n",
       " -5.013097176328301,\n",
       " -5.044049583375454,\n",
       " -5.072593949735165,\n",
       " -5.098864259198308,\n",
       " -5.122993836179376,\n",
       " -5.14510247297585,\n",
       " -5.165303759276867]"
      ]
     },
     "execution_count": 19,
     "metadata": {},
     "output_type": "execute_result"
    }
   ],
   "source": [
    "scores"
   ]
  },
  {
   "cell_type": "code",
   "execution_count": 20,
   "metadata": {},
   "outputs": [
    {
     "name": "stdout",
     "output_type": "stream",
     "text": [
      "Predicting\n",
      "Scoring\n"
     ]
    }
   ],
   "source": [
    "import numpy as np\n",
    "insts = []\n",
    "for hue in np.arange(60.0, 120.0):\n",
    "    colors = [\n",
    "        (0.0, 0.0, 0.0),\n",
    "        (hue, 100.0, 100.0),\n",
    "        (120.0, 100.0, 100.0),\n",
    "    ]\n",
    "    insts.append(I(alt_inputs=colors, input=1, output=u'黄色'))\n",
    "preds, scores = ms0.predict_and_score(insts)"
   ]
  },
  {
   "cell_type": "code",
   "execution_count": 23,
   "metadata": {},
   "outputs": [
    {
     "name": "stdout",
     "output_type": "stream",
     "text": [
      "60 绿色\n",
      "61 绿色\n",
      "62 绿色\n",
      "63 绿色\n",
      "64 绿色\n",
      "65 绿色\n",
      "66 绿色\n",
      "67 绿色\n",
      "68 绿色\n",
      "69 绿色\n",
      "70 绿色\n",
      "71 绿色\n",
      "72 绿色\n",
      "73 绿色\n",
      "74 绿色\n",
      "75 绿色\n",
      "76 绿色\n",
      "77 绿色\n",
      "78 绿色\n",
      "79 绿色\n",
      "80 绿色\n",
      "81 绿色\n",
      "82 绿色\n",
      "83 绿色\n",
      "84 绿色\n",
      "85 绿色\n",
      "86 绿色\n",
      "87 绿色\n",
      "88 绿色\n",
      "89 绿色\n",
      "90 绿色\n",
      "91 绿色\n",
      "92 绿色\n",
      "93 绿色\n",
      "94 绿色\n",
      "95 绿色\n",
      "96 绿色\n",
      "97 绿色\n",
      "98 绿色\n",
      "99 绿色\n",
      "100 绿色\n",
      "101 绿色\n",
      "102 绿色\n",
      "103 绿色\n",
      "104 绿色\n",
      "105 绿色\n",
      "106 绿色\n",
      "107 绿色\n",
      "108 绿色\n",
      "109 绿色\n",
      "110 绿色\n",
      "111 绿色\n",
      "112 绿色\n",
      "113 绿色\n",
      "114 绿色\n",
      "115 绿色\n",
      "116 绿色\n",
      "117 绿色\n",
      "118 绿色\n",
      "119 绿色\n"
     ]
    }
   ],
   "source": [
    "for i, p in enumerate(preds):\n",
    "    print 60 + i, p"
   ]
  },
  {
   "cell_type": "code",
   "execution_count": 21,
   "metadata": {},
   "outputs": [
    {
     "data": {
      "text/plain": [
       "[-3.0531526133418083,\n",
       " -3.1037079952657223,\n",
       " -3.1567038893699646,\n",
       " -3.2116860449314117,\n",
       " -3.268118165433407,\n",
       " -3.32540462911129,\n",
       " -3.3829390108585358,\n",
       " -3.4401486441493034,\n",
       " -3.4965244233608246,\n",
       " -3.5516516491770744,\n",
       " -3.6052142530679703,\n",
       " -3.6569983661174774,\n",
       " -3.706882670521736,\n",
       " -3.7548196837306023,\n",
       " -3.8008236214518547,\n",
       " -3.8449502140283585,\n",
       " -3.8872827887535095,\n",
       " -3.927915595471859,\n",
       " -3.9669480100274086,\n",
       " -4.004475802183151,\n",
       " -4.040583163499832,\n",
       " -4.075347103178501,\n",
       " -4.10882892459631,\n",
       " -4.141078256070614,\n",
       " -4.172134652733803,\n",
       " -4.202026441693306,\n",
       " -4.230779752135277,\n",
       " -4.258411221206188,\n",
       " -4.284937277436256,\n",
       " -4.310373283922672,\n",
       " -4.334734633564949,\n",
       " -4.358040042221546,\n",
       " -4.380307160317898,\n",
       " -4.401559755206108,\n",
       " -4.421822272241116,\n",
       " -4.44112041592598,\n",
       " -4.459484741091728,\n",
       " -4.476944379508495,\n",
       " -4.493529699742794,\n",
       " -4.509270623326302,\n",
       " -4.52419650554657,\n",
       " -4.538332603871822,\n",
       " -4.5517013147473335,\n",
       " -4.564323857426643,\n",
       " -4.576217360794544,\n",
       " -4.587395533919334,\n",
       " -4.597872287034988,\n",
       " -4.6076590269804,\n",
       " -4.616768911480904,\n",
       " -4.625215008854866,\n",
       " -4.633015379309654,\n",
       " -4.640185721218586,\n",
       " -4.646748319268227,\n",
       " -4.652727745473385,\n",
       " -4.658148407936096,\n",
       " -4.663040451705456,\n",
       " -4.667432613670826,\n",
       " -4.671359591186047,\n",
       " -4.674853794276714,\n",
       " -4.677950643002987]"
      ]
     },
     "execution_count": 21,
     "metadata": {},
     "output_type": "execute_result"
    }
   ],
   "source": [
    "scores"
   ]
  },
  {
   "cell_type": "code",
   "execution_count": 24,
   "metadata": {},
   "outputs": [
    {
     "data": {
      "text/plain": [
       "67"
      ]
     },
     "execution_count": 24,
     "metadata": {},
     "output_type": "execute_result"
    }
   ],
   "source": [
    "len([i for i in zh_dev if u'黄色' in i.output])"
   ]
  },
  {
   "cell_type": "code",
   "execution_count": 25,
   "metadata": {},
   "outputs": [
    {
     "data": {
      "text/plain": [
       "112"
      ]
     },
     "execution_count": 25,
     "metadata": {},
     "output_type": "execute_result"
    }
   ],
   "source": [
    "len([i for i in zh_dev if u'黄' in i.output])"
   ]
  },
  {
   "cell_type": "code",
   "execution_count": 26,
   "metadata": {},
   "outputs": [
    {
     "data": {
      "text/plain": [
       "1665"
      ]
     },
     "execution_count": 26,
     "metadata": {},
     "output_type": "execute_result"
    }
   ],
   "source": [
    "len(zh_dev)"
   ]
  },
  {
   "cell_type": "code",
   "execution_count": 27,
   "metadata": {},
   "outputs": [
    {
     "data": {
      "text/plain": [
       "254"
      ]
     },
     "execution_count": 27,
     "metadata": {},
     "output_type": "execute_result"
    }
   ],
   "source": [
    "len([i for i in zh_dev if u'绿' in i.output])"
   ]
  },
  {
   "cell_type": "code",
   "execution_count": 28,
   "metadata": {},
   "outputs": [
    {
     "data": {
      "text/plain": [
       "229"
      ]
     },
     "execution_count": 28,
     "metadata": {},
     "output_type": "execute_result"
    }
   ],
   "source": [
    "len([i for i in zh_dev if u'紫' in i.output])"
   ]
  },
  {
   "cell_type": "code",
   "execution_count": 29,
   "metadata": {
    "collapsed": true
   },
   "outputs": [],
   "source": [
    "with open('behavioralAnalysis/wcs-hsv.pkl', 'rb') as infile:\n",
    "    wcs_mapping = pickle.load(infile)"
   ]
  },
  {
   "cell_type": "code",
   "execution_count": 30,
   "metadata": {},
   "outputs": [
    {
     "data": {
      "text/plain": [
       "(25.3125, 41.96078431372549, 96.862745098039213)"
      ]
     },
     "execution_count": 30,
     "metadata": {},
     "output_type": "execute_result"
    }
   ],
   "source": [
    "wcs_mapping['C06']"
   ]
  },
  {
   "cell_type": "code",
   "execution_count": 72,
   "metadata": {},
   "outputs": [
    {
     "data": {
      "text/html": [
       "<table><tr><td bgcolor=\"#f1f1f1\"><nobr>A</nobr></td></tr><tr><td bgcolor=\"#e3e3e3\"><nobr>B</nobr></td><td bgcolor=\"#f0dfdf\"><nobr>01</nobr></td><td bgcolor=\"#f1dfde\"><nobr>02</nobr></td><td bgcolor=\"#f2dfdc\"><nobr>03</nobr></td><td bgcolor=\"#f3e0d9\"><nobr>04</nobr></td><td bgcolor=\"#f4dfd6\"><nobr>05</nobr></td><td bgcolor=\"#f4dfd1\"><nobr>06</nobr></td><td bgcolor=\"#f4e0cd\"><nobr>07</nobr></td><td bgcolor=\"#f2e1c9\"><nobr>08</nobr></td><td bgcolor=\"#f9e0ab\"><nobr>09</nobr></td><td bgcolor=\"#f8e28c\"><nobr>10</nobr></td><td bgcolor=\"#f2e58b\"><nobr>11</nobr></td><td bgcolor=\"#ece68b\"><nobr>12</nobr></td><td bgcolor=\"#e5ea8c\"><nobr>13</nobr></td><td bgcolor=\"#deeaab\"><nobr>14</nobr></td><td bgcolor=\"#dae8c9\"><nobr>15</nobr></td><td bgcolor=\"#d4e9cf\"><nobr>16</nobr></td><td bgcolor=\"#cfead4\"><nobr>17</nobr></td><td bgcolor=\"#cdead8\"><nobr>18</nobr></td><td bgcolor=\"#cbeadb\"><nobr>19</nobr></td><td bgcolor=\"#caeade\"><nobr>20</nobr></td><td bgcolor=\"#c8eae0\"><nobr>21</nobr></td><td bgcolor=\"#c8eae2\"><nobr>22</nobr></td><td bgcolor=\"#caeae6\"><nobr>23</nobr></td><td bgcolor=\"#cbe9e9\"><nobr>24</nobr></td><td bgcolor=\"#cee9eb\"><nobr>25</nobr></td><td bgcolor=\"#d1e8ec\"><nobr>26</nobr></td><td bgcolor=\"#d4e8ed\"><nobr>27</nobr></td><td bgcolor=\"#d7e6ed\"><nobr>28</nobr></td><td bgcolor=\"#dbe5ed\"><nobr>29</nobr></td><td bgcolor=\"#dde5ed\"><nobr>30</nobr></td><td bgcolor=\"#e1e4ed\"><nobr>31</nobr></td><td bgcolor=\"#e4e3ec\"><nobr>32</nobr></td><td bgcolor=\"#e5e2ec\"><nobr>33</nobr></td><td bgcolor=\"#e7e2eb\"><nobr>34</nobr></td><td bgcolor=\"#e9e1e9\"><nobr>35</nobr></td><td bgcolor=\"#ebe1e8\"><nobr>36</nobr></td><td bgcolor=\"#ece1e6\"><nobr>37</nobr></td><td bgcolor=\"#eddfe4\"><nobr>38</nobr></td><td bgcolor=\"#efdfe3\"><nobr>39</nobr></td><td bgcolor=\"#efdfe1\"><nobr>40</nobr></td></tr><tr><td bgcolor=\"#c8c8c8\"><nobr>C</nobr></td><td bgcolor=\"#fab8b8\"><nobr>01</nobr></td><td bgcolor=\"#fcb7b2\"><nobr>02</nobr></td><td bgcolor=\"#fdb8aa\"><nobr>03</nobr></td><td bgcolor=\"#fdb7a1\"><nobr>04</nobr></td><td bgcolor=\"#fbb898\"><nobr>05</nobr></td><td bgcolor=\"#f7bb8f\"><nobr>06</nobr></td><td bgcolor=\"#feba70\"><nobr>07</nobr></td><td bgcolor=\"#ffba43\"><nobr>08</nobr></td><td bgcolor=\"#f8ba00\"><nobr>09</nobr></td><td bgcolor=\"#e9c500\"><nobr>10</nobr></td><td bgcolor=\"#dec600\"><nobr>11</nobr></td><td bgcolor=\"#d4cc00\"><nobr>12</nobr></td><td bgcolor=\"#c7d200\"><nobr>13</nobr></td><td bgcolor=\"#b9d543\"><nobr>14</nobr></td><td bgcolor=\"#9eda5c\"><nobr>15</nobr></td><td bgcolor=\"#93da87\"><nobr>16</nobr></td><td bgcolor=\"#7bdc98\"><nobr>17</nobr></td><td bgcolor=\"#86d9af\"><nobr>18</nobr></td><td bgcolor=\"#81d9b6\"><nobr>19</nobr></td><td bgcolor=\"#7dd9bd\"><nobr>20</nobr></td><td bgcolor=\"#7bd9c1\"><nobr>21</nobr></td><td bgcolor=\"#97d4c9\"><nobr>22</nobr></td><td bgcolor=\"#97d3ce\"><nobr>23</nobr></td><td bgcolor=\"#97d4d4\"><nobr>24</nobr></td><td bgcolor=\"#98d4d8\"><nobr>25</nobr></td><td bgcolor=\"#9cd1dd\"><nobr>26</nobr></td><td bgcolor=\"#a3d1df\"><nobr>27</nobr></td><td bgcolor=\"#aacfe1\"><nobr>28</nobr></td><td bgcolor=\"#a1d0f2\"><nobr>29</nobr></td><td bgcolor=\"#abcdf4\"><nobr>30</nobr></td><td bgcolor=\"#c1c8e2\"><nobr>31</nobr></td><td bgcolor=\"#c6c6e1\"><nobr>32</nobr></td><td bgcolor=\"#ccc5df\"><nobr>33</nobr></td><td bgcolor=\"#d0c3dd\"><nobr>34</nobr></td><td bgcolor=\"#e1bde1\"><nobr>35</nobr></td><td bgcolor=\"#e8bbdc\"><nobr>36</nobr></td><td bgcolor=\"#eebad5\"><nobr>37</nobr></td><td bgcolor=\"#f3b9cc\"><nobr>38</nobr></td><td bgcolor=\"#f6b8c6\"><nobr>39</nobr></td><td bgcolor=\"#f8b8c0\"><nobr>40</nobr></td></tr><tr><td bgcolor=\"#adadad\"><nobr>D</nobr></td><td bgcolor=\"#ed969c\"><nobr>01</nobr></td><td bgcolor=\"#ef9590\"><nobr>02</nobr></td><td bgcolor=\"#fd8d7b\"><nobr>03</nobr></td><td bgcolor=\"#fb906b\"><nobr>04</nobr></td><td bgcolor=\"#f7945f\"><nobr>05</nobr></td><td bgcolor=\"#ff8e16\"><nobr>06</nobr></td><td bgcolor=\"#f29900\"><nobr>07</nobr></td><td bgcolor=\"#e59c00\"><nobr>08</nobr></td><td bgcolor=\"#d9a300\"><nobr>09</nobr></td><td bgcolor=\"#cca800\"><nobr>10</nobr></td><td bgcolor=\"#c1ac00\"><nobr>11</nobr></td><td bgcolor=\"#b8b100\"><nobr>12</nobr></td><td bgcolor=\"#adb700\"><nobr>13</nobr></td><td bgcolor=\"#9bbb00\"><nobr>14</nobr></td><td bgcolor=\"#83bf46\"><nobr>15</nobr></td><td bgcolor=\"#69c25f\"><nobr>16</nobr></td><td bgcolor=\"#42c475\"><nobr>17</nobr></td><td bgcolor=\"#52c190\"><nobr>18</nobr></td><td bgcolor=\"#49c298\"><nobr>19</nobr></td><td bgcolor=\"#40c2a1\"><nobr>20</nobr></td><td bgcolor=\"#35c2a8\"><nobr>21</nobr></td><td bgcolor=\"#29c1af\"><nobr>22</nobr></td><td bgcolor=\"#5ebcb8\"><nobr>23</nobr></td><td bgcolor=\"#5ebec0\"><nobr>24</nobr></td><td bgcolor=\"#61bec7\"><nobr>25</nobr></td><td bgcolor=\"#68bdcd\"><nobr>26</nobr></td><td bgcolor=\"#71b8d1\"><nobr>27</nobr></td><td bgcolor=\"#62bbe2\"><nobr>28</nobr></td><td bgcolor=\"#78b7e4\"><nobr>29</nobr></td><td bgcolor=\"#87b3e6\"><nobr>30</nobr></td><td bgcolor=\"#a1add6\"><nobr>31</nobr></td><td bgcolor=\"#abaad4\"><nobr>32</nobr></td><td bgcolor=\"#b4a7d1\"><nobr>33</nobr></td><td bgcolor=\"#bba4cd\"><nobr>34</nobr></td><td bgcolor=\"#ce9ecf\"><nobr>35</nobr></td><td bgcolor=\"#d79aca\"><nobr>36</nobr></td><td bgcolor=\"#ea93c6\"><nobr>37</nobr></td><td bgcolor=\"#f191b7\"><nobr>38</nobr></td><td bgcolor=\"#e896ad\"><nobr>39</nobr></td><td bgcolor=\"#eb96a2\"><nobr>40</nobr></td></tr><tr><td bgcolor=\"#939393\"><nobr>E</nobr></td><td bgcolor=\"#eb6b7a\"><nobr>01</nobr></td><td bgcolor=\"#ec6969\"><nobr>02</nobr></td><td bgcolor=\"#ec6a59\"><nobr>03</nobr></td><td bgcolor=\"#f46730\"><nobr>04</nobr></td><td bgcolor=\"#ec6900\"><nobr>05</nobr></td><td bgcolor=\"#db7715\"><nobr>06</nobr></td><td bgcolor=\"#d07f00\"><nobr>07</nobr></td><td bgcolor=\"#c58600\"><nobr>08</nobr></td><td bgcolor=\"#ba8c00\"><nobr>09</nobr></td><td bgcolor=\"#af9000\"><nobr>10</nobr></td><td bgcolor=\"#a59300\"><nobr>11</nobr></td><td bgcolor=\"#9c9600\"><nobr>12</nobr></td><td bgcolor=\"#909c00\"><nobr>13</nobr></td><td bgcolor=\"#81a000\"><nobr>14</nobr></td><td bgcolor=\"#5fa600\"><nobr>15</nobr></td><td bgcolor=\"#2daa32\"><nobr>16</nobr></td><td bgcolor=\"#14a960\"><nobr>17</nobr></td><td bgcolor=\"#00a875\"><nobr>18</nobr></td><td bgcolor=\"#00a87d\"><nobr>19</nobr></td><td bgcolor=\"#00a788\"><nobr>20</nobr></td><td bgcolor=\"#00a68f\"><nobr>21</nobr></td><td bgcolor=\"#00a599\"><nobr>22</nobr></td><td bgcolor=\"#00a4a0\"><nobr>23</nobr></td><td bgcolor=\"#00a8ac\"><nobr>24</nobr></td><td bgcolor=\"#00a8b4\"><nobr>25</nobr></td><td bgcolor=\"#00a4bf\"><nobr>26</nobr></td><td bgcolor=\"#2da4c4\"><nobr>27</nobr></td><td bgcolor=\"#01a4d5\"><nobr>28</nobr></td><td bgcolor=\"#449dd8\"><nobr>29</nobr></td><td bgcolor=\"#609ad8\"><nobr>30</nobr></td><td bgcolor=\"#8492c9\"><nobr>31</nobr></td><td bgcolor=\"#918dc6\"><nobr>32</nobr></td><td bgcolor=\"#9e8ac3\"><nobr>33</nobr></td><td bgcolor=\"#a786bd\"><nobr>34</nobr></td><td bgcolor=\"#bb7dbe\"><nobr>35</nobr></td><td bgcolor=\"#c57ab6\"><nobr>36</nobr></td><td bgcolor=\"#cc78ab\"><nobr>37</nobr></td><td bgcolor=\"#d4769e\"><nobr>38</nobr></td><td bgcolor=\"#e56c94\"><nobr>39</nobr></td><td bgcolor=\"#e86a88\"><nobr>40</nobr></td></tr><tr><td bgcolor=\"#7a7979\"><nobr>F</nobr></td><td bgcolor=\"#da3f60\"><nobr>01</nobr></td><td bgcolor=\"#db414f\"><nobr>02</nobr></td><td bgcolor=\"#da4035\"><nobr>03</nobr></td><td bgcolor=\"#d84700\"><nobr>04</nobr></td><td bgcolor=\"#c65800\"><nobr>05</nobr></td><td bgcolor=\"#b95f00\"><nobr>06</nobr></td><td bgcolor=\"#ae6600\"><nobr>07</nobr></td><td bgcolor=\"#a46c00\"><nobr>08</nobr></td><td bgcolor=\"#9a730d\"><nobr>09</nobr></td><td bgcolor=\"#927400\"><nobr>10</nobr></td><td bgcolor=\"#897a00\"><nobr>11</nobr></td><td bgcolor=\"#817c00\"><nobr>12</nobr></td><td bgcolor=\"#798000\"><nobr>13</nobr></td><td bgcolor=\"#698416\"><nobr>14</nobr></td><td bgcolor=\"#4c890a\"><nobr>15</nobr></td><td bgcolor=\"#008e1c\"><nobr>16</nobr></td><td bgcolor=\"#008c4d\"><nobr>17</nobr></td><td bgcolor=\"#008b5d\"><nobr>18</nobr></td><td bgcolor=\"#008a66\"><nobr>19</nobr></td><td bgcolor=\"#008a70\"><nobr>20</nobr></td><td bgcolor=\"#008976\"><nobr>21</nobr></td><td bgcolor=\"#00887e\"><nobr>22</nobr></td><td bgcolor=\"#008885\"><nobr>23</nobr></td><td bgcolor=\"#008990\"><nobr>24</nobr></td><td bgcolor=\"#008997\"><nobr>25</nobr></td><td bgcolor=\"#00899f\"><nobr>26</nobr></td><td bgcolor=\"#0089a8\"><nobr>27</nobr></td><td bgcolor=\"#0088b2\"><nobr>28</nobr></td><td bgcolor=\"#0082c1\"><nobr>29</nobr></td><td bgcolor=\"#2582cc\"><nobr>30</nobr></td><td bgcolor=\"#6577bc\"><nobr>31</nobr></td><td bgcolor=\"#786fb8\"><nobr>32</nobr></td><td bgcolor=\"#896bb3\"><nobr>33</nobr></td><td bgcolor=\"#9267ad\"><nobr>34</nobr></td><td bgcolor=\"#9f63a4\"><nobr>35</nobr></td><td bgcolor=\"#b357a5\"><nobr>36</nobr></td><td bgcolor=\"#bc539b\"><nobr>37</nobr></td><td bgcolor=\"#c54f89\"><nobr>38</nobr></td><td bgcolor=\"#d4417f\"><nobr>39</nobr></td><td bgcolor=\"#d7406e\"><nobr>40</nobr></td></tr><tr><td bgcolor=\"#606060\"><nobr>G</nobr></td><td bgcolor=\"#bc154c\"><nobr>01</nobr></td><td bgcolor=\"#bc1a39\"><nobr>02</nobr></td><td bgcolor=\"#ba2020\"><nobr>03</nobr></td><td bgcolor=\"#b22e00\"><nobr>04</nobr></td><td bgcolor=\"#9e450f\"><nobr>05</nobr></td><td bgcolor=\"#914d1b\"><nobr>06</nobr></td><td bgcolor=\"#8b510d\"><nobr>07</nobr></td><td bgcolor=\"#7f5820\"><nobr>08</nobr></td><td bgcolor=\"#795a1a\"><nobr>09</nobr></td><td bgcolor=\"#735d14\"><nobr>10</nobr></td><td bgcolor=\"#6d5f11\"><nobr>11</nobr></td><td bgcolor=\"#666311\"><nobr>12</nobr></td><td bgcolor=\"#5f6517\"><nobr>13</nobr></td><td bgcolor=\"#556820\"><nobr>14</nobr></td><td bgcolor=\"#3a6d13\"><nobr>15</nobr></td><td bgcolor=\"#216f27\"><nobr>16</nobr></td><td bgcolor=\"#006f40\"><nobr>17</nobr></td><td bgcolor=\"#006e4c\"><nobr>18</nobr></td><td bgcolor=\"#006e51\"><nobr>19</nobr></td><td bgcolor=\"#006d58\"><nobr>20</nobr></td><td bgcolor=\"#006d5e\"><nobr>21</nobr></td><td bgcolor=\"#006c64\"><nobr>22</nobr></td><td bgcolor=\"#006e6e\"><nobr>23</nobr></td><td bgcolor=\"#006e73\"><nobr>24</nobr></td><td bgcolor=\"#006e79\"><nobr>25</nobr></td><td bgcolor=\"#006b80\"><nobr>26</nobr></td><td bgcolor=\"#006a87\"><nobr>27</nobr></td><td bgcolor=\"#006a8f\"><nobr>28</nobr></td><td bgcolor=\"#00689b\"><nobr>29</nobr></td><td bgcolor=\"#2066a3\"><nobr>30</nobr></td><td bgcolor=\"#475caf\"><nobr>31</nobr></td><td bgcolor=\"#61549e\"><nobr>32</nobr></td><td bgcolor=\"#715098\"><nobr>33</nobr></td><td bgcolor=\"#7b4c92\"><nobr>34</nobr></td><td bgcolor=\"#83488a\"><nobr>35</nobr></td><td bgcolor=\"#8f4485\"><nobr>36</nobr></td><td bgcolor=\"#96417b\"><nobr>37</nobr></td><td bgcolor=\"#9d3e6f\"><nobr>38</nobr></td><td bgcolor=\"#a13c65\"><nobr>39</nobr></td><td bgcolor=\"#a43b5b\"><nobr>40</nobr></td></tr><tr><td bgcolor=\"#484748\"><nobr>H</nobr></td><td bgcolor=\"#8b163a\"><nobr>01</nobr></td><td bgcolor=\"#8b1830\"><nobr>02</nobr></td><td bgcolor=\"#94001b\"><nobr>03</nobr></td><td bgcolor=\"#882110\"><nobr>04</nobr></td><td bgcolor=\"#79310e\"><nobr>05</nobr></td><td bgcolor=\"#6d3a18\"><nobr>06</nobr></td><td bgcolor=\"#683c11\"><nobr>07</nobr></td><td bgcolor=\"#633f08\"><nobr>08</nobr></td><td bgcolor=\"#59431f\"><nobr>09</nobr></td><td bgcolor=\"#54451d\"><nobr>10</nobr></td><td bgcolor=\"#50461c\"><nobr>11</nobr></td><td bgcolor=\"#4b481d\"><nobr>12</nobr></td><td bgcolor=\"#454b1f\"><nobr>13</nobr></td><td bgcolor=\"#3f4c24\"><nobr>14</nobr></td><td bgcolor=\"#2d501a\"><nobr>15</nobr></td><td bgcolor=\"#1f5224\"><nobr>16</nobr></td><td bgcolor=\"#005330\"><nobr>17</nobr></td><td bgcolor=\"#005337\"><nobr>18</nobr></td><td bgcolor=\"#00523d\"><nobr>19</nobr></td><td bgcolor=\"#005242\"><nobr>20</nobr></td><td bgcolor=\"#005147\"><nobr>21</nobr></td><td bgcolor=\"#00514d\"><nobr>22</nobr></td><td bgcolor=\"#005153\"><nobr>23</nobr></td><td bgcolor=\"#005258\"><nobr>24</nobr></td><td bgcolor=\"#00515c\"><nobr>25</nobr></td><td bgcolor=\"#005161\"><nobr>26</nobr></td><td bgcolor=\"#005167\"><nobr>27</nobr></td><td bgcolor=\"#00516d\"><nobr>28</nobr></td><td bgcolor=\"#004d77\"><nobr>29</nobr></td><td bgcolor=\"#004c84\"><nobr>30</nobr></td><td bgcolor=\"#323f95\"><nobr>31</nobr></td><td bgcolor=\"#4c3986\"><nobr>32</nobr></td><td bgcolor=\"#5b347f\"><nobr>33</nobr></td><td bgcolor=\"#642f7a\"><nobr>34</nobr></td><td bgcolor=\"#6c2b73\"><nobr>35</nobr></td><td bgcolor=\"#752670\"><nobr>36</nobr></td><td bgcolor=\"#7d2166\"><nobr>37</nobr></td><td bgcolor=\"#821d5a\"><nobr>38</nobr></td><td bgcolor=\"#861a52\"><nobr>39</nobr></td><td bgcolor=\"#891747\"><nobr>40</nobr></td></tr><tr><td bgcolor=\"#313131\"><nobr>I</nobr></td><td bgcolor=\"#610e31\"><nobr>01</nobr></td><td bgcolor=\"#620e27\"><nobr>02</nobr></td><td bgcolor=\"#62101f\"><nobr>03</nobr></td><td bgcolor=\"#571d1a\"><nobr>04</nobr></td><td bgcolor=\"#4c261d\"><nobr>05</nobr></td><td bgcolor=\"#4a2817\"><nobr>06</nobr></td><td bgcolor=\"#472911\"><nobr>07</nobr></td><td bgcolor=\"#3c2d21\"><nobr>08</nobr></td><td bgcolor=\"#3a2e20\"><nobr>09</nobr></td><td bgcolor=\"#37301f\"><nobr>10</nobr></td><td bgcolor=\"#353020\"><nobr>11</nobr></td><td bgcolor=\"#333221\"><nobr>12</nobr></td><td bgcolor=\"#303223\"><nobr>13</nobr></td><td bgcolor=\"#2e3325\"><nobr>14</nobr></td><td bgcolor=\"#21361a\"><nobr>15</nobr></td><td bgcolor=\"#1b371f\"><nobr>16</nobr></td><td bgcolor=\"#153724\"><nobr>17</nobr></td><td bgcolor=\"#003926\"><nobr>18</nobr></td><td bgcolor=\"#00392a\"><nobr>19</nobr></td><td bgcolor=\"#00382d\"><nobr>20</nobr></td><td bgcolor=\"#033830\"><nobr>21</nobr></td><td bgcolor=\"#003735\"><nobr>22</nobr></td><td bgcolor=\"#00383a\"><nobr>23</nobr></td><td bgcolor=\"#00383e\"><nobr>24</nobr></td><td bgcolor=\"#003841\"><nobr>25</nobr></td><td bgcolor=\"#003744\"><nobr>26</nobr></td><td bgcolor=\"#003649\"><nobr>27</nobr></td><td bgcolor=\"#00354d\"><nobr>28</nobr></td><td bgcolor=\"#003555\"><nobr>29</nobr></td><td bgcolor=\"#00325f\"><nobr>30</nobr></td><td bgcolor=\"#24286f\"><nobr>31</nobr></td><td bgcolor=\"#35265f\"><nobr>32</nobr></td><td bgcolor=\"#3f225a\"><nobr>33</nobr></td><td bgcolor=\"#461f56\"><nobr>34</nobr></td><td bgcolor=\"#452449\"><nobr>35</nobr></td><td bgcolor=\"#492247\"><nobr>36</nobr></td><td bgcolor=\"#561649\"><nobr>37</nobr></td><td bgcolor=\"#5a1343\"><nobr>38</nobr></td><td bgcolor=\"#5c123d\"><nobr>39</nobr></td><td bgcolor=\"#5e1038\"><nobr>40</nobr></td></tr><tr><td bgcolor=\"#262626\"><nobr>J</nobr></td></tr></table>"
      ],
      "text/plain": [
       "<IPython.core.display.HTML object>"
      ]
     },
     "execution_count": 72,
     "metadata": {},
     "output_type": "execute_result"
    }
   ],
   "source": [
    "def show_wcs(content_mapping):\n",
    "    rows = []\n",
    "    for row in 'ABCDEFGHIJ':\n",
    "        cells = []\n",
    "        for i in range(41):\n",
    "            k = '{}{:02d}'.format(row, i)\n",
    "            hexcode = web_color(wcs_mapping[k])\n",
    "            text = content_mapping(k)\n",
    "            cells.append(u'<td bgcolor=\"{hexcode}\"><nobr>{text}</nobr></td>'.format(hexcode=hexcode,\n",
    "                                                                                    text=text))\n",
    "            if row in ('A', 'J'):\n",
    "                break\n",
    "        rows.append(u'<tr>{}</tr>'.format(''.join(cells)))\n",
    "    html = u'<table>{}</table>'.format(''.join(rows))\n",
    "    return HTML(html)\n",
    "\n",
    "show_wcs(lambda k: (k[0] if k.endswith('00') else k[1:]))"
   ]
  },
  {
   "cell_type": "code",
   "execution_count": 77,
   "metadata": {
    "collapsed": true
   },
   "outputs": [],
   "source": [
    "def random_hsv_color():\n",
    "    return np.random.uniform(0.0, 360.0), np.random.uniform(0.0, 100.0), np.random.uniform(0.0, 100.0)\n",
    "\n",
    "\n",
    "input_insts = []\n",
    "for key, color in wcs_mapping.iteritems():\n",
    "    for _ in range(11):\n",
    "        context = [random_hsv_color(), random_hsv_color()]\n",
    "        target_idx = np.random.randint(3)\n",
    "        context.insert(target_idx, color)\n",
    "        input_insts.append(I(alt_inputs=context, input=target_idx, output=u'zh:', source=key))"
   ]
  },
  {
   "cell_type": "code",
   "execution_count": 106,
   "metadata": {
    "collapsed": true
   },
   "outputs": [],
   "source": [
    "from collections import defaultdict, Counter\n",
    "\n",
    "def all_most_common(counter):\n",
    "    k, count = counter.most_common(1)[0]\n",
    "    return [k for k, c in counter.iteritems() if c == count]\n",
    "\n",
    "def test_model(model, samples=None, insts=None, random=False):\n",
    "    if insts is None:\n",
    "        insts = input_insts\n",
    "    if samples is None:\n",
    "        samples = model.predict(insts, random=random)\n",
    "    votes = defaultdict(list)\n",
    "    for sample, inst in zip(samples, insts):\n",
    "        if sample.strip():\n",
    "            votes[inst.source].append(html_escape(sample))\n",
    "    counters = {k: Counter(v) for k, v in votes.iteritems()}\n",
    "    top = {k: u','.join(all_most_common(counter)) for k, counter in counters.iteritems()}\n",
    "    return samples, show_wcs(lambda k: top[k] if k in top else u'')"
   ]
  },
  {
   "cell_type": "code",
   "execution_count": 100,
   "metadata": {},
   "outputs": [
    {
     "data": {
      "text/plain": [
       "'&lt;unk&gt;'"
      ]
     },
     "execution_count": 100,
     "metadata": {},
     "output_type": "execute_result"
    }
   ],
   "source": [
    "from cgi import escape as html_escape\n",
    "html_escape('<unk>')"
   ]
  },
  {
   "cell_type": "code",
   "execution_count": 108,
   "metadata": {},
   "outputs": [
    {
     "data": {
      "text/html": [
       "<table><tr><td bgcolor=\"#f1f1f1\"><nobr>红</nobr></td></tr><tr><td bgcolor=\"#e3e3e3\"><nobr>红</nobr></td><td bgcolor=\"#f0dfdf\"><nobr>红</nobr></td><td bgcolor=\"#f1dfde\"><nobr>红</nobr></td><td bgcolor=\"#f2dfdc\"><nobr>红</nobr></td><td bgcolor=\"#f3e0d9\"><nobr>红</nobr></td><td bgcolor=\"#f4dfd6\"><nobr>棕色</nobr></td><td bgcolor=\"#f4dfd1\"><nobr>棕色</nobr></td><td bgcolor=\"#f4e0cd\"><nobr>黄色</nobr></td><td bgcolor=\"#f2e1c9\"><nobr>黄色</nobr></td><td bgcolor=\"#f9e0ab\"><nobr>黄色</nobr></td><td bgcolor=\"#f8e28c\"><nobr>黄色</nobr></td><td bgcolor=\"#f2e58b\"><nobr>黄色</nobr></td><td bgcolor=\"#ece68b\"><nobr>黄色</nobr></td><td bgcolor=\"#e5ea8c\"><nobr>黄色</nobr></td><td bgcolor=\"#deeaab\"><nobr>绿色</nobr></td><td bgcolor=\"#dae8c9\"><nobr>绿色</nobr></td><td bgcolor=\"#d4e9cf\"><nobr>绿色</nobr></td><td bgcolor=\"#cfead4\"><nobr>绿色</nobr></td><td bgcolor=\"#cdead8\"><nobr>绿色</nobr></td><td bgcolor=\"#cbeadb\"><nobr>绿色</nobr></td><td bgcolor=\"#caeade\"><nobr>蓝色</nobr></td><td bgcolor=\"#c8eae0\"><nobr>蓝色</nobr></td><td bgcolor=\"#c8eae2\"><nobr>蓝色</nobr></td><td bgcolor=\"#caeae6\"><nobr>蓝色</nobr></td><td bgcolor=\"#cbe9e9\"><nobr>蓝色</nobr></td><td bgcolor=\"#cee9eb\"><nobr>蓝色</nobr></td><td bgcolor=\"#d1e8ec\"><nobr>蓝色</nobr></td><td bgcolor=\"#d4e8ed\"><nobr>蓝色</nobr></td><td bgcolor=\"#d7e6ed\"><nobr>蓝色</nobr></td><td bgcolor=\"#dbe5ed\"><nobr>蓝色</nobr></td><td bgcolor=\"#dde5ed\"><nobr>蓝色</nobr></td><td bgcolor=\"#e1e4ed\"><nobr>蓝色</nobr></td><td bgcolor=\"#e4e3ec\"><nobr>紫色</nobr></td><td bgcolor=\"#e5e2ec\"><nobr>紫色</nobr></td><td bgcolor=\"#e7e2eb\"><nobr>紫色</nobr></td><td bgcolor=\"#e9e1e9\"><nobr>紫色</nobr></td><td bgcolor=\"#ebe1e8\"><nobr>紫色</nobr></td><td bgcolor=\"#ece1e6\"><nobr>红</nobr></td><td bgcolor=\"#eddfe4\"><nobr>红</nobr></td><td bgcolor=\"#efdfe3\"><nobr>红</nobr></td><td bgcolor=\"#efdfe1\"><nobr>红</nobr></td></tr><tr><td bgcolor=\"#c8c8c8\"><nobr>灰色,棕色</nobr></td><td bgcolor=\"#fab8b8\"><nobr>红</nobr></td><td bgcolor=\"#fcb7b2\"><nobr>棕色</nobr></td><td bgcolor=\"#fdb8aa\"><nobr>棕色</nobr></td><td bgcolor=\"#fdb7a1\"><nobr>棕色</nobr></td><td bgcolor=\"#fbb898\"><nobr>棕色</nobr></td><td bgcolor=\"#f7bb8f\"><nobr>土黄色</nobr></td><td bgcolor=\"#feba70\"><nobr>黄色</nobr></td><td bgcolor=\"#ffba43\"><nobr>黄色</nobr></td><td bgcolor=\"#f8ba00\"><nobr>黄色</nobr></td><td bgcolor=\"#e9c500\"><nobr>黄色</nobr></td><td bgcolor=\"#dec600\"><nobr>黄色</nobr></td><td bgcolor=\"#d4cc00\"><nobr>黄色</nobr></td><td bgcolor=\"#c7d200\"><nobr>黄色</nobr></td><td bgcolor=\"#b9d543\"><nobr>黄色</nobr></td><td bgcolor=\"#9eda5c\"><nobr>绿色</nobr></td><td bgcolor=\"#93da87\"><nobr>绿色</nobr></td><td bgcolor=\"#7bdc98\"><nobr>绿色</nobr></td><td bgcolor=\"#86d9af\"><nobr>绿色</nobr></td><td bgcolor=\"#81d9b6\"><nobr>绿色</nobr></td><td bgcolor=\"#7dd9bd\"><nobr>蓝色</nobr></td><td bgcolor=\"#7bd9c1\"><nobr>绿色</nobr></td><td bgcolor=\"#97d4c9\"><nobr>蓝色</nobr></td><td bgcolor=\"#97d3ce\"><nobr>蓝色</nobr></td><td bgcolor=\"#97d4d4\"><nobr>蓝色</nobr></td><td bgcolor=\"#98d4d8\"><nobr>蓝色</nobr></td><td bgcolor=\"#9cd1dd\"><nobr>蓝色</nobr></td><td bgcolor=\"#a3d1df\"><nobr>蓝色</nobr></td><td bgcolor=\"#aacfe1\"><nobr>蓝色</nobr></td><td bgcolor=\"#a1d0f2\"><nobr>蓝色</nobr></td><td bgcolor=\"#abcdf4\"><nobr>蓝色</nobr></td><td bgcolor=\"#c1c8e2\"><nobr>蓝色</nobr></td><td bgcolor=\"#c6c6e1\"><nobr>紫色</nobr></td><td bgcolor=\"#ccc5df\"><nobr>紫色</nobr></td><td bgcolor=\"#d0c3dd\"><nobr>紫色</nobr></td><td bgcolor=\"#e1bde1\"><nobr>紫色</nobr></td><td bgcolor=\"#e8bbdc\"><nobr>紫色,红</nobr></td><td bgcolor=\"#eebad5\"><nobr>红</nobr></td><td bgcolor=\"#f3b9cc\"><nobr>红</nobr></td><td bgcolor=\"#f6b8c6\"><nobr>红</nobr></td><td bgcolor=\"#f8b8c0\"><nobr>红</nobr></td></tr><tr><td bgcolor=\"#adadad\"><nobr>灰色</nobr></td><td bgcolor=\"#ed969c\"><nobr>红</nobr></td><td bgcolor=\"#ef9590\"><nobr>红</nobr></td><td bgcolor=\"#fd8d7b\"><nobr>棕色</nobr></td><td bgcolor=\"#fb906b\"><nobr>橙色,棕色</nobr></td><td bgcolor=\"#f7945f\"><nobr>黄色</nobr></td><td bgcolor=\"#ff8e16\"><nobr>橙色</nobr></td><td bgcolor=\"#f29900\"><nobr>黄色</nobr></td><td bgcolor=\"#e59c00\"><nobr>黄色</nobr></td><td bgcolor=\"#d9a300\"><nobr>黄色</nobr></td><td bgcolor=\"#cca800\"><nobr>黄色</nobr></td><td bgcolor=\"#c1ac00\"><nobr>黄色</nobr></td><td bgcolor=\"#b8b100\"><nobr>黄色</nobr></td><td bgcolor=\"#adb700\"><nobr>黄色</nobr></td><td bgcolor=\"#9bbb00\"><nobr>黄色</nobr></td><td bgcolor=\"#83bf46\"><nobr>绿色</nobr></td><td bgcolor=\"#69c25f\"><nobr>绿色</nobr></td><td bgcolor=\"#42c475\"><nobr>绿色</nobr></td><td bgcolor=\"#52c190\"><nobr>绿色</nobr></td><td bgcolor=\"#49c298\"><nobr>绿色</nobr></td><td bgcolor=\"#40c2a1\"><nobr>绿色</nobr></td><td bgcolor=\"#35c2a8\"><nobr>绿色</nobr></td><td bgcolor=\"#29c1af\"><nobr>绿色</nobr></td><td bgcolor=\"#5ebcb8\"><nobr>蓝,蓝色</nobr></td><td bgcolor=\"#5ebec0\"><nobr>蓝色</nobr></td><td bgcolor=\"#61bec7\"><nobr>蓝色</nobr></td><td bgcolor=\"#68bdcd\"><nobr>蓝色</nobr></td><td bgcolor=\"#71b8d1\"><nobr>蓝色</nobr></td><td bgcolor=\"#62bbe2\"><nobr>蓝色</nobr></td><td bgcolor=\"#78b7e4\"><nobr>蓝色</nobr></td><td bgcolor=\"#87b3e6\"><nobr>蓝色</nobr></td><td bgcolor=\"#a1add6\"><nobr>蓝色</nobr></td><td bgcolor=\"#abaad4\"><nobr>紫色</nobr></td><td bgcolor=\"#b4a7d1\"><nobr>紫色</nobr></td><td bgcolor=\"#bba4cd\"><nobr>紫色</nobr></td><td bgcolor=\"#ce9ecf\"><nobr>紫色</nobr></td><td bgcolor=\"#d79aca\"><nobr>紫色</nobr></td><td bgcolor=\"#ea93c6\"><nobr>红 紫色</nobr></td><td bgcolor=\"#f191b7\"><nobr>红</nobr></td><td bgcolor=\"#e896ad\"><nobr>红</nobr></td><td bgcolor=\"#eb96a2\"><nobr>红</nobr></td></tr><tr><td bgcolor=\"#939393\"><nobr>灰色</nobr></td><td bgcolor=\"#eb6b7a\"><nobr>红</nobr></td><td bgcolor=\"#ec6969\"><nobr>红   ~   是</nobr></td><td bgcolor=\"#ec6a59\"><nobr>红</nobr></td><td bgcolor=\"#f46730\"><nobr>橙色</nobr></td><td bgcolor=\"#ec6900\"><nobr>橙色</nobr></td><td bgcolor=\"#db7715\"><nobr>橙色</nobr></td><td bgcolor=\"#d07f00\"><nobr>黄色</nobr></td><td bgcolor=\"#c58600\"><nobr>黄色</nobr></td><td bgcolor=\"#ba8c00\"><nobr>黄色</nobr></td><td bgcolor=\"#af9000\"><nobr>黄色</nobr></td><td bgcolor=\"#a59300\"><nobr>土黄色,黄色</nobr></td><td bgcolor=\"#9c9600\"><nobr>黄色</nobr></td><td bgcolor=\"#909c00\"><nobr>黄色</nobr></td><td bgcolor=\"#81a000\"><nobr>黄色</nobr></td><td bgcolor=\"#5fa600\"><nobr>绿色</nobr></td><td bgcolor=\"#2daa32\"><nobr>绿色</nobr></td><td bgcolor=\"#14a960\"><nobr>绿色</nobr></td><td bgcolor=\"#00a875\"><nobr>绿色</nobr></td><td bgcolor=\"#00a87d\"><nobr>绿色</nobr></td><td bgcolor=\"#00a788\"><nobr>绿色</nobr></td><td bgcolor=\"#00a68f\"><nobr>绿色</nobr></td><td bgcolor=\"#00a599\"><nobr>蓝色</nobr></td><td bgcolor=\"#00a4a0\"><nobr>蓝色</nobr></td><td bgcolor=\"#00a8ac\"><nobr>蓝色</nobr></td><td bgcolor=\"#00a8b4\"><nobr>蓝色</nobr></td><td bgcolor=\"#00a4bf\"><nobr>蓝色</nobr></td><td bgcolor=\"#2da4c4\"><nobr>蓝色</nobr></td><td bgcolor=\"#01a4d5\"><nobr>蓝色</nobr></td><td bgcolor=\"#449dd8\"><nobr>蓝色</nobr></td><td bgcolor=\"#609ad8\"><nobr>蓝色</nobr></td><td bgcolor=\"#8492c9\"><nobr>蓝色</nobr></td><td bgcolor=\"#918dc6\"><nobr>紫色</nobr></td><td bgcolor=\"#9e8ac3\"><nobr>紫色</nobr></td><td bgcolor=\"#a786bd\"><nobr>紫色</nobr></td><td bgcolor=\"#bb7dbe\"><nobr>紫色</nobr></td><td bgcolor=\"#c57ab6\"><nobr>紫色</nobr></td><td bgcolor=\"#cc78ab\"><nobr>红 紫色</nobr></td><td bgcolor=\"#d4769e\"><nobr>红</nobr></td><td bgcolor=\"#e56c94\"><nobr>红</nobr></td><td bgcolor=\"#e86a88\"><nobr>红</nobr></td></tr><tr><td bgcolor=\"#7a7979\"><nobr>灰色</nobr></td><td bgcolor=\"#da3f60\"><nobr>红</nobr></td><td bgcolor=\"#db414f\"><nobr>红</nobr></td><td bgcolor=\"#da4035\"><nobr>红</nobr></td><td bgcolor=\"#d84700\"><nobr>橙色</nobr></td><td bgcolor=\"#c65800\"><nobr>橙色</nobr></td><td bgcolor=\"#b95f00\"><nobr>橙色</nobr></td><td bgcolor=\"#ae6600\"><nobr>橙色</nobr></td><td bgcolor=\"#a46c00\"><nobr>土黄色,橙色</nobr></td><td bgcolor=\"#9a730d\"><nobr>土黄色,棕色</nobr></td><td bgcolor=\"#927400\"><nobr>棕色</nobr></td><td bgcolor=\"#897a00\"><nobr>棕色</nobr></td><td bgcolor=\"#817c00\"><nobr>棕色</nobr></td><td bgcolor=\"#798000\"><nobr>棕色</nobr></td><td bgcolor=\"#698416\"><nobr>黄色</nobr></td><td bgcolor=\"#4c890a\"><nobr>绿色</nobr></td><td bgcolor=\"#008e1c\"><nobr>绿色</nobr></td><td bgcolor=\"#008c4d\"><nobr>绿色</nobr></td><td bgcolor=\"#008b5d\"><nobr>绿色</nobr></td><td bgcolor=\"#008a66\"><nobr>绿色</nobr></td><td bgcolor=\"#008a70\"><nobr>绿色,蓝色</nobr></td><td bgcolor=\"#008976\"><nobr>绿色</nobr></td><td bgcolor=\"#00887e\"><nobr>蓝色</nobr></td><td bgcolor=\"#008885\"><nobr>蓝色</nobr></td><td bgcolor=\"#008990\"><nobr>蓝色</nobr></td><td bgcolor=\"#008997\"><nobr>蓝色</nobr></td><td bgcolor=\"#00899f\"><nobr>蓝色</nobr></td><td bgcolor=\"#0089a8\"><nobr>蓝色</nobr></td><td bgcolor=\"#0088b2\"><nobr>蓝色</nobr></td><td bgcolor=\"#0082c1\"><nobr>蓝色</nobr></td><td bgcolor=\"#2582cc\"><nobr>蓝色</nobr></td><td bgcolor=\"#6577bc\"><nobr>紫色,蓝色</nobr></td><td bgcolor=\"#786fb8\"><nobr>紫色</nobr></td><td bgcolor=\"#896bb3\"><nobr>紫色</nobr></td><td bgcolor=\"#9267ad\"><nobr>紫色</nobr></td><td bgcolor=\"#9f63a4\"><nobr>紫色</nobr></td><td bgcolor=\"#b357a5\"><nobr>紫色</nobr></td><td bgcolor=\"#bc539b\"><nobr>紫色</nobr></td><td bgcolor=\"#c54f89\"><nobr>红 紫色</nobr></td><td bgcolor=\"#d4417f\"><nobr>红</nobr></td><td bgcolor=\"#d7406e\"><nobr>红</nobr></td></tr><tr><td bgcolor=\"#606060\"><nobr>灰色</nobr></td><td bgcolor=\"#bc154c\"><nobr>红</nobr></td><td bgcolor=\"#bc1a39\"><nobr>红</nobr></td><td bgcolor=\"#ba2020\"><nobr>红</nobr></td><td bgcolor=\"#b22e00\"><nobr>红</nobr></td><td bgcolor=\"#9e450f\"><nobr>棕色</nobr></td><td bgcolor=\"#914d1b\"><nobr>棕色</nobr></td><td bgcolor=\"#8b510d\"><nobr>棕色</nobr></td><td bgcolor=\"#7f5820\"><nobr>棕色</nobr></td><td bgcolor=\"#795a1a\"><nobr>棕色</nobr></td><td bgcolor=\"#735d14\"><nobr>棕色</nobr></td><td bgcolor=\"#6d5f11\"><nobr>棕色</nobr></td><td bgcolor=\"#666311\"><nobr>棕色</nobr></td><td bgcolor=\"#5f6517\"><nobr>棕色</nobr></td><td bgcolor=\"#556820\"><nobr>棕色</nobr></td><td bgcolor=\"#3a6d13\"><nobr>绿色</nobr></td><td bgcolor=\"#216f27\"><nobr>绿色</nobr></td><td bgcolor=\"#006f40\"><nobr>绿色</nobr></td><td bgcolor=\"#006e4c\"><nobr>绿色</nobr></td><td bgcolor=\"#006e51\"><nobr>绿色</nobr></td><td bgcolor=\"#006d58\"><nobr>灰</nobr></td><td bgcolor=\"#006d5e\"><nobr>蓝色</nobr></td><td bgcolor=\"#006c64\"><nobr>蓝色</nobr></td><td bgcolor=\"#006e6e\"><nobr>蓝色</nobr></td><td bgcolor=\"#006e73\"><nobr>蓝色</nobr></td><td bgcolor=\"#006e79\"><nobr>蓝色</nobr></td><td bgcolor=\"#006b80\"><nobr>蓝色</nobr></td><td bgcolor=\"#006a87\"><nobr>蓝色</nobr></td><td bgcolor=\"#006a8f\"><nobr>蓝色</nobr></td><td bgcolor=\"#00689b\"><nobr>蓝色</nobr></td><td bgcolor=\"#2066a3\"><nobr>蓝色</nobr></td><td bgcolor=\"#475caf\"><nobr>蓝色</nobr></td><td bgcolor=\"#61549e\"><nobr>紫色</nobr></td><td bgcolor=\"#715098\"><nobr>紫色</nobr></td><td bgcolor=\"#7b4c92\"><nobr>紫色</nobr></td><td bgcolor=\"#83488a\"><nobr>紫色</nobr></td><td bgcolor=\"#8f4485\"><nobr>紫色</nobr></td><td bgcolor=\"#96417b\"><nobr>紫色</nobr></td><td bgcolor=\"#9d3e6f\"><nobr>紫色</nobr></td><td bgcolor=\"#a13c65\"><nobr>红 紫色</nobr></td><td bgcolor=\"#a43b5b\"><nobr>红 紫色</nobr></td></tr><tr><td bgcolor=\"#484748\"><nobr>灰色</nobr></td><td bgcolor=\"#8b163a\"><nobr>红</nobr></td><td bgcolor=\"#8b1830\"><nobr>红</nobr></td><td bgcolor=\"#94001b\"><nobr>红</nobr></td><td bgcolor=\"#882110\"><nobr>红</nobr></td><td bgcolor=\"#79310e\"><nobr>棕色</nobr></td><td bgcolor=\"#6d3a18\"><nobr>红</nobr></td><td bgcolor=\"#683c11\"><nobr>棕色</nobr></td><td bgcolor=\"#633f08\"><nobr>棕色</nobr></td><td bgcolor=\"#59431f\"><nobr>棕色</nobr></td><td bgcolor=\"#54451d\"><nobr>棕色</nobr></td><td bgcolor=\"#50461c\"><nobr>棕色</nobr></td><td bgcolor=\"#4b481d\"><nobr>棕色</nobr></td><td bgcolor=\"#454b1f\"><nobr>棕色</nobr></td><td bgcolor=\"#3f4c24\"><nobr>灰色</nobr></td><td bgcolor=\"#2d501a\"><nobr>绿色</nobr></td><td bgcolor=\"#1f5224\"><nobr>绿色</nobr></td><td bgcolor=\"#005330\"><nobr>绿色</nobr></td><td bgcolor=\"#005337\"><nobr>绿色</nobr></td><td bgcolor=\"#00523d\"><nobr>灰色</nobr></td><td bgcolor=\"#005242\"><nobr>灰色,绿色</nobr></td><td bgcolor=\"#005147\"><nobr>灰色</nobr></td><td bgcolor=\"#00514d\"><nobr>灰色</nobr></td><td bgcolor=\"#005153\"><nobr>蓝色</nobr></td><td bgcolor=\"#005258\"><nobr>灰色</nobr></td><td bgcolor=\"#00515c\"><nobr>蓝色</nobr></td><td bgcolor=\"#005161\"><nobr>蓝色</nobr></td><td bgcolor=\"#005167\"><nobr>蓝色</nobr></td><td bgcolor=\"#00516d\"><nobr>蓝色</nobr></td><td bgcolor=\"#004d77\"><nobr>蓝色</nobr></td><td bgcolor=\"#004c84\"><nobr>蓝色</nobr></td><td bgcolor=\"#323f95\"><nobr>蓝色</nobr></td><td bgcolor=\"#4c3986\"><nobr>紫色</nobr></td><td bgcolor=\"#5b347f\"><nobr>紫色</nobr></td><td bgcolor=\"#642f7a\"><nobr>紫色</nobr></td><td bgcolor=\"#6c2b73\"><nobr>紫色</nobr></td><td bgcolor=\"#752670\"><nobr>紫色</nobr></td><td bgcolor=\"#7d2166\"><nobr>紫色</nobr></td><td bgcolor=\"#821d5a\"><nobr>紫色</nobr></td><td bgcolor=\"#861a52\"><nobr>紫色</nobr></td><td bgcolor=\"#891747\"><nobr>红 紫色</nobr></td></tr><tr><td bgcolor=\"#313131\"><nobr>灰色</nobr></td><td bgcolor=\"#610e31\"><nobr>红 紫色</nobr></td><td bgcolor=\"#620e27\"><nobr>红 紫色</nobr></td><td bgcolor=\"#62101f\"><nobr>红 紫色</nobr></td><td bgcolor=\"#571d1a\"><nobr>红</nobr></td><td bgcolor=\"#4c261d\"><nobr>红</nobr></td><td bgcolor=\"#4a2817\"><nobr>红</nobr></td><td bgcolor=\"#472911\"><nobr>红</nobr></td><td bgcolor=\"#3c2d21\"><nobr>灰色</nobr></td><td bgcolor=\"#3a2e20\"><nobr>灰色</nobr></td><td bgcolor=\"#37301f\"><nobr>灰色</nobr></td><td bgcolor=\"#353020\"><nobr>灰色</nobr></td><td bgcolor=\"#333221\"><nobr>灰色</nobr></td><td bgcolor=\"#303223\"><nobr>灰色</nobr></td><td bgcolor=\"#2e3325\"><nobr>灰色</nobr></td><td bgcolor=\"#21361a\"><nobr>灰色</nobr></td><td bgcolor=\"#1b371f\"><nobr>绿色</nobr></td><td bgcolor=\"#153724\"><nobr>绿色</nobr></td><td bgcolor=\"#003926\"><nobr>绿色</nobr></td><td bgcolor=\"#00392a\"><nobr>灰色,蓝色</nobr></td><td bgcolor=\"#00382d\"><nobr>灰色</nobr></td><td bgcolor=\"#033830\"><nobr>绿色,蓝色</nobr></td><td bgcolor=\"#003735\"><nobr>蓝色</nobr></td><td bgcolor=\"#00383a\"><nobr>灰色,蓝色</nobr></td><td bgcolor=\"#00383e\"><nobr>蓝色</nobr></td><td bgcolor=\"#003841\"><nobr>蓝色</nobr></td><td bgcolor=\"#003744\"><nobr>蓝色</nobr></td><td bgcolor=\"#003649\"><nobr>蓝色</nobr></td><td bgcolor=\"#00354d\"><nobr>蓝色</nobr></td><td bgcolor=\"#003555\"><nobr>蓝色</nobr></td><td bgcolor=\"#00325f\"><nobr>蓝色</nobr></td><td bgcolor=\"#24286f\"><nobr>蓝色</nobr></td><td bgcolor=\"#35265f\"><nobr>紫色</nobr></td><td bgcolor=\"#3f225a\"><nobr>紫色</nobr></td><td bgcolor=\"#461f56\"><nobr>紫色</nobr></td><td bgcolor=\"#452449\"><nobr>紫色</nobr></td><td bgcolor=\"#492247\"><nobr>紫色</nobr></td><td bgcolor=\"#561649\"><nobr>紫色</nobr></td><td bgcolor=\"#5a1343\"><nobr>紫色</nobr></td><td bgcolor=\"#5c123d\"><nobr>紫色</nobr></td><td bgcolor=\"#5e1038\"><nobr>紫色</nobr></td></tr><tr><td bgcolor=\"#262626\"><nobr>灰色</nobr></td></tr></table>"
      ],
      "text/plain": [
       "<IPython.core.display.HTML object>"
      ]
     },
     "execution_count": 108,
     "metadata": {},
     "output_type": "execute_result"
    }
   ],
   "source": [
    "#preds_bs0, html = test_model(bs0)\n",
    "_, html = test_model(bs0, samples=preds_bs0)\n",
    "html"
   ]
  },
  {
   "cell_type": "code",
   "execution_count": 107,
   "metadata": {},
   "outputs": [
    {
     "data": {
      "text/html": [
       "<table><tr><td bgcolor=\"#f1f1f1\"><nobr>红,棕色</nobr></td></tr><tr><td bgcolor=\"#e3e3e3\"><nobr>灰色,不同 的,slate,棕色,偏 teenagers 的 红色 ， 不是 亮 绿色,红,猪肝色,lipstick 棕色,鲜艳 的 那个,另外 一个 偏 桃红   ~   湖,棕色 ， 不太绿</nobr></td><td bgcolor=\"#f0dfdf\"><nobr>红</nobr></td><td bgcolor=\"#f1dfde\"><nobr>咖啡,橙色</nobr></td><td bgcolor=\"#f2dfdc\"><nobr>靠,红,粉红色 手   最后 up 橘   ~   大 粉色,红 厉害 啊   ~   是,棕色,粱 棕色,最深,艳 黄色,黄色,咖啡</nobr></td><td bgcolor=\"#f3e0d9\"><nobr>土黄色</nobr></td><td bgcolor=\"#f4dfd6\"><nobr>棕色</nobr></td><td bgcolor=\"#f4dfd1\"><nobr>红,哈哈 哈哈,settings   ~   最 艳丽 的,灰黄色,土地,橙色   ya   ~   收入 啊   ~   不要 看起来 不是 太阳 的 颜色,橙,橙子,土黄色,暗紫色,黄色</nobr></td><td bgcolor=\"#f4e0cd\"><nobr>土黄色</nobr></td><td bgcolor=\"#f2e1c9\"><nobr>红,淡黄,你好   ~   是,浅褐色,灰黄色,棕色,绿色   ~   棕色,暗,橙,偏棕 的 黄</nobr></td><td bgcolor=\"#f9e0ab\"><nobr>绿色</nobr></td><td bgcolor=\"#f8e28c\"><nobr>深绿色,黄色</nobr></td><td bgcolor=\"#f2e58b\"><nobr>香蕉,鲜艳 的 tiffany,深色,黄,青   ~   yay 的 那个,  深 又 说   ~   是 的,土地,鲜绿色,深绿色,黄色,你好   ~   亮 的</nobr></td><td bgcolor=\"#ece68b\"><nobr>黄色</nobr></td><td bgcolor=\"#e5ea8c\"><nobr>绿色,黄色</nobr></td><td bgcolor=\"#deeaab\"><nobr>黄色</nobr></td><td bgcolor=\"#dae8c9\"><nobr>绿色,绿</nobr></td><td bgcolor=\"#d4e9cf\"><nobr>绿色,绿</nobr></td><td bgcolor=\"#cfead4\"><nobr>绿色</nobr></td><td bgcolor=\"#cdead8\"><nobr>比较 暗,绿色 调 的 绿色,蓝绿,绿色,嫩绿色   很 绿,难看,浅 一点 一点,我 一个 叫,暗些,绿</nobr></td><td bgcolor=\"#cbeadb\"><nobr>绿色</nobr></td><td bgcolor=\"#caeade\"><nobr>蓝色</nobr></td><td bgcolor=\"#c8eae0\"><nobr>蓝色</nobr></td><td bgcolor=\"#c8eae2\"><nobr>蓝色</nobr></td><td bgcolor=\"#caeae6\"><nobr>蓝色</nobr></td><td bgcolor=\"#cbe9e9\"><nobr>蓝</nobr></td><td bgcolor=\"#cee9eb\"><nobr>蓝色</nobr></td><td bgcolor=\"#d1e8ec\"><nobr>蓝色</nobr></td><td bgcolor=\"#d4e8ed\"><nobr>蓝色</nobr></td><td bgcolor=\"#d7e6ed\"><nobr>蓝色</nobr></td><td bgcolor=\"#dbe5ed\"><nobr>蓝色</nobr></td><td bgcolor=\"#dde5ed\"><nobr>蓝色,蓝</nobr></td><td bgcolor=\"#e1e4ed\"><nobr>蓝色,蓝</nobr></td><td bgcolor=\"#e4e3ec\"><nobr>紫色</nobr></td><td bgcolor=\"#e5e2ec\"><nobr>紫</nobr></td><td bgcolor=\"#e7e2eb\"><nobr>紫,紫色</nobr></td><td bgcolor=\"#e9e1e9\"><nobr>  正   ~   荧光粉 灰,紫色   ~   个 紫色   ~   外线 的 颜色,pukey,浪漫 的 紫,  深些,紫色,玫瑰红,淡紫色,浅紫色,大妈</nobr></td><td bgcolor=\"#ebe1e8\"><nobr>艳丽,rouge 的 颜色,紫色   ~   比较 红,最 接近 红色 ！,最亮 的 大妈   ~   你 选 花,玫瑰,广场 中较 紫色   ~   鲜艳 的</nobr></td><td bgcolor=\"#ece1e6\"><nobr>红</nobr></td><td bgcolor=\"#eddfe4\"><nobr>咖啡,发粉 的 橘色   ~   对,红 橘色,女士,粉色,花,橘色,赭石,粉 紫色,lemon 粉色,深 最少</nobr></td><td bgcolor=\"#efdfe3\"><nobr>亮粉,红,粉色   ~   淡紫色,蓝色,棕色,暖色调,地,亮 粉色,最淡得,选 easi   ~   是,带点 亮 土黄</nobr></td><td bgcolor=\"#efdfe1\"><nobr>浅褐色,棕色,土黄色</nobr></td></tr><tr><td bgcolor=\"#c8c8c8\"><nobr>灰色,深色,温暖   也 不 红色 的 土色   ~   是,最淡得 绿,棕色,最深,黯淡,温暖   ~   黑暗,深蓝色,温暖   ~   不是,不 偏粉 的 那个</nobr></td><td bgcolor=\"#fab8b8\"><nobr>土黄色</nobr></td><td bgcolor=\"#fcb7b2\"><nobr>棕色</nobr></td><td bgcolor=\"#fdb8aa\"><nobr>红,墨绿色,黄色,哈哈哈 不是 青,最 接近 黄色,棕色,土黄色   较淡,橙,肉色,土黄色,faded 橙</nobr></td><td bgcolor=\"#fdb7a1\"><nobr>大地,不 鲜艳 的 颜色,红色 ， 偏亮,中文 红绿灯 的 颜色,两种 橘   ~   泥 橙色 的 橙色   ~   比较 有 土黄色 ， 也 少,moss   总之   较浅,棕,带点 灰,橘色,土黄色,黄色</nobr></td><td bgcolor=\"#fbb898\"><nobr>土黄色</nobr></td><td bgcolor=\"#f7bb8f\"><nobr>土绿,黄,特别 接近 鲜艳 的 颜色   ~   是 最 亮 好了吗 ~   是,土地,棕色 橙色,橙,橙色   ~   接近 橘色,土黄色,土黄色   深些,土地   ~   是 橘色   时 问题,棕 ！</nobr></td><td bgcolor=\"#feba70\"><nobr>土地</nobr></td><td bgcolor=\"#ffba43\"><nobr>橙色,黄色</nobr></td><td bgcolor=\"#f8ba00\"><nobr>橙子,黄色</nobr></td><td bgcolor=\"#e9c500\"><nobr>黄色</nobr></td><td bgcolor=\"#dec600\"><nobr>黄色</nobr></td><td bgcolor=\"#d4cc00\"><nobr>黄色</nobr></td><td bgcolor=\"#c7d200\"><nobr>黄色</nobr></td><td bgcolor=\"#b9d543\"><nobr>绿色,黄色</nobr></td><td bgcolor=\"#9eda5c\"><nobr>绿色</nobr></td><td bgcolor=\"#93da87\"><nobr>绿色 但 比较 暗 的 绿色,鲜绿,like 荧光 比较 不 普通 清新,绿色 调 上 橄榄绿,深绿色 一点,绿色,marine   深绿,亮绿,两 上 比较 黯淡 的,比较 浅褐色 的 草色</nobr></td><td bgcolor=\"#7bdc98\"><nobr>绿色</nobr></td><td bgcolor=\"#86d9af\"><nobr>绿色</nobr></td><td bgcolor=\"#81d9b6\"><nobr>不 偏粉,蓝   比较 浅,小 清新   ~   然后   这个 是 绿   ~   是 蓝   ~   不是 灰暗 的,蓝色,荧光 草 的 颜色   但   就是 的 绿   ~   这个 你 再 绿   ~   等 你 过 萤光 绿色,亮绿,亮色,蓝,亮度 居中 的 绿色</nobr></td><td bgcolor=\"#7dd9bd\"><nobr>深蓝,绿色,蓝</nobr></td><td bgcolor=\"#7bd9c1\"><nobr>有点 深 的 啊 的 颜色,明亮,蓝色,绿,绿色,小 清新,不灰不草,最亮 的 颜色,难看 的 颜色</nobr></td><td bgcolor=\"#97d4c9\"><nobr>蓝色</nobr></td><td bgcolor=\"#97d3ce\"><nobr>蓝</nobr></td><td bgcolor=\"#97d4d4\"><nobr>蓝色</nobr></td><td bgcolor=\"#98d4d8\"><nobr>蓝</nobr></td><td bgcolor=\"#9cd1dd\"><nobr>蓝色</nobr></td><td bgcolor=\"#a3d1df\"><nobr>蓝色,蓝</nobr></td><td bgcolor=\"#aacfe1\"><nobr>蓝</nobr></td><td bgcolor=\"#a1d0f2\"><nobr>蓝色,蓝</nobr></td><td bgcolor=\"#abcdf4\"><nobr>蓝色</nobr></td><td bgcolor=\"#c1c8e2\"><nobr>紫</nobr></td><td bgcolor=\"#c6c6e1\"><nobr>紫色</nobr></td><td bgcolor=\"#ccc5df\"><nobr>紫色</nobr></td><td bgcolor=\"#d0c3dd\"><nobr>紫色</nobr></td><td bgcolor=\"#e1bde1\"><nobr>淡紫色</nobr></td><td bgcolor=\"#e8bbdc\"><nobr>亮粉,红色,女士   咖啡,粉色,粉色   ~   黑暗,桃色   ？   ~   紫,紫色,厉害 紫色   ~   那个,肉桂,红 紫色,不是 紫色</nobr></td><td bgcolor=\"#eebad5\"><nobr>红色</nobr></td><td bgcolor=\"#f3b9cc\"><nobr>红</nobr></td><td bgcolor=\"#f6b8c6\"><nobr>红</nobr></td><td bgcolor=\"#f8b8c0\"><nobr>红</nobr></td></tr><tr><td bgcolor=\"#adadad\"><nobr>灰色</nobr></td><td bgcolor=\"#ed969c\"><nobr>棕色</nobr></td><td bgcolor=\"#ef9590\"><nobr>红色,土地</nobr></td><td bgcolor=\"#fd8d7b\"><nobr>深色</nobr></td><td bgcolor=\"#fb906b\"><nobr>黄色</nobr></td><td bgcolor=\"#f7945f\"><nobr>橙,土黄色,橙色</nobr></td><td bgcolor=\"#ff8e16\"><nobr>红,橘,这个 研究 黄,thats 橙色 的,错 也 是 棕色,excellent 也 带点 颜色 土黄色,drab,橙子,红   ~   行,橘子 颜色</nobr></td><td bgcolor=\"#f29900\"><nobr>橙色</nobr></td><td bgcolor=\"#e59c00\"><nobr>黄色</nobr></td><td bgcolor=\"#d9a300\"><nobr>黄色</nobr></td><td bgcolor=\"#cca800\"><nobr>黄色</nobr></td><td bgcolor=\"#c1ac00\"><nobr>黄色</nobr></td><td bgcolor=\"#b8b100\"><nobr>黄色</nobr></td><td bgcolor=\"#adb700\"><nobr>黄色</nobr></td><td bgcolor=\"#9bbb00\"><nobr>黄色</nobr></td><td bgcolor=\"#83bf46\"><nobr>浅绿色,草 的 颜色,青草</nobr></td><td bgcolor=\"#69c25f\"><nobr>绿色</nobr></td><td bgcolor=\"#42c475\"><nobr>亮绿</nobr></td><td bgcolor=\"#52c190\"><nobr>草 的 颜色</nobr></td><td bgcolor=\"#49c298\"><nobr>绿色</nobr></td><td bgcolor=\"#40c2a1\"><nobr>绿色   ~   绿,这个 亮 绿色   ~   绿框 来 目前 就 有 图 的 颜色,草,草地,亮 绿色   ~   是 颜色,绿色,灰,小 清新,湖水,草 的 颜色</nobr></td><td bgcolor=\"#35c2a8\"><nobr>绿色</nobr></td><td bgcolor=\"#29c1af\"><nobr>绿色</nobr></td><td bgcolor=\"#5ebcb8\"><nobr>暗 的 绿色,yel 的 颜色,灰,绿   ~   不好意思   ~   桃是 有点 浅蓝,$ 最浅,绿色   ~   和 蓝   ~   深蓝,有点 天空 的 颜色,开始 说 你 那么 暗,浅海,亮 蓝,蓝</nobr></td><td bgcolor=\"#5ebec0\"><nobr>蓝</nobr></td><td bgcolor=\"#61bec7\"><nobr>蓝</nobr></td><td bgcolor=\"#68bdcd\"><nobr>蓝色</nobr></td><td bgcolor=\"#71b8d1\"><nobr>蓝色</nobr></td><td bgcolor=\"#62bbe2\"><nobr>蓝色</nobr></td><td bgcolor=\"#78b7e4\"><nobr>蓝色</nobr></td><td bgcolor=\"#87b3e6\"><nobr>蓝</nobr></td><td bgcolor=\"#a1add6\"><nobr>蓝</nobr></td><td bgcolor=\"#abaad4\"><nobr>紫色</nobr></td><td bgcolor=\"#b4a7d1\"><nobr>基佬,紫</nobr></td><td bgcolor=\"#bba4cd\"><nobr>淡紫色,紫色</nobr></td><td bgcolor=\"#ce9ecf\"><nobr>yup 的   ~   不带 粉,down 紫红色,淡紫色,浪漫 的 紫色,  淡紫,花,紫色,玫瑰红,赭石,囧  ,浅紫色</nobr></td><td bgcolor=\"#d79aca\"><nobr>花,红,正 紫色,紫,是 紫色,血色,紫   ~   葡萄,带点 粉红色 ， 淡色,浅紫色</nobr></td><td bgcolor=\"#ea93c6\"><nobr>最 接近 粉色,发粉 的 橘色   ~   中间 的,亮 橘色,大地,这个 很 粉   ~   粉红,粉色,粉,红,红色,粉 紫,红 紫色</nobr></td><td bgcolor=\"#f191b7\"><nobr>红</nobr></td><td bgcolor=\"#e896ad\"><nobr>红</nobr></td><td bgcolor=\"#eb96a2\"><nobr>红,淡黄色,最 鲜艳 的 红色,红   grey-brown,粉,亮 粉色,太阳 的,红色,橙,紫红色 ？   ~   红</nobr></td></tr><tr><td bgcolor=\"#939393\"><nobr>灰色</nobr></td><td bgcolor=\"#eb6b7a\"><nobr>红,土黄色</nobr></td><td bgcolor=\"#ec6969\"><nobr>粉色,淡黄色,红   ~   不是 橘,比较 plus 的 红色   ~   亮,较 crayola 的 颜色 e ， 也 是 的,接近 皮肤   ~   你 橙色 吧,选 的 颜色,这是 两种 橘色   ~   红,土黄色</nobr></td><td bgcolor=\"#ec6a59\"><nobr>深色,图 的 颜色,太阳   ~   红色,click 黄色,亮,棕,暗色,红色,橙,橙子,棕   ~   咖啡</nobr></td><td bgcolor=\"#f46730\"><nobr>红,橙子,橙色</nobr></td><td bgcolor=\"#ec6900\"><nobr>橙色</nobr></td><td bgcolor=\"#db7715\"><nobr>橙色</nobr></td><td bgcolor=\"#d07f00\"><nobr>黄色</nobr></td><td bgcolor=\"#c58600\"><nobr>黄色</nobr></td><td bgcolor=\"#ba8c00\"><nobr>橙子,土黄色</nobr></td><td bgcolor=\"#af9000\"><nobr>黄色</nobr></td><td bgcolor=\"#a59300\"><nobr>橙,土黄色</nobr></td><td bgcolor=\"#9c9600\"><nobr>土地</nobr></td><td bgcolor=\"#909c00\"><nobr>黄色</nobr></td><td bgcolor=\"#81a000\"><nobr>黄色</nobr></td><td bgcolor=\"#5fa600\"><nobr>黄</nobr></td><td bgcolor=\"#2daa32\"><nobr>绿色</nobr></td><td bgcolor=\"#14a960\"><nobr>绿色</nobr></td><td bgcolor=\"#00a875\"><nobr>绿</nobr></td><td bgcolor=\"#00a87d\"><nobr>绿色   ~   绿,蓝色,艳 绿色,昏暗 的 绿,绿色,深绿,鲜艳 的 绿色,好   ~   是 的 橘子 颜色,不鲜</nobr></td><td bgcolor=\"#00a788\"><nobr>浅绿色,深色,我 轮   ~   这个 有点 蓝,深蓝,绿色   ~   颗颗   ~   不同 的,亮,小 清新   ~   暗,sunset,蓝</nobr></td><td bgcolor=\"#00a68f\"><nobr>。 。 不是 蓝色 吧 但 不是 at come 了 ikea bot thx ！   ~   绿,天,草地,又 通常 一个 接近 清新,这个 蓝,明亮 的 绿色,湖水,绿</nobr></td><td bgcolor=\"#00a599\"><nobr>boy,俩 fusia,蓝色,草,不 接近 女生 绿色   ~   额   ~   比较 是 绿,最 接近 天 的 颜色,suck,水泥,蓝,绿</nobr></td><td bgcolor=\"#00a4a0\"><nobr>亮 蓝,bus 蓝,天空,最鲜 的 绿   ~   暗淡,绿 蓝色,天,深色,最 接近 草 的 颜色,天 的 颜色,有点 灰 蓝色,亮 舞 绿</nobr></td><td bgcolor=\"#00a8ac\"><nobr>蓝</nobr></td><td bgcolor=\"#00a8b4\"><nobr>蓝色</nobr></td><td bgcolor=\"#00a4bf\"><nobr>蓝色</nobr></td><td bgcolor=\"#2da4c4\"><nobr>蓝色,蓝</nobr></td><td bgcolor=\"#01a4d5\"><nobr>蓝色</nobr></td><td bgcolor=\"#449dd8\"><nobr>蓝色</nobr></td><td bgcolor=\"#609ad8\"><nobr>蓝色</nobr></td><td bgcolor=\"#8492c9\"><nobr>基佬</nobr></td><td bgcolor=\"#918dc6\"><nobr>紫色</nobr></td><td bgcolor=\"#9e8ac3\"><nobr>紫色</nobr></td><td bgcolor=\"#a786bd\"><nobr>紫色</nobr></td><td bgcolor=\"#bb7dbe\"><nobr>紫色</nobr></td><td bgcolor=\"#c57ab6\"><nobr>明亮 的,粉色   ~   hopefully   高雅,桃色   ~   粉,紫,这有 迷彩 紫色,花,紫色,橙,粉红色</nobr></td><td bgcolor=\"#cc78ab\"><nobr>亮粉,跟上 桃红,girly,厉害 紫,偏红 的,bubblegum,广场 上 最常 两种 努力 ！   ~   红,女士   不太棕   亮 粉色   ~   暗,粉红色,粉红,红 紫</nobr></td><td bgcolor=\"#d4769e\"><nobr>粉色</nobr></td><td bgcolor=\"#e56c94\"><nobr>咖啡,你好   ~   红,红   ~   最 接近 太阳 色,粉色,粉   ~   粉红,偏 紫色,红,红色,红 紫色</nobr></td><td bgcolor=\"#e86a88\"><nobr>红</nobr></td></tr><tr><td bgcolor=\"#7a7979\"><nobr>灰色</nobr></td><td bgcolor=\"#da3f60\"><nobr>粉</nobr></td><td bgcolor=\"#db414f\"><nobr>红</nobr></td><td bgcolor=\"#da4035\"><nobr>红</nobr></td><td bgcolor=\"#d84700\"><nobr>橙子</nobr></td><td bgcolor=\"#c65800\"><nobr>橙色,这是 厉害 足球队 橙色   偏亮,metallic,橙子 桃色,红色 你 say 橙色 一些,橙,橙子,土黄色,土地,黄色,橙色 ， 亮</nobr></td><td bgcolor=\"#b95f00\"><nobr>橙色</nobr></td><td bgcolor=\"#ae6600\"><nobr>咖啡,浅褐色,黯淡,金,两色 粉红色,beige,最 鲜艳 的 颜色,龙,黄色,翠绿,哇 。</nobr></td><td bgcolor=\"#a46c00\"><nobr>橙子</nobr></td><td bgcolor=\"#9a730d\"><nobr>棕色,土黄色</nobr></td><td bgcolor=\"#927400\"><nobr>红,橙</nobr></td><td bgcolor=\"#897a00\"><nobr>深色,橙子 ， 不亮,神皇色   ~   鲜艳,土黄色   ~   偏 棕色,浅褐色,棕色,土 的 颜色,显亮,土黄色</nobr></td><td bgcolor=\"#817c00\"><nobr>棕色</nobr></td><td bgcolor=\"#798000\"><nobr>黄 有点 中 很 深色 一些,深色,黄,黄绿色,浅褐色,不 偏黄,金,黄色,暗淡 的 土色   ~   明亮 的,土 暖 ， 带点 粉 一点点   ~   不鲜</nobr></td><td bgcolor=\"#698416\"><nobr>黄色</nobr></td><td bgcolor=\"#4c890a\"><nobr>old 最鲜 的 绿,灰色,黄,草地,艳 土色,军队,绿色,绿色 比较 room,不太绿,黄色</nobr></td><td bgcolor=\"#008e1c\"><nobr>绿色</nobr></td><td bgcolor=\"#008c4d\"><nobr>绿色</nobr></td><td bgcolor=\"#008b5d\"><nobr>绿</nobr></td><td bgcolor=\"#008a66\"><nobr>荧光 绿,绿色,最 接近 草 的 颜色,teal,中色,T 最浅 的 绿,不 接近 草 。   ~   暗,蓝,暗绿色</nobr></td><td bgcolor=\"#008a70\"><nobr>蓝</nobr></td><td bgcolor=\"#008976\"><nobr>绿</nobr></td><td bgcolor=\"#00887e\"><nobr>蓝</nobr></td><td bgcolor=\"#008885\"><nobr>绿色  ,蓝色,天,紫,天   ~   更 简单 的,深色,草 的 颜色,excuse   不是 蓝   ~   最 接近 蓝,蓝,接近 天空</nobr></td><td bgcolor=\"#008990\"><nobr>蓝色</nobr></td><td bgcolor=\"#008997\"><nobr>蓝色</nobr></td><td bgcolor=\"#00899f\"><nobr>蓝色,蓝</nobr></td><td bgcolor=\"#0089a8\"><nobr>蓝色,蓝</nobr></td><td bgcolor=\"#0088b2\"><nobr>蓝色</nobr></td><td bgcolor=\"#0082c1\"><nobr>蓝色</nobr></td><td bgcolor=\"#2582cc\"><nobr>蓝</nobr></td><td bgcolor=\"#6577bc\"><nobr>紫色,蓝色</nobr></td><td bgcolor=\"#786fb8\"><nobr>紫色</nobr></td><td bgcolor=\"#896bb3\"><nobr>紫</nobr></td><td bgcolor=\"#9267ad\"><nobr>紫色</nobr></td><td bgcolor=\"#9f63a4\"><nobr>紫色</nobr></td><td bgcolor=\"#b357a5\"><nobr>紫色</nobr></td><td bgcolor=\"#bc539b\"><nobr>发粉 ， ... 桃色   ~   哈哈哈哈   ~   不是 粉色 厉害 all   ~   哈哈哈 哈哈   ?   ~   原来 哈哈,红,不红,广场 我会 舞 大妈,yellows,偏 紫色,亮 粉红   ~   这 里面 颜色,红色,making d,这坑 粉色,我 上 看到 的 收入 ？   ~   嗯 part 描述 粉</nobr></td><td bgcolor=\"#c54f89\"><nobr>粉红</nobr></td><td bgcolor=\"#d4417f\"><nobr>咖啡,一个,艳 红色,紫色,选择 粉色   ~   最 鲜艳 的 那个,红色,红   ~   红,lipstick 的 大妈   ~   红,红 紫色,厉害   ~   红</nobr></td><td bgcolor=\"#d7406e\"><nobr>黑暗,不 鲜艳 的,粉色,红色   ~   黑暗,最 鲜艳 的 颜色,橙,粉红色,粉红,紫红色 的 颜色   ~   是 的,女士   浅色   咖啡,红   ~   亮 粉色</nobr></td></tr><tr><td bgcolor=\"#606060\"><nobr>灰色</nobr></td><td bgcolor=\"#bc154c\"><nobr>红,红色</nobr></td><td bgcolor=\"#bc1a39\"><nobr>红</nobr></td><td bgcolor=\"#ba2020\"><nobr>红,粉色</nobr></td><td bgcolor=\"#b22e00\"><nobr>红</nobr></td><td bgcolor=\"#9e450f\"><nobr>明亮 的 橘色 深些,亮粉,红   ~   红色,好   ~   哈哈,明亮,clo 的 土地,棕色,棕,didn't 棕色,橙</nobr></td><td bgcolor=\"#914d1b\"><nobr>红 灰色,红 棕色,鲜艳 的 棕色,土黄色   不草,棕色,较 很 鲜艳,土 的 颜色,红,最 接近 太阳 颜色,土黄色,暗紫色</nobr></td><td bgcolor=\"#8b510d\"><nobr>咖啡,又 是 影响 明度 棕色,黑暗,完全 橙色,浅褐色,绿色,最 接近 浅绿色   ~   T   ~   接近 土,红色,土黄色,土黄色   ~   咖啡</nobr></td><td bgcolor=\"#7f5820\"><nobr>你好 相近 的 土黄色,亮粉,深色,囧   咖啡,最暗   较淡,棕色,棕色   ~   灰色,橙,最暗,绿草 最亮 的 事 吗   ~   不是 红,棕   ~   接近 红</nobr></td><td bgcolor=\"#795a1a\"><nobr>棕色</nobr></td><td bgcolor=\"#735d14\"><nobr>棕色</nobr></td><td bgcolor=\"#6d5f11\"><nobr>棕色,橘,土</nobr></td><td bgcolor=\"#666311\"><nobr>黄</nobr></td><td bgcolor=\"#5f6517\"><nobr>棕色</nobr></td><td bgcolor=\"#556820\"><nobr>偏 棕色,深色,深绿 收入 深些,深棕色,绿色,being 土色   ~   黑暗,土地,深绿色,橙,两同色 中 暗些,跟上 也 带点 灰   浅</nobr></td><td bgcolor=\"#3a6d13\"><nobr>难看 第二 绿色,草地,绿色,色泽 粉,深绿,黄 草地,深绿色,带 黄色 的 颜色,绿</nobr></td><td bgcolor=\"#216f27\"><nobr>绿色</nobr></td><td bgcolor=\"#006f40\"><nobr>绿</nobr></td><td bgcolor=\"#006e4c\"><nobr>不是 草 的 颜色,深色,淡绿色,棕色,浅 的 绿色,中色,绿色   pleasure   我 轮 小 清新   ~   绿,水泥,灰绿色,失敬   不是 轻 上次 我 那么 绿,绿色   ~   浅</nobr></td><td bgcolor=\"#006e51\"><nobr>绿</nobr></td><td bgcolor=\"#006d58\"><nobr>灰色,蓝</nobr></td><td bgcolor=\"#006d5e\"><nobr>灰</nobr></td><td bgcolor=\"#006c64\"><nobr>蓝色</nobr></td><td bgcolor=\"#006e6e\"><nobr>灰色,深色,天空   not 那个 绿色,蓝色,不是 蓝色,淡蓝色,开始 色盲 啊 。   不是 金黄色,天,较 亮 的 天 的 颜色,深灰色,灰</nobr></td><td bgcolor=\"#006e73\"><nobr>  桃   蓝色,亮 土黄,天,绿色   ~   灰,你 putty 没 说 gre,不是 蓝   ~   这个 蓝   ~   深绿色,teal,蓝   ~   是 蓝,较 浅</nobr></td><td bgcolor=\"#006e79\"><nobr>蓝色</nobr></td><td bgcolor=\"#006b80\"><nobr>蓝色,蓝</nobr></td><td bgcolor=\"#006a87\"><nobr>天</nobr></td><td bgcolor=\"#006a8f\"><nobr>蓝</nobr></td><td bgcolor=\"#00689b\"><nobr>蓝色</nobr></td><td bgcolor=\"#2066a3\"><nobr>蓝色</nobr></td><td bgcolor=\"#475caf\"><nobr>不 一个 接近 天,正 蓝色,蓝色,clear 蓝色   不深 紫色,最 接近 天空 的 颜色,绿色,比较 暗 的 蓝色,蓝色 不是 蓝色,不橘   比较 深 的 蓝,亮绿,蓝</nobr></td><td bgcolor=\"#61549e\"><nobr>紫色</nobr></td><td bgcolor=\"#715098\"><nobr>淡紫色</nobr></td><td bgcolor=\"#7b4c92\"><nobr>紫</nobr></td><td bgcolor=\"#83488a\"><nobr>紫,紫色</nobr></td><td bgcolor=\"#8f4485\"><nobr>紫色</nobr></td><td bgcolor=\"#96417b\"><nobr>紫色</nobr></td><td bgcolor=\"#9d3e6f\"><nobr>暗 粉色,偏 紫色,女士,紫色,玫瑰红,带点 粉红 的 颜色,不是 红色 ， 厉害 紫色,粉   也 不 基佬   ~   喔 知道 了,接近 的 粉红,  紫红色   ~   是 一点   ~   不是   ~   比较 深 粉色</nobr></td><td bgcolor=\"#a13c65\"><nobr>花,紫色</nobr></td><td bgcolor=\"#a43b5b\"><nobr>红 紫色</nobr></td></tr><tr><td bgcolor=\"#484748\"><nobr>灰色</nobr></td><td bgcolor=\"#8b163a\"><nobr>紫色,大地,深 的 大妈,粉 橙色,花,粉 紫色,不同 的 感觉,红色,最 接近 太阳,土黄色,红 紫色</nobr></td><td bgcolor=\"#8b1830\"><nobr>红</nobr></td><td bgcolor=\"#94001b\"><nobr>红色 粉色,亮 靠   ~   是,  亮,女士   ~   粉,text 棕色,红色,粉红色,棕色,亮 的 颜色   ~   是 的,太阳</nobr></td><td bgcolor=\"#882110\"><nobr>咖啡,红,黑暗,你好   ~   明艳 的 土黄色   ~   是 的,粉色,棕色,最 接近 太阳 色 ， 不 红色,棕色   深些,红色,暗绿,粉红</nobr></td><td bgcolor=\"#79310e\"><nobr>深棕色,树 ？,灰黄色,红   红色,选 灰色,pure,不是 粉红色,橙,啊   ~   不是 最深 的 颜色,黄色,亮 深棕色</nobr></td><td bgcolor=\"#6d3a18\"><nobr>棕色</nobr></td><td bgcolor=\"#683c11\"><nobr>土黄色</nobr></td><td bgcolor=\"#633f08\"><nobr>棕色</nobr></td><td bgcolor=\"#59431f\"><nobr>灰色,红,花朵,大地,棕色,橙,难看,最 接近 太阳 的 颜色,较 深 的 橘色,。 也 不 有 sad 灰色,fin 的 颜色</nobr></td><td bgcolor=\"#54451d\"><nobr>灰色,咖啡,是 的 颜色,没有 灰色,这 大妈   ~   红,棕色,是 灰色,  浅色   ~     棕色,土黄色,大地 一点,土</nobr></td><td bgcolor=\"#50461c\"><nobr>灰色,棕   ~   红色,灰黄色,棕色,红 灰色,红,红色,这是 皮肤 颜色,绿色,橘子 颜色,外线 。 。   刚才 ? ? ?</nobr></td><td bgcolor=\"#4b481d\"><nobr>棕色</nobr></td><td bgcolor=\"#454b1f\"><nobr>灰色,黑暗,军队,灰黄色,土地,叶子,土 的 颜色,赭石,土黄色,橙子   ~   没有   是 y   ~   偏 棕色,这里 咖啡</nobr></td><td bgcolor=\"#3f4c24\"><nobr>棕色</nobr></td><td bgcolor=\"#2d501a\"><nobr>灰色,较 深 的 黄色,草绿,灰狼   比较 深 的 绿色,浅褐色,纯,不是 最亮 的 颜色,深绿,浅 的 草地,青   ~   但   来 的 绿</nobr></td><td bgcolor=\"#1f5224\"><nobr>灰色</nobr></td><td bgcolor=\"#005330\"><nobr>绿色</nobr></td><td bgcolor=\"#005337\"><nobr>绿色</nobr></td><td bgcolor=\"#00523d\"><nobr>灰色</nobr></td><td bgcolor=\"#005242\"><nobr>深色</nobr></td><td bgcolor=\"#005147\"><nobr>灰</nobr></td><td bgcolor=\"#00514d\"><nobr>灰色</nobr></td><td bgcolor=\"#005153\"><nobr>灰色,浅蓝</nobr></td><td bgcolor=\"#005258\"><nobr>灰色,蓝色,浅蓝</nobr></td><td bgcolor=\"#00515c\"><nobr>浅蓝</nobr></td><td bgcolor=\"#005161\"><nobr>蓝色</nobr></td><td bgcolor=\"#005167\"><nobr>蓝色</nobr></td><td bgcolor=\"#00516d\"><nobr>蓝色</nobr></td><td bgcolor=\"#004d77\"><nobr>蓝色</nobr></td><td bgcolor=\"#004c84\"><nobr>蓝色</nobr></td><td bgcolor=\"#323f95\"><nobr>紫色</nobr></td><td bgcolor=\"#4c3986\"><nobr>蓝</nobr></td><td bgcolor=\"#5b347f\"><nobr>紫色</nobr></td><td bgcolor=\"#642f7a\"><nobr>紫色</nobr></td><td bgcolor=\"#6c2b73\"><nobr>紫色</nobr></td><td bgcolor=\"#752670\"><nobr>紫色</nobr></td><td bgcolor=\"#7d2166\"><nobr>紫色</nobr></td><td bgcolor=\"#821d5a\"><nobr>紫色</nobr></td><td bgcolor=\"#861a52\"><nobr>花,红,不 鲜艳 ， 红到 粉色,爱,lakers 粉色,偏 交通灯 的 颜色,粉色   紫,slightly 棕色 的 感觉,粉 紫色,选 刚才 一样</nobr></td><td bgcolor=\"#891747\"><nobr>不红 也 浅紫色,艳丽,红 紫色,紫色,最深,红色,粉 紫色,红 紫,偏 粉红色,粉红色,偏绿 但 猪肝色</nobr></td></tr><tr><td bgcolor=\"#313131\"><nobr>深色</nobr></td><td bgcolor=\"#610e31\"><nobr>紫色</nobr></td><td bgcolor=\"#620e27\"><nobr>红色</nobr></td><td bgcolor=\"#62101f\"><nobr>红色</nobr></td><td bgcolor=\"#571d1a\"><nobr>咖啡,棕   ~   偏红 的,鲜艳 的 红色,最淡得 那个,最 接近 红,veggie,深海,偏红 的 灰色,赭石,紫   almost 粉色</nobr></td><td bgcolor=\"#4c261d\"><nobr>发粉 的 红色 ， 不是 天 的 颜色,亮粉,暗紫色,选 粉色 easi ， 不是 女生 的 颜色,dolphin,common 粉红   ~   ov 粉色 ！ ， 不是 粉色,cant 紫色   ~   粉红,红色,土黄,红 紫色,粉红</nobr></td><td bgcolor=\"#4a2817\"><nobr>粉,粉色,不 接近 红,cobalt 版本,棕色,花,地,橙色,红 紫色,浅 的 橘色</nobr></td><td bgcolor=\"#472911\"><nobr>红</nobr></td><td bgcolor=\"#3c2d21\"><nobr>灰色</nobr></td><td bgcolor=\"#3a2e20\"><nobr>灰色</nobr></td><td bgcolor=\"#37301f\"><nobr>灰色</nobr></td><td bgcolor=\"#353020\"><nobr>灰色</nobr></td><td bgcolor=\"#333221\"><nobr>灰色</nobr></td><td bgcolor=\"#303223\"><nobr>灰色</nobr></td><td bgcolor=\"#2e3325\"><nobr>灰色</nobr></td><td bgcolor=\"#21361a\"><nobr>灰色,影响 偏黄,浅粉色,有点 灰   比较 鲜艳 的 绿色,灰,黯淡,棕色,地,难看,深灰色,灰绿色</nobr></td><td bgcolor=\"#1b371f\"><nobr>灰色,土绿,深色,  dolphin,这是 一个 深 的 绿,pinl,灰,比较 暗淡 的 草,灰绿色,青草</nobr></td><td bgcolor=\"#153724\"><nobr>绿色 ， 浅,最 接近 草,绿色   但 不是,绿色   ~   完全 灰,三个 绿   也 不 接近 草 的 颜色,比较 不 鲜艳 的 绿色,颜色   不是 最深 的 颜色,深绿色,草 的 颜色,暗绿,暗些</nobr></td><td bgcolor=\"#003926\"><nobr>绿</nobr></td><td bgcolor=\"#00392a\"><nobr>蓝色</nobr></td><td bgcolor=\"#00382d\"><nobr>灰色</nobr></td><td bgcolor=\"#033830\"><nobr>灰色,深色,蓝色,粉,淡蓝色,血色,天,纯 灰,绿色   ~   有点 粉</nobr></td><td bgcolor=\"#003735\"><nobr>蓝色</nobr></td><td bgcolor=\"#00383a\"><nobr>蓝</nobr></td><td bgcolor=\"#00383e\"><nobr>淡蓝色</nobr></td><td bgcolor=\"#003841\"><nobr>蓝色,灰</nobr></td><td bgcolor=\"#003744\"><nobr>蓝</nobr></td><td bgcolor=\"#003649\"><nobr>蓝</nobr></td><td bgcolor=\"#00354d\"><nobr>蓝</nobr></td><td bgcolor=\"#003555\"><nobr>蓝色,紫色</nobr></td><td bgcolor=\"#00325f\"><nobr>蓝色</nobr></td><td bgcolor=\"#24286f\"><nobr>蓝色,蓝</nobr></td><td bgcolor=\"#35265f\"><nobr>蓝色,紫色</nobr></td><td bgcolor=\"#3f225a\"><nobr>紫色</nobr></td><td bgcolor=\"#461f56\"><nobr>紫色</nobr></td><td bgcolor=\"#452449\"><nobr>紫色</nobr></td><td bgcolor=\"#492247\"><nobr>紫色</nobr></td><td bgcolor=\"#561649\"><nobr>紫色</nobr></td><td bgcolor=\"#5a1343\"><nobr>紫</nobr></td><td bgcolor=\"#5c123d\"><nobr>紫</nobr></td><td bgcolor=\"#5e1038\"><nobr>紫色</nobr></td></tr><tr><td bgcolor=\"#262626\"><nobr>红</nobr></td></tr></table>"
      ],
      "text/plain": [
       "<IPython.core.display.HTML object>"
      ]
     },
     "execution_count": 107,
     "metadata": {},
     "output_type": "execute_result"
    }
   ],
   "source": [
    "#samples_bs0, html = test_model(bs0, random=True)\n",
    "_, html = test_model(bs0, samples=samples_bs0, random=True)\n",
    "html"
   ]
  },
  {
   "cell_type": "code",
   "execution_count": 109,
   "metadata": {
    "scrolled": false
   },
   "outputs": [
    {
     "data": {
      "text/html": [
       "<table><tr><td bgcolor=\"#f1f1f1\"><nobr>&lt;unk&gt;</nobr></td></tr><tr><td bgcolor=\"#e3e3e3\"><nobr>&lt;unk&gt;</nobr></td><td bgcolor=\"#f0dfdf\"><nobr>&lt;unk&gt;</nobr></td><td bgcolor=\"#f1dfde\"><nobr>&lt;unk&gt;</nobr></td><td bgcolor=\"#f2dfdc\"><nobr>&lt;unk&gt;</nobr></td><td bgcolor=\"#f3e0d9\"><nobr>&lt;unk&gt;</nobr></td><td bgcolor=\"#f4dfd6\"><nobr>&lt;unk&gt;</nobr></td><td bgcolor=\"#f4dfd1\"><nobr>&lt;unk&gt;</nobr></td><td bgcolor=\"#f4e0cd\"><nobr>&lt;unk&gt;</nobr></td><td bgcolor=\"#f2e1c9\"><nobr>&lt;unk&gt;</nobr></td><td bgcolor=\"#f9e0ab\"><nobr>&lt;unk&gt;</nobr></td><td bgcolor=\"#f8e28c\"><nobr>&lt;unk&gt;</nobr></td><td bgcolor=\"#f2e58b\"><nobr>&lt;unk&gt;,绿色</nobr></td><td bgcolor=\"#ece68b\"><nobr>绿色</nobr></td><td bgcolor=\"#e5ea8c\"><nobr>绿色</nobr></td><td bgcolor=\"#deeaab\"><nobr>绿色</nobr></td><td bgcolor=\"#dae8c9\"><nobr>绿色</nobr></td><td bgcolor=\"#d4e9cf\"><nobr>绿色</nobr></td><td bgcolor=\"#cfead4\"><nobr>绿色</nobr></td><td bgcolor=\"#cdead8\"><nobr>绿色</nobr></td><td bgcolor=\"#cbeadb\"><nobr>绿色</nobr></td><td bgcolor=\"#caeade\"><nobr>绿色</nobr></td><td bgcolor=\"#c8eae0\"><nobr>蓝色</nobr></td><td bgcolor=\"#c8eae2\"><nobr>蓝色</nobr></td><td bgcolor=\"#caeae6\"><nobr>蓝色</nobr></td><td bgcolor=\"#cbe9e9\"><nobr>蓝色</nobr></td><td bgcolor=\"#cee9eb\"><nobr>蓝色</nobr></td><td bgcolor=\"#d1e8ec\"><nobr>蓝色</nobr></td><td bgcolor=\"#d4e8ed\"><nobr>蓝色</nobr></td><td bgcolor=\"#d7e6ed\"><nobr>蓝色</nobr></td><td bgcolor=\"#dbe5ed\"><nobr>蓝色</nobr></td><td bgcolor=\"#dde5ed\"><nobr>蓝色</nobr></td><td bgcolor=\"#e1e4ed\"><nobr>蓝色</nobr></td><td bgcolor=\"#e4e3ec\"><nobr>紫色</nobr></td><td bgcolor=\"#e5e2ec\"><nobr>紫色</nobr></td><td bgcolor=\"#e7e2eb\"><nobr>紫色</nobr></td><td bgcolor=\"#e9e1e9\"><nobr>紫色</nobr></td><td bgcolor=\"#ebe1e8\"><nobr>紫色</nobr></td><td bgcolor=\"#ece1e6\"><nobr>红</nobr></td><td bgcolor=\"#eddfe4\"><nobr>红</nobr></td><td bgcolor=\"#efdfe3\"><nobr>&lt;unk&gt;,红</nobr></td><td bgcolor=\"#efdfe1\"><nobr>&lt;unk&gt;</nobr></td></tr><tr><td bgcolor=\"#c8c8c8\"><nobr>灰色</nobr></td><td bgcolor=\"#fab8b8\"><nobr>&lt;unk&gt;</nobr></td><td bgcolor=\"#fcb7b2\"><nobr>&lt;unk&gt;</nobr></td><td bgcolor=\"#fdb8aa\"><nobr>&lt;unk&gt;</nobr></td><td bgcolor=\"#fdb7a1\"><nobr>&lt;unk&gt;</nobr></td><td bgcolor=\"#fbb898\"><nobr>&lt;unk&gt;</nobr></td><td bgcolor=\"#f7bb8f\"><nobr>&lt;unk&gt;</nobr></td><td bgcolor=\"#feba70\"><nobr>&lt;unk&gt;</nobr></td><td bgcolor=\"#ffba43\"><nobr>黄色</nobr></td><td bgcolor=\"#f8ba00\"><nobr>黄色</nobr></td><td bgcolor=\"#e9c500\"><nobr>黄色</nobr></td><td bgcolor=\"#dec600\"><nobr>黄色</nobr></td><td bgcolor=\"#d4cc00\"><nobr>黄色</nobr></td><td bgcolor=\"#c7d200\"><nobr>绿色</nobr></td><td bgcolor=\"#b9d543\"><nobr>绿色</nobr></td><td bgcolor=\"#9eda5c\"><nobr>绿色</nobr></td><td bgcolor=\"#93da87\"><nobr>绿色</nobr></td><td bgcolor=\"#7bdc98\"><nobr>绿色</nobr></td><td bgcolor=\"#86d9af\"><nobr>绿色</nobr></td><td bgcolor=\"#81d9b6\"><nobr>绿色</nobr></td><td bgcolor=\"#7dd9bd\"><nobr>绿色</nobr></td><td bgcolor=\"#7bd9c1\"><nobr>绿色</nobr></td><td bgcolor=\"#97d4c9\"><nobr>蓝色</nobr></td><td bgcolor=\"#97d3ce\"><nobr>蓝色</nobr></td><td bgcolor=\"#97d4d4\"><nobr>蓝色</nobr></td><td bgcolor=\"#98d4d8\"><nobr>蓝色</nobr></td><td bgcolor=\"#9cd1dd\"><nobr>蓝色</nobr></td><td bgcolor=\"#a3d1df\"><nobr>蓝色</nobr></td><td bgcolor=\"#aacfe1\"><nobr>蓝色</nobr></td><td bgcolor=\"#a1d0f2\"><nobr>蓝色</nobr></td><td bgcolor=\"#abcdf4\"><nobr>蓝色</nobr></td><td bgcolor=\"#c1c8e2\"><nobr>蓝色</nobr></td><td bgcolor=\"#c6c6e1\"><nobr>紫色</nobr></td><td bgcolor=\"#ccc5df\"><nobr>紫色</nobr></td><td bgcolor=\"#d0c3dd\"><nobr>紫色</nobr></td><td bgcolor=\"#e1bde1\"><nobr>紫色</nobr></td><td bgcolor=\"#e8bbdc\"><nobr>紫色</nobr></td><td bgcolor=\"#eebad5\"><nobr>红</nobr></td><td bgcolor=\"#f3b9cc\"><nobr>&lt;unk&gt;</nobr></td><td bgcolor=\"#f6b8c6\"><nobr>&lt;unk&gt;</nobr></td><td bgcolor=\"#f8b8c0\"><nobr>&lt;unk&gt;</nobr></td></tr><tr><td bgcolor=\"#adadad\"><nobr>灰色</nobr></td><td bgcolor=\"#ed969c\"><nobr>&lt;unk&gt;</nobr></td><td bgcolor=\"#ef9590\"><nobr>&lt;unk&gt;</nobr></td><td bgcolor=\"#fd8d7b\"><nobr>&lt;unk&gt;</nobr></td><td bgcolor=\"#fb906b\"><nobr>&lt;unk&gt;</nobr></td><td bgcolor=\"#f7945f\"><nobr>&lt;unk&gt;</nobr></td><td bgcolor=\"#ff8e16\"><nobr>黄色</nobr></td><td bgcolor=\"#f29900\"><nobr>黄色</nobr></td><td bgcolor=\"#e59c00\"><nobr>黄色</nobr></td><td bgcolor=\"#d9a300\"><nobr>黄色</nobr></td><td bgcolor=\"#cca800\"><nobr>黄色</nobr></td><td bgcolor=\"#c1ac00\"><nobr>黄色</nobr></td><td bgcolor=\"#b8b100\"><nobr>黄色</nobr></td><td bgcolor=\"#adb700\"><nobr>&lt;unk&gt; 的 颜色</nobr></td><td bgcolor=\"#9bbb00\"><nobr>绿色</nobr></td><td bgcolor=\"#83bf46\"><nobr>绿色</nobr></td><td bgcolor=\"#69c25f\"><nobr>绿色</nobr></td><td bgcolor=\"#42c475\"><nobr>绿色</nobr></td><td bgcolor=\"#52c190\"><nobr>绿色</nobr></td><td bgcolor=\"#49c298\"><nobr>绿色</nobr></td><td bgcolor=\"#40c2a1\"><nobr>绿色</nobr></td><td bgcolor=\"#35c2a8\"><nobr>绿色</nobr></td><td bgcolor=\"#29c1af\"><nobr>绿色</nobr></td><td bgcolor=\"#5ebcb8\"><nobr>蓝色</nobr></td><td bgcolor=\"#5ebec0\"><nobr>蓝色</nobr></td><td bgcolor=\"#61bec7\"><nobr>蓝色</nobr></td><td bgcolor=\"#68bdcd\"><nobr>蓝色</nobr></td><td bgcolor=\"#71b8d1\"><nobr>蓝色</nobr></td><td bgcolor=\"#62bbe2\"><nobr>蓝色</nobr></td><td bgcolor=\"#78b7e4\"><nobr>蓝色</nobr></td><td bgcolor=\"#87b3e6\"><nobr>蓝色</nobr></td><td bgcolor=\"#a1add6\"><nobr>蓝色</nobr></td><td bgcolor=\"#abaad4\"><nobr>紫色</nobr></td><td bgcolor=\"#b4a7d1\"><nobr>紫色</nobr></td><td bgcolor=\"#bba4cd\"><nobr>紫色</nobr></td><td bgcolor=\"#ce9ecf\"><nobr>紫色</nobr></td><td bgcolor=\"#d79aca\"><nobr>紫色</nobr></td><td bgcolor=\"#ea93c6\"><nobr>&lt;unk&gt;</nobr></td><td bgcolor=\"#f191b7\"><nobr>&lt;unk&gt;</nobr></td><td bgcolor=\"#e896ad\"><nobr>&lt;unk&gt;</nobr></td><td bgcolor=\"#eb96a2\"><nobr>&lt;unk&gt;</nobr></td></tr><tr><td bgcolor=\"#939393\"><nobr>灰色</nobr></td><td bgcolor=\"#eb6b7a\"><nobr>&lt;unk&gt;</nobr></td><td bgcolor=\"#ec6969\"><nobr>&lt;unk&gt;</nobr></td><td bgcolor=\"#ec6a59\"><nobr>&lt;unk&gt;</nobr></td><td bgcolor=\"#f46730\"><nobr>黄色</nobr></td><td bgcolor=\"#ec6900\"><nobr>黄色</nobr></td><td bgcolor=\"#db7715\"><nobr>黄色</nobr></td><td bgcolor=\"#d07f00\"><nobr>黄色</nobr></td><td bgcolor=\"#c58600\"><nobr>黄色</nobr></td><td bgcolor=\"#ba8c00\"><nobr>黄色</nobr></td><td bgcolor=\"#af9000\"><nobr>黄色</nobr></td><td bgcolor=\"#a59300\"><nobr>&lt;unk&gt;</nobr></td><td bgcolor=\"#9c9600\"><nobr>&lt;unk&gt;</nobr></td><td bgcolor=\"#909c00\"><nobr>&lt;unk&gt;</nobr></td><td bgcolor=\"#81a000\"><nobr>&lt;unk&gt; 的 颜色</nobr></td><td bgcolor=\"#5fa600\"><nobr>绿色</nobr></td><td bgcolor=\"#2daa32\"><nobr>绿色</nobr></td><td bgcolor=\"#14a960\"><nobr>绿色</nobr></td><td bgcolor=\"#00a875\"><nobr>绿色</nobr></td><td bgcolor=\"#00a87d\"><nobr>绿色</nobr></td><td bgcolor=\"#00a788\"><nobr>绿色</nobr></td><td bgcolor=\"#00a68f\"><nobr>绿色</nobr></td><td bgcolor=\"#00a599\"><nobr>绿色</nobr></td><td bgcolor=\"#00a4a0\"><nobr>绿色</nobr></td><td bgcolor=\"#00a8ac\"><nobr>蓝色</nobr></td><td bgcolor=\"#00a8b4\"><nobr>绿色</nobr></td><td bgcolor=\"#00a4bf\"><nobr>蓝色</nobr></td><td bgcolor=\"#2da4c4\"><nobr>蓝色</nobr></td><td bgcolor=\"#01a4d5\"><nobr>蓝色</nobr></td><td bgcolor=\"#449dd8\"><nobr>蓝色</nobr></td><td bgcolor=\"#609ad8\"><nobr>蓝色</nobr></td><td bgcolor=\"#8492c9\"><nobr>蓝色</nobr></td><td bgcolor=\"#918dc6\"><nobr>紫色</nobr></td><td bgcolor=\"#9e8ac3\"><nobr>紫色</nobr></td><td bgcolor=\"#a786bd\"><nobr>紫色</nobr></td><td bgcolor=\"#bb7dbe\"><nobr>紫色</nobr></td><td bgcolor=\"#c57ab6\"><nobr>紫色</nobr></td><td bgcolor=\"#cc78ab\"><nobr>紫色</nobr></td><td bgcolor=\"#d4769e\"><nobr>&lt;unk&gt;</nobr></td><td bgcolor=\"#e56c94\"><nobr>&lt;unk&gt;</nobr></td><td bgcolor=\"#e86a88\"><nobr>&lt;unk&gt;</nobr></td></tr><tr><td bgcolor=\"#7a7979\"><nobr>灰色</nobr></td><td bgcolor=\"#da3f60\"><nobr>红</nobr></td><td bgcolor=\"#db414f\"><nobr>红</nobr></td><td bgcolor=\"#da4035\"><nobr>红</nobr></td><td bgcolor=\"#d84700\"><nobr>黄色</nobr></td><td bgcolor=\"#c65800\"><nobr>黄色</nobr></td><td bgcolor=\"#b95f00\"><nobr>黄色</nobr></td><td bgcolor=\"#ae6600\"><nobr>黄色</nobr></td><td bgcolor=\"#a46c00\"><nobr>&lt;unk&gt;</nobr></td><td bgcolor=\"#9a730d\"><nobr>&lt;unk&gt;</nobr></td><td bgcolor=\"#927400\"><nobr>&lt;unk&gt;</nobr></td><td bgcolor=\"#897a00\"><nobr>&lt;unk&gt;</nobr></td><td bgcolor=\"#817c00\"><nobr>&lt;unk&gt;</nobr></td><td bgcolor=\"#798000\"><nobr>&lt;unk&gt; 的 颜色,&lt;unk&gt;</nobr></td><td bgcolor=\"#698416\"><nobr>&lt;unk&gt;</nobr></td><td bgcolor=\"#4c890a\"><nobr>绿色</nobr></td><td bgcolor=\"#008e1c\"><nobr>绿色</nobr></td><td bgcolor=\"#008c4d\"><nobr>绿色</nobr></td><td bgcolor=\"#008b5d\"><nobr>绿色</nobr></td><td bgcolor=\"#008a66\"><nobr>绿色</nobr></td><td bgcolor=\"#008a70\"><nobr>绿色</nobr></td><td bgcolor=\"#008976\"><nobr>绿色</nobr></td><td bgcolor=\"#00887e\"><nobr>绿色</nobr></td><td bgcolor=\"#008885\"><nobr>绿色</nobr></td><td bgcolor=\"#008990\"><nobr>绿色</nobr></td><td bgcolor=\"#008997\"><nobr>蓝色</nobr></td><td bgcolor=\"#00899f\"><nobr>蓝色</nobr></td><td bgcolor=\"#0089a8\"><nobr>蓝色</nobr></td><td bgcolor=\"#0088b2\"><nobr>蓝色</nobr></td><td bgcolor=\"#0082c1\"><nobr>蓝色</nobr></td><td bgcolor=\"#2582cc\"><nobr>蓝色</nobr></td><td bgcolor=\"#6577bc\"><nobr>蓝色</nobr></td><td bgcolor=\"#786fb8\"><nobr>紫色</nobr></td><td bgcolor=\"#896bb3\"><nobr>紫色</nobr></td><td bgcolor=\"#9267ad\"><nobr>紫色</nobr></td><td bgcolor=\"#9f63a4\"><nobr>紫色</nobr></td><td bgcolor=\"#b357a5\"><nobr>紫色</nobr></td><td bgcolor=\"#bc539b\"><nobr>紫色</nobr></td><td bgcolor=\"#c54f89\"><nobr>&lt;unk&gt;,红</nobr></td><td bgcolor=\"#d4417f\"><nobr>红</nobr></td><td bgcolor=\"#d7406e\"><nobr>红</nobr></td></tr><tr><td bgcolor=\"#606060\"><nobr>灰色</nobr></td><td bgcolor=\"#bc154c\"><nobr>红</nobr></td><td bgcolor=\"#bc1a39\"><nobr>红</nobr></td><td bgcolor=\"#ba2020\"><nobr>红</nobr></td><td bgcolor=\"#b22e00\"><nobr>红,黄色</nobr></td><td bgcolor=\"#9e450f\"><nobr>&lt;unk&gt;</nobr></td><td bgcolor=\"#914d1b\"><nobr>棕色</nobr></td><td bgcolor=\"#8b510d\"><nobr>&lt;unk&gt;</nobr></td><td bgcolor=\"#7f5820\"><nobr>棕色</nobr></td><td bgcolor=\"#795a1a\"><nobr>灰色</nobr></td><td bgcolor=\"#735d14\"><nobr>&lt;unk&gt;</nobr></td><td bgcolor=\"#6d5f11\"><nobr>灰色,&lt;unk&gt;</nobr></td><td bgcolor=\"#666311\"><nobr>&lt;unk&gt;</nobr></td><td bgcolor=\"#5f6517\"><nobr>&lt;unk&gt;</nobr></td><td bgcolor=\"#556820\"><nobr>&lt;unk&gt;</nobr></td><td bgcolor=\"#3a6d13\"><nobr>绿色</nobr></td><td bgcolor=\"#216f27\"><nobr>绿色</nobr></td><td bgcolor=\"#006f40\"><nobr>绿色</nobr></td><td bgcolor=\"#006e4c\"><nobr>绿色</nobr></td><td bgcolor=\"#006e51\"><nobr>绿色</nobr></td><td bgcolor=\"#006d58\"><nobr>绿色</nobr></td><td bgcolor=\"#006d5e\"><nobr>绿色</nobr></td><td bgcolor=\"#006c64\"><nobr>绿色</nobr></td><td bgcolor=\"#006e6e\"><nobr>绿色</nobr></td><td bgcolor=\"#006e73\"><nobr>绿色,蓝色</nobr></td><td bgcolor=\"#006e79\"><nobr>蓝色</nobr></td><td bgcolor=\"#006b80\"><nobr>蓝色</nobr></td><td bgcolor=\"#006a87\"><nobr>蓝色</nobr></td><td bgcolor=\"#006a8f\"><nobr>蓝色</nobr></td><td bgcolor=\"#00689b\"><nobr>蓝色</nobr></td><td bgcolor=\"#2066a3\"><nobr>蓝色</nobr></td><td bgcolor=\"#475caf\"><nobr>蓝色</nobr></td><td bgcolor=\"#61549e\"><nobr>紫色</nobr></td><td bgcolor=\"#715098\"><nobr>紫色</nobr></td><td bgcolor=\"#7b4c92\"><nobr>紫色</nobr></td><td bgcolor=\"#83488a\"><nobr>紫色</nobr></td><td bgcolor=\"#8f4485\"><nobr>紫色</nobr></td><td bgcolor=\"#96417b\"><nobr>紫色</nobr></td><td bgcolor=\"#9d3e6f\"><nobr>紫色</nobr></td><td bgcolor=\"#a13c65\"><nobr>&lt;unk&gt;</nobr></td><td bgcolor=\"#a43b5b\"><nobr>红</nobr></td></tr><tr><td bgcolor=\"#484748\"><nobr>灰色</nobr></td><td bgcolor=\"#8b163a\"><nobr>红</nobr></td><td bgcolor=\"#8b1830\"><nobr>红</nobr></td><td bgcolor=\"#94001b\"><nobr>红</nobr></td><td bgcolor=\"#882110\"><nobr>&lt;unk&gt;,红</nobr></td><td bgcolor=\"#79310e\"><nobr>&lt;unk&gt;</nobr></td><td bgcolor=\"#6d3a18\"><nobr>棕色</nobr></td><td bgcolor=\"#683c11\"><nobr>灰色,棕色</nobr></td><td bgcolor=\"#633f08\"><nobr>灰色</nobr></td><td bgcolor=\"#59431f\"><nobr>棕色</nobr></td><td bgcolor=\"#54451d\"><nobr>灰色,&lt;unk&gt;,棕色</nobr></td><td bgcolor=\"#50461c\"><nobr>&lt;unk&gt;</nobr></td><td bgcolor=\"#4b481d\"><nobr>&lt;unk&gt;</nobr></td><td bgcolor=\"#454b1f\"><nobr>灰色,&lt;unk&gt;</nobr></td><td bgcolor=\"#3f4c24\"><nobr>&lt;unk&gt;</nobr></td><td bgcolor=\"#2d501a\"><nobr>绿色</nobr></td><td bgcolor=\"#1f5224\"><nobr>绿色</nobr></td><td bgcolor=\"#005330\"><nobr>绿色</nobr></td><td bgcolor=\"#005337\"><nobr>绿色</nobr></td><td bgcolor=\"#00523d\"><nobr>绿色</nobr></td><td bgcolor=\"#005242\"><nobr>&lt;unk&gt;</nobr></td><td bgcolor=\"#005147\"><nobr>&lt;unk&gt;</nobr></td><td bgcolor=\"#00514d\"><nobr>灰色,蓝色</nobr></td><td bgcolor=\"#005153\"><nobr>蓝色</nobr></td><td bgcolor=\"#005258\"><nobr>蓝色</nobr></td><td bgcolor=\"#00515c\"><nobr>蓝色</nobr></td><td bgcolor=\"#005161\"><nobr>蓝色</nobr></td><td bgcolor=\"#005167\"><nobr>蓝色</nobr></td><td bgcolor=\"#00516d\"><nobr>蓝色</nobr></td><td bgcolor=\"#004d77\"><nobr>蓝色</nobr></td><td bgcolor=\"#004c84\"><nobr>蓝色</nobr></td><td bgcolor=\"#323f95\"><nobr>蓝色</nobr></td><td bgcolor=\"#4c3986\"><nobr>紫色</nobr></td><td bgcolor=\"#5b347f\"><nobr>紫色</nobr></td><td bgcolor=\"#642f7a\"><nobr>紫色</nobr></td><td bgcolor=\"#6c2b73\"><nobr>紫色</nobr></td><td bgcolor=\"#752670\"><nobr>紫色</nobr></td><td bgcolor=\"#7d2166\"><nobr>紫色</nobr></td><td bgcolor=\"#821d5a\"><nobr>紫色</nobr></td><td bgcolor=\"#861a52\"><nobr>紫色</nobr></td><td bgcolor=\"#891747\"><nobr>红</nobr></td></tr><tr><td bgcolor=\"#313131\"><nobr>灰色</nobr></td><td bgcolor=\"#610e31\"><nobr>紫色</nobr></td><td bgcolor=\"#620e27\"><nobr>&lt;unk&gt;</nobr></td><td bgcolor=\"#62101f\"><nobr>红</nobr></td><td bgcolor=\"#571d1a\"><nobr>红</nobr></td><td bgcolor=\"#4c261d\"><nobr>&lt;unk&gt;</nobr></td><td bgcolor=\"#4a2817\"><nobr>灰色</nobr></td><td bgcolor=\"#472911\"><nobr>&lt;unk&gt;</nobr></td><td bgcolor=\"#3c2d21\"><nobr>灰色</nobr></td><td bgcolor=\"#3a2e20\"><nobr>灰色</nobr></td><td bgcolor=\"#37301f\"><nobr>灰色</nobr></td><td bgcolor=\"#353020\"><nobr>灰色</nobr></td><td bgcolor=\"#333221\"><nobr>灰色</nobr></td><td bgcolor=\"#303223\"><nobr>灰色</nobr></td><td bgcolor=\"#2e3325\"><nobr>灰色</nobr></td><td bgcolor=\"#21361a\"><nobr>&lt;unk&gt;</nobr></td><td bgcolor=\"#1b371f\"><nobr>绿色</nobr></td><td bgcolor=\"#153724\"><nobr>绿色</nobr></td><td bgcolor=\"#003926\"><nobr>绿色</nobr></td><td bgcolor=\"#00392a\"><nobr>蓝色</nobr></td><td bgcolor=\"#00382d\"><nobr>蓝色</nobr></td><td bgcolor=\"#033830\"><nobr>灰色</nobr></td><td bgcolor=\"#003735\"><nobr>蓝色</nobr></td><td bgcolor=\"#00383a\"><nobr>蓝色</nobr></td><td bgcolor=\"#00383e\"><nobr>蓝色</nobr></td><td bgcolor=\"#003841\"><nobr>蓝色</nobr></td><td bgcolor=\"#003744\"><nobr>蓝色</nobr></td><td bgcolor=\"#003649\"><nobr>蓝色</nobr></td><td bgcolor=\"#00354d\"><nobr>蓝色</nobr></td><td bgcolor=\"#003555\"><nobr>蓝色</nobr></td><td bgcolor=\"#00325f\"><nobr>蓝色</nobr></td><td bgcolor=\"#24286f\"><nobr>蓝色</nobr></td><td bgcolor=\"#35265f\"><nobr>蓝色</nobr></td><td bgcolor=\"#3f225a\"><nobr>紫色</nobr></td><td bgcolor=\"#461f56\"><nobr>紫色</nobr></td><td bgcolor=\"#452449\"><nobr>紫色</nobr></td><td bgcolor=\"#492247\"><nobr>紫色</nobr></td><td bgcolor=\"#561649\"><nobr>紫色</nobr></td><td bgcolor=\"#5a1343\"><nobr>紫色</nobr></td><td bgcolor=\"#5c123d\"><nobr>紫色</nobr></td><td bgcolor=\"#5e1038\"><nobr>紫色</nobr></td></tr><tr><td bgcolor=\"#262626\"><nobr>灰色</nobr></td></tr></table>"
      ],
      "text/plain": [
       "<IPython.core.display.HTML object>"
      ]
     },
     "execution_count": 109,
     "metadata": {},
     "output_type": "execute_result"
    }
   ],
   "source": [
    "# samples_ms0, html = test_model(ms0)\n",
    "_, html = test_model(ms0, samples=samples_ms0)\n",
    "html"
   ]
  },
  {
   "cell_type": "code",
   "execution_count": null,
   "metadata": {
    "collapsed": true
   },
   "outputs": [],
   "source": []
  },
  {
   "cell_type": "code",
   "execution_count": 87,
   "metadata": {
    "collapsed": true
   },
   "outputs": [],
   "source": [
    "input_insts_en = []\n",
    "for inst in input_insts:\n",
    "    new_inst = I(**inst.__dict__)\n",
    "    new_inst.output = u'en:'\n",
    "    input_insts_en.append(new_inst)"
   ]
  },
  {
   "cell_type": "code",
   "execution_count": 90,
   "metadata": {},
   "outputs": [
    {
     "name": "stdout",
     "output_type": "stream",
     "text": [
      "Predicting\n",
      "Predict batch 9 of 29 (~31% done, ETA Fri Oct 13 14:04:52 2017)\n",
      "Predict batch 18 of 29 (~62% done, ETA Fri Oct 13 14:05:16 2017)\n",
      "Predict batch 27 of 29 (~93% done, ETA Fri Oct 13 14:05:29 2017)\n"
     ]
    },
    {
     "data": {
      "text/html": [
       "<table><tr><td bgcolor=\"#f1f1f1\"><nobr>red</nobr></td></tr><tr><td bgcolor=\"#e3e3e3\"><nobr>pink</nobr></td><td bgcolor=\"#f0dfdf\"><nobr>red</nobr></td><td bgcolor=\"#f1dfde\"><nobr>red</nobr></td><td bgcolor=\"#f2dfdc\"><nobr>red</nobr></td><td bgcolor=\"#f3e0d9\"><nobr>orange</nobr></td><td bgcolor=\"#f4dfd6\"><nobr>orange</nobr></td><td bgcolor=\"#f4dfd1\"><nobr>orange</nobr></td><td bgcolor=\"#f4e0cd\"><nobr>orange</nobr></td><td bgcolor=\"#f2e1c9\"><nobr>orange</nobr></td><td bgcolor=\"#f9e0ab\"><nobr>yellow</nobr></td><td bgcolor=\"#f8e28c\"><nobr>yellow</nobr></td><td bgcolor=\"#f2e58b\"><nobr>yellow</nobr></td><td bgcolor=\"#ece68b\"><nobr>yellow</nobr></td><td bgcolor=\"#e5ea8c\"><nobr>green</nobr></td><td bgcolor=\"#deeaab\"><nobr>green</nobr></td><td bgcolor=\"#dae8c9\"><nobr>green</nobr></td><td bgcolor=\"#d4e9cf\"><nobr>green</nobr></td><td bgcolor=\"#cfead4\"><nobr>green</nobr></td><td bgcolor=\"#cdead8\"><nobr>green</nobr></td><td bgcolor=\"#cbeadb\"><nobr>green</nobr></td><td bgcolor=\"#caeade\"><nobr>blue</nobr></td><td bgcolor=\"#c8eae0\"><nobr>blue</nobr></td><td bgcolor=\"#c8eae2\"><nobr>blue</nobr></td><td bgcolor=\"#caeae6\"><nobr>blue</nobr></td><td bgcolor=\"#cbe9e9\"><nobr>blue</nobr></td><td bgcolor=\"#cee9eb\"><nobr>blue</nobr></td><td bgcolor=\"#d1e8ec\"><nobr>blue</nobr></td><td bgcolor=\"#d4e8ed\"><nobr>blue</nobr></td><td bgcolor=\"#d7e6ed\"><nobr>blue</nobr></td><td bgcolor=\"#dbe5ed\"><nobr>blue</nobr></td><td bgcolor=\"#dde5ed\"><nobr>blue</nobr></td><td bgcolor=\"#e1e4ed\"><nobr>blue</nobr></td><td bgcolor=\"#e4e3ec\"><nobr>purple</nobr></td><td bgcolor=\"#e5e2ec\"><nobr>purple</nobr></td><td bgcolor=\"#e7e2eb\"><nobr>purple</nobr></td><td bgcolor=\"#e9e1e9\"><nobr>purple</nobr></td><td bgcolor=\"#ebe1e8\"><nobr>pink</nobr></td><td bgcolor=\"#ece1e6\"><nobr>pink</nobr></td><td bgcolor=\"#eddfe4\"><nobr>pink</nobr></td><td bgcolor=\"#efdfe3\"><nobr>pink</nobr></td><td bgcolor=\"#efdfe1\"><nobr>red</nobr></td></tr><tr><td bgcolor=\"#c8c8c8\"><nobr>brown,the pink +ish pink</nobr></td><td bgcolor=\"#fab8b8\"><nobr>red</nobr></td><td bgcolor=\"#fcb7b2\"><nobr>orange</nobr></td><td bgcolor=\"#fdb8aa\"><nobr>orange</nobr></td><td bgcolor=\"#fdb7a1\"><nobr>orange</nobr></td><td bgcolor=\"#fbb898\"><nobr>orange</nobr></td><td bgcolor=\"#f7bb8f\"><nobr>orange</nobr></td><td bgcolor=\"#feba70\"><nobr>orange</nobr></td><td bgcolor=\"#ffba43\"><nobr>orange</nobr></td><td bgcolor=\"#f8ba00\"><nobr>yellow</nobr></td><td bgcolor=\"#e9c500\"><nobr>yellow</nobr></td><td bgcolor=\"#dec600\"><nobr>yellow</nobr></td><td bgcolor=\"#d4cc00\"><nobr>yellow</nobr></td><td bgcolor=\"#c7d200\"><nobr>yellow</nobr></td><td bgcolor=\"#b9d543\"><nobr>yellow</nobr></td><td bgcolor=\"#9eda5c\"><nobr>green</nobr></td><td bgcolor=\"#93da87\"><nobr>green</nobr></td><td bgcolor=\"#7bdc98\"><nobr>green</nobr></td><td bgcolor=\"#86d9af\"><nobr>green</nobr></td><td bgcolor=\"#81d9b6\"><nobr>blue</nobr></td><td bgcolor=\"#7dd9bd\"><nobr>blue</nobr></td><td bgcolor=\"#7bd9c1\"><nobr>blue</nobr></td><td bgcolor=\"#97d4c9\"><nobr>blue</nobr></td><td bgcolor=\"#97d3ce\"><nobr>blue</nobr></td><td bgcolor=\"#97d4d4\"><nobr>blue</nobr></td><td bgcolor=\"#98d4d8\"><nobr>blue</nobr></td><td bgcolor=\"#9cd1dd\"><nobr>blue</nobr></td><td bgcolor=\"#a3d1df\"><nobr>blue</nobr></td><td bgcolor=\"#aacfe1\"><nobr>blue</nobr></td><td bgcolor=\"#a1d0f2\"><nobr>blue</nobr></td><td bgcolor=\"#abcdf4\"><nobr>blue</nobr></td><td bgcolor=\"#c1c8e2\"><nobr>purple</nobr></td><td bgcolor=\"#c6c6e1\"><nobr>purple</nobr></td><td bgcolor=\"#ccc5df\"><nobr>purple</nobr></td><td bgcolor=\"#d0c3dd\"><nobr>purple</nobr></td><td bgcolor=\"#e1bde1\"><nobr>purple</nobr></td><td bgcolor=\"#e8bbdc\"><nobr>pink</nobr></td><td bgcolor=\"#eebad5\"><nobr>pink</nobr></td><td bgcolor=\"#f3b9cc\"><nobr>red</nobr></td><td bgcolor=\"#f6b8c6\"><nobr>red</nobr></td><td bgcolor=\"#f8b8c0\"><nobr>red</nobr></td></tr><tr><td bgcolor=\"#adadad\"><nobr>grey</nobr></td><td bgcolor=\"#ed969c\"><nobr>red</nobr></td><td bgcolor=\"#ef9590\"><nobr>red</nobr></td><td bgcolor=\"#fd8d7b\"><nobr>orange</nobr></td><td bgcolor=\"#fb906b\"><nobr>orange</nobr></td><td bgcolor=\"#f7945f\"><nobr>orange</nobr></td><td bgcolor=\"#ff8e16\"><nobr>orange</nobr></td><td bgcolor=\"#f29900\"><nobr>orange</nobr></td><td bgcolor=\"#e59c00\"><nobr>orange</nobr></td><td bgcolor=\"#d9a300\"><nobr>orange</nobr></td><td bgcolor=\"#cca800\"><nobr>orange</nobr></td><td bgcolor=\"#c1ac00\"><nobr>yellow</nobr></td><td bgcolor=\"#b8b100\"><nobr>yellow</nobr></td><td bgcolor=\"#adb700\"><nobr>yellow</nobr></td><td bgcolor=\"#9bbb00\"><nobr>yellow</nobr></td><td bgcolor=\"#83bf46\"><nobr>green</nobr></td><td bgcolor=\"#69c25f\"><nobr>green</nobr></td><td bgcolor=\"#42c475\"><nobr>green</nobr></td><td bgcolor=\"#52c190\"><nobr>green</nobr></td><td bgcolor=\"#49c298\"><nobr>green</nobr></td><td bgcolor=\"#40c2a1\"><nobr>green</nobr></td><td bgcolor=\"#35c2a8\"><nobr>green</nobr></td><td bgcolor=\"#29c1af\"><nobr>blue</nobr></td><td bgcolor=\"#5ebcb8\"><nobr>blue</nobr></td><td bgcolor=\"#5ebec0\"><nobr>blue</nobr></td><td bgcolor=\"#61bec7\"><nobr>blue</nobr></td><td bgcolor=\"#68bdcd\"><nobr>blue</nobr></td><td bgcolor=\"#71b8d1\"><nobr>blue</nobr></td><td bgcolor=\"#62bbe2\"><nobr>blue</nobr></td><td bgcolor=\"#78b7e4\"><nobr>blue</nobr></td><td bgcolor=\"#87b3e6\"><nobr>blue</nobr></td><td bgcolor=\"#a1add6\"><nobr>blue</nobr></td><td bgcolor=\"#abaad4\"><nobr>purple</nobr></td><td bgcolor=\"#b4a7d1\"><nobr>purple</nobr></td><td bgcolor=\"#bba4cd\"><nobr>purple</nobr></td><td bgcolor=\"#ce9ecf\"><nobr>purple</nobr></td><td bgcolor=\"#d79aca\"><nobr>pink</nobr></td><td bgcolor=\"#ea93c6\"><nobr>pink</nobr></td><td bgcolor=\"#f191b7\"><nobr>pink</nobr></td><td bgcolor=\"#e896ad\"><nobr>red</nobr></td><td bgcolor=\"#eb96a2\"><nobr>red</nobr></td></tr><tr><td bgcolor=\"#939393\"><nobr>grey</nobr></td><td bgcolor=\"#eb6b7a\"><nobr>red</nobr></td><td bgcolor=\"#ec6969\"><nobr>red</nobr></td><td bgcolor=\"#ec6a59\"><nobr>red</nobr></td><td bgcolor=\"#f46730\"><nobr>orange</nobr></td><td bgcolor=\"#ec6900\"><nobr>orange</nobr></td><td bgcolor=\"#db7715\"><nobr>orange</nobr></td><td bgcolor=\"#d07f00\"><nobr>orange</nobr></td><td bgcolor=\"#c58600\"><nobr>orange</nobr></td><td bgcolor=\"#ba8c00\"><nobr>orange</nobr></td><td bgcolor=\"#af9000\"><nobr>orange</nobr></td><td bgcolor=\"#a59300\"><nobr>orange</nobr></td><td bgcolor=\"#9c9600\"><nobr>orange</nobr></td><td bgcolor=\"#909c00\"><nobr>yellow</nobr></td><td bgcolor=\"#81a000\"><nobr>yellow</nobr></td><td bgcolor=\"#5fa600\"><nobr>green</nobr></td><td bgcolor=\"#2daa32\"><nobr>green</nobr></td><td bgcolor=\"#14a960\"><nobr>green</nobr></td><td bgcolor=\"#00a875\"><nobr>green</nobr></td><td bgcolor=\"#00a87d\"><nobr>green</nobr></td><td bgcolor=\"#00a788\"><nobr>blue</nobr></td><td bgcolor=\"#00a68f\"><nobr>blue</nobr></td><td bgcolor=\"#00a599\"><nobr>blue</nobr></td><td bgcolor=\"#00a4a0\"><nobr>blue</nobr></td><td bgcolor=\"#00a8ac\"><nobr>blue</nobr></td><td bgcolor=\"#00a8b4\"><nobr>blue</nobr></td><td bgcolor=\"#00a4bf\"><nobr>blue</nobr></td><td bgcolor=\"#2da4c4\"><nobr>blue</nobr></td><td bgcolor=\"#01a4d5\"><nobr>blue</nobr></td><td bgcolor=\"#449dd8\"><nobr>blue</nobr></td><td bgcolor=\"#609ad8\"><nobr>blue</nobr></td><td bgcolor=\"#8492c9\"><nobr>purple</nobr></td><td bgcolor=\"#918dc6\"><nobr>purple</nobr></td><td bgcolor=\"#9e8ac3\"><nobr>purple</nobr></td><td bgcolor=\"#a786bd\"><nobr>purple</nobr></td><td bgcolor=\"#bb7dbe\"><nobr>purple</nobr></td><td bgcolor=\"#c57ab6\"><nobr>purple</nobr></td><td bgcolor=\"#cc78ab\"><nobr>pink</nobr></td><td bgcolor=\"#d4769e\"><nobr>pink</nobr></td><td bgcolor=\"#e56c94\"><nobr>pink</nobr></td><td bgcolor=\"#e86a88\"><nobr>red</nobr></td></tr><tr><td bgcolor=\"#7a7979\"><nobr>grey</nobr></td><td bgcolor=\"#da3f60\"><nobr>red</nobr></td><td bgcolor=\"#db414f\"><nobr>red</nobr></td><td bgcolor=\"#da4035\"><nobr>red</nobr></td><td bgcolor=\"#d84700\"><nobr>orange</nobr></td><td bgcolor=\"#c65800\"><nobr>orange</nobr></td><td bgcolor=\"#b95f00\"><nobr>orange</nobr></td><td bgcolor=\"#ae6600\"><nobr>orange</nobr></td><td bgcolor=\"#a46c00\"><nobr>orange</nobr></td><td bgcolor=\"#9a730d\"><nobr>orange</nobr></td><td bgcolor=\"#927400\"><nobr>orange</nobr></td><td bgcolor=\"#897a00\"><nobr>brown</nobr></td><td bgcolor=\"#817c00\"><nobr>brown</nobr></td><td bgcolor=\"#798000\"><nobr>brown</nobr></td><td bgcolor=\"#698416\"><nobr>brown</nobr></td><td bgcolor=\"#4c890a\"><nobr>green</nobr></td><td bgcolor=\"#008e1c\"><nobr>green</nobr></td><td bgcolor=\"#008c4d\"><nobr>green</nobr></td><td bgcolor=\"#008b5d\"><nobr>green</nobr></td><td bgcolor=\"#008a66\"><nobr>green</nobr></td><td bgcolor=\"#008a70\"><nobr>green</nobr></td><td bgcolor=\"#008976\"><nobr>blue,green</nobr></td><td bgcolor=\"#00887e\"><nobr>blue</nobr></td><td bgcolor=\"#008885\"><nobr>blue</nobr></td><td bgcolor=\"#008990\"><nobr>blue</nobr></td><td bgcolor=\"#008997\"><nobr>blue</nobr></td><td bgcolor=\"#00899f\"><nobr>blue</nobr></td><td bgcolor=\"#0089a8\"><nobr>blue</nobr></td><td bgcolor=\"#0088b2\"><nobr>blue</nobr></td><td bgcolor=\"#0082c1\"><nobr>blue</nobr></td><td bgcolor=\"#2582cc\"><nobr>blue</nobr></td><td bgcolor=\"#6577bc\"><nobr>purple</nobr></td><td bgcolor=\"#786fb8\"><nobr>purple</nobr></td><td bgcolor=\"#896bb3\"><nobr>purple</nobr></td><td bgcolor=\"#9267ad\"><nobr>purple</nobr></td><td bgcolor=\"#9f63a4\"><nobr>purple</nobr></td><td bgcolor=\"#b357a5\"><nobr>purple</nobr></td><td bgcolor=\"#bc539b\"><nobr>pink</nobr></td><td bgcolor=\"#c54f89\"><nobr>pink</nobr></td><td bgcolor=\"#d4417f\"><nobr>pink</nobr></td><td bgcolor=\"#d7406e\"><nobr>pink</nobr></td></tr><tr><td bgcolor=\"#606060\"><nobr>grey</nobr></td><td bgcolor=\"#bc154c\"><nobr>pink</nobr></td><td bgcolor=\"#bc1a39\"><nobr>red</nobr></td><td bgcolor=\"#ba2020\"><nobr>red</nobr></td><td bgcolor=\"#b22e00\"><nobr>red</nobr></td><td bgcolor=\"#9e450f\"><nobr>orange</nobr></td><td bgcolor=\"#914d1b\"><nobr>brown</nobr></td><td bgcolor=\"#8b510d\"><nobr>brown</nobr></td><td bgcolor=\"#7f5820\"><nobr>brown</nobr></td><td bgcolor=\"#795a1a\"><nobr>brown</nobr></td><td bgcolor=\"#735d14\"><nobr>brown</nobr></td><td bgcolor=\"#6d5f11\"><nobr>brown</nobr></td><td bgcolor=\"#666311\"><nobr>brown</nobr></td><td bgcolor=\"#5f6517\"><nobr>brown</nobr></td><td bgcolor=\"#556820\"><nobr>brown</nobr></td><td bgcolor=\"#3a6d13\"><nobr>green</nobr></td><td bgcolor=\"#216f27\"><nobr>green</nobr></td><td bgcolor=\"#006f40\"><nobr>green</nobr></td><td bgcolor=\"#006e4c\"><nobr>green</nobr></td><td bgcolor=\"#006e51\"><nobr>green</nobr></td><td bgcolor=\"#006d58\"><nobr>grey</nobr></td><td bgcolor=\"#006d5e\"><nobr>blue</nobr></td><td bgcolor=\"#006c64\"><nobr>blue</nobr></td><td bgcolor=\"#006e6e\"><nobr>blue</nobr></td><td bgcolor=\"#006e73\"><nobr>blue</nobr></td><td bgcolor=\"#006e79\"><nobr>blue</nobr></td><td bgcolor=\"#006b80\"><nobr>blue</nobr></td><td bgcolor=\"#006a87\"><nobr>blue</nobr></td><td bgcolor=\"#006a8f\"><nobr>blue</nobr></td><td bgcolor=\"#00689b\"><nobr>blue</nobr></td><td bgcolor=\"#2066a3\"><nobr>blue</nobr></td><td bgcolor=\"#475caf\"><nobr>blue</nobr></td><td bgcolor=\"#61549e\"><nobr>purple</nobr></td><td bgcolor=\"#715098\"><nobr>purple</nobr></td><td bgcolor=\"#7b4c92\"><nobr>purple</nobr></td><td bgcolor=\"#83488a\"><nobr>purple</nobr></td><td bgcolor=\"#8f4485\"><nobr>purple</nobr></td><td bgcolor=\"#96417b\"><nobr>purple</nobr></td><td bgcolor=\"#9d3e6f\"><nobr>pink</nobr></td><td bgcolor=\"#a13c65\"><nobr>pink</nobr></td><td bgcolor=\"#a43b5b\"><nobr>pink</nobr></td></tr><tr><td bgcolor=\"#484748\"><nobr>grey</nobr></td><td bgcolor=\"#8b163a\"><nobr>pink</nobr></td><td bgcolor=\"#8b1830\"><nobr>pink</nobr></td><td bgcolor=\"#94001b\"><nobr>pink</nobr></td><td bgcolor=\"#882110\"><nobr>red</nobr></td><td bgcolor=\"#79310e\"><nobr>red</nobr></td><td bgcolor=\"#6d3a18\"><nobr>red</nobr></td><td bgcolor=\"#683c11\"><nobr>brown</nobr></td><td bgcolor=\"#633f08\"><nobr>brown</nobr></td><td bgcolor=\"#59431f\"><nobr>brown</nobr></td><td bgcolor=\"#54451d\"><nobr>brown</nobr></td><td bgcolor=\"#50461c\"><nobr>brown</nobr></td><td bgcolor=\"#4b481d\"><nobr>brown</nobr></td><td bgcolor=\"#454b1f\"><nobr>brown</nobr></td><td bgcolor=\"#3f4c24\"><nobr>brown</nobr></td><td bgcolor=\"#2d501a\"><nobr>green</nobr></td><td bgcolor=\"#1f5224\"><nobr>green</nobr></td><td bgcolor=\"#005330\"><nobr>green,grey</nobr></td><td bgcolor=\"#005337\"><nobr>grey</nobr></td><td bgcolor=\"#00523d\"><nobr>grey</nobr></td><td bgcolor=\"#005242\"><nobr>grey</nobr></td><td bgcolor=\"#005147\"><nobr>grey</nobr></td><td bgcolor=\"#00514d\"><nobr>grey</nobr></td><td bgcolor=\"#005153\"><nobr>grey</nobr></td><td bgcolor=\"#005258\"><nobr>grey</nobr></td><td bgcolor=\"#00515c\"><nobr>blue</nobr></td><td bgcolor=\"#005161\"><nobr>blue</nobr></td><td bgcolor=\"#005167\"><nobr>blue</nobr></td><td bgcolor=\"#00516d\"><nobr>blue</nobr></td><td bgcolor=\"#004d77\"><nobr>blue</nobr></td><td bgcolor=\"#004c84\"><nobr>blue</nobr></td><td bgcolor=\"#323f95\"><nobr>blue</nobr></td><td bgcolor=\"#4c3986\"><nobr>purple</nobr></td><td bgcolor=\"#5b347f\"><nobr>purple</nobr></td><td bgcolor=\"#642f7a\"><nobr>purple</nobr></td><td bgcolor=\"#6c2b73\"><nobr>purple</nobr></td><td bgcolor=\"#752670\"><nobr>purple</nobr></td><td bgcolor=\"#7d2166\"><nobr>purple</nobr></td><td bgcolor=\"#821d5a\"><nobr>pink</nobr></td><td bgcolor=\"#861a52\"><nobr>pink</nobr></td><td bgcolor=\"#891747\"><nobr>pink</nobr></td></tr><tr><td bgcolor=\"#313131\"><nobr>grey</nobr></td><td bgcolor=\"#610e31\"><nobr>pink</nobr></td><td bgcolor=\"#620e27\"><nobr>pink</nobr></td><td bgcolor=\"#62101f\"><nobr>pink</nobr></td><td bgcolor=\"#571d1a\"><nobr>pink</nobr></td><td bgcolor=\"#4c261d\"><nobr>pink</nobr></td><td bgcolor=\"#4a2817\"><nobr>pink</nobr></td><td bgcolor=\"#472911\"><nobr>red</nobr></td><td bgcolor=\"#3c2d21\"><nobr>the dark +er color</nobr></td><td bgcolor=\"#3a2e20\"><nobr>brown</nobr></td><td bgcolor=\"#37301f\"><nobr>brown,grey</nobr></td><td bgcolor=\"#353020\"><nobr>grey</nobr></td><td bgcolor=\"#333221\"><nobr>grey</nobr></td><td bgcolor=\"#303223\"><nobr>grey</nobr></td><td bgcolor=\"#2e3325\"><nobr>grey</nobr></td><td bgcolor=\"#21361a\"><nobr>grey</nobr></td><td bgcolor=\"#1b371f\"><nobr>green</nobr></td><td bgcolor=\"#153724\"><nobr>green</nobr></td><td bgcolor=\"#003926\"><nobr>grey</nobr></td><td bgcolor=\"#00392a\"><nobr>grey</nobr></td><td bgcolor=\"#00382d\"><nobr>grey</nobr></td><td bgcolor=\"#033830\"><nobr>green</nobr></td><td bgcolor=\"#003735\"><nobr>grey</nobr></td><td bgcolor=\"#00383a\"><nobr>grey</nobr></td><td bgcolor=\"#00383e\"><nobr>blue,grey</nobr></td><td bgcolor=\"#003841\"><nobr>blue</nobr></td><td bgcolor=\"#003744\"><nobr>blue</nobr></td><td bgcolor=\"#003649\"><nobr>blue</nobr></td><td bgcolor=\"#00354d\"><nobr>blue</nobr></td><td bgcolor=\"#003555\"><nobr>blue</nobr></td><td bgcolor=\"#00325f\"><nobr>blue</nobr></td><td bgcolor=\"#24286f\"><nobr>blue</nobr></td><td bgcolor=\"#35265f\"><nobr>purple</nobr></td><td bgcolor=\"#3f225a\"><nobr>purple</nobr></td><td bgcolor=\"#461f56\"><nobr>purple</nobr></td><td bgcolor=\"#452449\"><nobr>purple</nobr></td><td bgcolor=\"#492247\"><nobr>purple</nobr></td><td bgcolor=\"#561649\"><nobr>purple</nobr></td><td bgcolor=\"#5a1343\"><nobr>purple</nobr></td><td bgcolor=\"#5c123d\"><nobr>purple</nobr></td><td bgcolor=\"#5e1038\"><nobr>pink</nobr></td></tr><tr><td bgcolor=\"#262626\"><nobr>the dark +est one</nobr></td></tr></table>"
      ],
      "text/plain": [
       "<IPython.core.display.HTML object>"
      ]
     },
     "execution_count": 90,
     "metadata": {},
     "output_type": "execute_result"
    }
   ],
   "source": [
    "samples_bs0_en, html = test_model(bs0, insts=input_insts_en)\n",
    "html"
   ]
  },
  {
   "cell_type": "code",
   "execution_count": 91,
   "metadata": {},
   "outputs": [
    {
     "name": "stdout",
     "output_type": "stream",
     "text": [
      "ms0_en\n"
     ]
    }
   ],
   "source": [
    "print('ms0_en')\n",
    "with open('runs/hawkins_filtered_s0/quickpickle.p', 'rb') as infile:\n",
    "    ms0_en = pickle.load(infile)"
   ]
  },
  {
   "cell_type": "code",
   "execution_count": 93,
   "metadata": {
    "collapsed": true
   },
   "outputs": [],
   "source": [
    "ms0_en.options.speaker_eval_batch_size = 128"
   ]
  },
  {
   "cell_type": "code",
   "execution_count": 94,
   "metadata": {},
   "outputs": [
    {
     "name": "stdout",
     "output_type": "stream",
     "text": [
      "Predicting\n",
      "Predict batch 0 of 1, Predict batch 0 of 29 (~0% done, ETA unknown on Fri Oct 13 14:30:12 2017)\n",
      "Predict batch 0 of 1, Predict batch 4 of 29 (~14% done, ETA Fri Oct 13 14:55:44 2017)\n",
      "Predict batch 0 of 1, Predict batch 10 of 29 (~34% done, ETA Fri Oct 13 14:42:15 2017)\n",
      "Predict batch 0 of 1, Predict batch 14 of 29 (~48% done, ETA Fri Oct 13 14:40:10 2017)\n",
      "Predict batch 0 of 1, Predict batch 23 of 29 (~79% done, ETA Fri Oct 13 14:36:33 2017)\n",
      "Predict batch 0 of 1, Predict batch 29 of 29 (~100% done, ETA Fri Oct 13 14:35:40 2017)\n"
     ]
    },
    {
     "data": {
      "text/html": [
       "<table><tr><td bgcolor=\"#f1f1f1\"><nobr>red</nobr></td></tr><tr><td bgcolor=\"#e3e3e3\"><nobr>red</nobr></td><td bgcolor=\"#f0dfdf\"><nobr>brown,red</nobr></td><td bgcolor=\"#f1dfde\"><nobr>orange</nobr></td><td bgcolor=\"#f2dfdc\"><nobr>orange</nobr></td><td bgcolor=\"#f3e0d9\"><nobr>orange</nobr></td><td bgcolor=\"#f4dfd6\"><nobr>orange</nobr></td><td bgcolor=\"#f4dfd1\"><nobr>orange</nobr></td><td bgcolor=\"#f4e0cd\"><nobr>orange,brown</nobr></td><td bgcolor=\"#f2e1c9\"><nobr>yellow,orange</nobr></td><td bgcolor=\"#f9e0ab\"><nobr>yellow</nobr></td><td bgcolor=\"#f8e28c\"><nobr>yellow</nobr></td><td bgcolor=\"#f2e58b\"><nobr>yellow</nobr></td><td bgcolor=\"#ece68b\"><nobr>yellow</nobr></td><td bgcolor=\"#e5ea8c\"><nobr>green</nobr></td><td bgcolor=\"#deeaab\"><nobr>green</nobr></td><td bgcolor=\"#dae8c9\"><nobr>green</nobr></td><td bgcolor=\"#d4e9cf\"><nobr>green</nobr></td><td bgcolor=\"#cfead4\"><nobr>green</nobr></td><td bgcolor=\"#cdead8\"><nobr>green</nobr></td><td bgcolor=\"#cbeadb\"><nobr>green</nobr></td><td bgcolor=\"#caeade\"><nobr>blue</nobr></td><td bgcolor=\"#c8eae0\"><nobr>blue</nobr></td><td bgcolor=\"#c8eae2\"><nobr>blue</nobr></td><td bgcolor=\"#caeae6\"><nobr>blue</nobr></td><td bgcolor=\"#cbe9e9\"><nobr>blue</nobr></td><td bgcolor=\"#cee9eb\"><nobr>blue</nobr></td><td bgcolor=\"#d1e8ec\"><nobr>blue</nobr></td><td bgcolor=\"#d4e8ed\"><nobr>blue</nobr></td><td bgcolor=\"#d7e6ed\"><nobr>blue</nobr></td><td bgcolor=\"#dbe5ed\"><nobr>blue</nobr></td><td bgcolor=\"#dde5ed\"><nobr>blue</nobr></td><td bgcolor=\"#e1e4ed\"><nobr>blue</nobr></td><td bgcolor=\"#e4e3ec\"><nobr>purple</nobr></td><td bgcolor=\"#e5e2ec\"><nobr>purple</nobr></td><td bgcolor=\"#e7e2eb\"><nobr>purple</nobr></td><td bgcolor=\"#e9e1e9\"><nobr>purple</nobr></td><td bgcolor=\"#ebe1e8\"><nobr>pink</nobr></td><td bgcolor=\"#ece1e6\"><nobr>pink</nobr></td><td bgcolor=\"#eddfe4\"><nobr>pink</nobr></td><td bgcolor=\"#efdfe3\"><nobr>pink</nobr></td><td bgcolor=\"#efdfe1\"><nobr>red</nobr></td></tr><tr><td bgcolor=\"#c8c8c8\"><nobr>grey</nobr></td><td bgcolor=\"#fab8b8\"><nobr>orange</nobr></td><td bgcolor=\"#fcb7b2\"><nobr>orange</nobr></td><td bgcolor=\"#fdb8aa\"><nobr>orange</nobr></td><td bgcolor=\"#fdb7a1\"><nobr>orange</nobr></td><td bgcolor=\"#fbb898\"><nobr>orange</nobr></td><td bgcolor=\"#f7bb8f\"><nobr>orange</nobr></td><td bgcolor=\"#feba70\"><nobr>orange</nobr></td><td bgcolor=\"#ffba43\"><nobr>orange</nobr></td><td bgcolor=\"#f8ba00\"><nobr>yellow</nobr></td><td bgcolor=\"#e9c500\"><nobr>yellow</nobr></td><td bgcolor=\"#dec600\"><nobr>yellow</nobr></td><td bgcolor=\"#d4cc00\"><nobr>yellow</nobr></td><td bgcolor=\"#c7d200\"><nobr>yellow</nobr></td><td bgcolor=\"#b9d543\"><nobr>yellow</nobr></td><td bgcolor=\"#9eda5c\"><nobr>green</nobr></td><td bgcolor=\"#93da87\"><nobr>green</nobr></td><td bgcolor=\"#7bdc98\"><nobr>green</nobr></td><td bgcolor=\"#86d9af\"><nobr>green</nobr></td><td bgcolor=\"#81d9b6\"><nobr>blue</nobr></td><td bgcolor=\"#7dd9bd\"><nobr>blue</nobr></td><td bgcolor=\"#7bd9c1\"><nobr>blue</nobr></td><td bgcolor=\"#97d4c9\"><nobr>blue</nobr></td><td bgcolor=\"#97d3ce\"><nobr>blue</nobr></td><td bgcolor=\"#97d4d4\"><nobr>blue</nobr></td><td bgcolor=\"#98d4d8\"><nobr>blue</nobr></td><td bgcolor=\"#9cd1dd\"><nobr>blue</nobr></td><td bgcolor=\"#a3d1df\"><nobr>blue</nobr></td><td bgcolor=\"#aacfe1\"><nobr>blue</nobr></td><td bgcolor=\"#a1d0f2\"><nobr>blue</nobr></td><td bgcolor=\"#abcdf4\"><nobr>blue</nobr></td><td bgcolor=\"#c1c8e2\"><nobr>blue</nobr></td><td bgcolor=\"#c6c6e1\"><nobr>blue</nobr></td><td bgcolor=\"#ccc5df\"><nobr>purple</nobr></td><td bgcolor=\"#d0c3dd\"><nobr>purple</nobr></td><td bgcolor=\"#e1bde1\"><nobr>purple</nobr></td><td bgcolor=\"#e8bbdc\"><nobr>pink</nobr></td><td bgcolor=\"#eebad5\"><nobr>pink</nobr></td><td bgcolor=\"#f3b9cc\"><nobr>pink,red</nobr></td><td bgcolor=\"#f6b8c6\"><nobr>red</nobr></td><td bgcolor=\"#f8b8c0\"><nobr>red</nobr></td></tr><tr><td bgcolor=\"#adadad\"><nobr>grey</nobr></td><td bgcolor=\"#ed969c\"><nobr>orange,red</nobr></td><td bgcolor=\"#ef9590\"><nobr>orange</nobr></td><td bgcolor=\"#fd8d7b\"><nobr>orange</nobr></td><td bgcolor=\"#fb906b\"><nobr>orange</nobr></td><td bgcolor=\"#f7945f\"><nobr>orange</nobr></td><td bgcolor=\"#ff8e16\"><nobr>orange</nobr></td><td bgcolor=\"#f29900\"><nobr>orange</nobr></td><td bgcolor=\"#e59c00\"><nobr>orange</nobr></td><td bgcolor=\"#d9a300\"><nobr>orange,yellow</nobr></td><td bgcolor=\"#cca800\"><nobr>yellow</nobr></td><td bgcolor=\"#c1ac00\"><nobr>yellow</nobr></td><td bgcolor=\"#b8b100\"><nobr>yellow</nobr></td><td bgcolor=\"#adb700\"><nobr>yellow</nobr></td><td bgcolor=\"#9bbb00\"><nobr>yellow</nobr></td><td bgcolor=\"#83bf46\"><nobr>green</nobr></td><td bgcolor=\"#69c25f\"><nobr>green</nobr></td><td bgcolor=\"#42c475\"><nobr>green</nobr></td><td bgcolor=\"#52c190\"><nobr>green</nobr></td><td bgcolor=\"#49c298\"><nobr>green</nobr></td><td bgcolor=\"#40c2a1\"><nobr>blue,green</nobr></td><td bgcolor=\"#35c2a8\"><nobr>green</nobr></td><td bgcolor=\"#29c1af\"><nobr>teal</nobr></td><td bgcolor=\"#5ebcb8\"><nobr>blue</nobr></td><td bgcolor=\"#5ebec0\"><nobr>blue</nobr></td><td bgcolor=\"#61bec7\"><nobr>blue</nobr></td><td bgcolor=\"#68bdcd\"><nobr>blue</nobr></td><td bgcolor=\"#71b8d1\"><nobr>blue</nobr></td><td bgcolor=\"#62bbe2\"><nobr>blue</nobr></td><td bgcolor=\"#78b7e4\"><nobr>blue</nobr></td><td bgcolor=\"#87b3e6\"><nobr>blue</nobr></td><td bgcolor=\"#a1add6\"><nobr>blue</nobr></td><td bgcolor=\"#abaad4\"><nobr>purple</nobr></td><td bgcolor=\"#b4a7d1\"><nobr>purple</nobr></td><td bgcolor=\"#bba4cd\"><nobr>purple</nobr></td><td bgcolor=\"#ce9ecf\"><nobr>purple</nobr></td><td bgcolor=\"#d79aca\"><nobr>purple</nobr></td><td bgcolor=\"#ea93c6\"><nobr>pink</nobr></td><td bgcolor=\"#f191b7\"><nobr>pink</nobr></td><td bgcolor=\"#e896ad\"><nobr>red</nobr></td><td bgcolor=\"#eb96a2\"><nobr>red</nobr></td></tr><tr><td bgcolor=\"#939393\"><nobr>grey</nobr></td><td bgcolor=\"#eb6b7a\"><nobr>red</nobr></td><td bgcolor=\"#ec6969\"><nobr>red</nobr></td><td bgcolor=\"#ec6a59\"><nobr>orange</nobr></td><td bgcolor=\"#f46730\"><nobr>orange</nobr></td><td bgcolor=\"#ec6900\"><nobr>orange</nobr></td><td bgcolor=\"#db7715\"><nobr>orange</nobr></td><td bgcolor=\"#d07f00\"><nobr>orange</nobr></td><td bgcolor=\"#c58600\"><nobr>orange</nobr></td><td bgcolor=\"#ba8c00\"><nobr>orange</nobr></td><td bgcolor=\"#af9000\"><nobr>orange</nobr></td><td bgcolor=\"#a59300\"><nobr>orange</nobr></td><td bgcolor=\"#9c9600\"><nobr>yellow</nobr></td><td bgcolor=\"#909c00\"><nobr>yellow</nobr></td><td bgcolor=\"#81a000\"><nobr>green</nobr></td><td bgcolor=\"#5fa600\"><nobr>green</nobr></td><td bgcolor=\"#2daa32\"><nobr>green</nobr></td><td bgcolor=\"#14a960\"><nobr>green</nobr></td><td bgcolor=\"#00a875\"><nobr>teal</nobr></td><td bgcolor=\"#00a87d\"><nobr>green</nobr></td><td bgcolor=\"#00a788\"><nobr>teal</nobr></td><td bgcolor=\"#00a68f\"><nobr>teal</nobr></td><td bgcolor=\"#00a599\"><nobr>blue</nobr></td><td bgcolor=\"#00a4a0\"><nobr>blue</nobr></td><td bgcolor=\"#00a8ac\"><nobr>blue</nobr></td><td bgcolor=\"#00a8b4\"><nobr>blue</nobr></td><td bgcolor=\"#00a4bf\"><nobr>blue</nobr></td><td bgcolor=\"#2da4c4\"><nobr>blue</nobr></td><td bgcolor=\"#01a4d5\"><nobr>blue</nobr></td><td bgcolor=\"#449dd8\"><nobr>blue</nobr></td><td bgcolor=\"#609ad8\"><nobr>blue</nobr></td><td bgcolor=\"#8492c9\"><nobr>blue</nobr></td><td bgcolor=\"#918dc6\"><nobr>purple</nobr></td><td bgcolor=\"#9e8ac3\"><nobr>purple</nobr></td><td bgcolor=\"#a786bd\"><nobr>purple</nobr></td><td bgcolor=\"#bb7dbe\"><nobr>purple</nobr></td><td bgcolor=\"#c57ab6\"><nobr>purple,pink</nobr></td><td bgcolor=\"#cc78ab\"><nobr>pink</nobr></td><td bgcolor=\"#d4769e\"><nobr>pink</nobr></td><td bgcolor=\"#e56c94\"><nobr>pink</nobr></td><td bgcolor=\"#e86a88\"><nobr>red</nobr></td></tr><tr><td bgcolor=\"#7a7979\"><nobr>grey</nobr></td><td bgcolor=\"#da3f60\"><nobr>red</nobr></td><td bgcolor=\"#db414f\"><nobr>red</nobr></td><td bgcolor=\"#da4035\"><nobr>red</nobr></td><td bgcolor=\"#d84700\"><nobr>orange</nobr></td><td bgcolor=\"#c65800\"><nobr>orange</nobr></td><td bgcolor=\"#b95f00\"><nobr>orange</nobr></td><td bgcolor=\"#ae6600\"><nobr>orange</nobr></td><td bgcolor=\"#a46c00\"><nobr>orange</nobr></td><td bgcolor=\"#9a730d\"><nobr>orange</nobr></td><td bgcolor=\"#927400\"><nobr>orange</nobr></td><td bgcolor=\"#897a00\"><nobr>brown</nobr></td><td bgcolor=\"#817c00\"><nobr>brown</nobr></td><td bgcolor=\"#798000\"><nobr>green,the color of a <unk> <unk></nobr></td><td bgcolor=\"#698416\"><nobr>yellow</nobr></td><td bgcolor=\"#4c890a\"><nobr>green</nobr></td><td bgcolor=\"#008e1c\"><nobr>green</nobr></td><td bgcolor=\"#008c4d\"><nobr>green</nobr></td><td bgcolor=\"#008b5d\"><nobr>green</nobr></td><td bgcolor=\"#008a66\"><nobr>green,teal</nobr></td><td bgcolor=\"#008a70\"><nobr>blue,teal</nobr></td><td bgcolor=\"#008976\"><nobr>teal</nobr></td><td bgcolor=\"#00887e\"><nobr>blue</nobr></td><td bgcolor=\"#008885\"><nobr>blue</nobr></td><td bgcolor=\"#008990\"><nobr>blue</nobr></td><td bgcolor=\"#008997\"><nobr>blue</nobr></td><td bgcolor=\"#00899f\"><nobr>blue</nobr></td><td bgcolor=\"#0089a8\"><nobr>blue</nobr></td><td bgcolor=\"#0088b2\"><nobr>blue</nobr></td><td bgcolor=\"#0082c1\"><nobr>blue</nobr></td><td bgcolor=\"#2582cc\"><nobr>blue</nobr></td><td bgcolor=\"#6577bc\"><nobr>blue</nobr></td><td bgcolor=\"#786fb8\"><nobr>purple</nobr></td><td bgcolor=\"#896bb3\"><nobr>purple</nobr></td><td bgcolor=\"#9267ad\"><nobr>purple</nobr></td><td bgcolor=\"#9f63a4\"><nobr>purple</nobr></td><td bgcolor=\"#b357a5\"><nobr>purple</nobr></td><td bgcolor=\"#bc539b\"><nobr>pink</nobr></td><td bgcolor=\"#c54f89\"><nobr>pink</nobr></td><td bgcolor=\"#d4417f\"><nobr>pink</nobr></td><td bgcolor=\"#d7406e\"><nobr>pink</nobr></td></tr><tr><td bgcolor=\"#606060\"><nobr>grey</nobr></td><td bgcolor=\"#bc154c\"><nobr>pink</nobr></td><td bgcolor=\"#bc1a39\"><nobr>pink</nobr></td><td bgcolor=\"#ba2020\"><nobr>red</nobr></td><td bgcolor=\"#b22e00\"><nobr>orange</nobr></td><td bgcolor=\"#9e450f\"><nobr>orange</nobr></td><td bgcolor=\"#914d1b\"><nobr>brown</nobr></td><td bgcolor=\"#8b510d\"><nobr>brown</nobr></td><td bgcolor=\"#7f5820\"><nobr>brown</nobr></td><td bgcolor=\"#795a1a\"><nobr>brown</nobr></td><td bgcolor=\"#735d14\"><nobr>brown</nobr></td><td bgcolor=\"#6d5f11\"><nobr>brown</nobr></td><td bgcolor=\"#666311\"><nobr>brown</nobr></td><td bgcolor=\"#5f6517\"><nobr>brown</nobr></td><td bgcolor=\"#556820\"><nobr>yellow</nobr></td><td bgcolor=\"#3a6d13\"><nobr>green</nobr></td><td bgcolor=\"#216f27\"><nobr>green</nobr></td><td bgcolor=\"#006f40\"><nobr>green</nobr></td><td bgcolor=\"#006e4c\"><nobr>green</nobr></td><td bgcolor=\"#006e51\"><nobr>green</nobr></td><td bgcolor=\"#006d58\"><nobr>grey</nobr></td><td bgcolor=\"#006d5e\"><nobr>blue</nobr></td><td bgcolor=\"#006c64\"><nobr>blue</nobr></td><td bgcolor=\"#006e6e\"><nobr>blue</nobr></td><td bgcolor=\"#006e73\"><nobr>blue</nobr></td><td bgcolor=\"#006e79\"><nobr>blue</nobr></td><td bgcolor=\"#006b80\"><nobr>blue</nobr></td><td bgcolor=\"#006a87\"><nobr>blue</nobr></td><td bgcolor=\"#006a8f\"><nobr>blue</nobr></td><td bgcolor=\"#00689b\"><nobr>blue</nobr></td><td bgcolor=\"#2066a3\"><nobr>blue</nobr></td><td bgcolor=\"#475caf\"><nobr>blue</nobr></td><td bgcolor=\"#61549e\"><nobr>purple</nobr></td><td bgcolor=\"#715098\"><nobr>purple</nobr></td><td bgcolor=\"#7b4c92\"><nobr>purple</nobr></td><td bgcolor=\"#83488a\"><nobr>purple</nobr></td><td bgcolor=\"#8f4485\"><nobr>purple</nobr></td><td bgcolor=\"#96417b\"><nobr>purple</nobr></td><td bgcolor=\"#9d3e6f\"><nobr>pink,purple</nobr></td><td bgcolor=\"#a13c65\"><nobr>pink</nobr></td><td bgcolor=\"#a43b5b\"><nobr>pink</nobr></td></tr><tr><td bgcolor=\"#484748\"><nobr>grey</nobr></td><td bgcolor=\"#8b163a\"><nobr>pink</nobr></td><td bgcolor=\"#8b1830\"><nobr>pink</nobr></td><td bgcolor=\"#94001b\"><nobr>pink</nobr></td><td bgcolor=\"#882110\"><nobr>red</nobr></td><td bgcolor=\"#79310e\"><nobr>brown</nobr></td><td bgcolor=\"#6d3a18\"><nobr>brown</nobr></td><td bgcolor=\"#683c11\"><nobr>brown</nobr></td><td bgcolor=\"#633f08\"><nobr>brown</nobr></td><td bgcolor=\"#59431f\"><nobr>brown</nobr></td><td bgcolor=\"#54451d\"><nobr>brown</nobr></td><td bgcolor=\"#50461c\"><nobr>brown</nobr></td><td bgcolor=\"#4b481d\"><nobr>brown</nobr></td><td bgcolor=\"#454b1f\"><nobr>brown</nobr></td><td bgcolor=\"#3f4c24\"><nobr>brown</nobr></td><td bgcolor=\"#2d501a\"><nobr>green</nobr></td><td bgcolor=\"#1f5224\"><nobr>green</nobr></td><td bgcolor=\"#005330\"><nobr>green</nobr></td><td bgcolor=\"#005337\"><nobr>green</nobr></td><td bgcolor=\"#00523d\"><nobr>blue,green</nobr></td><td bgcolor=\"#005242\"><nobr>blue,the most blue,green</nobr></td><td bgcolor=\"#005147\"><nobr>blue,the target is the sky</nobr></td><td bgcolor=\"#00514d\"><nobr>blue</nobr></td><td bgcolor=\"#005153\"><nobr>blue</nobr></td><td bgcolor=\"#005258\"><nobr>blue</nobr></td><td bgcolor=\"#00515c\"><nobr>blue</nobr></td><td bgcolor=\"#005161\"><nobr>blue</nobr></td><td bgcolor=\"#005167\"><nobr>blue</nobr></td><td bgcolor=\"#00516d\"><nobr>blue</nobr></td><td bgcolor=\"#004d77\"><nobr>blue</nobr></td><td bgcolor=\"#004c84\"><nobr>blue</nobr></td><td bgcolor=\"#323f95\"><nobr>blue</nobr></td><td bgcolor=\"#4c3986\"><nobr>purple</nobr></td><td bgcolor=\"#5b347f\"><nobr>purple</nobr></td><td bgcolor=\"#642f7a\"><nobr>purple</nobr></td><td bgcolor=\"#6c2b73\"><nobr>purple</nobr></td><td bgcolor=\"#752670\"><nobr>purple</nobr></td><td bgcolor=\"#7d2166\"><nobr>purple</nobr></td><td bgcolor=\"#821d5a\"><nobr>pink</nobr></td><td bgcolor=\"#861a52\"><nobr>purple,pink</nobr></td><td bgcolor=\"#891747\"><nobr>pink</nobr></td></tr><tr><td bgcolor=\"#313131\"><nobr>purple,grey,the target is a <unk> <unk> .</nobr></td><td bgcolor=\"#610e31\"><nobr>pink</nobr></td><td bgcolor=\"#620e27\"><nobr>pink</nobr></td><td bgcolor=\"#62101f\"><nobr>pink</nobr></td><td bgcolor=\"#571d1a\"><nobr>pink</nobr></td><td bgcolor=\"#4c261d\"><nobr>pink</nobr></td><td bgcolor=\"#4a2817\"><nobr>red</nobr></td><td bgcolor=\"#472911\"><nobr>red</nobr></td><td bgcolor=\"#3c2d21\"><nobr>brown</nobr></td><td bgcolor=\"#3a2e20\"><nobr>brown</nobr></td><td bgcolor=\"#37301f\"><nobr>brown</nobr></td><td bgcolor=\"#353020\"><nobr>brown</nobr></td><td bgcolor=\"#333221\"><nobr>brown,grey</nobr></td><td bgcolor=\"#303223\"><nobr>grey</nobr></td><td bgcolor=\"#2e3325\"><nobr>grey</nobr></td><td bgcolor=\"#21361a\"><nobr>green</nobr></td><td bgcolor=\"#1b371f\"><nobr>green</nobr></td><td bgcolor=\"#153724\"><nobr>green</nobr></td><td bgcolor=\"#003926\"><nobr>green</nobr></td><td bgcolor=\"#00392a\"><nobr>blue</nobr></td><td bgcolor=\"#00382d\"><nobr>the target is a blue / blue</nobr></td><td bgcolor=\"#033830\"><nobr>green</nobr></td><td bgcolor=\"#003735\"><nobr>blue</nobr></td><td bgcolor=\"#00383a\"><nobr>blue</nobr></td><td bgcolor=\"#00383e\"><nobr>blue</nobr></td><td bgcolor=\"#003841\"><nobr>blue</nobr></td><td bgcolor=\"#003744\"><nobr>blue</nobr></td><td bgcolor=\"#003649\"><nobr>blue</nobr></td><td bgcolor=\"#00354d\"><nobr>blue</nobr></td><td bgcolor=\"#003555\"><nobr>blue</nobr></td><td bgcolor=\"#00325f\"><nobr>blue</nobr></td><td bgcolor=\"#24286f\"><nobr>blue</nobr></td><td bgcolor=\"#35265f\"><nobr>blue</nobr></td><td bgcolor=\"#3f225a\"><nobr>purple</nobr></td><td bgcolor=\"#461f56\"><nobr>purple</nobr></td><td bgcolor=\"#452449\"><nobr>purple</nobr></td><td bgcolor=\"#492247\"><nobr>purple</nobr></td><td bgcolor=\"#561649\"><nobr>purple</nobr></td><td bgcolor=\"#5a1343\"><nobr>purple</nobr></td><td bgcolor=\"#5c123d\"><nobr>purple</nobr></td><td bgcolor=\"#5e1038\"><nobr>purple,pink</nobr></td></tr><tr><td bgcolor=\"#262626\"><nobr>purple</nobr></td></tr></table>"
      ],
      "text/plain": [
       "<IPython.core.display.HTML object>"
      ]
     },
     "execution_count": 94,
     "metadata": {},
     "output_type": "execute_result"
    }
   ],
   "source": [
    "samples_ms0_en, html = test_model(ms0_en, insts=input_insts_en)\n",
    "html"
   ]
  },
  {
   "cell_type": "code",
   "execution_count": null,
   "metadata": {
    "collapsed": true
   },
   "outputs": [],
   "source": []
  }
 ],
 "metadata": {
  "kernelspec": {
   "display_name": "Python 2",
   "language": "python",
   "name": "python2"
  },
  "language_info": {
   "codemirror_mode": {
    "name": "ipython",
    "version": 2
   },
   "file_extension": ".py",
   "mimetype": "text/x-python",
   "name": "python",
   "nbconvert_exporter": "python",
   "pygments_lexer": "ipython2",
   "version": "2.7.12"
  }
 },
 "nbformat": 4,
 "nbformat_minor": 2
}

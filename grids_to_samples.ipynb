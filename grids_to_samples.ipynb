{
 "cells": [
  {
   "cell_type": "code",
   "execution_count": 1,
   "metadata": {
    "collapsed": true
   },
   "outputs": [],
   "source": [
    "import gzip\n",
    "import json\n",
    "import numpy as np\n",
    "from scipy.misc import logsumexp\n",
    "import matplotlib.pyplot as plt"
   ]
  },
  {
   "cell_type": "code",
   "execution_count": 26,
   "metadata": {
    "collapsed": false
   },
   "outputs": [],
   "source": [
    "import os\n",
    "RUN_DIR = 'runs/hawkins_big_l2_perp_heldout'"
   ]
  },
  {
   "cell_type": "code",
   "execution_count": 2,
   "metadata": {
    "collapsed": false
   },
   "outputs": [],
   "source": [
    "grids_path = os.path.join(RUN_DIR, 'grids.0.jsons.gz')\n",
    "with gzip.open(grids_path, 'rb') as infile:\n",
    "    grids = [json.loads(line.strip()) for line in infile]"
   ]
  },
  {
   "cell_type": "code",
   "execution_count": 7,
   "metadata": {
    "collapsed": true
   },
   "outputs": [],
   "source": [
    "ALPHA = 0.544"
   ]
  },
  {
   "cell_type": "code",
   "execution_count": 3,
   "metadata": {
    "collapsed": false
   },
   "outputs": [
    {
     "data": {
      "text/plain": [
       "16635"
      ]
     },
     "execution_count": 3,
     "metadata": {},
     "output_type": "execute_result"
    }
   ],
   "source": [
    "len(grids)"
   ]
  },
  {
   "cell_type": "code",
   "execution_count": 11,
   "metadata": {
    "collapsed": true
   },
   "outputs": [],
   "source": [
    "data_path = os.path.join(RUN_DIR, 'data.eval.jsons')\n",
    "with open(data_path, 'r') as infile:\n",
    "    insts = [json.loads(line.strip()) for line in infile]\n",
    "gold_outputs = np.array([inst['output'] for inst in insts])[:len(grids)]"
   ]
  },
  {
   "cell_type": "code",
   "execution_count": 4,
   "metadata": {
    "collapsed": false
   },
   "outputs": [],
   "source": [
    "l0_biggrid = np.array([[np.array(ss['L0']).T for ss in grid['sets']] for grid in grids])"
   ]
  },
  {
   "cell_type": "code",
   "execution_count": 5,
   "metadata": {
    "collapsed": false
   },
   "outputs": [
    {
     "data": {
      "text/plain": [
       "(16635, 8, 25, 3)"
      ]
     },
     "execution_count": 5,
     "metadata": {},
     "output_type": "execute_result"
    }
   ],
   "source": [
    "all_ss = l0_biggrid.shape[1]\n",
    "l0_biggrid.shape"
   ]
  },
  {
   "cell_type": "code",
   "execution_count": 6,
   "metadata": {
    "collapsed": true
   },
   "outputs": [],
   "source": [
    "def compute_s1(l0, alpha):\n",
    "    l0_a = l0 * alpha\n",
    "    return l0_a - logsumexp(l0_a, axis=2, keepdims=True)"
   ]
  },
  {
   "cell_type": "code",
   "execution_count": 8,
   "metadata": {
    "collapsed": false
   },
   "outputs": [],
   "source": [
    "s1 = compute_s1(l0_biggrid, alpha=ALPHA)"
   ]
  },
  {
   "cell_type": "code",
   "execution_count": 22,
   "metadata": {
    "collapsed": true
   },
   "outputs": [],
   "source": [
    "rng = np.random\n",
    "def sample(a, temperature=1.0):\n",
    "    # helper function to sample an index from a log probability array\n",
    "    a = np.array(a)\n",
    "    if len(a.shape) < 1:\n",
    "        raise ValueError('scalar is not a valid probability distribution')\n",
    "    elif len(a.shape) == 1:\n",
    "        # Cast to higher resolution to try to get high-precision normalization\n",
    "        a = np.exp(a / temperature).astype(np.float64)\n",
    "        a /= np.sum(a)\n",
    "        return np.argmax(rng.multinomial(1, a, 1))\n",
    "    else:\n",
    "        return np.array([sample(s, temperature) for s in a])"
   ]
  },
  {
   "cell_type": "code",
   "execution_count": 34,
   "metadata": {
    "collapsed": false
   },
   "outputs": [
    {
     "data": {
      "text/plain": [
       "(16635, 24)"
      ]
     },
     "execution_count": 34,
     "metadata": {},
     "output_type": "execute_result"
    }
   ],
   "source": [
    "# Get the log probs of the speaker from sample set 0 (arbitrarily), for the true targets\n",
    "s1_true_probs = s1[np.arange(s1.shape[0]), 0, 1:, gold_outputs]\n",
    "s1_true_probs.shape"
   ]
  },
  {
   "cell_type": "code",
   "execution_count": 35,
   "metadata": {
    "collapsed": false
   },
   "outputs": [
    {
     "data": {
      "text/plain": [
       "(16635, 8, 25)"
      ]
     },
     "execution_count": 35,
     "metadata": {},
     "output_type": "execute_result"
    }
   ],
   "source": [
    "s1_utts_grid = np.array([[np.array(ss['utts']) for ss in grid['sets']] for grid in grids])\n",
    "s1_utts_grid.shape"
   ]
  },
  {
   "cell_type": "code",
   "execution_count": 36,
   "metadata": {
    "collapsed": false
   },
   "outputs": [
    {
     "data": {
      "text/plain": [
       "(16635, 24)"
      ]
     },
     "execution_count": 36,
     "metadata": {},
     "output_type": "execute_result"
    }
   ],
   "source": [
    "s1_utts_grid = s1_utts_grid[:, 0, 1:]\n",
    "s1_utts_grid.shape"
   ]
  },
  {
   "cell_type": "code",
   "execution_count": 37,
   "metadata": {
    "collapsed": false
   },
   "outputs": [
    {
     "data": {
      "text/plain": [
       "array([u'khaki', u'apple', u'orange', u'yellow', u'green',\n",
       "       u'the brown one', u'the more yellow ish', u'yellow', u'red', u'red',\n",
       "       u'red but pink', u'redish', u'red no rose', u'red', u'the pumpkin',\n",
       "       u'red', u'grey', u'stormy', u'gray', u'grey', u'concrete', u'grey',\n",
       "       u'slate', u'grey'], \n",
       "      dtype='<U373')"
      ]
     },
     "execution_count": 37,
     "metadata": {},
     "output_type": "execute_result"
    }
   ],
   "source": [
    "s1_utts_grid[0]"
   ]
  },
  {
   "cell_type": "code",
   "execution_count": 38,
   "metadata": {
    "collapsed": false
   },
   "outputs": [
    {
     "name": "stdout",
     "output_type": "stream",
     "text": [
      "16635\n",
      "16635\n"
     ]
    }
   ],
   "source": [
    "s1_preds = s1_utts_grid[np.arange(s1_utts_grid.shape[0]), np.argmax(s1_true_probs, axis=1)]\n",
    "print(len(s1_preds))\n",
    "s1_samples = s1_utts_grid[np.arange(s1_utts_grid.shape[0]), sample(s1_true_probs)]\n",
    "print(len(s1_samples))"
   ]
  },
  {
   "cell_type": "code",
   "execution_count": 39,
   "metadata": {
    "collapsed": true
   },
   "outputs": [],
   "source": [
    "with open(os.path.join(RUN_DIR, 's1_predictions_from_grids.0.jsons'), 'w') as outfile:\n",
    "    for pred in s1_preds:\n",
    "        outfile.write(json.dumps(pred) + '\\n')\n",
    "with open(os.path.join(RUN_DIR, 's1_samples_from_grids.0.jsons'), 'w') as outfile:\n",
    "    for samp in s1_samples:\n",
    "        outfile.write(json.dumps(samp) + '\\n')"
   ]
  },
  {
   "cell_type": "code",
   "execution_count": null,
   "metadata": {
    "collapsed": true
   },
   "outputs": [],
   "source": []
  }
 ],
 "metadata": {
  "kernelspec": {
   "display_name": "Python 2",
   "language": "python",
   "name": "python2"
  },
  "language_info": {
   "codemirror_mode": {
    "name": "ipython",
    "version": 2
   },
   "file_extension": ".py",
   "mimetype": "text/x-python",
   "name": "python",
   "nbconvert_exporter": "python",
   "pygments_lexer": "ipython2",
   "version": "2.7.12"
  }
 },
 "nbformat": 4,
 "nbformat_minor": 1
}
